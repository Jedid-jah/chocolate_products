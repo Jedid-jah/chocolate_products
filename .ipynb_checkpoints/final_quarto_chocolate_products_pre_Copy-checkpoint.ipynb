{
 "cells": [
  {
   "cell_type": "raw",
   "id": "7eebd630-f930-441f-bc44-6f7375070654",
   "metadata": {},
   "source": [
    "---\n",
    "title: \"Chocolate Products Scraping Project\"\n",
    "subtitle: \"An Analytical Exploration from Chocolate.co.uk\"\n",
    "author: |\n",
    "  Cynthia  \n",
    "  Jane  \n",
    "  Judid\n",
    "date: \"2025-06-06\"\n",
    "format:\n",
    "  revealjs:\n",
    "    theme: default\n",
    "    css: custom.scss\n",
    "    transition: fade\n",
    "    slide-number: true\n",
    "    center: true\n",
    "    width: 1280\n",
    "    height: 720\n",
    "    title-slide-attributes:\n",
    "      data-background-color: \"#5D3FD3\"\n",
    "fontsize: 28pt\n",
    "---"
   ]
  },
  {
   "cell_type": "markdown",
   "id": "f786a5ed-1796-4b10-9426-ddd6c15700c0",
   "metadata": {},
   "source": [
    "## Introduction\n",
    "\n",
    "In this project, we extracted chocolate product data from the website **chocolate.co.uk**. Our goal was to gather and understand key product information by applying basic data processing techniques.\n",
    "\n",
    "The project was completed in three main stages:\n",
    "\n",
    "1. **Data Scraping** – Collecting product information from the website using Python tools.\n",
    "2. **Data Cleaning** – Preparing the data for analysis by handling inconsistencies and formatting issues.\n",
    "3. **Data Analysis** – Exploring the cleaned dataset to uncover insights about chocolate products.\n"
   ]
  },
  {
   "cell_type": "markdown",
   "id": "4487c614-1df0-4b53-a039-51b5316cd256",
   "metadata": {},
   "source": [
    "## Introduction\n",
    "\n",
    "In this project, we scraped chocolate product data from [chocolate.co.uk](https://www.chocolate.co.uk), cleaned the data, and performed simple analysis using Python.\n",
    "\n",
    "We followed 3 main steps:\n",
    "- Scraping Data\n",
    "- Cleaning Data\n",
    "- Data Analysis"
   ]
  },
  {
   "cell_type": "markdown",
   "id": "b48f2e7e-740f-45a1-8d3b-18f4f9a68614",
   "metadata": {},
   "source": [
    "## Scraping Chocolate Product Data"
   ]
  },
  {
   "cell_type": "markdown",
   "id": "0d167d3c-2ed5-44ad-af94-e42003e37a07",
   "metadata": {},
   "source": [
    "### Step 1: Web Scraping"
   ]
  },
  {
   "cell_type": "code",
   "execution_count": 1,
   "id": "b9db72ac-0385-46bd-9d2e-423ca11c4acc",
   "metadata": {},
   "outputs": [
    {
     "name": "stdout",
     "output_type": "stream",
     "text": [
      "Found 24 products on page 1\n",
      "Found 24 products on page 2\n",
      "Found 6 products on page 3\n",
      "\n",
      "Scraped 54 products in total.\n",
      "\n",
      "                                      Name                 Price  \\\n",
      "0  2.5kg Bulk 41% Milk Hot Chocolate Drops      Sale price£50.00   \n",
      "1  2.5kg Bulk 61% Dark Hot Chocolate Drops      Sale price£50.00   \n",
      "2             41% Milk Hot Chocolate Drops       Sale price£8.75   \n",
      "3             61% Dark Hot Chocolate Drops       Sale price£8.75   \n",
      "4                           Almost Perfect  Sale priceFrom £1.00   \n",
      "\n",
      "                                         Ingredients  \\\n",
      "0  Milk Chocolate (41% Cocoa Minimum, Pure Cocoa ...   \n",
      "1  Dark Chocolate (61% Cocoa Minimum, Pure Cocoa ...   \n",
      "2  Milk Chocolate (41% Cocoa Minimum, Pure Cocoa ...   \n",
      "3  Dark Chocolate (61% Cocoa Minimum, Pure Cocoa ...   \n",
      "4                                     No Ingredients   \n",
      "\n",
      "                                                 URL  \n",
      "0  https://www.chocolate.co.uk/products/2-5kg-bul...  \n",
      "1  https://www.chocolate.co.uk/products/2-5kg-of-...  \n",
      "2  https://www.chocolate.co.uk/products/41-colomb...  \n",
      "3  https://www.chocolate.co.uk/products/62-dark-h...  \n",
      "4  https://www.chocolate.co.uk/products/almost-pe...  \n"
     ]
    }
   ],
   "source": [
    "#| ech\n",
    "from bs4 import BeautifulSoup as bs4\n",
    "import pandas as pd\n",
    "import requests\n",
    "\n",
    "def scrape_all_products(pages=3):\n",
    "    headers = {\n",
    "        'User-Agent': 'Mozilla/5.0 (Windows NT 10.0; Win64; x64) AppleWebKit/537.36 (KHTML, like Gecko) Chrome/122.0.0.0 Safari/537.36',\n",
    "        'Accept-Language': 'en-US,en;q=0.9',\n",
    "    }\n",
    "\n",
    "    all_products = []\n",
    "\n",
    "    for page in range(1, pages + 1):\n",
    "        url = f\"https://www.chocolate.co.uk/collections/all?page={page}\"\n",
    "\n",
    "        try:\n",
    "            send_request = requests.get(url, headers=headers)\n",
    "            send_request.raise_for_status()\n",
    "            soup = bs4(send_request.text, 'html.parser')\n",
    "        except requests.exceptions.RequestException as e:\n",
    "            print(f\"Failed to fetch page {page}: {e}\")\n",
    "            continue\n",
    "\n",
    "        chocolate_cards = soup.find_all('div', class_='product-item__info')\n",
    "        print(f\"Found {len(chocolate_cards)} products on page {page}\")\n",
    "\n",
    "        for card in chocolate_cards:\n",
    "            title_div = card.find('div', class_='product-item-meta')\n",
    "            title_tag = title_div.find('a') if title_div else None\n",
    "            Name = title_tag.text.strip() if title_tag else \"No Title\"\n",
    "            product_url = title_tag['href'] if title_tag else None\n",
    "\n",
    "            price_tag = card.find('div', class_='product-item-meta__price-list-container')\n",
    "            price_span = price_tag.find('span', class_='price') if price_tag else None\n",
    "            price = price_span.text.strip() if price_span else \"No Price\"\n",
    "\n",
    "            if product_url:\n",
    "                product_page = requests.get(f'https://www.chocolate.co.uk{product_url}', headers=headers)\n",
    "                product_soup = bs4(product_page.text, 'html.parser')\n",
    "                ingredients = \"No Ingredients\"\n",
    "                ingredients_div = product_soup.find('div', class_='metafield-rich_text_field')\n",
    "                if ingredients_div:\n",
    "                    for p in ingredients_div.find_all('p'):\n",
    "                        if 'Ingredients:' in p.text:\n",
    "                            ingredients = p.text.replace(\"Ingredients:\", \"\").strip()\n",
    "                            break\n",
    "            else:\n",
    "                ingredients = \"No URL\"\n",
    "\n",
    "            full_url = f'https://www.chocolate.co.uk{product_url}'\n",
    "\n",
    "            product = {\n",
    "                \"Name\": Name,\n",
    "                \"Price\": price,\n",
    "                \"Ingredients\": ingredients,\n",
    "                \"URL\": full_url\n",
    "            }\n",
    "\n",
    "            all_products.append(product)\n",
    "\n",
    "    df = pd.DataFrame(all_products)\n",
    "    print(f\"\\nScraped {len(df)} products in total.\\n\")\n",
    "    print(df.head())\n",
    "    return df\n",
    "\n",
    "data = scrape_all_products(3)\n"
   ]
  },
  {
   "cell_type": "code",
   "execution_count": 2,
   "id": "565c280e-4449-41d6-a313-14eead4dc2b4",
   "metadata": {},
   "outputs": [],
   "source": [
    "#data"
   ]
  },
  {
   "cell_type": "markdown",
   "id": "6cb82bb3-5fdc-4048-943e-376db1f78a17",
   "metadata": {},
   "source": [
    "## Cleaning and Formatting the Data"
   ]
  },
  {
   "cell_type": "markdown",
   "id": "5c68f903-84c5-4b7d-85fa-d2a826bcfbf3",
   "metadata": {},
   "source": [
    "### Step 2: Data Cleaning"
   ]
  },
  {
   "cell_type": "code",
   "execution_count": 3,
   "id": "f8af49cf-2e08-428d-bc52-8088be36d4ea",
   "metadata": {},
   "outputs": [
    {
     "data": {
      "text/plain": [
       "Name           0\n",
       "Price          0\n",
       "Ingredients    0\n",
       "URL            0\n",
       "dtype: int64"
      ]
     },
     "execution_count": 3,
     "metadata": {},
     "output_type": "execute_result"
    }
   ],
   "source": [
    "# Check for missing values\n",
    "data.isna().sum()\n",
    "# Check for duplicate values\n",
    "#data.duplicated()"
   ]
  },
  {
   "cell_type": "markdown",
   "id": "1a421a91-0040-4382-bd06-ec8f50be8ede",
   "metadata": {},
   "source": [
    "## Cleaning block"
   ]
  },
  {
   "cell_type": "code",
   "execution_count": 4,
   "id": "5c413980-29e3-4721-b306-9523917bea5a",
   "metadata": {},
   "outputs": [
    {
     "data": {
      "text/html": [
       "<div>\n",
       "<style scoped>\n",
       "    .dataframe tbody tr th:only-of-type {\n",
       "        vertical-align: middle;\n",
       "    }\n",
       "\n",
       "    .dataframe tbody tr th {\n",
       "        vertical-align: top;\n",
       "    }\n",
       "\n",
       "    .dataframe thead th {\n",
       "        text-align: right;\n",
       "    }\n",
       "</style>\n",
       "<table border=\"1\" class=\"dataframe\">\n",
       "  <thead>\n",
       "    <tr style=\"text-align: right;\">\n",
       "      <th></th>\n",
       "      <th>Name</th>\n",
       "      <th>Price</th>\n",
       "      <th>Ingredients</th>\n",
       "      <th>URL</th>\n",
       "      <th>Price (£)</th>\n",
       "    </tr>\n",
       "  </thead>\n",
       "  <tbody>\n",
       "    <tr>\n",
       "      <th>0</th>\n",
       "      <td>2.5Kg Bulk 41% Milk Hot Chocolate Drops</td>\n",
       "      <td>£50.00</td>\n",
       "      <td>Milk Chocolate (41% Cocoa Minimum, Pure Cocoa ...</td>\n",
       "      <td>https://www.chocolate.co.uk/products/2-5kg-bul...</td>\n",
       "      <td>50</td>\n",
       "    </tr>\n",
       "    <tr>\n",
       "      <th>1</th>\n",
       "      <td>2.5Kg Bulk 61% Dark Hot Chocolate Drops</td>\n",
       "      <td>£50.00</td>\n",
       "      <td>Dark Chocolate (61% Cocoa Minimum, Pure Cocoa ...</td>\n",
       "      <td>https://www.chocolate.co.uk/products/2-5kg-of-...</td>\n",
       "      <td>50</td>\n",
       "    </tr>\n",
       "    <tr>\n",
       "      <th>2</th>\n",
       "      <td>41% Milk Hot Chocolate Drops</td>\n",
       "      <td>£8.75</td>\n",
       "      <td>Milk Chocolate (41% Cocoa Minimum, Pure Cocoa ...</td>\n",
       "      <td>https://www.chocolate.co.uk/products/41-colomb...</td>\n",
       "      <td>8</td>\n",
       "    </tr>\n",
       "    <tr>\n",
       "      <th>3</th>\n",
       "      <td>61% Dark Hot Chocolate Drops</td>\n",
       "      <td>£8.75</td>\n",
       "      <td>Dark Chocolate (61% Cocoa Minimum, Pure Cocoa ...</td>\n",
       "      <td>https://www.chocolate.co.uk/products/62-dark-h...</td>\n",
       "      <td>8</td>\n",
       "    </tr>\n",
       "    <tr>\n",
       "      <th>4</th>\n",
       "      <td>Almost Perfect</td>\n",
       "      <td>£1.00</td>\n",
       "      <td>No Ingredients</td>\n",
       "      <td>https://www.chocolate.co.uk/products/almost-pe...</td>\n",
       "      <td>1</td>\n",
       "    </tr>\n",
       "    <tr>\n",
       "      <th>5</th>\n",
       "      <td>Assorted Chocolate Malt Balls</td>\n",
       "      <td>£9.00</td>\n",
       "      <td>White Chocolate (25%) (32% Cocoa Minimum, Pure...</td>\n",
       "      <td>https://www.chocolate.co.uk/products/assorted-...</td>\n",
       "      <td>9</td>\n",
       "    </tr>\n",
       "    <tr>\n",
       "      <th>6</th>\n",
       "      <td>Blonde Caramel</td>\n",
       "      <td>£5.00</td>\n",
       "      <td>White Chocolate (35% Cocoa Minimum, Pure Cocoa...</td>\n",
       "      <td>https://www.chocolate.co.uk/products/blonde-ca...</td>\n",
       "      <td>5</td>\n",
       "    </tr>\n",
       "    <tr>\n",
       "      <th>7</th>\n",
       "      <td>Blonde Chocolate Honeycomb - Bag</td>\n",
       "      <td>£8.50</td>\n",
       "      <td>White Chocolate (Min 35% Cocoa Min, Pure Cocoa...</td>\n",
       "      <td>https://www.chocolate.co.uk/products/blonde-ch...</td>\n",
       "      <td>8</td>\n",
       "    </tr>\n",
       "    <tr>\n",
       "      <th>8</th>\n",
       "      <td>Blonde Chocolate Malt Balls</td>\n",
       "      <td>£9.00</td>\n",
       "      <td>White Chocolate (32% Cocoa Minimum, Pure Cocoa...</td>\n",
       "      <td>https://www.chocolate.co.uk/products/blonde-ch...</td>\n",
       "      <td>9</td>\n",
       "    </tr>\n",
       "    <tr>\n",
       "      <th>9</th>\n",
       "      <td>Blonde Chocolate Truffles</td>\n",
       "      <td>£19.95</td>\n",
       "      <td>White Chocolate (32% Cocoa Minimum, Pure Cocoa...</td>\n",
       "      <td>https://www.chocolate.co.uk/products/blonde-ch...</td>\n",
       "      <td>19</td>\n",
       "    </tr>\n",
       "    <tr>\n",
       "      <th>10</th>\n",
       "      <td>Bulk 41% Milk Hot Chocolate Drops 750 Grams</td>\n",
       "      <td>£17.50</td>\n",
       "      <td>Milk Chocolate (41% Cocoa Minimum, Pure Cocoa ...</td>\n",
       "      <td>https://www.chocolate.co.uk/products/bulk-41-m...</td>\n",
       "      <td>17</td>\n",
       "    </tr>\n",
       "    <tr>\n",
       "      <th>11</th>\n",
       "      <td>Bulk 61% Dark Hot Chocolate Drops 750 Grams</td>\n",
       "      <td>£17.50</td>\n",
       "      <td>Dark Chocolate (61% Cocoa Minimum, Pure Cocoa ...</td>\n",
       "      <td>https://www.chocolate.co.uk/products/750-gram-...</td>\n",
       "      <td>17</td>\n",
       "    </tr>\n",
       "    <tr>\n",
       "      <th>12</th>\n",
       "      <td>Caramelised Milk</td>\n",
       "      <td>£5.00</td>\n",
       "      <td>Milk Chocolate (39% Cocoa Solids, Pure Cocoa B...</td>\n",
       "      <td>https://www.chocolate.co.uk/products/caramelis...</td>\n",
       "      <td>5</td>\n",
       "    </tr>\n",
       "    <tr>\n",
       "      <th>13</th>\n",
       "      <td>Chai Caramel Latte</td>\n",
       "      <td>£5.00</td>\n",
       "      <td>Milk Chocolate (35%) (Sugar, Cocoa Butter, Who...</td>\n",
       "      <td>https://www.chocolate.co.uk/products/chai-cara...</td>\n",
       "      <td>5</td>\n",
       "    </tr>\n",
       "    <tr>\n",
       "      <th>14</th>\n",
       "      <td>Chocolate Caramelised Pecan Nuts</td>\n",
       "      <td>£8.95</td>\n",
       "      <td>Caramelised Pecans (60%): Pecan Nut, Sugar. Mi...</td>\n",
       "      <td>https://www.chocolate.co.uk/products/chocolate...</td>\n",
       "      <td>8</td>\n",
       "    </tr>\n",
       "    <tr>\n",
       "      <th>15</th>\n",
       "      <td>Chocolate Celebration Hamper</td>\n",
       "      <td>£55.00</td>\n",
       "      <td>No Ingredients</td>\n",
       "      <td>https://www.chocolate.co.uk/products/celebrati...</td>\n",
       "      <td>55</td>\n",
       "    </tr>\n",
       "    <tr>\n",
       "      <th>16</th>\n",
       "      <td>Christmas Cracker</td>\n",
       "      <td>£5.00</td>\n",
       "      <td>Milk Chocolate (43% Cocoa Min, Pure Cocoa Butt...</td>\n",
       "      <td>https://www.chocolate.co.uk/products/christmas...</td>\n",
       "      <td>5</td>\n",
       "    </tr>\n",
       "    <tr>\n",
       "      <th>17</th>\n",
       "      <td>Cinnamon Toast</td>\n",
       "      <td>£5.00</td>\n",
       "      <td>White Chocolate (35% Cocoa Minimum, Pure Cocoa...</td>\n",
       "      <td>https://www.chocolate.co.uk/products/cinnamon-...</td>\n",
       "      <td>5</td>\n",
       "    </tr>\n",
       "    <tr>\n",
       "      <th>18</th>\n",
       "      <td>Collection Of 4 Of Our Best Selling Chocolate ...</td>\n",
       "      <td>£30.00</td>\n",
       "      <td>Milk Chocolate (75%) (41% Cocoa Minimum, Pure ...</td>\n",
       "      <td>https://www.chocolate.co.uk/products/collectio...</td>\n",
       "      <td>30</td>\n",
       "    </tr>\n",
       "    <tr>\n",
       "      <th>19</th>\n",
       "      <td>Colombia 61%</td>\n",
       "      <td>£5.00</td>\n",
       "      <td>Dark Chocolate (61% Cocoa Minimum, Pure Cocoa ...</td>\n",
       "      <td>https://www.chocolate.co.uk/products/colombian...</td>\n",
       "      <td>5</td>\n",
       "    </tr>\n",
       "    <tr>\n",
       "      <th>20</th>\n",
       "      <td>Crunchy Biscuit</td>\n",
       "      <td>£5.00</td>\n",
       "      <td>Caramelised White Chocolate (35% Cocoa Minimum...</td>\n",
       "      <td>https://www.chocolate.co.uk/products/crunchy-b...</td>\n",
       "      <td>5</td>\n",
       "    </tr>\n",
       "    <tr>\n",
       "      <th>21</th>\n",
       "      <td>Dark Chocolate Ginger</td>\n",
       "      <td>£8.95</td>\n",
       "      <td>Ginger (55%): Ginger, Sugar, Wheat Glucose Syr...</td>\n",
       "      <td>https://www.chocolate.co.uk/products/dark-choc...</td>\n",
       "      <td>8</td>\n",
       "    </tr>\n",
       "    <tr>\n",
       "      <th>22</th>\n",
       "      <td>Dark Chocolate Honeycomb - Bag</td>\n",
       "      <td>£8.50</td>\n",
       "      <td>Dark Chocolate (61% Cocoa Min, Pure Cocoa Butt...</td>\n",
       "      <td>https://www.chocolate.co.uk/products/dark-choc...</td>\n",
       "      <td>8</td>\n",
       "    </tr>\n",
       "    <tr>\n",
       "      <th>23</th>\n",
       "      <td>Dark Chocolate Malt Balls</td>\n",
       "      <td>£9.00</td>\n",
       "      <td>Dark Chocolate (61% Cocoa Minimum, Pure Cocoa ...</td>\n",
       "      <td>https://www.chocolate.co.uk/products/dark-choc...</td>\n",
       "      <td>9</td>\n",
       "    </tr>\n",
       "    <tr>\n",
       "      <th>24</th>\n",
       "      <td>Dark Chocolate Orange Peel</td>\n",
       "      <td>£10.00</td>\n",
       "      <td>Candied Orange Peel (55%): Orange Peel, Sugar,...</td>\n",
       "      <td>https://www.chocolate.co.uk/products/dark-choc...</td>\n",
       "      <td>10</td>\n",
       "    </tr>\n",
       "    <tr>\n",
       "      <th>25</th>\n",
       "      <td>Dark Chocolate Truffles</td>\n",
       "      <td>£19.95</td>\n",
       "      <td>Dark Chocolate (55% Cocoa Minimum, Pure Cocoa ...</td>\n",
       "      <td>https://www.chocolate.co.uk/products/dark-choc...</td>\n",
       "      <td>19</td>\n",
       "    </tr>\n",
       "    <tr>\n",
       "      <th>26</th>\n",
       "      <td>Ecudorian 41%</td>\n",
       "      <td>£5.00</td>\n",
       "      <td>Milk Chocolate (41% Cocoa Minimum, Pure Cocoa ...</td>\n",
       "      <td>https://www.chocolate.co.uk/products/ecuadoria...</td>\n",
       "      <td>5</td>\n",
       "    </tr>\n",
       "    <tr>\n",
       "      <th>27</th>\n",
       "      <td>Flat White Coffee</td>\n",
       "      <td>£5.00</td>\n",
       "      <td>Dark Chocolate (61% Cocoa Minimum, Pure Cocoa ...</td>\n",
       "      <td>https://www.chocolate.co.uk/products/flat-whit...</td>\n",
       "      <td>5</td>\n",
       "    </tr>\n",
       "    <tr>\n",
       "      <th>28</th>\n",
       "      <td>Gift Voucher</td>\n",
       "      <td>£10.00</td>\n",
       "      <td>No Ingredients</td>\n",
       "      <td>https://www.chocolate.co.uk/products/gift-voucher</td>\n",
       "      <td>10</td>\n",
       "    </tr>\n",
       "    <tr>\n",
       "      <th>29</th>\n",
       "      <td>Ginger Biscuit</td>\n",
       "      <td>£5.00</td>\n",
       "      <td>White Chocolate (35% Cocoa Minimum, Pure Cocoa...</td>\n",
       "      <td>https://www.chocolate.co.uk/products/ginger-bi...</td>\n",
       "      <td>5</td>\n",
       "    </tr>\n",
       "    <tr>\n",
       "      <th>30</th>\n",
       "      <td>Honeycomb Crunch</td>\n",
       "      <td>£5.00</td>\n",
       "      <td>Milk Chocolate (41% Cocoa Min, Pure Cocoa Butt...</td>\n",
       "      <td>https://www.chocolate.co.uk/products/honeycomb...</td>\n",
       "      <td>5</td>\n",
       "    </tr>\n",
       "    <tr>\n",
       "      <th>31</th>\n",
       "      <td>Hot Chocolate Shaker</td>\n",
       "      <td>£25.00</td>\n",
       "      <td>No Ingredients</td>\n",
       "      <td>https://www.chocolate.co.uk/products/hot-choco...</td>\n",
       "      <td>25</td>\n",
       "    </tr>\n",
       "    <tr>\n",
       "      <th>32</th>\n",
       "      <td>Luxury Hot Chocolate Hamper</td>\n",
       "      <td>£55.00</td>\n",
       "      <td>No Ingredients</td>\n",
       "      <td>https://www.chocolate.co.uk/products/luxury-ho...</td>\n",
       "      <td>55</td>\n",
       "    </tr>\n",
       "    <tr>\n",
       "      <th>33</th>\n",
       "      <td>Marc De Champagne Truffles</td>\n",
       "      <td>£19.95</td>\n",
       "      <td>Milk Chocolate (40% Cocoa Minimum, Pure Cocoa ...</td>\n",
       "      <td>https://www.chocolate.co.uk/products/marc-de-c...</td>\n",
       "      <td>19</td>\n",
       "    </tr>\n",
       "    <tr>\n",
       "      <th>34</th>\n",
       "      <td>Marmalade</td>\n",
       "      <td>£5.00</td>\n",
       "      <td>Dark Chocolate (61% Cocoa Minimum, Pure Cocoa ...</td>\n",
       "      <td>https://www.chocolate.co.uk/products/marmalade...</td>\n",
       "      <td>5</td>\n",
       "    </tr>\n",
       "    <tr>\n",
       "      <th>35</th>\n",
       "      <td>Milk Chocolate Honeycomb - Bag</td>\n",
       "      <td>£8.50</td>\n",
       "      <td>Milk Chocolate (41% Cocoa Min, Pure Cocoa Butt...</td>\n",
       "      <td>https://www.chocolate.co.uk/products/milk-choc...</td>\n",
       "      <td>8</td>\n",
       "    </tr>\n",
       "    <tr>\n",
       "      <th>36</th>\n",
       "      <td>Milk Chocolate Malt Balls</td>\n",
       "      <td>£9.00</td>\n",
       "      <td>Milk Chocolate (41% Cocoa Minimum, Pure Cocoa ...</td>\n",
       "      <td>https://www.chocolate.co.uk/products/milk-choc...</td>\n",
       "      <td>9</td>\n",
       "    </tr>\n",
       "    <tr>\n",
       "      <th>37</th>\n",
       "      <td>Milk Chocolate Truffles</td>\n",
       "      <td>£19.95</td>\n",
       "      <td>Milk Chocolate (37% Cocoa Minimum, Pure Cocoa ...</td>\n",
       "      <td>https://www.chocolate.co.uk/products/milk-choc...</td>\n",
       "      <td>19</td>\n",
       "    </tr>\n",
       "    <tr>\n",
       "      <th>38</th>\n",
       "      <td>Orange Malt Balls</td>\n",
       "      <td>£8.00</td>\n",
       "      <td>Milk Chocolate (75%) (41% Cocoa Minimum, Pure ...</td>\n",
       "      <td>https://www.chocolate.co.uk/products/orange-ma...</td>\n",
       "      <td>8</td>\n",
       "    </tr>\n",
       "    <tr>\n",
       "      <th>39</th>\n",
       "      <td>Peppermint Malt Balls</td>\n",
       "      <td>£8.00</td>\n",
       "      <td>White Chocolate (36% Cocoa Minimum, Pure Cocoa...</td>\n",
       "      <td>https://www.chocolate.co.uk/products/peppermin...</td>\n",
       "      <td>8</td>\n",
       "    </tr>\n",
       "    <tr>\n",
       "      <th>40</th>\n",
       "      <td>Peppermint Swirl</td>\n",
       "      <td>£5.00</td>\n",
       "      <td>Dark Chocolate (61% Cocoa Minimum, Pure Cocoa ...</td>\n",
       "      <td>https://www.chocolate.co.uk/products/peppermin...</td>\n",
       "      <td>5</td>\n",
       "    </tr>\n",
       "    <tr>\n",
       "      <th>41</th>\n",
       "      <td>Pistachio &amp; Cranberry</td>\n",
       "      <td>£5.00</td>\n",
       "      <td>White Chocolate (36% Cocoa Minimum, Pure Cocoa...</td>\n",
       "      <td>https://www.chocolate.co.uk/products/pistachio...</td>\n",
       "      <td>5</td>\n",
       "    </tr>\n",
       "    <tr>\n",
       "      <th>42</th>\n",
       "      <td>Pretzel Caramel</td>\n",
       "      <td>£5.00</td>\n",
       "      <td>Milk Chocolate (43% Cocoa Min, Pure Cocoa Butt...</td>\n",
       "      <td>https://www.chocolate.co.uk/products/pretzel-c...</td>\n",
       "      <td>5</td>\n",
       "    </tr>\n",
       "    <tr>\n",
       "      <th>43</th>\n",
       "      <td>Roasted Almonds</td>\n",
       "      <td>£8.95</td>\n",
       "      <td>No Ingredients</td>\n",
       "      <td>https://www.chocolate.co.uk/products/cocoa-dus...</td>\n",
       "      <td>8</td>\n",
       "    </tr>\n",
       "    <tr>\n",
       "      <th>44</th>\n",
       "      <td>Rose &amp; Violet Creams</td>\n",
       "      <td>£12.00</td>\n",
       "      <td>Dark Chocolate (61% Cocoa Minimum, Pure Cocoa ...</td>\n",
       "      <td>https://www.chocolate.co.uk/products/rose-viol...</td>\n",
       "      <td>12</td>\n",
       "    </tr>\n",
       "    <tr>\n",
       "      <th>45</th>\n",
       "      <td>Salt Caramel Malt Balls</td>\n",
       "      <td>£9.00</td>\n",
       "      <td>Milk Chocolate (75%) (39% Cocoa Solids, Pure C...</td>\n",
       "      <td>https://www.chocolate.co.uk/products/salt-cara...</td>\n",
       "      <td>9</td>\n",
       "    </tr>\n",
       "    <tr>\n",
       "      <th>46</th>\n",
       "      <td>Salt Caramelised Hazelnuts</td>\n",
       "      <td>£8.95</td>\n",
       "      <td>Caramelised Hazelnuts (50%): Hazelnuts, Sugar....</td>\n",
       "      <td>https://www.chocolate.co.uk/products/salt-cara...</td>\n",
       "      <td>8</td>\n",
       "    </tr>\n",
       "    <tr>\n",
       "      <th>47</th>\n",
       "      <td>Salted Caramel</td>\n",
       "      <td>£5.00</td>\n",
       "      <td>White Chocolate (32% Cocoa Minimum, Pure Cocoa...</td>\n",
       "      <td>https://www.chocolate.co.uk/products/blonde-ch...</td>\n",
       "      <td>5</td>\n",
       "    </tr>\n",
       "    <tr>\n",
       "      <th>48</th>\n",
       "      <td>Salted Caramel Florentines</td>\n",
       "      <td>£12.50</td>\n",
       "      <td>Dark Chocolate (61% Cocoa Minimum, Pure Cocoa ...</td>\n",
       "      <td>https://www.chocolate.co.uk/products/salted-ca...</td>\n",
       "      <td>12</td>\n",
       "    </tr>\n",
       "    <tr>\n",
       "      <th>49</th>\n",
       "      <td>Salted Caramels Blonde Chocolate</td>\n",
       "      <td>£19.95</td>\n",
       "      <td>White Chocolate (35% Cocoa Solids, Pure Cocoa ...</td>\n",
       "      <td>https://www.chocolate.co.uk/products/salted-ca...</td>\n",
       "      <td>19</td>\n",
       "    </tr>\n",
       "    <tr>\n",
       "      <th>50</th>\n",
       "      <td>Salted Caramels Dark Chocolate</td>\n",
       "      <td>£19.95</td>\n",
       "      <td>Dark Chocolate (55% Cocoa Minimum, Pure Cocoa ...</td>\n",
       "      <td>https://www.chocolate.co.uk/products/salt-cara...</td>\n",
       "      <td>19</td>\n",
       "    </tr>\n",
       "    <tr>\n",
       "      <th>51</th>\n",
       "      <td>Salted Caramels Milk Chocolate</td>\n",
       "      <td>£19.95</td>\n",
       "      <td>Milk Chocolate (37% Cocoa Minimum, Pure Cocoa ...</td>\n",
       "      <td>https://www.chocolate.co.uk/products/salt-cara...</td>\n",
       "      <td>19</td>\n",
       "    </tr>\n",
       "    <tr>\n",
       "      <th>52</th>\n",
       "      <td>Tea &amp; Biscuit</td>\n",
       "      <td>£5.00</td>\n",
       "      <td>Blonde Chocolate (63.72%) (Cocoa Butter, Sugar...</td>\n",
       "      <td>https://www.chocolate.co.uk/products/tea-biscu...</td>\n",
       "      <td>5</td>\n",
       "    </tr>\n",
       "    <tr>\n",
       "      <th>53</th>\n",
       "      <td>Velvet White</td>\n",
       "      <td>£5.00</td>\n",
       "      <td>White Chocolate (100%): Sugar, Cocoa Butter, W...</td>\n",
       "      <td>https://www.chocolate.co.uk/products/velvet-wh...</td>\n",
       "      <td>5</td>\n",
       "    </tr>\n",
       "  </tbody>\n",
       "</table>\n",
       "</div>"
      ],
      "text/plain": [
       "                                                 Name   Price  \\\n",
       "0             2.5Kg Bulk 41% Milk Hot Chocolate Drops  £50.00   \n",
       "1             2.5Kg Bulk 61% Dark Hot Chocolate Drops  £50.00   \n",
       "2                        41% Milk Hot Chocolate Drops   £8.75   \n",
       "3                        61% Dark Hot Chocolate Drops   £8.75   \n",
       "4                                      Almost Perfect   £1.00   \n",
       "5                       Assorted Chocolate Malt Balls   £9.00   \n",
       "6                                      Blonde Caramel   £5.00   \n",
       "7                    Blonde Chocolate Honeycomb - Bag   £8.50   \n",
       "8                         Blonde Chocolate Malt Balls   £9.00   \n",
       "9                           Blonde Chocolate Truffles  £19.95   \n",
       "10        Bulk 41% Milk Hot Chocolate Drops 750 Grams  £17.50   \n",
       "11        Bulk 61% Dark Hot Chocolate Drops 750 Grams  £17.50   \n",
       "12                                   Caramelised Milk   £5.00   \n",
       "13                                 Chai Caramel Latte   £5.00   \n",
       "14                   Chocolate Caramelised Pecan Nuts   £8.95   \n",
       "15                       Chocolate Celebration Hamper  £55.00   \n",
       "16                                  Christmas Cracker   £5.00   \n",
       "17                                     Cinnamon Toast   £5.00   \n",
       "18  Collection Of 4 Of Our Best Selling Chocolate ...  £30.00   \n",
       "19                                       Colombia 61%   £5.00   \n",
       "20                                    Crunchy Biscuit   £5.00   \n",
       "21                              Dark Chocolate Ginger   £8.95   \n",
       "22                     Dark Chocolate Honeycomb - Bag   £8.50   \n",
       "23                          Dark Chocolate Malt Balls   £9.00   \n",
       "24                         Dark Chocolate Orange Peel  £10.00   \n",
       "25                            Dark Chocolate Truffles  £19.95   \n",
       "26                                      Ecudorian 41%   £5.00   \n",
       "27                                  Flat White Coffee   £5.00   \n",
       "28                                       Gift Voucher  £10.00   \n",
       "29                                     Ginger Biscuit   £5.00   \n",
       "30                                   Honeycomb Crunch   £5.00   \n",
       "31                               Hot Chocolate Shaker  £25.00   \n",
       "32                        Luxury Hot Chocolate Hamper  £55.00   \n",
       "33                         Marc De Champagne Truffles  £19.95   \n",
       "34                                          Marmalade   £5.00   \n",
       "35                     Milk Chocolate Honeycomb - Bag   £8.50   \n",
       "36                          Milk Chocolate Malt Balls   £9.00   \n",
       "37                            Milk Chocolate Truffles  £19.95   \n",
       "38                                  Orange Malt Balls   £8.00   \n",
       "39                              Peppermint Malt Balls   £8.00   \n",
       "40                                   Peppermint Swirl   £5.00   \n",
       "41                              Pistachio & Cranberry   £5.00   \n",
       "42                                    Pretzel Caramel   £5.00   \n",
       "43                                    Roasted Almonds   £8.95   \n",
       "44                               Rose & Violet Creams  £12.00   \n",
       "45                            Salt Caramel Malt Balls   £9.00   \n",
       "46                         Salt Caramelised Hazelnuts   £8.95   \n",
       "47                                     Salted Caramel   £5.00   \n",
       "48                         Salted Caramel Florentines  £12.50   \n",
       "49                   Salted Caramels Blonde Chocolate  £19.95   \n",
       "50                     Salted Caramels Dark Chocolate  £19.95   \n",
       "51                     Salted Caramels Milk Chocolate  £19.95   \n",
       "52                                      Tea & Biscuit   £5.00   \n",
       "53                                       Velvet White   £5.00   \n",
       "\n",
       "                                          Ingredients  \\\n",
       "0   Milk Chocolate (41% Cocoa Minimum, Pure Cocoa ...   \n",
       "1   Dark Chocolate (61% Cocoa Minimum, Pure Cocoa ...   \n",
       "2   Milk Chocolate (41% Cocoa Minimum, Pure Cocoa ...   \n",
       "3   Dark Chocolate (61% Cocoa Minimum, Pure Cocoa ...   \n",
       "4                                      No Ingredients   \n",
       "5   White Chocolate (25%) (32% Cocoa Minimum, Pure...   \n",
       "6   White Chocolate (35% Cocoa Minimum, Pure Cocoa...   \n",
       "7   White Chocolate (Min 35% Cocoa Min, Pure Cocoa...   \n",
       "8   White Chocolate (32% Cocoa Minimum, Pure Cocoa...   \n",
       "9   White Chocolate (32% Cocoa Minimum, Pure Cocoa...   \n",
       "10  Milk Chocolate (41% Cocoa Minimum, Pure Cocoa ...   \n",
       "11  Dark Chocolate (61% Cocoa Minimum, Pure Cocoa ...   \n",
       "12  Milk Chocolate (39% Cocoa Solids, Pure Cocoa B...   \n",
       "13  Milk Chocolate (35%) (Sugar, Cocoa Butter, Who...   \n",
       "14  Caramelised Pecans (60%): Pecan Nut, Sugar. Mi...   \n",
       "15                                     No Ingredients   \n",
       "16  Milk Chocolate (43% Cocoa Min, Pure Cocoa Butt...   \n",
       "17  White Chocolate (35% Cocoa Minimum, Pure Cocoa...   \n",
       "18  Milk Chocolate (75%) (41% Cocoa Minimum, Pure ...   \n",
       "19  Dark Chocolate (61% Cocoa Minimum, Pure Cocoa ...   \n",
       "20  Caramelised White Chocolate (35% Cocoa Minimum...   \n",
       "21  Ginger (55%): Ginger, Sugar, Wheat Glucose Syr...   \n",
       "22  Dark Chocolate (61% Cocoa Min, Pure Cocoa Butt...   \n",
       "23  Dark Chocolate (61% Cocoa Minimum, Pure Cocoa ...   \n",
       "24  Candied Orange Peel (55%): Orange Peel, Sugar,...   \n",
       "25  Dark Chocolate (55% Cocoa Minimum, Pure Cocoa ...   \n",
       "26  Milk Chocolate (41% Cocoa Minimum, Pure Cocoa ...   \n",
       "27  Dark Chocolate (61% Cocoa Minimum, Pure Cocoa ...   \n",
       "28                                     No Ingredients   \n",
       "29  White Chocolate (35% Cocoa Minimum, Pure Cocoa...   \n",
       "30  Milk Chocolate (41% Cocoa Min, Pure Cocoa Butt...   \n",
       "31                                     No Ingredients   \n",
       "32                                     No Ingredients   \n",
       "33  Milk Chocolate (40% Cocoa Minimum, Pure Cocoa ...   \n",
       "34  Dark Chocolate (61% Cocoa Minimum, Pure Cocoa ...   \n",
       "35  Milk Chocolate (41% Cocoa Min, Pure Cocoa Butt...   \n",
       "36  Milk Chocolate (41% Cocoa Minimum, Pure Cocoa ...   \n",
       "37  Milk Chocolate (37% Cocoa Minimum, Pure Cocoa ...   \n",
       "38  Milk Chocolate (75%) (41% Cocoa Minimum, Pure ...   \n",
       "39  White Chocolate (36% Cocoa Minimum, Pure Cocoa...   \n",
       "40  Dark Chocolate (61% Cocoa Minimum, Pure Cocoa ...   \n",
       "41  White Chocolate (36% Cocoa Minimum, Pure Cocoa...   \n",
       "42  Milk Chocolate (43% Cocoa Min, Pure Cocoa Butt...   \n",
       "43                                     No Ingredients   \n",
       "44  Dark Chocolate (61% Cocoa Minimum, Pure Cocoa ...   \n",
       "45  Milk Chocolate (75%) (39% Cocoa Solids, Pure C...   \n",
       "46  Caramelised Hazelnuts (50%): Hazelnuts, Sugar....   \n",
       "47  White Chocolate (32% Cocoa Minimum, Pure Cocoa...   \n",
       "48  Dark Chocolate (61% Cocoa Minimum, Pure Cocoa ...   \n",
       "49  White Chocolate (35% Cocoa Solids, Pure Cocoa ...   \n",
       "50  Dark Chocolate (55% Cocoa Minimum, Pure Cocoa ...   \n",
       "51  Milk Chocolate (37% Cocoa Minimum, Pure Cocoa ...   \n",
       "52  Blonde Chocolate (63.72%) (Cocoa Butter, Sugar...   \n",
       "53  White Chocolate (100%): Sugar, Cocoa Butter, W...   \n",
       "\n",
       "                                                  URL  Price (£)  \n",
       "0   https://www.chocolate.co.uk/products/2-5kg-bul...         50  \n",
       "1   https://www.chocolate.co.uk/products/2-5kg-of-...         50  \n",
       "2   https://www.chocolate.co.uk/products/41-colomb...          8  \n",
       "3   https://www.chocolate.co.uk/products/62-dark-h...          8  \n",
       "4   https://www.chocolate.co.uk/products/almost-pe...          1  \n",
       "5   https://www.chocolate.co.uk/products/assorted-...          9  \n",
       "6   https://www.chocolate.co.uk/products/blonde-ca...          5  \n",
       "7   https://www.chocolate.co.uk/products/blonde-ch...          8  \n",
       "8   https://www.chocolate.co.uk/products/blonde-ch...          9  \n",
       "9   https://www.chocolate.co.uk/products/blonde-ch...         19  \n",
       "10  https://www.chocolate.co.uk/products/bulk-41-m...         17  \n",
       "11  https://www.chocolate.co.uk/products/750-gram-...         17  \n",
       "12  https://www.chocolate.co.uk/products/caramelis...          5  \n",
       "13  https://www.chocolate.co.uk/products/chai-cara...          5  \n",
       "14  https://www.chocolate.co.uk/products/chocolate...          8  \n",
       "15  https://www.chocolate.co.uk/products/celebrati...         55  \n",
       "16  https://www.chocolate.co.uk/products/christmas...          5  \n",
       "17  https://www.chocolate.co.uk/products/cinnamon-...          5  \n",
       "18  https://www.chocolate.co.uk/products/collectio...         30  \n",
       "19  https://www.chocolate.co.uk/products/colombian...          5  \n",
       "20  https://www.chocolate.co.uk/products/crunchy-b...          5  \n",
       "21  https://www.chocolate.co.uk/products/dark-choc...          8  \n",
       "22  https://www.chocolate.co.uk/products/dark-choc...          8  \n",
       "23  https://www.chocolate.co.uk/products/dark-choc...          9  \n",
       "24  https://www.chocolate.co.uk/products/dark-choc...         10  \n",
       "25  https://www.chocolate.co.uk/products/dark-choc...         19  \n",
       "26  https://www.chocolate.co.uk/products/ecuadoria...          5  \n",
       "27  https://www.chocolate.co.uk/products/flat-whit...          5  \n",
       "28  https://www.chocolate.co.uk/products/gift-voucher         10  \n",
       "29  https://www.chocolate.co.uk/products/ginger-bi...          5  \n",
       "30  https://www.chocolate.co.uk/products/honeycomb...          5  \n",
       "31  https://www.chocolate.co.uk/products/hot-choco...         25  \n",
       "32  https://www.chocolate.co.uk/products/luxury-ho...         55  \n",
       "33  https://www.chocolate.co.uk/products/marc-de-c...         19  \n",
       "34  https://www.chocolate.co.uk/products/marmalade...          5  \n",
       "35  https://www.chocolate.co.uk/products/milk-choc...          8  \n",
       "36  https://www.chocolate.co.uk/products/milk-choc...          9  \n",
       "37  https://www.chocolate.co.uk/products/milk-choc...         19  \n",
       "38  https://www.chocolate.co.uk/products/orange-ma...          8  \n",
       "39  https://www.chocolate.co.uk/products/peppermin...          8  \n",
       "40  https://www.chocolate.co.uk/products/peppermin...          5  \n",
       "41  https://www.chocolate.co.uk/products/pistachio...          5  \n",
       "42  https://www.chocolate.co.uk/products/pretzel-c...          5  \n",
       "43  https://www.chocolate.co.uk/products/cocoa-dus...          8  \n",
       "44  https://www.chocolate.co.uk/products/rose-viol...         12  \n",
       "45  https://www.chocolate.co.uk/products/salt-cara...          9  \n",
       "46  https://www.chocolate.co.uk/products/salt-cara...          8  \n",
       "47  https://www.chocolate.co.uk/products/blonde-ch...          5  \n",
       "48  https://www.chocolate.co.uk/products/salted-ca...         12  \n",
       "49  https://www.chocolate.co.uk/products/salted-ca...         19  \n",
       "50  https://www.chocolate.co.uk/products/salt-cara...         19  \n",
       "51  https://www.chocolate.co.uk/products/salt-cara...         19  \n",
       "52  https://www.chocolate.co.uk/products/tea-biscu...          5  \n",
       "53  https://www.chocolate.co.uk/products/velvet-wh...          5  "
      ]
     },
     "execution_count": 4,
     "metadata": {},
     "output_type": "execute_result"
    }
   ],
   "source": [
    "df = pd.read_csv(r\"C:\\Users\\user\\Downloads\\Scrape_Chocolate_Products_Project\\Data\\Processed\\New_chocolate_product_dataset.csv\")\n",
    "\n",
    "df['Price'] = df['Price'].str.replace('Sale price', '', regex=False)\n",
    "df['Price'] = df['Price'].str.replace('From', '', regex=False)\n",
    "df['Price'] = df['Price'].str.strip()\n",
    "df['Price (£)'] = df['Price'].str.replace(r'[^\\d.]', '', regex=True).astype(float).astype(int)\n",
    "df['Name'] = df['Name'].str.title()\n",
    "df"
   ]
  },
  {
   "cell_type": "markdown",
   "id": "5b23f995-a5ae-4f17-9ac4-9b6ec0042dff",
   "metadata": {},
   "source": [
    "## currency conversion"
   ]
  },
  {
   "cell_type": "code",
   "execution_count": 5,
   "id": "6f600e2e-815f-4454-b114-dfab071b8cf5",
   "metadata": {},
   "outputs": [],
   "source": [
    "exchange_rate = 1.36\n",
    "df['Price ($)'] = (df['Price (£)'] * exchange_rate).round(6)\n",
    "df['Price ($)'] = df['Price ($)'].map(lambda x: ('%.4f' % x).rstrip('0').rstrip('.'))\n"
   ]
  },
  {
   "cell_type": "markdown",
   "id": "cbad2d5a-a9e0-4971-9b21-e7694ad34cd6",
   "metadata": {},
   "source": [
    "## Column reordering"
   ]
  },
  {
   "cell_type": "code",
   "execution_count": 6,
   "id": "739259a2-76b0-4331-a785-c37844e029d6",
   "metadata": {},
   "outputs": [
    {
     "name": "stderr",
     "output_type": "stream",
     "text": [
      "C:\\Users\\user\\AppData\\Local\\Temp\\ipykernel_14620\\3511967852.py:7: SettingWithCopyWarning: \n",
      "A value is trying to be set on a copy of a slice from a DataFrame\n",
      "\n",
      "See the caveats in the documentation: https://pandas.pydata.org/pandas-docs/stable/user_guide/indexing.html#returning-a-view-versus-a-copy\n",
      "  df.drop(columns=['Price (â‚¬)', 'Ingredient', 'Count','Price'], inplace=True, errors='ignore')\n"
     ]
    }
   ],
   "source": [
    "cols = list(df.columns)\n",
    "cols.remove('Ingredients')\n",
    "cols.append('Ingredients')\n",
    "cols.remove('URL')\n",
    "cols.append('URL')\n",
    "df = df[cols]\n",
    "df.drop(columns=['Price (â‚¬)', 'Ingredient', 'Count','Price'], inplace=True, errors='ignore')\n"
   ]
  },
  {
   "cell_type": "markdown",
   "id": "845e34e4-98ae-4e79-80c6-4a86f9dcba24",
   "metadata": {},
   "source": [
    "## Final Cleaned Data"
   ]
  },
  {
   "cell_type": "code",
   "execution_count": 7,
   "id": "2944dd01-b703-46f8-9368-4886e5826396",
   "metadata": {},
   "outputs": [],
   "source": [
    "df_styled = df.style.set_table_styles([\n",
    "    {'selector': 'th', 'props': [('text-align', 'center')]},  \n",
    "    {'selector': 'td', 'props': [('text-align', 'center')]},\n",
    "]).set_properties(\n",
    "    subset=['Name'],\n",
    "    **{'text-align': 'right'}\n",
    ")"
   ]
  },
  {
   "cell_type": "code",
   "execution_count": 8,
   "id": "328781f3-1741-4c3b-8ed1-cecd3f7e059a",
   "metadata": {},
   "outputs": [
    {
     "data": {
      "text/html": [
       "<style type=\"text/css\">\n",
       "#T_48473 th {\n",
       "  text-align: center;\n",
       "}\n",
       "#T_48473 td {\n",
       "  text-align: center;\n",
       "}\n",
       "#T_48473_row0_col0, #T_48473_row1_col0, #T_48473_row2_col0, #T_48473_row3_col0, #T_48473_row4_col0, #T_48473_row5_col0, #T_48473_row6_col0, #T_48473_row7_col0, #T_48473_row8_col0, #T_48473_row9_col0, #T_48473_row10_col0, #T_48473_row11_col0, #T_48473_row12_col0, #T_48473_row13_col0, #T_48473_row14_col0, #T_48473_row15_col0, #T_48473_row16_col0, #T_48473_row17_col0, #T_48473_row18_col0, #T_48473_row19_col0, #T_48473_row20_col0, #T_48473_row21_col0, #T_48473_row22_col0, #T_48473_row23_col0, #T_48473_row24_col0, #T_48473_row25_col0, #T_48473_row26_col0, #T_48473_row27_col0, #T_48473_row28_col0, #T_48473_row29_col0, #T_48473_row30_col0, #T_48473_row31_col0, #T_48473_row32_col0, #T_48473_row33_col0, #T_48473_row34_col0, #T_48473_row35_col0, #T_48473_row36_col0, #T_48473_row37_col0, #T_48473_row38_col0, #T_48473_row39_col0, #T_48473_row40_col0, #T_48473_row41_col0, #T_48473_row42_col0, #T_48473_row43_col0, #T_48473_row44_col0, #T_48473_row45_col0, #T_48473_row46_col0, #T_48473_row47_col0, #T_48473_row48_col0, #T_48473_row49_col0, #T_48473_row50_col0, #T_48473_row51_col0, #T_48473_row52_col0, #T_48473_row53_col0 {\n",
       "  text-align: right;\n",
       "}\n",
       "</style>\n",
       "<table id=\"T_48473\">\n",
       "  <thead>\n",
       "    <tr>\n",
       "      <th class=\"blank level0\" >&nbsp;</th>\n",
       "      <th id=\"T_48473_level0_col0\" class=\"col_heading level0 col0\" >Name</th>\n",
       "      <th id=\"T_48473_level0_col1\" class=\"col_heading level0 col1\" >Price (£)</th>\n",
       "      <th id=\"T_48473_level0_col2\" class=\"col_heading level0 col2\" >Price ($)</th>\n",
       "      <th id=\"T_48473_level0_col3\" class=\"col_heading level0 col3\" >Ingredients</th>\n",
       "      <th id=\"T_48473_level0_col4\" class=\"col_heading level0 col4\" >URL</th>\n",
       "    </tr>\n",
       "  </thead>\n",
       "  <tbody>\n",
       "    <tr>\n",
       "      <th id=\"T_48473_level0_row0\" class=\"row_heading level0 row0\" >0</th>\n",
       "      <td id=\"T_48473_row0_col0\" class=\"data row0 col0\" >2.5Kg Bulk 41% Milk Hot Chocolate Drops</td>\n",
       "      <td id=\"T_48473_row0_col1\" class=\"data row0 col1\" >50</td>\n",
       "      <td id=\"T_48473_row0_col2\" class=\"data row0 col2\" >68</td>\n",
       "      <td id=\"T_48473_row0_col3\" class=\"data row0 col3\" >Milk Chocolate (41% Cocoa Minimum, Pure Cocoa Butter, 19% Milk Solids) (100%): Sugar, Cocoa Butter, Milk Powder, Cocoa Beans, Emulsifier: Soya Lecithin, Vanilla Extract.</td>\n",
       "      <td id=\"T_48473_row0_col4\" class=\"data row0 col4\" >https://www.chocolate.co.uk/products/2-5kg-bulk-of-our-41-milk-hot-chocolate-drops</td>\n",
       "    </tr>\n",
       "    <tr>\n",
       "      <th id=\"T_48473_level0_row1\" class=\"row_heading level0 row1\" >1</th>\n",
       "      <td id=\"T_48473_row1_col0\" class=\"data row1 col0\" >2.5Kg Bulk 61% Dark Hot Chocolate Drops</td>\n",
       "      <td id=\"T_48473_row1_col1\" class=\"data row1 col1\" >50</td>\n",
       "      <td id=\"T_48473_row1_col2\" class=\"data row1 col2\" >68</td>\n",
       "      <td id=\"T_48473_row1_col3\" class=\"data row1 col3\" >Dark Chocolate (61% Cocoa Minimum, Pure Cocoa Butter) (100%): Cocoa Beans, Sugar, Cocoa Butter, Emulsifier: Soya Lecithin, Vanilla Extract.</td>\n",
       "      <td id=\"T_48473_row1_col4\" class=\"data row1 col4\" >https://www.chocolate.co.uk/products/2-5kg-of-our-best-selling-61-dark-hot-chocolate-drops</td>\n",
       "    </tr>\n",
       "    <tr>\n",
       "      <th id=\"T_48473_level0_row2\" class=\"row_heading level0 row2\" >2</th>\n",
       "      <td id=\"T_48473_row2_col0\" class=\"data row2 col0\" >41% Milk Hot Chocolate Drops</td>\n",
       "      <td id=\"T_48473_row2_col1\" class=\"data row2 col1\" >8</td>\n",
       "      <td id=\"T_48473_row2_col2\" class=\"data row2 col2\" >10.88</td>\n",
       "      <td id=\"T_48473_row2_col3\" class=\"data row2 col3\" >Milk Chocolate (41% Cocoa Minimum, Pure Cocoa Butter, 19% Milk Solids) (100%): Sugar, Cocoa Butter, Milk Powder, Cocoa Beans, Emulsifier: Soya Lecithin, Vanilla Extract.</td>\n",
       "      <td id=\"T_48473_row2_col4\" class=\"data row2 col4\" >https://www.chocolate.co.uk/products/41-colombian-milk-hot-chocolate-drops</td>\n",
       "    </tr>\n",
       "    <tr>\n",
       "      <th id=\"T_48473_level0_row3\" class=\"row_heading level0 row3\" >3</th>\n",
       "      <td id=\"T_48473_row3_col0\" class=\"data row3 col0\" >61% Dark Hot Chocolate Drops</td>\n",
       "      <td id=\"T_48473_row3_col1\" class=\"data row3 col1\" >8</td>\n",
       "      <td id=\"T_48473_row3_col2\" class=\"data row3 col2\" >10.88</td>\n",
       "      <td id=\"T_48473_row3_col3\" class=\"data row3 col3\" >Dark Chocolate (61% Cocoa Minimum, Pure Cocoa Butter) (100%): Cocoa Beans, Sugar, Cocoa Butter, Emulsifier: Soya Lecithin, Vanilla Extract.</td>\n",
       "      <td id=\"T_48473_row3_col4\" class=\"data row3 col4\" >https://www.chocolate.co.uk/products/62-dark-hot-chocolate</td>\n",
       "    </tr>\n",
       "    <tr>\n",
       "      <th id=\"T_48473_level0_row4\" class=\"row_heading level0 row4\" >4</th>\n",
       "      <td id=\"T_48473_row4_col0\" class=\"data row4 col0\" >Almost Perfect</td>\n",
       "      <td id=\"T_48473_row4_col1\" class=\"data row4 col1\" >1</td>\n",
       "      <td id=\"T_48473_row4_col2\" class=\"data row4 col2\" >1.36</td>\n",
       "      <td id=\"T_48473_row4_col3\" class=\"data row4 col3\" >No Ingredients</td>\n",
       "      <td id=\"T_48473_row4_col4\" class=\"data row4 col4\" >https://www.chocolate.co.uk/products/almost-perfect</td>\n",
       "    </tr>\n",
       "    <tr>\n",
       "      <th id=\"T_48473_level0_row5\" class=\"row_heading level0 row5\" >5</th>\n",
       "      <td id=\"T_48473_row5_col0\" class=\"data row5 col0\" >Assorted Chocolate Malt Balls</td>\n",
       "      <td id=\"T_48473_row5_col1\" class=\"data row5 col1\" >9</td>\n",
       "      <td id=\"T_48473_row5_col2\" class=\"data row5 col2\" >12.24</td>\n",
       "      <td id=\"T_48473_row5_col3\" class=\"data row5 col3\" >White Chocolate (25%) (32% Cocoa Minimum, Pure Cocoa Butter) (65%): Cocoa Butter, Sugar, Whole Milk Powder, Skimmed Milk Powder, Whey Powder, Caramelised Sugar, Emulsifier: (Soya Lecithin), Natural Vanilla Flavouring, Salt. Milk Chocolate (41% Cocoa Minimum, Pure Cocoa Butter, 19% Milk Solids): Sugar, Cocoa Butter, Milk Powder, Cocoa Beans, Emulsifier: Sunflower Lecithin, Natural Vanilla Extract. Dark Chocolate (25%) (61% Cocoa Minimum, Pure Cocoa Butter): Cocoa Beans, Sugar, Cocoa Butter, Emulsifier: Sunflower Lecithin, Natural Vanilla Extract. Malt Ball Centres (25%): Corn Syrup, Sugar, Dairy Blend (Whey, Whey Protein Concentrate), Malt Powder (Malted Barley, Wheat, Milk, Hydrolyzed Wheat Gluten, Sodium Bicarbonate, Salt), Malted Barley, Soya Lecithin, Salt. Gum Arabic.</td>\n",
       "      <td id=\"T_48473_row5_col4\" class=\"data row5 col4\" >https://www.chocolate.co.uk/products/assorted-chocolate-malt-balls</td>\n",
       "    </tr>\n",
       "    <tr>\n",
       "      <th id=\"T_48473_level0_row6\" class=\"row_heading level0 row6\" >6</th>\n",
       "      <td id=\"T_48473_row6_col0\" class=\"data row6 col0\" >Blonde Caramel</td>\n",
       "      <td id=\"T_48473_row6_col1\" class=\"data row6 col1\" >5</td>\n",
       "      <td id=\"T_48473_row6_col2\" class=\"data row6 col2\" >6.8</td>\n",
       "      <td id=\"T_48473_row6_col3\" class=\"data row6 col3\" >White Chocolate (35% Cocoa Minimum, Pure Cocoa Butter): Cocoa Butter, Sugar, Whole Milk Powder, Skimmed Milk Powder, Whey Powder, Butter, Emulsifier: (Soya Lecithin), Natural Vanilla Flavouring.</td>\n",
       "      <td id=\"T_48473_row6_col4\" class=\"data row6 col4\" >https://www.chocolate.co.uk/products/blonde-caramel-chocolate-bar</td>\n",
       "    </tr>\n",
       "    <tr>\n",
       "      <th id=\"T_48473_level0_row7\" class=\"row_heading level0 row7\" >7</th>\n",
       "      <td id=\"T_48473_row7_col0\" class=\"data row7 col0\" >Blonde Chocolate Honeycomb - Bag</td>\n",
       "      <td id=\"T_48473_row7_col1\" class=\"data row7 col1\" >8</td>\n",
       "      <td id=\"T_48473_row7_col2\" class=\"data row7 col2\" >10.88</td>\n",
       "      <td id=\"T_48473_row7_col3\" class=\"data row7 col3\" >White Chocolate (Min 35% Cocoa Min, Pure Cocoa Butter, 24.7% Milk Solids): Cocoa Butter, Sugar, Whole Milk Powder, Dried Skimmed Milk, Whey, Butter, Emulsifier: (Soya Lecithin), Natural Vanilla Extract, Honeycomb (Sugar, Glucose Syrup, Bicarbonate of Soda, Honey).</td>\n",
       "      <td id=\"T_48473_row7_col4\" class=\"data row7 col4\" >https://www.chocolate.co.uk/products/blonde-chocolate-sea-salt-honeycomb</td>\n",
       "    </tr>\n",
       "    <tr>\n",
       "      <th id=\"T_48473_level0_row8\" class=\"row_heading level0 row8\" >8</th>\n",
       "      <td id=\"T_48473_row8_col0\" class=\"data row8 col0\" >Blonde Chocolate Malt Balls</td>\n",
       "      <td id=\"T_48473_row8_col1\" class=\"data row8 col1\" >9</td>\n",
       "      <td id=\"T_48473_row8_col2\" class=\"data row8 col2\" >12.24</td>\n",
       "      <td id=\"T_48473_row8_col3\" class=\"data row8 col3\" >White Chocolate (32% Cocoa Minimum, Pure Cocoa Butter) (65%): Cocoa Butter, Sugar, Whole Milk Powder, Skimmed Milk Powder, Whey Powder, Caramelised Sugar, Emulsifier: (Soya Lecithin), Natural Vanilla Flavouring, Salt. Malt Ball Centres (35%): Corn Syrup, Sugar, Dairy Blend (Whey, Whey Protein Concentrate), Malt Powder (Malted Barley, Wheat, Milk, Hydrolyzed Wheat Gluten, Sodium Bicarbonate, Salt), Malted Barley, Soya Lecithin, Salt.</td>\n",
       "      <td id=\"T_48473_row8_col4\" class=\"data row8 col4\" >https://www.chocolate.co.uk/products/blonde-chocolate-malt-balls</td>\n",
       "    </tr>\n",
       "    <tr>\n",
       "      <th id=\"T_48473_level0_row9\" class=\"row_heading level0 row9\" >9</th>\n",
       "      <td id=\"T_48473_row9_col0\" class=\"data row9 col0\" >Blonde Chocolate Truffles</td>\n",
       "      <td id=\"T_48473_row9_col1\" class=\"data row9 col1\" >19</td>\n",
       "      <td id=\"T_48473_row9_col2\" class=\"data row9 col2\" >25.84</td>\n",
       "      <td id=\"T_48473_row9_col3\" class=\"data row9 col3\" >White Chocolate (32% Cocoa Minimum, Pure Cocoa Butter, 24.7% Milk Solid) Sugar, Cocoa Butter, Whole Milk Powder, Dried Skimmed Milk, Whey, Butter, Emulsifier (Soya Lecithin), Natural Vanilla Extract, Cream, Glucose, Sorbitol, Sunflower Lecithin.</td>\n",
       "      <td id=\"T_48473_row9_col4\" class=\"data row9 col4\" >https://www.chocolate.co.uk/products/blonde-chocolate-truffles</td>\n",
       "    </tr>\n",
       "    <tr>\n",
       "      <th id=\"T_48473_level0_row10\" class=\"row_heading level0 row10\" >10</th>\n",
       "      <td id=\"T_48473_row10_col0\" class=\"data row10 col0\" >Bulk 41% Milk Hot Chocolate Drops 750 Grams</td>\n",
       "      <td id=\"T_48473_row10_col1\" class=\"data row10 col1\" >17</td>\n",
       "      <td id=\"T_48473_row10_col2\" class=\"data row10 col2\" >23.12</td>\n",
       "      <td id=\"T_48473_row10_col3\" class=\"data row10 col3\" >Milk Chocolate (41% Cocoa Minimum, Pure Cocoa Butter, 19% Milk Solids) (100%): Sugar, Cocoa Butter, Milk Powder, Cocoa Beans, Emulsifier: Soya Lecithin, Vanilla Extract.</td>\n",
       "      <td id=\"T_48473_row10_col4\" class=\"data row10 col4\" >https://www.chocolate.co.uk/products/bulk-41-milk-hot-chocolate-drops-750-grams</td>\n",
       "    </tr>\n",
       "    <tr>\n",
       "      <th id=\"T_48473_level0_row11\" class=\"row_heading level0 row11\" >11</th>\n",
       "      <td id=\"T_48473_row11_col0\" class=\"data row11 col0\" >Bulk 61% Dark Hot Chocolate Drops 750 Grams</td>\n",
       "      <td id=\"T_48473_row11_col1\" class=\"data row11 col1\" >17</td>\n",
       "      <td id=\"T_48473_row11_col2\" class=\"data row11 col2\" >23.12</td>\n",
       "      <td id=\"T_48473_row11_col3\" class=\"data row11 col3\" >Dark Chocolate (61% Cocoa Minimum, Pure Cocoa Butter) (100%): Cocoa Beans, Sugar, Cocoa Butter, Emulsifier: Soya Lecithin, Vanilla Extract.</td>\n",
       "      <td id=\"T_48473_row11_col4\" class=\"data row11 col4\" >https://www.chocolate.co.uk/products/750-gram-bulk-61-dark-hot-chocolate-drops</td>\n",
       "    </tr>\n",
       "    <tr>\n",
       "      <th id=\"T_48473_level0_row12\" class=\"row_heading level0 row12\" >12</th>\n",
       "      <td id=\"T_48473_row12_col0\" class=\"data row12 col0\" >Caramelised Milk</td>\n",
       "      <td id=\"T_48473_row12_col1\" class=\"data row12 col1\" >5</td>\n",
       "      <td id=\"T_48473_row12_col2\" class=\"data row12 col2\" >6.8</td>\n",
       "      <td id=\"T_48473_row12_col3\" class=\"data row12 col3\" >Milk Chocolate (39% Cocoa Solids, Pure Cocoa Butter): Sugar, Cocoa Butter, Whole Milk Powder, Cocoa Solids, Skimmed Milk, Whey (milk), Butter (milk), Emulsifier : Soya Lecithin, Flavourings.</td>\n",
       "      <td id=\"T_48473_row12_col4\" class=\"data row12 col4\" >https://www.chocolate.co.uk/products/caramelised-milk-chocolate-bar</td>\n",
       "    </tr>\n",
       "    <tr>\n",
       "      <th id=\"T_48473_level0_row13\" class=\"row_heading level0 row13\" >13</th>\n",
       "      <td id=\"T_48473_row13_col0\" class=\"data row13 col0\" >Chai Caramel Latte</td>\n",
       "      <td id=\"T_48473_row13_col1\" class=\"data row13 col1\" >5</td>\n",
       "      <td id=\"T_48473_row13_col2\" class=\"data row13 col2\" >6.8</td>\n",
       "      <td id=\"T_48473_row13_col3\" class=\"data row13 col3\" >Milk Chocolate (35%) (Sugar, Cocoa Butter, Whole Milk Powder, Cocoa Beans, Emulsifier: (Soya Lecithin, Sunflower Lecithin), Natural Vanilla Extract, Blonde Chocolate (65%) (Cocoa Butter, Sugar, Whole Milk Powder, Skimmed Milk Powder, Whey Powder, Butter (Milk), Emulsifier: (Soya Lecithin), Natural Vanilla Flavouring), Star Anise Oil, Ginger Oil, Cinnamon OIl, Clove Oil.</td>\n",
       "      <td id=\"T_48473_row13_col4\" class=\"data row13 col4\" >https://www.chocolate.co.uk/products/chai-caramel-latte</td>\n",
       "    </tr>\n",
       "    <tr>\n",
       "      <th id=\"T_48473_level0_row14\" class=\"row_heading level0 row14\" >14</th>\n",
       "      <td id=\"T_48473_row14_col0\" class=\"data row14 col0\" >Chocolate Caramelised Pecan Nuts</td>\n",
       "      <td id=\"T_48473_row14_col1\" class=\"data row14 col1\" >8</td>\n",
       "      <td id=\"T_48473_row14_col2\" class=\"data row14 col2\" >10.88</td>\n",
       "      <td id=\"T_48473_row14_col3\" class=\"data row14 col3\" >Caramelised Pecans (60%): Pecan Nut, Sugar. Milk Chocolate (41% Cocoa Minimum, Pure Cocoa Butter, 19% Milk Solids) (40%): Sugar, Cocoa Butter, Milk Powder, Cocoa Mass, Emulsifier: Soya Lecithin, Vanilla Extract.</td>\n",
       "      <td id=\"T_48473_row14_col4\" class=\"data row14 col4\" >https://www.chocolate.co.uk/products/chocolate-caramelised-pecan-nuts</td>\n",
       "    </tr>\n",
       "    <tr>\n",
       "      <th id=\"T_48473_level0_row15\" class=\"row_heading level0 row15\" >15</th>\n",
       "      <td id=\"T_48473_row15_col0\" class=\"data row15 col0\" >Chocolate Celebration Hamper</td>\n",
       "      <td id=\"T_48473_row15_col1\" class=\"data row15 col1\" >55</td>\n",
       "      <td id=\"T_48473_row15_col2\" class=\"data row15 col2\" >74.8</td>\n",
       "      <td id=\"T_48473_row15_col3\" class=\"data row15 col3\" >No Ingredients</td>\n",
       "      <td id=\"T_48473_row15_col4\" class=\"data row15 col4\" >https://www.chocolate.co.uk/products/celebration-hamper</td>\n",
       "    </tr>\n",
       "    <tr>\n",
       "      <th id=\"T_48473_level0_row16\" class=\"row_heading level0 row16\" >16</th>\n",
       "      <td id=\"T_48473_row16_col0\" class=\"data row16 col0\" >Christmas Cracker</td>\n",
       "      <td id=\"T_48473_row16_col1\" class=\"data row16 col1\" >5</td>\n",
       "      <td id=\"T_48473_row16_col2\" class=\"data row16 col2\" >6.8</td>\n",
       "      <td id=\"T_48473_row16_col3\" class=\"data row16 col3\" >Milk Chocolate (43% Cocoa Min, Pure Cocoa Butter, 19% Milk Solids) (93%): Sugar, Cocoa Butter, Whole Milk Powder, Cocoa Beans, Emulsifier: (Soya Lecithin), Natural Vanilla Extract. Biscuit Pearls (3.5%): Dark Chocolate Coating (55% Cocoa Min, Pure Cocoa Butter), Sugar, Cocoa Bean, Cocoa Butter, Biscuit Cereal (Wheat Flour, Sugar, Wheat Malt, Wheat Starch, Raising Agent: E500ii, Salt, Cocoa Butter, Natural Flavouring), Whole Milk Powder, Emulsifier: (Sunflower Lecithin), Natural Vanilla Extract. Popping Candy (3.5%): Sugar, Cocoa Butter, Lactose, Milk Powder, Cocoa Paste, Glucose Syrup, Butter, Emulsifier: Soya Lecithin, Vanilla, Propellent Gas: Carbon Dioxide, E290.</td>\n",
       "      <td id=\"T_48473_row16_col4\" class=\"data row16 col4\" >https://www.chocolate.co.uk/products/christmas-cracker-chocolate-bar</td>\n",
       "    </tr>\n",
       "    <tr>\n",
       "      <th id=\"T_48473_level0_row17\" class=\"row_heading level0 row17\" >17</th>\n",
       "      <td id=\"T_48473_row17_col0\" class=\"data row17 col0\" >Cinnamon Toast</td>\n",
       "      <td id=\"T_48473_row17_col1\" class=\"data row17 col1\" >5</td>\n",
       "      <td id=\"T_48473_row17_col2\" class=\"data row17 col2\" >6.8</td>\n",
       "      <td id=\"T_48473_row17_col3\" class=\"data row17 col3\" >White Chocolate (35% Cocoa Minimum, Pure Cocoa Butter) (95.47%): Cocoa Butter, Sugar, Whole Milk Powder, Skimmed Milk Powder, Whey Powder, Butter, Emulsifier: (Soya Lecithin), Natural Vanilla Flavouring. Sourdough Cracker (4.5%): Milk, Rye Flour, Wheat Flour (Wheat Flour, Calcium, Iron, Thiamin, Niacin), Sourdough 12% (Rye Flour, Water), Wholemeal Wheat Flour, Honey, Salt. Organic Cinnamon Essential Oil (0.03%).</td>\n",
       "      <td id=\"T_48473_row17_col4\" class=\"data row17 col4\" >https://www.chocolate.co.uk/products/cinnamon-toast-chocolate-bar</td>\n",
       "    </tr>\n",
       "    <tr>\n",
       "      <th id=\"T_48473_level0_row18\" class=\"row_heading level0 row18\" >18</th>\n",
       "      <td id=\"T_48473_row18_col0\" class=\"data row18 col0\" >Collection Of 4 Of Our Best Selling Chocolate Malt Balls</td>\n",
       "      <td id=\"T_48473_row18_col1\" class=\"data row18 col1\" >30</td>\n",
       "      <td id=\"T_48473_row18_col2\" class=\"data row18 col2\" >40.8</td>\n",
       "      <td id=\"T_48473_row18_col3\" class=\"data row18 col3\" >Milk Chocolate (75%) (41% Cocoa Minimum, Pure Cocoa Butter, 19% Milk Solids): Sugar, Cocoa Butter, Milk Powder, Cocoa Beans, Emulsifier: Sunflower Lecithin, Natural Vanilla Extract. Malt Ball Centres (25%): Corn Syrup, Sugar, Dairy Blend (Whey, Whey Protein Concentrate), Malt Powder (Malted Barley, Wheat, Milk, Hydrolysed Wheat Gluten, Sodium Bicarbonate, Salt), Malted Barley, Emulsifier: Soya Lecithin. Organic Sweet Orange Essential Oil, Gum Arabic.</td>\n",
       "      <td id=\"T_48473_row18_col4\" class=\"data row18 col4\" >https://www.chocolate.co.uk/products/collection-of-our-best-selling-chocolate-malt-balls</td>\n",
       "    </tr>\n",
       "    <tr>\n",
       "      <th id=\"T_48473_level0_row19\" class=\"row_heading level0 row19\" >19</th>\n",
       "      <td id=\"T_48473_row19_col0\" class=\"data row19 col0\" >Colombia 61%</td>\n",
       "      <td id=\"T_48473_row19_col1\" class=\"data row19 col1\" >5</td>\n",
       "      <td id=\"T_48473_row19_col2\" class=\"data row19 col2\" >6.8</td>\n",
       "      <td id=\"T_48473_row19_col3\" class=\"data row19 col3\" >Dark Chocolate (61% Cocoa Minimum, Pure Cocoa Butter) (100%): Cocoa Beans, Sugar, Cocoa Butter, Emulsifier: (Soya Lecithin), Vanilla Extract.</td>\n",
       "      <td id=\"T_48473_row19_col4\" class=\"data row19 col4\" >https://www.chocolate.co.uk/products/colombian-dark-chocolate-bar</td>\n",
       "    </tr>\n",
       "    <tr>\n",
       "      <th id=\"T_48473_level0_row20\" class=\"row_heading level0 row20\" >20</th>\n",
       "      <td id=\"T_48473_row20_col0\" class=\"data row20 col0\" >Crunchy Biscuit</td>\n",
       "      <td id=\"T_48473_row20_col1\" class=\"data row20 col1\" >5</td>\n",
       "      <td id=\"T_48473_row20_col2\" class=\"data row20 col2\" >6.8</td>\n",
       "      <td id=\"T_48473_row20_col3\" class=\"data row20 col3\" >Caramelised White Chocolate (35% Cocoa Minimum, Pure Cocoa Butter) (96%): Cocoa Butter, Sugar, Whole Milk Powder, Skimmed Milk Powder, Whey Powder, Butter, Emulsifier: (Soya Lecithin), Natural Vanilla Flavouring. Biscuit Pearls (4%): Dark Chocolate Coating (55% Cocoa Min, Pure Cocoa Butter), Sugar, Cocoa Bean, Cocoa Butter, Biscuit Cereal (Wheat Flour, Sugar, Wheat Malt, Wheat Starch, Raising Agent: E500ii, Salt, Cocoa Butter, Natural Flavouring), Whole Milk Powder, Emulisifer: (Sunflower Lecithin), Natural Vanilla Extract.</td>\n",
       "      <td id=\"T_48473_row20_col4\" class=\"data row20 col4\" >https://www.chocolate.co.uk/products/crunchy-biscuit-blonde-chocolate-bar</td>\n",
       "    </tr>\n",
       "    <tr>\n",
       "      <th id=\"T_48473_level0_row21\" class=\"row_heading level0 row21\" >21</th>\n",
       "      <td id=\"T_48473_row21_col0\" class=\"data row21 col0\" >Dark Chocolate Ginger</td>\n",
       "      <td id=\"T_48473_row21_col1\" class=\"data row21 col1\" >8</td>\n",
       "      <td id=\"T_48473_row21_col2\" class=\"data row21 col2\" >10.88</td>\n",
       "      <td id=\"T_48473_row21_col3\" class=\"data row21 col3\" >Ginger (55%): Ginger, Sugar, Wheat Glucose Syrup, Wheat Dextrose. Dark Chocolate (61% Cocoa minimum, Pure Cocoa Butter) (45%): Cocoa Beans, Sugar, Cocoa Butter, Emulsifier: (Soya lecithin), Vanilla Extract.</td>\n",
       "      <td id=\"T_48473_row21_col4\" class=\"data row21 col4\" >https://www.chocolate.co.uk/products/dark-chocolate-ginger</td>\n",
       "    </tr>\n",
       "    <tr>\n",
       "      <th id=\"T_48473_level0_row22\" class=\"row_heading level0 row22\" >22</th>\n",
       "      <td id=\"T_48473_row22_col0\" class=\"data row22 col0\" >Dark Chocolate Honeycomb - Bag</td>\n",
       "      <td id=\"T_48473_row22_col1\" class=\"data row22 col1\" >8</td>\n",
       "      <td id=\"T_48473_row22_col2\" class=\"data row22 col2\" >10.88</td>\n",
       "      <td id=\"T_48473_row22_col3\" class=\"data row22 col3\" >Dark Chocolate (61% Cocoa Min, Pure Cocoa Butter) Cocoa Beans, Sugar, Cocoa Butter, Emulsifier: (Soya Lecithin), Natural Vanilla Extract, Honeycomb (Sugar, Glucose Syrup, Bicarbonate of Soda, Honey).</td>\n",
       "      <td id=\"T_48473_row22_col4\" class=\"data row22 col4\" >https://www.chocolate.co.uk/products/dark-chocolate-honeycomb</td>\n",
       "    </tr>\n",
       "    <tr>\n",
       "      <th id=\"T_48473_level0_row23\" class=\"row_heading level0 row23\" >23</th>\n",
       "      <td id=\"T_48473_row23_col0\" class=\"data row23 col0\" >Dark Chocolate Malt Balls</td>\n",
       "      <td id=\"T_48473_row23_col1\" class=\"data row23 col1\" >9</td>\n",
       "      <td id=\"T_48473_row23_col2\" class=\"data row23 col2\" >12.24</td>\n",
       "      <td id=\"T_48473_row23_col3\" class=\"data row23 col3\" >Dark Chocolate (61% Cocoa Minimum, Pure Cocoa Butter): Cocoa Beans, Sugar, Cocoa Butter, Emulsifier: Soya Lecithin, Natural Vanilla Extract. Malt Ball Centres (35%): Corn Syrup, Sugar, Dairy Blend (Whey, Whey Protein Concentrate), Malt Powder (Malted Barley, Wheat, Milk, Hydrolyzed Wheat Gluten, Sodium Bicarbonate, Salt), Malted Barley, Soya Lecithin, Salt.</td>\n",
       "      <td id=\"T_48473_row23_col4\" class=\"data row23 col4\" >https://www.chocolate.co.uk/products/dark-chocolate-malt-balls</td>\n",
       "    </tr>\n",
       "    <tr>\n",
       "      <th id=\"T_48473_level0_row24\" class=\"row_heading level0 row24\" >24</th>\n",
       "      <td id=\"T_48473_row24_col0\" class=\"data row24 col0\" >Dark Chocolate Orange Peel</td>\n",
       "      <td id=\"T_48473_row24_col1\" class=\"data row24 col1\" >10</td>\n",
       "      <td id=\"T_48473_row24_col2\" class=\"data row24 col2\" >13.6</td>\n",
       "      <td id=\"T_48473_row24_col3\" class=\"data row24 col3\" >Candied Orange Peel (55%): Orange Peel, Sugar, Wheat Glucose Syrup, Wheat Dextrose. Dark Chocolate (61% Cocoa Minimum, Pure Cocoa Butter) (45%): Cocoa Beans, Sugar, Cocoa Butter, Emulsifier: (Soya lecithin), Vanilla Extract.</td>\n",
       "      <td id=\"T_48473_row24_col4\" class=\"data row24 col4\" >https://www.chocolate.co.uk/products/dark-chocolate-orange-peel</td>\n",
       "    </tr>\n",
       "    <tr>\n",
       "      <th id=\"T_48473_level0_row25\" class=\"row_heading level0 row25\" >25</th>\n",
       "      <td id=\"T_48473_row25_col0\" class=\"data row25 col0\" >Dark Chocolate Truffles</td>\n",
       "      <td id=\"T_48473_row25_col1\" class=\"data row25 col1\" >19</td>\n",
       "      <td id=\"T_48473_row25_col2\" class=\"data row25 col2\" >25.84</td>\n",
       "      <td id=\"T_48473_row25_col3\" class=\"data row25 col3\" >Dark Chocolate (55% Cocoa Minimum, Pure Cocoa Butter), Sugar, Cocoa Beans, Emulsifier (Soya Lecithin), Natural Vanilla Extract. Glucose, Cream, Sorbitol, Butter, UHT Whole Milk, Dextrose, Sunflower Lecithin.</td>\n",
       "      <td id=\"T_48473_row25_col4\" class=\"data row25 col4\" >https://www.chocolate.co.uk/products/dark-chocolate-truffles</td>\n",
       "    </tr>\n",
       "    <tr>\n",
       "      <th id=\"T_48473_level0_row26\" class=\"row_heading level0 row26\" >26</th>\n",
       "      <td id=\"T_48473_row26_col0\" class=\"data row26 col0\" >Ecudorian 41%</td>\n",
       "      <td id=\"T_48473_row26_col1\" class=\"data row26 col1\" >5</td>\n",
       "      <td id=\"T_48473_row26_col2\" class=\"data row26 col2\" >6.8</td>\n",
       "      <td id=\"T_48473_row26_col3\" class=\"data row26 col3\" >Milk Chocolate (41% Cocoa Minimum, Pure Cocoa Butter, 19% Milk Solids) (100%): Sugar, Cocoa Butter, Milk Powder, Cocoa Beans, Emulsifier: (Soya Lecithin) Vanilla Extract.</td>\n",
       "      <td id=\"T_48473_row26_col4\" class=\"data row26 col4\" >https://www.chocolate.co.uk/products/ecuadorian-41-milk-chocolate-bar</td>\n",
       "    </tr>\n",
       "    <tr>\n",
       "      <th id=\"T_48473_level0_row27\" class=\"row_heading level0 row27\" >27</th>\n",
       "      <td id=\"T_48473_row27_col0\" class=\"data row27 col0\" >Flat White Coffee</td>\n",
       "      <td id=\"T_48473_row27_col1\" class=\"data row27 col1\" >5</td>\n",
       "      <td id=\"T_48473_row27_col2\" class=\"data row27 col2\" >6.8</td>\n",
       "      <td id=\"T_48473_row27_col3\" class=\"data row27 col3\" >Dark Chocolate (61% Cocoa Minimum, Pure Cocoa Butter) (100%), White Chocolate (36% Cocoa Minimum, Pure Cocoa Butter): Cocoa Beans, Sugar, Cocoa Butter, Whole Milk Powder, Skimmed Milk Powder, Emulsifier: (Soya Lecithin), Vanilla Extract, Coffee.</td>\n",
       "      <td id=\"T_48473_row27_col4\" class=\"data row27 col4\" >https://www.chocolate.co.uk/products/flat-white-coffee</td>\n",
       "    </tr>\n",
       "    <tr>\n",
       "      <th id=\"T_48473_level0_row28\" class=\"row_heading level0 row28\" >28</th>\n",
       "      <td id=\"T_48473_row28_col0\" class=\"data row28 col0\" >Gift Voucher</td>\n",
       "      <td id=\"T_48473_row28_col1\" class=\"data row28 col1\" >10</td>\n",
       "      <td id=\"T_48473_row28_col2\" class=\"data row28 col2\" >13.6</td>\n",
       "      <td id=\"T_48473_row28_col3\" class=\"data row28 col3\" >No Ingredients</td>\n",
       "      <td id=\"T_48473_row28_col4\" class=\"data row28 col4\" >https://www.chocolate.co.uk/products/gift-voucher</td>\n",
       "    </tr>\n",
       "    <tr>\n",
       "      <th id=\"T_48473_level0_row29\" class=\"row_heading level0 row29\" >29</th>\n",
       "      <td id=\"T_48473_row29_col0\" class=\"data row29 col0\" >Ginger Biscuit</td>\n",
       "      <td id=\"T_48473_row29_col1\" class=\"data row29 col1\" >5</td>\n",
       "      <td id=\"T_48473_row29_col2\" class=\"data row29 col2\" >6.8</td>\n",
       "      <td id=\"T_48473_row29_col3\" class=\"data row29 col3\" >White Chocolate (35% Cocoa Minimum, Pure Cocoa Butter) (96.33%): Cocoa Butter, Sugar, Whole Milk Powder, Skimmed Milk Powder, Whey Powder, Butter, Emulsifier: (Soya Lecithin), Natural Vanilla Flavouring. Biscuit Pearls (3.6%): Dark Chocolate Coating (55% Cocoa Min, Pure Cocoa Butter), Sugar, Cocoa Bean, Cocoa Butter, Biscuit Cereal (Wheat Flour, Sugar, Wheat Malt, Wheat Starch, Raising Agent: E500ii, Salt, Cocoa Butter, Natural Flavouring), Whole Milk Powder, Emulsifier: (Sunflower Lecithin), Natural Vanilla Extract. Organic Ginger Essential Oil (0.06%). Organic Cinnamon Essential Oil (0.01%).</td>\n",
       "      <td id=\"T_48473_row29_col4\" class=\"data row29 col4\" >https://www.chocolate.co.uk/products/ginger-biscuit-chocolate-bar</td>\n",
       "    </tr>\n",
       "    <tr>\n",
       "      <th id=\"T_48473_level0_row30\" class=\"row_heading level0 row30\" >30</th>\n",
       "      <td id=\"T_48473_row30_col0\" class=\"data row30 col0\" >Honeycomb Crunch</td>\n",
       "      <td id=\"T_48473_row30_col1\" class=\"data row30 col1\" >5</td>\n",
       "      <td id=\"T_48473_row30_col2\" class=\"data row30 col2\" >6.8</td>\n",
       "      <td id=\"T_48473_row30_col3\" class=\"data row30 col3\" >Milk Chocolate (41% Cocoa Min, Pure Cocoa Butter) Sugar, Cocoa Butter, Whole Milk Powder, Cocoa Beans, Emulsifier: (Soya Lecithin), Natural Vanilla Extract. Honeycomb (3%) (Sugar, Glucose Syrup, Bicarbonate of Soda, Honey).</td>\n",
       "      <td id=\"T_48473_row30_col4\" class=\"data row30 col4\" >https://www.chocolate.co.uk/products/honeycomb-crunch</td>\n",
       "    </tr>\n",
       "    <tr>\n",
       "      <th id=\"T_48473_level0_row31\" class=\"row_heading level0 row31\" >31</th>\n",
       "      <td id=\"T_48473_row31_col0\" class=\"data row31 col0\" >Hot Chocolate Shaker</td>\n",
       "      <td id=\"T_48473_row31_col1\" class=\"data row31 col1\" >25</td>\n",
       "      <td id=\"T_48473_row31_col2\" class=\"data row31 col2\" >34</td>\n",
       "      <td id=\"T_48473_row31_col3\" class=\"data row31 col3\" >No Ingredients</td>\n",
       "      <td id=\"T_48473_row31_col4\" class=\"data row31 col4\" >https://www.chocolate.co.uk/products/hot-chocolate-shaker-new</td>\n",
       "    </tr>\n",
       "    <tr>\n",
       "      <th id=\"T_48473_level0_row32\" class=\"row_heading level0 row32\" >32</th>\n",
       "      <td id=\"T_48473_row32_col0\" class=\"data row32 col0\" >Luxury Hot Chocolate Hamper</td>\n",
       "      <td id=\"T_48473_row32_col1\" class=\"data row32 col1\" >55</td>\n",
       "      <td id=\"T_48473_row32_col2\" class=\"data row32 col2\" >74.8</td>\n",
       "      <td id=\"T_48473_row32_col3\" class=\"data row32 col3\" >No Ingredients</td>\n",
       "      <td id=\"T_48473_row32_col4\" class=\"data row32 col4\" >https://www.chocolate.co.uk/products/luxury-hot-chocolate-hamper</td>\n",
       "    </tr>\n",
       "    <tr>\n",
       "      <th id=\"T_48473_level0_row33\" class=\"row_heading level0 row33\" >33</th>\n",
       "      <td id=\"T_48473_row33_col0\" class=\"data row33 col0\" >Marc De Champagne Truffles</td>\n",
       "      <td id=\"T_48473_row33_col1\" class=\"data row33 col1\" >19</td>\n",
       "      <td id=\"T_48473_row33_col2\" class=\"data row33 col2\" >25.84</td>\n",
       "      <td id=\"T_48473_row33_col3\" class=\"data row33 col3\" >Milk Chocolate (40% Cocoa Minimum, Pure Cocoa Butter, 19% Milk Solids): Sugar, Cocoa Butter, Milk Powder, Cocoa Beans, Emulsifier: Soya Lecithin, Natural Vanilla Extract, Sorbitol, Glucose Syrup, Anhydrous Butter (Milk), Icing Sugar, Skimmed Milk, Marc De Champagne, Glycerin, Sunflower Lecithin.</td>\n",
       "      <td id=\"T_48473_row33_col4\" class=\"data row33 col4\" >https://www.chocolate.co.uk/products/marc-de-champagne-truffles</td>\n",
       "    </tr>\n",
       "    <tr>\n",
       "      <th id=\"T_48473_level0_row34\" class=\"row_heading level0 row34\" >34</th>\n",
       "      <td id=\"T_48473_row34_col0\" class=\"data row34 col0\" >Marmalade</td>\n",
       "      <td id=\"T_48473_row34_col1\" class=\"data row34 col1\" >5</td>\n",
       "      <td id=\"T_48473_row34_col2\" class=\"data row34 col2\" >6.8</td>\n",
       "      <td id=\"T_48473_row34_col3\" class=\"data row34 col3\" >Dark Chocolate (61% Cocoa Minimum, Pure Cocoa Butter) (99.8%): Cocoa Beans, Sugar, Cocoa Butter, Emulsifier: Soya Lecithin, Vanilla Extract. Organic Bitter Orange Essential Oil (0.2%).</td>\n",
       "      <td id=\"T_48473_row34_col4\" class=\"data row34 col4\" >https://www.chocolate.co.uk/products/marmalade-orange-chocolate-bar</td>\n",
       "    </tr>\n",
       "    <tr>\n",
       "      <th id=\"T_48473_level0_row35\" class=\"row_heading level0 row35\" >35</th>\n",
       "      <td id=\"T_48473_row35_col0\" class=\"data row35 col0\" >Milk Chocolate Honeycomb - Bag</td>\n",
       "      <td id=\"T_48473_row35_col1\" class=\"data row35 col1\" >8</td>\n",
       "      <td id=\"T_48473_row35_col2\" class=\"data row35 col2\" >10.88</td>\n",
       "      <td id=\"T_48473_row35_col3\" class=\"data row35 col3\" >Milk Chocolate (41% Cocoa Min, Pure Cocoa Butter) Sugar, Cocoa Butter, Whole Milk Powder, Cocoa Beans, Emulsifier: (Soya Lecithin), Natural Vanilla Extract. Honeycomb (Sugar, Glucose Syrup, Bicarbonate of Soda, Honey).</td>\n",
       "      <td id=\"T_48473_row35_col4\" class=\"data row35 col4\" >https://www.chocolate.co.uk/products/milk-chocolate-honeycomb</td>\n",
       "    </tr>\n",
       "    <tr>\n",
       "      <th id=\"T_48473_level0_row36\" class=\"row_heading level0 row36\" >36</th>\n",
       "      <td id=\"T_48473_row36_col0\" class=\"data row36 col0\" >Milk Chocolate Malt Balls</td>\n",
       "      <td id=\"T_48473_row36_col1\" class=\"data row36 col1\" >9</td>\n",
       "      <td id=\"T_48473_row36_col2\" class=\"data row36 col2\" >12.24</td>\n",
       "      <td id=\"T_48473_row36_col3\" class=\"data row36 col3\" >Milk Chocolate (41% Cocoa Minimum, Pure Cocoa Butter, 19% Milk Solids): Sugar, Cocoa Butter, Milk Powder, Cocoa Beans, Emulsifier: Soya Lecithin, Natural Vanilla Extract. Malt Ball Centres (35%): Corn Syrup, Sugar, Dairy Blend (Whey, Whey Protein Concentrate), Malt Powder (Malted Barley, Wheat, Milk, Hydrolyzed Wheat Gluten, Sodium Bicarbonate, Salt), Malted Barley, Soya Lecithin, Salt.</td>\n",
       "      <td id=\"T_48473_row36_col4\" class=\"data row36 col4\" >https://www.chocolate.co.uk/products/milk-chocolate-malt-balls</td>\n",
       "    </tr>\n",
       "    <tr>\n",
       "      <th id=\"T_48473_level0_row37\" class=\"row_heading level0 row37\" >37</th>\n",
       "      <td id=\"T_48473_row37_col0\" class=\"data row37 col0\" >Milk Chocolate Truffles</td>\n",
       "      <td id=\"T_48473_row37_col1\" class=\"data row37 col1\" >19</td>\n",
       "      <td id=\"T_48473_row37_col2\" class=\"data row37 col2\" >25.84</td>\n",
       "      <td id=\"T_48473_row37_col3\" class=\"data row37 col3\" >Milk Chocolate (37% Cocoa Minimum, Pure Cocoa Butter, 21% Milk Solids) Sugar, Cocoa Butter, Whole Milk Powder, Cocoa Beans, Emulsifier (Soya Lecithin) Natural Vanilla Extract. Cream, Sorbitol, Glucose, Butter, Sunflower Lecithin.</td>\n",
       "      <td id=\"T_48473_row37_col4\" class=\"data row37 col4\" >https://www.chocolate.co.uk/products/milk-chocolate-truffles</td>\n",
       "    </tr>\n",
       "    <tr>\n",
       "      <th id=\"T_48473_level0_row38\" class=\"row_heading level0 row38\" >38</th>\n",
       "      <td id=\"T_48473_row38_col0\" class=\"data row38 col0\" >Orange Malt Balls</td>\n",
       "      <td id=\"T_48473_row38_col1\" class=\"data row38 col1\" >8</td>\n",
       "      <td id=\"T_48473_row38_col2\" class=\"data row38 col2\" >10.88</td>\n",
       "      <td id=\"T_48473_row38_col3\" class=\"data row38 col3\" >Milk Chocolate (75%) (41% Cocoa Minimum, Pure Cocoa Butter, 19% Milk Solids): Sugar, Cocoa Butter, Milk Powder, Cocoa Beans, Emulsifier: Sunflower Lecithin, Natural Vanilla Extract. Malt Ball Centres (25%): Corn Syrup, Sugar, Dairy Blend (Whey, Whey Protein Concentrate), Malt Powder (Malted Barley, Wheat, Milk, Hydrolysed Wheat Gluten, Sodium Bicarbonate, Salt), Malted Barley, Emulsifier: Soya Lecithin. Organic Sweet Orange Essential Oil, Gum Arabic.</td>\n",
       "      <td id=\"T_48473_row38_col4\" class=\"data row38 col4\" >https://www.chocolate.co.uk/products/orange-malt-balls</td>\n",
       "    </tr>\n",
       "    <tr>\n",
       "      <th id=\"T_48473_level0_row39\" class=\"row_heading level0 row39\" >39</th>\n",
       "      <td id=\"T_48473_row39_col0\" class=\"data row39 col0\" >Peppermint Malt Balls</td>\n",
       "      <td id=\"T_48473_row39_col1\" class=\"data row39 col1\" >8</td>\n",
       "      <td id=\"T_48473_row39_col2\" class=\"data row39 col2\" >10.88</td>\n",
       "      <td id=\"T_48473_row39_col3\" class=\"data row39 col3\" >White Chocolate (36% Cocoa Minimum, Pure Cocoa Butter), Dark Chocolate (61% Cocoa Minimum, Pure Cocoa Butter): Cocoa Beans, Sugar, Cocoa Butter, Whole Milk Powder, Skimmed Milk Powder, Emulsifier: (Soya Lecithin), Vanilla Extract. Malt Ball Centres: Corn Syrup, Sugar, Dairy Blend (Whey, WheyProtein Concentrate), Malt Powder (Malted Barley, Wheat, Milk, Hydrolysed Wheat Gluten, Sodium Bicarbonate, Salt), Malted Barley, Emulsifier: Soya Lecithin; Salt. Cocoa Butter, E102, E129. Organic Peppermint Essential Oil. Gum Arabic.</td>\n",
       "      <td id=\"T_48473_row39_col4\" class=\"data row39 col4\" >https://www.chocolate.co.uk/products/peppermint-malt-balls</td>\n",
       "    </tr>\n",
       "    <tr>\n",
       "      <th id=\"T_48473_level0_row40\" class=\"row_heading level0 row40\" >40</th>\n",
       "      <td id=\"T_48473_row40_col0\" class=\"data row40 col0\" >Peppermint Swirl</td>\n",
       "      <td id=\"T_48473_row40_col1\" class=\"data row40 col1\" >5</td>\n",
       "      <td id=\"T_48473_row40_col2\" class=\"data row40 col2\" >6.8</td>\n",
       "      <td id=\"T_48473_row40_col3\" class=\"data row40 col3\" >Dark Chocolate (61% Cocoa Minimum, Pure Cocoa Butter) (65%), White Chocolate (36% Cocoa Minimum, Pure Cocoa Butter) (34.9%): Cocoa Beans, Sugar, Cocoa Butter, Whole Milk Powder, Skimmed Milk Powder, Emulsifier: (Soya Lecithin), Vanilla Extract. Organic Peppermint Essential Oil (0.1%).</td>\n",
       "      <td id=\"T_48473_row40_col4\" class=\"data row40 col4\" >https://www.chocolate.co.uk/products/peppermint-swirl-chocolate-bar</td>\n",
       "    </tr>\n",
       "    <tr>\n",
       "      <th id=\"T_48473_level0_row41\" class=\"row_heading level0 row41\" >41</th>\n",
       "      <td id=\"T_48473_row41_col0\" class=\"data row41 col0\" >Pistachio & Cranberry</td>\n",
       "      <td id=\"T_48473_row41_col1\" class=\"data row41 col1\" >5</td>\n",
       "      <td id=\"T_48473_row41_col2\" class=\"data row41 col2\" >6.8</td>\n",
       "      <td id=\"T_48473_row41_col3\" class=\"data row41 col3\" >White Chocolate (36% Cocoa Minimum, Pure Cocoa Butter): Sugar, Cocoa Butter, Whole Milk Powder, Emulsifier: Soya Lecithin, Natural Vanilla Flavouring. Organic Dried Cranberries (8%): Cranberries, Sugar, Vegetable Oil. Pistachios (4%).</td>\n",
       "      <td id=\"T_48473_row41_col4\" class=\"data row41 col4\" >https://www.chocolate.co.uk/products/pistachio-cranberry-chocolate-bar</td>\n",
       "    </tr>\n",
       "    <tr>\n",
       "      <th id=\"T_48473_level0_row42\" class=\"row_heading level0 row42\" >42</th>\n",
       "      <td id=\"T_48473_row42_col0\" class=\"data row42 col0\" >Pretzel Caramel</td>\n",
       "      <td id=\"T_48473_row42_col1\" class=\"data row42 col1\" >5</td>\n",
       "      <td id=\"T_48473_row42_col2\" class=\"data row42 col2\" >6.8</td>\n",
       "      <td id=\"T_48473_row42_col3\" class=\"data row42 col3\" >Milk Chocolate (43% Cocoa Min, Pure Cocoa Butter, 19% Milk Solids) (91%): Sugar, Cocoa Butter, Whole Milk Powder, Cocoa Beans, Emulsifier: (Soya Lecithin), Natural Vanilla Extract. Pretzel Pieces (7%): Wheat Flour, Sunflower Oil, Salt, Poppy Seeds,  Malted Wheat Flour, Smoke Flavouring, Yeast, Acidity Regulator: Sodium hydroxide. Caramel Chips (2%): Sugar, Glucose Syrup, Sweetened Condensed Milk, Salted Butter, Water.</td>\n",
       "      <td id=\"T_48473_row42_col4\" class=\"data row42 col4\" >https://www.chocolate.co.uk/products/pretzel-caramel-chocolate-bar</td>\n",
       "    </tr>\n",
       "    <tr>\n",
       "      <th id=\"T_48473_level0_row43\" class=\"row_heading level0 row43\" >43</th>\n",
       "      <td id=\"T_48473_row43_col0\" class=\"data row43 col0\" >Roasted Almonds</td>\n",
       "      <td id=\"T_48473_row43_col1\" class=\"data row43 col1\" >8</td>\n",
       "      <td id=\"T_48473_row43_col2\" class=\"data row43 col2\" >10.88</td>\n",
       "      <td id=\"T_48473_row43_col3\" class=\"data row43 col3\" >No Ingredients</td>\n",
       "      <td id=\"T_48473_row43_col4\" class=\"data row43 col4\" >https://www.chocolate.co.uk/products/cocoa-dusted-almonds</td>\n",
       "    </tr>\n",
       "    <tr>\n",
       "      <th id=\"T_48473_level0_row44\" class=\"row_heading level0 row44\" >44</th>\n",
       "      <td id=\"T_48473_row44_col0\" class=\"data row44 col0\" >Rose & Violet Creams</td>\n",
       "      <td id=\"T_48473_row44_col1\" class=\"data row44 col1\" >12</td>\n",
       "      <td id=\"T_48473_row44_col2\" class=\"data row44 col2\" >16.32</td>\n",
       "      <td id=\"T_48473_row44_col3\" class=\"data row44 col3\" >Dark Chocolate (61% Cocoa Minimum, Pure Cocoa Butter): Cocoa Beans, Sugar, Cocoa Butter, Emulsifier: Soya Lecithin, Natural Vanilla Extract. Sugar, Glucose Syrup, Water, Crystalise Rose & Violet Pieces Pieces (Sugar, Acacia Gum, Natural Rose Flower, Natural Violet Flower, Colouring: E120, E132, E141, Aroma), Natural Flavouring</td>\n",
       "      <td id=\"T_48473_row44_col4\" class=\"data row44 col4\" >https://www.chocolate.co.uk/products/rose-violet-creams</td>\n",
       "    </tr>\n",
       "    <tr>\n",
       "      <th id=\"T_48473_level0_row45\" class=\"row_heading level0 row45\" >45</th>\n",
       "      <td id=\"T_48473_row45_col0\" class=\"data row45 col0\" >Salt Caramel Malt Balls</td>\n",
       "      <td id=\"T_48473_row45_col1\" class=\"data row45 col1\" >9</td>\n",
       "      <td id=\"T_48473_row45_col2\" class=\"data row45 col2\" >12.24</td>\n",
       "      <td id=\"T_48473_row45_col3\" class=\"data row45 col3\" >Milk Chocolate (75%) (39% Cocoa Solids, Pure Cocoa Butter, 19% Milk Solids): Sugar, Cocoa Butter, Whole Milk Powder, Cocoa Solids, Skimmed Milk, Whey (milk), Butter (milk), Emulsifier: Soya Lecithin, Emulsifier: Sunflower Lecithin, Flavourings. Malt Ball Centres (25%): Corn Syrup, Sugar, Dairy Blend (Whey, Whey Protein Concentrate), Malt Powder (Malted Barley, Wheat, Milk, Hydrolysed Wheat Gluten, Sodium Bicarbonate, Salt), Malted Barley, Emulsifier: Soya Lecithin. Salt, Gum Arabic.</td>\n",
       "      <td id=\"T_48473_row45_col4\" class=\"data row45 col4\" >https://www.chocolate.co.uk/products/salt-caramel-malt-balls</td>\n",
       "    </tr>\n",
       "    <tr>\n",
       "      <th id=\"T_48473_level0_row46\" class=\"row_heading level0 row46\" >46</th>\n",
       "      <td id=\"T_48473_row46_col0\" class=\"data row46 col0\" >Salt Caramelised Hazelnuts</td>\n",
       "      <td id=\"T_48473_row46_col1\" class=\"data row46 col1\" >8</td>\n",
       "      <td id=\"T_48473_row46_col2\" class=\"data row46 col2\" >10.88</td>\n",
       "      <td id=\"T_48473_row46_col3\" class=\"data row46 col3\" >Caramelised Hazelnuts (50%): Hazelnuts, Sugar. Milk chocolate (41% Cocoa Minimum, Pure Cocoa Butter, 19% Milk Solids) (49%): Sugar, Cocoa Butter, Milk Powder, Cocoa Beans, Emulsifier: (SoyaLecithin) Vanilla Extract. Cocoa Powder (1%)</td>\n",
       "      <td id=\"T_48473_row46_col4\" class=\"data row46 col4\" >https://www.chocolate.co.uk/products/salt-caramelised-hazelnuts</td>\n",
       "    </tr>\n",
       "    <tr>\n",
       "      <th id=\"T_48473_level0_row47\" class=\"row_heading level0 row47\" >47</th>\n",
       "      <td id=\"T_48473_row47_col0\" class=\"data row47 col0\" >Salted Caramel</td>\n",
       "      <td id=\"T_48473_row47_col1\" class=\"data row47 col1\" >5</td>\n",
       "      <td id=\"T_48473_row47_col2\" class=\"data row47 col2\" >6.8</td>\n",
       "      <td id=\"T_48473_row47_col3\" class=\"data row47 col3\" >White Chocolate (32% Cocoa Minimum, Pure Cocoa Butter) (98%): Cocoa Butter, Sugar, Whole Milk Powder, Skimmed Milk Powder, Whey Powder, Caramelised Sugar, Emulsifier: (Soya Lecithin), Natural Vanilla Flavouring, Salt. Sea Salt (2%).</td>\n",
       "      <td id=\"T_48473_row47_col4\" class=\"data row47 col4\" >https://www.chocolate.co.uk/products/blonde-chocolate-sea-salt</td>\n",
       "    </tr>\n",
       "    <tr>\n",
       "      <th id=\"T_48473_level0_row48\" class=\"row_heading level0 row48\" >48</th>\n",
       "      <td id=\"T_48473_row48_col0\" class=\"data row48 col0\" >Salted Caramel Florentines</td>\n",
       "      <td id=\"T_48473_row48_col1\" class=\"data row48 col1\" >12</td>\n",
       "      <td id=\"T_48473_row48_col2\" class=\"data row48 col2\" >16.32</td>\n",
       "      <td id=\"T_48473_row48_col3\" class=\"data row48 col3\" >Dark Chocolate (61% Cocoa Minimum, Pure Cocoa Butter): Cocoa Beans, Sugar, Cocoa Butter, Emulsifier: Soya lecithin, Natural Vanilla Extract, Flaked Almonds, Sugar, Hazelnuts, Butter (Milk), Cream (Milk), Sultanas (Sunflower Oil), Glucose syrup, Golden Syrup (Partially Inverted Refiner’s Syrup), Candied Mixed Peel (Orange Peel, Glucose Fructose Syrup, Lemon Peel), Sea Salt.</td>\n",
       "      <td id=\"T_48473_row48_col4\" class=\"data row48 col4\" >https://www.chocolate.co.uk/products/salted-caramel-florentines</td>\n",
       "    </tr>\n",
       "    <tr>\n",
       "      <th id=\"T_48473_level0_row49\" class=\"row_heading level0 row49\" >49</th>\n",
       "      <td id=\"T_48473_row49_col0\" class=\"data row49 col0\" >Salted Caramels Blonde Chocolate</td>\n",
       "      <td id=\"T_48473_row49_col1\" class=\"data row49 col1\" >19</td>\n",
       "      <td id=\"T_48473_row49_col2\" class=\"data row49 col2\" >25.84</td>\n",
       "      <td id=\"T_48473_row49_col3\" class=\"data row49 col3\" >White Chocolate (35% Cocoa Solids, Pure Cocoa Butter): Sugar, Cocoa Butter, Whole Milk Powder, Skimmed Milk, Whey (milk), Butter (milk), Emulsifier: (Soya Lecithin), Flavourings, Cream (milk), Golden Granulated Sugar, Glucose, Cocoa Butter, Butter (milk), Sea Salt 0.5%.</td>\n",
       "      <td id=\"T_48473_row49_col4\" class=\"data row49 col4\" >https://www.chocolate.co.uk/products/salted-caramels-blonde-chocolate</td>\n",
       "    </tr>\n",
       "    <tr>\n",
       "      <th id=\"T_48473_level0_row50\" class=\"row_heading level0 row50\" >50</th>\n",
       "      <td id=\"T_48473_row50_col0\" class=\"data row50 col0\" >Salted Caramels Dark Chocolate</td>\n",
       "      <td id=\"T_48473_row50_col1\" class=\"data row50 col1\" >19</td>\n",
       "      <td id=\"T_48473_row50_col2\" class=\"data row50 col2\" >25.84</td>\n",
       "      <td id=\"T_48473_row50_col3\" class=\"data row50 col3\" >Dark Chocolate (55% Cocoa Minimum, Pure Cocoa Butter), Sugar, Cocoa Beans, Emulsifier (Soya Lecithin), Natural Vanilla Extract. Cream, Sugar, Glucose, Butter, Cocoa Butter, Vanilla. Sea Salt. Cocoa Powder, E171, E172.</td>\n",
       "      <td id=\"T_48473_row50_col4\" class=\"data row50 col4\" >https://www.chocolate.co.uk/products/salt-caramels-dark-chocolate</td>\n",
       "    </tr>\n",
       "    <tr>\n",
       "      <th id=\"T_48473_level0_row51\" class=\"row_heading level0 row51\" >51</th>\n",
       "      <td id=\"T_48473_row51_col0\" class=\"data row51 col0\" >Salted Caramels Milk Chocolate</td>\n",
       "      <td id=\"T_48473_row51_col1\" class=\"data row51 col1\" >19</td>\n",
       "      <td id=\"T_48473_row51_col2\" class=\"data row51 col2\" >25.84</td>\n",
       "      <td id=\"T_48473_row51_col3\" class=\"data row51 col3\" >Milk Chocolate (37% Cocoa Minimum, Pure Cocoa Butter, 21% Milk Solids), Sugar, Cocoa Butter, Whole Milk Powder, Cocoa Mass, Emulsifier (Soya Lecithin), Natural Vanilla Extract. Cream, Sugar, Glucose, Butter, Cocoa Butter, Vanilla. Sea Salt. Cocoa Powder, E171.</td>\n",
       "      <td id=\"T_48473_row51_col4\" class=\"data row51 col4\" >https://www.chocolate.co.uk/products/salt-caramels-milk-chocolate</td>\n",
       "    </tr>\n",
       "    <tr>\n",
       "      <th id=\"T_48473_level0_row52\" class=\"row_heading level0 row52\" >52</th>\n",
       "      <td id=\"T_48473_row52_col0\" class=\"data row52 col0\" >Tea & Biscuit</td>\n",
       "      <td id=\"T_48473_row52_col1\" class=\"data row52 col1\" >5</td>\n",
       "      <td id=\"T_48473_row52_col2\" class=\"data row52 col2\" >6.8</td>\n",
       "      <td id=\"T_48473_row52_col3\" class=\"data row52 col3\" >Blonde Chocolate (63.72%) (Cocoa Butter, Sugar, Whole Milk Powder, Skimmed Milk Powder, Whey Powder, Butter, Emulsifier: (Soya Lecithin), Natural Vanilla Flavouring.) Dark Chocolate (34.26%) (Cocoa Beans, Sugar, Cocoa Butter, Emulsifier: Sunflower Lecithin, Vanilla Extract) Biscuit Pearls (1.97%) (Dark Chocolate Coating, White Chocolate Coating, Sugar, Cocoa Beans, Cocoa Butter, Biscuit Cereal (Wheat Flour, Sugar, Wheat Malt, Wheat Starch, Raising Agent: E500ii, Salt, Cocoa Butter, Natural Flavouring), Whole Milk Powder, Dried Skimmed Milk, Whey (Milk), Butter (Milk), Emulsifier: (Sunflower Lecithin), Maltodextrin, Glazing Agent: Shellac, Natural Vanilla Extract) Organic Bergamot Oil (0.05%).</td>\n",
       "      <td id=\"T_48473_row52_col4\" class=\"data row52 col4\" >https://www.chocolate.co.uk/products/tea-biscuit-chocolate-bar</td>\n",
       "    </tr>\n",
       "    <tr>\n",
       "      <th id=\"T_48473_level0_row53\" class=\"row_heading level0 row53\" >53</th>\n",
       "      <td id=\"T_48473_row53_col0\" class=\"data row53 col0\" >Velvet White</td>\n",
       "      <td id=\"T_48473_row53_col1\" class=\"data row53 col1\" >5</td>\n",
       "      <td id=\"T_48473_row53_col2\" class=\"data row53 col2\" >6.8</td>\n",
       "      <td id=\"T_48473_row53_col3\" class=\"data row53 col3\" >White Chocolate (100%): Sugar, Cocoa Butter, Whole Milk Powder, Emulsifier: Soya Lecithin, Natural Vanilla Flavouring.</td>\n",
       "      <td id=\"T_48473_row53_col4\" class=\"data row53 col4\" >https://www.chocolate.co.uk/products/velvet-white-chocolate-bar</td>\n",
       "    </tr>\n",
       "  </tbody>\n",
       "</table>\n"
      ],
      "text/plain": [
       "<pandas.io.formats.style.Styler at 0x1e8177a2f10>"
      ]
     },
     "execution_count": 8,
     "metadata": {},
     "output_type": "execute_result"
    }
   ],
   "source": [
    "df_styled"
   ]
  },
  {
   "cell_type": "code",
   "execution_count": null,
   "id": "0ca595a9-c063-4af6-a7ed-6aa40d64d5d0",
   "metadata": {},
   "outputs": [],
   "source": []
  },
  {
   "cell_type": "code",
   "execution_count": 14,
   "id": "c918165e-cb80-48bc-9c15-dc4259278770",
   "metadata": {},
   "outputs": [],
   "source": [
    "import pandas as pd\n",
    "import numpy as np\n",
    "import matplotlib.pyplot as plt\n",
    "import plotly.express as px\n",
    "from collections import Counter\n",
    "import seaborn as sns\n",
    "import re"
   ]
  },
  {
   "cell_type": "code",
   "execution_count": 15,
   "id": "979ff27a-f9e5-4c58-aa5b-866b2f83fc03",
   "metadata": {},
   "outputs": [],
   "source": [
    "non_product_keywords = [\n",
    "    'gift voucher', 'collection of', 'christmas cracker', 'hamper', \n",
    "    'voucher', 'best selling', 'assorted', 'celebration'\n",
    "]\n",
    "\n",
    "def is_non_product(name):\n",
    "    name = str(name).lower()\n",
    "    return any(keyword in name for keyword in non_product_keywords)\n",
    "\n",
    "df_products = df[~df['Name'].apply(is_non_product)].copy()"
   ]
  },
  {
   "cell_type": "code",
   "execution_count": null,
   "id": "81a123d9-8736-4fd1-8e90-da7208efb09c",
   "metadata": {},
   "outputs": [],
   "source": []
  },
  {
   "cell_type": "markdown",
   "id": "72236582-4055-4da0-afa9-73c4de8a9b3c",
   "metadata": {},
   "source": [
    "## Visualizing Price Distribution"
   ]
  },
  {
   "cell_type": "code",
   "execution_count": 16,
   "id": "453e75f8-d2b6-4cfa-95c7-9dfef66f95cb",
   "metadata": {},
   "outputs": [
    {
     "name": "stderr",
     "output_type": "stream",
     "text": [
      "C:\\Users\\user\\AppData\\Local\\Temp\\ipykernel_14620\\1774128516.py:1: SettingWithCopyWarning:\n",
      "\n",
      "\n",
      "A value is trying to be set on a copy of a slice from a DataFrame.\n",
      "Try using .loc[row_indexer,col_indexer] = value instead\n",
      "\n",
      "See the caveats in the documentation: https://pandas.pydata.org/pandas-docs/stable/user_guide/indexing.html#returning-a-view-versus-a-copy\n",
      "\n"
     ]
    },
    {
     "data": {
      "application/vnd.plotly.v1+json": {
       "config": {
        "plotlyServerURL": "https://plot.ly"
       },
       "data": [
        {
         "alignmentgroup": "True",
         "bingroup": "x",
         "hovertemplate": "Price ($)=%{x}<br>count=%{y}<extra></extra>",
         "legendgroup": "",
         "marker": {
          "color": "purple",
          "pattern": {
           "shape": ""
          }
         },
         "name": "",
         "nbinsx": 10,
         "offsetgroup": "",
         "orientation": "v",
         "showlegend": false,
         "type": "histogram",
         "x": [
          68,
          68,
          10.88,
          10.88,
          1.36,
          12.24,
          6.8,
          10.88,
          12.24,
          25.84,
          23.12,
          23.12,
          6.8,
          6.8,
          10.88,
          74.8,
          6.8,
          6.8,
          40.8,
          6.8,
          6.8,
          10.88,
          10.88,
          12.24,
          13.6,
          25.84,
          6.8,
          6.8,
          13.6,
          6.8,
          6.8,
          34,
          74.8,
          25.84,
          6.8,
          10.88,
          12.24,
          25.84,
          10.88,
          10.88,
          6.8,
          6.8,
          6.8,
          10.88,
          16.32,
          12.24,
          10.88,
          6.8,
          16.32,
          25.84,
          25.84,
          25.84,
          6.8,
          6.8
         ],
         "xaxis": "x",
         "yaxis": "y"
        },
        {
         "alignmentgroup": "True",
         "boxpoints": "all",
         "fillcolor": "rgba(255,255,255,0)",
         "hoveron": "points",
         "hovertemplate": "Price ($)=%{x}<extra></extra>",
         "jitter": 0,
         "legendgroup": "",
         "line": {
          "color": "rgba(255,255,255,0)"
         },
         "marker": {
          "color": "purple",
          "symbol": "line-ns-open"
         },
         "name": "",
         "offsetgroup": "",
         "showlegend": false,
         "type": "box",
         "x": [
          68,
          68,
          10.88,
          10.88,
          1.36,
          12.24,
          6.8,
          10.88,
          12.24,
          25.84,
          23.12,
          23.12,
          6.8,
          6.8,
          10.88,
          74.8,
          6.8,
          6.8,
          40.8,
          6.8,
          6.8,
          10.88,
          10.88,
          12.24,
          13.6,
          25.84,
          6.8,
          6.8,
          13.6,
          6.8,
          6.8,
          34,
          74.8,
          25.84,
          6.8,
          10.88,
          12.24,
          25.84,
          10.88,
          10.88,
          6.8,
          6.8,
          6.8,
          10.88,
          16.32,
          12.24,
          10.88,
          6.8,
          16.32,
          25.84,
          25.84,
          25.84,
          6.8,
          6.8
         ],
         "xaxis": "x2",
         "yaxis": "y2"
        }
       ],
       "layout": {
        "autosize": true,
        "bargap": 0.1,
        "barmode": "relative",
        "legend": {
         "tracegroupgap": 0
        },
        "template": {
         "data": {
          "bar": [
           {
            "error_x": {
             "color": "#2a3f5f"
            },
            "error_y": {
             "color": "#2a3f5f"
            },
            "marker": {
             "line": {
              "color": "white",
              "width": 0.5
             },
             "pattern": {
              "fillmode": "overlay",
              "size": 10,
              "solidity": 0.2
             }
            },
            "type": "bar"
           }
          ],
          "barpolar": [
           {
            "marker": {
             "line": {
              "color": "white",
              "width": 0.5
             },
             "pattern": {
              "fillmode": "overlay",
              "size": 10,
              "solidity": 0.2
             }
            },
            "type": "barpolar"
           }
          ],
          "carpet": [
           {
            "aaxis": {
             "endlinecolor": "#2a3f5f",
             "gridcolor": "#C8D4E3",
             "linecolor": "#C8D4E3",
             "minorgridcolor": "#C8D4E3",
             "startlinecolor": "#2a3f5f"
            },
            "baxis": {
             "endlinecolor": "#2a3f5f",
             "gridcolor": "#C8D4E3",
             "linecolor": "#C8D4E3",
             "minorgridcolor": "#C8D4E3",
             "startlinecolor": "#2a3f5f"
            },
            "type": "carpet"
           }
          ],
          "choropleth": [
           {
            "colorbar": {
             "outlinewidth": 0,
             "ticks": ""
            },
            "type": "choropleth"
           }
          ],
          "contour": [
           {
            "colorbar": {
             "outlinewidth": 0,
             "ticks": ""
            },
            "colorscale": [
             [
              0,
              "#0d0887"
             ],
             [
              0.1111111111111111,
              "#46039f"
             ],
             [
              0.2222222222222222,
              "#7201a8"
             ],
             [
              0.3333333333333333,
              "#9c179e"
             ],
             [
              0.4444444444444444,
              "#bd3786"
             ],
             [
              0.5555555555555556,
              "#d8576b"
             ],
             [
              0.6666666666666666,
              "#ed7953"
             ],
             [
              0.7777777777777778,
              "#fb9f3a"
             ],
             [
              0.8888888888888888,
              "#fdca26"
             ],
             [
              1,
              "#f0f921"
             ]
            ],
            "type": "contour"
           }
          ],
          "contourcarpet": [
           {
            "colorbar": {
             "outlinewidth": 0,
             "ticks": ""
            },
            "type": "contourcarpet"
           }
          ],
          "heatmap": [
           {
            "colorbar": {
             "outlinewidth": 0,
             "ticks": ""
            },
            "colorscale": [
             [
              0,
              "#0d0887"
             ],
             [
              0.1111111111111111,
              "#46039f"
             ],
             [
              0.2222222222222222,
              "#7201a8"
             ],
             [
              0.3333333333333333,
              "#9c179e"
             ],
             [
              0.4444444444444444,
              "#bd3786"
             ],
             [
              0.5555555555555556,
              "#d8576b"
             ],
             [
              0.6666666666666666,
              "#ed7953"
             ],
             [
              0.7777777777777778,
              "#fb9f3a"
             ],
             [
              0.8888888888888888,
              "#fdca26"
             ],
             [
              1,
              "#f0f921"
             ]
            ],
            "type": "heatmap"
           }
          ],
          "heatmapgl": [
           {
            "colorbar": {
             "outlinewidth": 0,
             "ticks": ""
            },
            "colorscale": [
             [
              0,
              "#0d0887"
             ],
             [
              0.1111111111111111,
              "#46039f"
             ],
             [
              0.2222222222222222,
              "#7201a8"
             ],
             [
              0.3333333333333333,
              "#9c179e"
             ],
             [
              0.4444444444444444,
              "#bd3786"
             ],
             [
              0.5555555555555556,
              "#d8576b"
             ],
             [
              0.6666666666666666,
              "#ed7953"
             ],
             [
              0.7777777777777778,
              "#fb9f3a"
             ],
             [
              0.8888888888888888,
              "#fdca26"
             ],
             [
              1,
              "#f0f921"
             ]
            ],
            "type": "heatmapgl"
           }
          ],
          "histogram": [
           {
            "marker": {
             "pattern": {
              "fillmode": "overlay",
              "size": 10,
              "solidity": 0.2
             }
            },
            "type": "histogram"
           }
          ],
          "histogram2d": [
           {
            "colorbar": {
             "outlinewidth": 0,
             "ticks": ""
            },
            "colorscale": [
             [
              0,
              "#0d0887"
             ],
             [
              0.1111111111111111,
              "#46039f"
             ],
             [
              0.2222222222222222,
              "#7201a8"
             ],
             [
              0.3333333333333333,
              "#9c179e"
             ],
             [
              0.4444444444444444,
              "#bd3786"
             ],
             [
              0.5555555555555556,
              "#d8576b"
             ],
             [
              0.6666666666666666,
              "#ed7953"
             ],
             [
              0.7777777777777778,
              "#fb9f3a"
             ],
             [
              0.8888888888888888,
              "#fdca26"
             ],
             [
              1,
              "#f0f921"
             ]
            ],
            "type": "histogram2d"
           }
          ],
          "histogram2dcontour": [
           {
            "colorbar": {
             "outlinewidth": 0,
             "ticks": ""
            },
            "colorscale": [
             [
              0,
              "#0d0887"
             ],
             [
              0.1111111111111111,
              "#46039f"
             ],
             [
              0.2222222222222222,
              "#7201a8"
             ],
             [
              0.3333333333333333,
              "#9c179e"
             ],
             [
              0.4444444444444444,
              "#bd3786"
             ],
             [
              0.5555555555555556,
              "#d8576b"
             ],
             [
              0.6666666666666666,
              "#ed7953"
             ],
             [
              0.7777777777777778,
              "#fb9f3a"
             ],
             [
              0.8888888888888888,
              "#fdca26"
             ],
             [
              1,
              "#f0f921"
             ]
            ],
            "type": "histogram2dcontour"
           }
          ],
          "mesh3d": [
           {
            "colorbar": {
             "outlinewidth": 0,
             "ticks": ""
            },
            "type": "mesh3d"
           }
          ],
          "parcoords": [
           {
            "line": {
             "colorbar": {
              "outlinewidth": 0,
              "ticks": ""
             }
            },
            "type": "parcoords"
           }
          ],
          "pie": [
           {
            "automargin": true,
            "type": "pie"
           }
          ],
          "scatter": [
           {
            "fillpattern": {
             "fillmode": "overlay",
             "size": 10,
             "solidity": 0.2
            },
            "type": "scatter"
           }
          ],
          "scatter3d": [
           {
            "line": {
             "colorbar": {
              "outlinewidth": 0,
              "ticks": ""
             }
            },
            "marker": {
             "colorbar": {
              "outlinewidth": 0,
              "ticks": ""
             }
            },
            "type": "scatter3d"
           }
          ],
          "scattercarpet": [
           {
            "marker": {
             "colorbar": {
              "outlinewidth": 0,
              "ticks": ""
             }
            },
            "type": "scattercarpet"
           }
          ],
          "scattergeo": [
           {
            "marker": {
             "colorbar": {
              "outlinewidth": 0,
              "ticks": ""
             }
            },
            "type": "scattergeo"
           }
          ],
          "scattergl": [
           {
            "marker": {
             "colorbar": {
              "outlinewidth": 0,
              "ticks": ""
             }
            },
            "type": "scattergl"
           }
          ],
          "scattermapbox": [
           {
            "marker": {
             "colorbar": {
              "outlinewidth": 0,
              "ticks": ""
             }
            },
            "type": "scattermapbox"
           }
          ],
          "scatterpolar": [
           {
            "marker": {
             "colorbar": {
              "outlinewidth": 0,
              "ticks": ""
             }
            },
            "type": "scatterpolar"
           }
          ],
          "scatterpolargl": [
           {
            "marker": {
             "colorbar": {
              "outlinewidth": 0,
              "ticks": ""
             }
            },
            "type": "scatterpolargl"
           }
          ],
          "scatterternary": [
           {
            "marker": {
             "colorbar": {
              "outlinewidth": 0,
              "ticks": ""
             }
            },
            "type": "scatterternary"
           }
          ],
          "surface": [
           {
            "colorbar": {
             "outlinewidth": 0,
             "ticks": ""
            },
            "colorscale": [
             [
              0,
              "#0d0887"
             ],
             [
              0.1111111111111111,
              "#46039f"
             ],
             [
              0.2222222222222222,
              "#7201a8"
             ],
             [
              0.3333333333333333,
              "#9c179e"
             ],
             [
              0.4444444444444444,
              "#bd3786"
             ],
             [
              0.5555555555555556,
              "#d8576b"
             ],
             [
              0.6666666666666666,
              "#ed7953"
             ],
             [
              0.7777777777777778,
              "#fb9f3a"
             ],
             [
              0.8888888888888888,
              "#fdca26"
             ],
             [
              1,
              "#f0f921"
             ]
            ],
            "type": "surface"
           }
          ],
          "table": [
           {
            "cells": {
             "fill": {
              "color": "#EBF0F8"
             },
             "line": {
              "color": "white"
             }
            },
            "header": {
             "fill": {
              "color": "#C8D4E3"
             },
             "line": {
              "color": "white"
             }
            },
            "type": "table"
           }
          ]
         },
         "layout": {
          "annotationdefaults": {
           "arrowcolor": "#2a3f5f",
           "arrowhead": 0,
           "arrowwidth": 1
          },
          "autotypenumbers": "strict",
          "coloraxis": {
           "colorbar": {
            "outlinewidth": 0,
            "ticks": ""
           }
          },
          "colorscale": {
           "diverging": [
            [
             0,
             "#8e0152"
            ],
            [
             0.1,
             "#c51b7d"
            ],
            [
             0.2,
             "#de77ae"
            ],
            [
             0.3,
             "#f1b6da"
            ],
            [
             0.4,
             "#fde0ef"
            ],
            [
             0.5,
             "#f7f7f7"
            ],
            [
             0.6,
             "#e6f5d0"
            ],
            [
             0.7,
             "#b8e186"
            ],
            [
             0.8,
             "#7fbc41"
            ],
            [
             0.9,
             "#4d9221"
            ],
            [
             1,
             "#276419"
            ]
           ],
           "sequential": [
            [
             0,
             "#0d0887"
            ],
            [
             0.1111111111111111,
             "#46039f"
            ],
            [
             0.2222222222222222,
             "#7201a8"
            ],
            [
             0.3333333333333333,
             "#9c179e"
            ],
            [
             0.4444444444444444,
             "#bd3786"
            ],
            [
             0.5555555555555556,
             "#d8576b"
            ],
            [
             0.6666666666666666,
             "#ed7953"
            ],
            [
             0.7777777777777778,
             "#fb9f3a"
            ],
            [
             0.8888888888888888,
             "#fdca26"
            ],
            [
             1,
             "#f0f921"
            ]
           ],
           "sequentialminus": [
            [
             0,
             "#0d0887"
            ],
            [
             0.1111111111111111,
             "#46039f"
            ],
            [
             0.2222222222222222,
             "#7201a8"
            ],
            [
             0.3333333333333333,
             "#9c179e"
            ],
            [
             0.4444444444444444,
             "#bd3786"
            ],
            [
             0.5555555555555556,
             "#d8576b"
            ],
            [
             0.6666666666666666,
             "#ed7953"
            ],
            [
             0.7777777777777778,
             "#fb9f3a"
            ],
            [
             0.8888888888888888,
             "#fdca26"
            ],
            [
             1,
             "#f0f921"
            ]
           ]
          },
          "colorway": [
           "#636efa",
           "#EF553B",
           "#00cc96",
           "#ab63fa",
           "#FFA15A",
           "#19d3f3",
           "#FF6692",
           "#B6E880",
           "#FF97FF",
           "#FECB52"
          ],
          "font": {
           "color": "#2a3f5f"
          },
          "geo": {
           "bgcolor": "white",
           "lakecolor": "white",
           "landcolor": "white",
           "showlakes": true,
           "showland": true,
           "subunitcolor": "#C8D4E3"
          },
          "hoverlabel": {
           "align": "left"
          },
          "hovermode": "closest",
          "mapbox": {
           "style": "light"
          },
          "paper_bgcolor": "white",
          "plot_bgcolor": "white",
          "polar": {
           "angularaxis": {
            "gridcolor": "#EBF0F8",
            "linecolor": "#EBF0F8",
            "ticks": ""
           },
           "bgcolor": "white",
           "radialaxis": {
            "gridcolor": "#EBF0F8",
            "linecolor": "#EBF0F8",
            "ticks": ""
           }
          },
          "scene": {
           "xaxis": {
            "backgroundcolor": "white",
            "gridcolor": "#DFE8F3",
            "gridwidth": 2,
            "linecolor": "#EBF0F8",
            "showbackground": true,
            "ticks": "",
            "zerolinecolor": "#EBF0F8"
           },
           "yaxis": {
            "backgroundcolor": "white",
            "gridcolor": "#DFE8F3",
            "gridwidth": 2,
            "linecolor": "#EBF0F8",
            "showbackground": true,
            "ticks": "",
            "zerolinecolor": "#EBF0F8"
           },
           "zaxis": {
            "backgroundcolor": "white",
            "gridcolor": "#DFE8F3",
            "gridwidth": 2,
            "linecolor": "#EBF0F8",
            "showbackground": true,
            "ticks": "",
            "zerolinecolor": "#EBF0F8"
           }
          },
          "shapedefaults": {
           "line": {
            "color": "#2a3f5f"
           }
          },
          "ternary": {
           "aaxis": {
            "gridcolor": "#DFE8F3",
            "linecolor": "#A2B1C6",
            "ticks": ""
           },
           "baxis": {
            "gridcolor": "#DFE8F3",
            "linecolor": "#A2B1C6",
            "ticks": ""
           },
           "bgcolor": "white",
           "caxis": {
            "gridcolor": "#DFE8F3",
            "linecolor": "#A2B1C6",
            "ticks": ""
           }
          },
          "title": {
           "x": 0.05
          },
          "xaxis": {
           "automargin": true,
           "gridcolor": "#EBF0F8",
           "linecolor": "#EBF0F8",
           "ticks": "",
           "title": {
            "standoff": 15
           },
           "zerolinecolor": "#EBF0F8",
           "zerolinewidth": 2
          },
          "yaxis": {
           "automargin": true,
           "gridcolor": "#EBF0F8",
           "linecolor": "#EBF0F8",
           "ticks": "",
           "title": {
            "standoff": 15
           },
           "zerolinecolor": "#EBF0F8",
           "zerolinewidth": 2
          }
         }
        },
        "title": {
         "text": "Distribution of Product Prices ($)"
        },
        "xaxis": {
         "anchor": "y",
         "autorange": true,
         "domain": [
          0,
          1
         ],
         "range": [
          -2.7789473684210533,
          80
         ],
         "title": {
          "text": "Price ($)"
         },
         "type": "linear"
        },
        "xaxis2": {
         "anchor": "y2",
         "autorange": true,
         "domain": [
          0,
          1
         ],
         "matches": "x",
         "range": [
          -2.7789473684210533,
          80
         ],
         "showgrid": true,
         "showticklabels": false,
         "type": "linear"
        },
        "yaxis": {
         "anchor": "x",
         "autorange": true,
         "domain": [
          0,
          0.8316
         ],
         "range": [
          0,
          21.05263157894737
         ],
         "title": {
          "text": "Number of Products"
         }
        },
        "yaxis2": {
         "anchor": "x2",
         "autorange": true,
         "domain": [
          0.8416,
          1
         ],
         "matches": "y2",
         "range": [
          -0.6175917215428034,
          0.5
         ],
         "showgrid": false,
         "showline": false,
         "showticklabels": false,
         "ticks": "",
         "type": "category"
        }
       }
      },
      "image/png": "[encoded data removed]",
      "text/html": [
       "<div>                            <div id=\"b124cfdb-65a3-45b5-b802-9702309a45b2\" class=\"plotly-graph-div\" style=\"height:525px; width:100%;\"></div>            <script type=\"text/javascript\">                require([\"plotly\"], function(Plotly) {                    window.PLOTLYENV=window.PLOTLYENV || {};                                    if (document.getElementById(\"b124cfdb-65a3-45b5-b802-9702309a45b2\")) {                    Plotly.newPlot(                        \"b124cfdb-65a3-45b5-b802-9702309a45b2\",                        [{\"alignmentgroup\":\"True\",\"bingroup\":\"x\",\"hovertemplate\":\"Price ($)=%{x}<br>count=%{y}<extra></extra>\",\"legendgroup\":\"\",\"marker\":{\"color\":\"purple\",\"pattern\":{\"shape\":\"\"}},\"name\":\"\",\"nbinsx\":10,\"offsetgroup\":\"\",\"orientation\":\"v\",\"showlegend\":false,\"x\":[68.0,68.0,10.88,10.88,1.36,12.24,6.8,10.88,12.24,25.84,23.12,23.12,6.8,6.8,10.88,74.8,6.8,6.8,40.8,6.8,6.8,10.88,10.88,12.24,13.6,25.84,6.8,6.8,13.6,6.8,6.8,34.0,74.8,25.84,6.8,10.88,12.24,25.84,10.88,10.88,6.8,6.8,6.8,10.88,16.32,12.24,10.88,6.8,16.32,25.84,25.84,25.84,6.8,6.8],\"xaxis\":\"x\",\"yaxis\":\"y\",\"type\":\"histogram\"},{\"alignmentgroup\":\"True\",\"boxpoints\":\"all\",\"fillcolor\":\"rgba(255,255,255,0)\",\"hoveron\":\"points\",\"hovertemplate\":\"Price ($)=%{x}<extra></extra>\",\"jitter\":0,\"legendgroup\":\"\",\"line\":{\"color\":\"rgba(255,255,255,0)\"},\"marker\":{\"color\":\"purple\",\"symbol\":\"line-ns-open\"},\"name\":\"\",\"offsetgroup\":\"\",\"showlegend\":false,\"x\":[68.0,68.0,10.88,10.88,1.36,12.24,6.8,10.88,12.24,25.84,23.12,23.12,6.8,6.8,10.88,74.8,6.8,6.8,40.8,6.8,6.8,10.88,10.88,12.24,13.6,25.84,6.8,6.8,13.6,6.8,6.8,34.0,74.8,25.84,6.8,10.88,12.24,25.84,10.88,10.88,6.8,6.8,6.8,10.88,16.32,12.24,10.88,6.8,16.32,25.84,25.84,25.84,6.8,6.8],\"xaxis\":\"x2\",\"yaxis\":\"y2\",\"type\":\"box\"}],                        {\"template\":{\"data\":{\"barpolar\":[{\"marker\":{\"line\":{\"color\":\"white\",\"width\":0.5},\"pattern\":{\"fillmode\":\"overlay\",\"size\":10,\"solidity\":0.2}},\"type\":\"barpolar\"}],\"bar\":[{\"error_x\":{\"color\":\"#2a3f5f\"},\"error_y\":{\"color\":\"#2a3f5f\"},\"marker\":{\"line\":{\"color\":\"white\",\"width\":0.5},\"pattern\":{\"fillmode\":\"overlay\",\"size\":10,\"solidity\":0.2}},\"type\":\"bar\"}],\"carpet\":[{\"aaxis\":{\"endlinecolor\":\"#2a3f5f\",\"gridcolor\":\"#C8D4E3\",\"linecolor\":\"#C8D4E3\",\"minorgridcolor\":\"#C8D4E3\",\"startlinecolor\":\"#2a3f5f\"},\"baxis\":{\"endlinecolor\":\"#2a3f5f\",\"gridcolor\":\"#C8D4E3\",\"linecolor\":\"#C8D4E3\",\"minorgridcolor\":\"#C8D4E3\",\"startlinecolor\":\"#2a3f5f\"},\"type\":\"carpet\"}],\"choropleth\":[{\"colorbar\":{\"outlinewidth\":0,\"ticks\":\"\"},\"type\":\"choropleth\"}],\"contourcarpet\":[{\"colorbar\":{\"outlinewidth\":0,\"ticks\":\"\"},\"type\":\"contourcarpet\"}],\"contour\":[{\"colorbar\":{\"outlinewidth\":0,\"ticks\":\"\"},\"colorscale\":[[0.0,\"#0d0887\"],[0.1111111111111111,\"#46039f\"],[0.2222222222222222,\"#7201a8\"],[0.3333333333333333,\"#9c179e\"],[0.4444444444444444,\"#bd3786\"],[0.5555555555555556,\"#d8576b\"],[0.6666666666666666,\"#ed7953\"],[0.7777777777777778,\"#fb9f3a\"],[0.8888888888888888,\"#fdca26\"],[1.0,\"#f0f921\"]],\"type\":\"contour\"}],\"heatmapgl\":[{\"colorbar\":{\"outlinewidth\":0,\"ticks\":\"\"},\"colorscale\":[[0.0,\"#0d0887\"],[0.1111111111111111,\"#46039f\"],[0.2222222222222222,\"#7201a8\"],[0.3333333333333333,\"#9c179e\"],[0.4444444444444444,\"#bd3786\"],[0.5555555555555556,\"#d8576b\"],[0.6666666666666666,\"#ed7953\"],[0.7777777777777778,\"#fb9f3a\"],[0.8888888888888888,\"#fdca26\"],[1.0,\"#f0f921\"]],\"type\":\"heatmapgl\"}],\"heatmap\":[{\"colorbar\":{\"outlinewidth\":0,\"ticks\":\"\"},\"colorscale\":[[0.0,\"#0d0887\"],[0.1111111111111111,\"#46039f\"],[0.2222222222222222,\"#7201a8\"],[0.3333333333333333,\"#9c179e\"],[0.4444444444444444,\"#bd3786\"],[0.5555555555555556,\"#d8576b\"],[0.6666666666666666,\"#ed7953\"],[0.7777777777777778,\"#fb9f3a\"],[0.8888888888888888,\"#fdca26\"],[1.0,\"#f0f921\"]],\"type\":\"heatmap\"}],\"histogram2dcontour\":[{\"colorbar\":{\"outlinewidth\":0,\"ticks\":\"\"},\"colorscale\":[[0.0,\"#0d0887\"],[0.1111111111111111,\"#46039f\"],[0.2222222222222222,\"#7201a8\"],[0.3333333333333333,\"#9c179e\"],[0.4444444444444444,\"#bd3786\"],[0.5555555555555556,\"#d8576b\"],[0.6666666666666666,\"#ed7953\"],[0.7777777777777778,\"#fb9f3a\"],[0.8888888888888888,\"#fdca26\"],[1.0,\"#f0f921\"]],\"type\":\"histogram2dcontour\"}],\"histogram2d\":[{\"colorbar\":{\"outlinewidth\":0,\"ticks\":\"\"},\"colorscale\":[[0.0,\"#0d0887\"],[0.1111111111111111,\"#46039f\"],[0.2222222222222222,\"#7201a8\"],[0.3333333333333333,\"#9c179e\"],[0.4444444444444444,\"#bd3786\"],[0.5555555555555556,\"#d8576b\"],[0.6666666666666666,\"#ed7953\"],[0.7777777777777778,\"#fb9f3a\"],[0.8888888888888888,\"#fdca26\"],[1.0,\"#f0f921\"]],\"type\":\"histogram2d\"}],\"histogram\":[{\"marker\":{\"pattern\":{\"fillmode\":\"overlay\",\"size\":10,\"solidity\":0.2}},\"type\":\"histogram\"}],\"mesh3d\":[{\"colorbar\":{\"outlinewidth\":0,\"ticks\":\"\"},\"type\":\"mesh3d\"}],\"parcoords\":[{\"line\":{\"colorbar\":{\"outlinewidth\":0,\"ticks\":\"\"}},\"type\":\"parcoords\"}],\"pie\":[{\"automargin\":true,\"type\":\"pie\"}],\"scatter3d\":[{\"line\":{\"colorbar\":{\"outlinewidth\":0,\"ticks\":\"\"}},\"marker\":{\"colorbar\":{\"outlinewidth\":0,\"ticks\":\"\"}},\"type\":\"scatter3d\"}],\"scattercarpet\":[{\"marker\":{\"colorbar\":{\"outlinewidth\":0,\"ticks\":\"\"}},\"type\":\"scattercarpet\"}],\"scattergeo\":[{\"marker\":{\"colorbar\":{\"outlinewidth\":0,\"ticks\":\"\"}},\"type\":\"scattergeo\"}],\"scattergl\":[{\"marker\":{\"colorbar\":{\"outlinewidth\":0,\"ticks\":\"\"}},\"type\":\"scattergl\"}],\"scattermapbox\":[{\"marker\":{\"colorbar\":{\"outlinewidth\":0,\"ticks\":\"\"}},\"type\":\"scattermapbox\"}],\"scatterpolargl\":[{\"marker\":{\"colorbar\":{\"outlinewidth\":0,\"ticks\":\"\"}},\"type\":\"scatterpolargl\"}],\"scatterpolar\":[{\"marker\":{\"colorbar\":{\"outlinewidth\":0,\"ticks\":\"\"}},\"type\":\"scatterpolar\"}],\"scatter\":[{\"fillpattern\":{\"fillmode\":\"overlay\",\"size\":10,\"solidity\":0.2},\"type\":\"scatter\"}],\"scatterternary\":[{\"marker\":{\"colorbar\":{\"outlinewidth\":0,\"ticks\":\"\"}},\"type\":\"scatterternary\"}],\"surface\":[{\"colorbar\":{\"outlinewidth\":0,\"ticks\":\"\"},\"colorscale\":[[0.0,\"#0d0887\"],[0.1111111111111111,\"#46039f\"],[0.2222222222222222,\"#7201a8\"],[0.3333333333333333,\"#9c179e\"],[0.4444444444444444,\"#bd3786\"],[0.5555555555555556,\"#d8576b\"],[0.6666666666666666,\"#ed7953\"],[0.7777777777777778,\"#fb9f3a\"],[0.8888888888888888,\"#fdca26\"],[1.0,\"#f0f921\"]],\"type\":\"surface\"}],\"table\":[{\"cells\":{\"fill\":{\"color\":\"#EBF0F8\"},\"line\":{\"color\":\"white\"}},\"header\":{\"fill\":{\"color\":\"#C8D4E3\"},\"line\":{\"color\":\"white\"}},\"type\":\"table\"}]},\"layout\":{\"annotationdefaults\":{\"arrowcolor\":\"#2a3f5f\",\"arrowhead\":0,\"arrowwidth\":1},\"autotypenumbers\":\"strict\",\"coloraxis\":{\"colorbar\":{\"outlinewidth\":0,\"ticks\":\"\"}},\"colorscale\":{\"diverging\":[[0,\"#8e0152\"],[0.1,\"#c51b7d\"],[0.2,\"#de77ae\"],[0.3,\"#f1b6da\"],[0.4,\"#fde0ef\"],[0.5,\"#f7f7f7\"],[0.6,\"#e6f5d0\"],[0.7,\"#b8e186\"],[0.8,\"#7fbc41\"],[0.9,\"#4d9221\"],[1,\"#276419\"]],\"sequential\":[[0.0,\"#0d0887\"],[0.1111111111111111,\"#46039f\"],[0.2222222222222222,\"#7201a8\"],[0.3333333333333333,\"#9c179e\"],[0.4444444444444444,\"#bd3786\"],[0.5555555555555556,\"#d8576b\"],[0.6666666666666666,\"#ed7953\"],[0.7777777777777778,\"#fb9f3a\"],[0.8888888888888888,\"#fdca26\"],[1.0,\"#f0f921\"]],\"sequentialminus\":[[0.0,\"#0d0887\"],[0.1111111111111111,\"#46039f\"],[0.2222222222222222,\"#7201a8\"],[0.3333333333333333,\"#9c179e\"],[0.4444444444444444,\"#bd3786\"],[0.5555555555555556,\"#d8576b\"],[0.6666666666666666,\"#ed7953\"],[0.7777777777777778,\"#fb9f3a\"],[0.8888888888888888,\"#fdca26\"],[1.0,\"#f0f921\"]]},\"colorway\":[\"#636efa\",\"#EF553B\",\"#00cc96\",\"#ab63fa\",\"#FFA15A\",\"#19d3f3\",\"#FF6692\",\"#B6E880\",\"#FF97FF\",\"#FECB52\"],\"font\":{\"color\":\"#2a3f5f\"},\"geo\":{\"bgcolor\":\"white\",\"lakecolor\":\"white\",\"landcolor\":\"white\",\"showlakes\":true,\"showland\":true,\"subunitcolor\":\"#C8D4E3\"},\"hoverlabel\":{\"align\":\"left\"},\"hovermode\":\"closest\",\"mapbox\":{\"style\":\"light\"},\"paper_bgcolor\":\"white\",\"plot_bgcolor\":\"white\",\"polar\":{\"angularaxis\":{\"gridcolor\":\"#EBF0F8\",\"linecolor\":\"#EBF0F8\",\"ticks\":\"\"},\"bgcolor\":\"white\",\"radialaxis\":{\"gridcolor\":\"#EBF0F8\",\"linecolor\":\"#EBF0F8\",\"ticks\":\"\"}},\"scene\":{\"xaxis\":{\"backgroundcolor\":\"white\",\"gridcolor\":\"#DFE8F3\",\"gridwidth\":2,\"linecolor\":\"#EBF0F8\",\"showbackground\":true,\"ticks\":\"\",\"zerolinecolor\":\"#EBF0F8\"},\"yaxis\":{\"backgroundcolor\":\"white\",\"gridcolor\":\"#DFE8F3\",\"gridwidth\":2,\"linecolor\":\"#EBF0F8\",\"showbackground\":true,\"ticks\":\"\",\"zerolinecolor\":\"#EBF0F8\"},\"zaxis\":{\"backgroundcolor\":\"white\",\"gridcolor\":\"#DFE8F3\",\"gridwidth\":2,\"linecolor\":\"#EBF0F8\",\"showbackground\":true,\"ticks\":\"\",\"zerolinecolor\":\"#EBF0F8\"}},\"shapedefaults\":{\"line\":{\"color\":\"#2a3f5f\"}},\"ternary\":{\"aaxis\":{\"gridcolor\":\"#DFE8F3\",\"linecolor\":\"#A2B1C6\",\"ticks\":\"\"},\"baxis\":{\"gridcolor\":\"#DFE8F3\",\"linecolor\":\"#A2B1C6\",\"ticks\":\"\"},\"bgcolor\":\"white\",\"caxis\":{\"gridcolor\":\"#DFE8F3\",\"linecolor\":\"#A2B1C6\",\"ticks\":\"\"}},\"title\":{\"x\":0.05},\"xaxis\":{\"automargin\":true,\"gridcolor\":\"#EBF0F8\",\"linecolor\":\"#EBF0F8\",\"ticks\":\"\",\"title\":{\"standoff\":15},\"zerolinecolor\":\"#EBF0F8\",\"zerolinewidth\":2},\"yaxis\":{\"automargin\":true,\"gridcolor\":\"#EBF0F8\",\"linecolor\":\"#EBF0F8\",\"ticks\":\"\",\"title\":{\"standoff\":15},\"zerolinecolor\":\"#EBF0F8\",\"zerolinewidth\":2}}},\"xaxis\":{\"anchor\":\"y\",\"domain\":[0.0,1.0],\"title\":{\"text\":\"Price ($)\"}},\"yaxis\":{\"anchor\":\"x\",\"domain\":[0.0,0.8316],\"title\":{\"text\":\"Number of Products\"}},\"xaxis2\":{\"anchor\":\"y2\",\"domain\":[0.0,1.0],\"matches\":\"x\",\"showticklabels\":false,\"showgrid\":true},\"yaxis2\":{\"anchor\":\"x2\",\"domain\":[0.8416,1.0],\"matches\":\"y2\",\"showticklabels\":false,\"showline\":false,\"ticks\":\"\",\"showgrid\":false},\"legend\":{\"tracegroupgap\":0},\"title\":{\"text\":\"Distribution of Product Prices ($)\"},\"barmode\":\"relative\",\"bargap\":0.1},                        {\"responsive\": true}                    ).then(function(){\n",
       "                            \n",
       "var gd = document.getElementById('b124cfdb-65a3-45b5-b802-9702309a45b2');\n",
       "var x = new MutationObserver(function (mutations, observer) {{\n",
       "        var display = window.getComputedStyle(gd).display;\n",
       "        if (!display || display === 'none') {{\n",
       "            console.log([gd, 'removed!']);\n",
       "            Plotly.purge(gd);\n",
       "            observer.disconnect();\n",
       "        }}\n",
       "}});\n",
       "\n",
       "// Listen for the removal of the full notebook cells\n",
       "var notebookContainer = gd.closest('#notebook-container');\n",
       "if (notebookContainer) {{\n",
       "    x.observe(notebookContainer, {childList: true});\n",
       "}}\n",
       "\n",
       "// Listen for the clearing of the current output cell\n",
       "var outputEl = gd.closest('.output');\n",
       "if (outputEl) {{\n",
       "    x.observe(outputEl, {childList: true});\n",
       "}}\n",
       "\n",
       "                        })                };                });            </script>        </div>"
      ]
     },
     "metadata": {},
     "output_type": "display_data"
    }
   ],
   "source": [
    "df['Price ($)'] = pd.to_numeric(df['Price ($)'], errors='coerce')\n",
    "\n",
    "df_clean = df.dropna(subset=['Price ($)'])\n",
    "\n",
    "fig = px.histogram(\n",
    "    df_clean,\n",
    "    x='Price ($)',\n",
    "    nbins=10,\n",
    "    title='Distribution of Product Prices ($)',\n",
    "    labels={'Price ($)': 'Price ($)'},\n",
    "    color_discrete_sequence=['purple'],\n",
    "    marginal='rug'\n",
    ")\n",
    "\n",
    "fig.update_layout(\n",
    "    xaxis_title='Price ($)',\n",
    "    yaxis_title='Number of Products',\n",
    "    bargap=0.1,\n",
    "    template='plotly_white'\n",
    ")\n",
    "\n",
    "fig.show()\n"
   ]
  },
  {
   "cell_type": "markdown",
   "id": "966a55c8-67a6-4447-88f8-6ca0ba028747",
   "metadata": {},
   "source": [
    "## Top 10 Most Expensive Chocolate Products ($)"
   ]
  },
  {
   "cell_type": "code",
   "execution_count": 17,
   "id": "095c9b02-b186-4d1d-9a28-748cb18899bd",
   "metadata": {},
   "outputs": [
    {
     "data": {
      "application/vnd.plotly.v1+json": {
       "config": {
        "plotlyServerURL": "https://plot.ly"
       },
       "data": [
        {
         "alignmentgroup": "True",
         "hovertemplate": "Price ($)=%{x}<br>Product Name=%{y}<extra></extra>",
         "legendgroup": "",
         "marker": {
          "color": "purple",
          "pattern": {
           "shape": ""
          }
         },
         "name": "",
         "offsetgroup": "",
         "orientation": "h",
         "showlegend": false,
         "textposition": "auto",
         "type": "bar",
         "x": [
          68,
          68,
          34,
          25.84,
          25.84,
          25.84,
          25.84,
          25.84,
          25.84,
          25.84
         ],
         "xaxis": "x",
         "y": [
          "2.5Kg Bulk 41% Milk Hot Chocolate Drops",
          "2.5Kg Bulk 61% Dark Hot Chocolate Drops",
          "Hot Chocolate Shaker",
          "Blonde Chocolate Truffles",
          "Dark Chocolate Truffles",
          "Marc De Champagne Truffles",
          "Milk Chocolate Truffles",
          "Salted Caramels Blonde Chocolate",
          "Salted Caramels Dark Chocolate",
          "Salted Caramels Milk Chocolate"
         ],
         "yaxis": "y"
        }
       ],
       "layout": {
        "autosize": true,
        "barmode": "relative",
        "legend": {
         "tracegroupgap": 0
        },
        "template": {
         "data": {
          "bar": [
           {
            "error_x": {
             "color": "#2a3f5f"
            },
            "error_y": {
             "color": "#2a3f5f"
            },
            "marker": {
             "line": {
              "color": "white",
              "width": 0.5
             },
             "pattern": {
              "fillmode": "overlay",
              "size": 10,
              "solidity": 0.2
             }
            },
            "type": "bar"
           }
          ],
          "barpolar": [
           {
            "marker": {
             "line": {
              "color": "white",
              "width": 0.5
             },
             "pattern": {
              "fillmode": "overlay",
              "size": 10,
              "solidity": 0.2
             }
            },
            "type": "barpolar"
           }
          ],
          "carpet": [
           {
            "aaxis": {
             "endlinecolor": "#2a3f5f",
             "gridcolor": "#C8D4E3",
             "linecolor": "#C8D4E3",
             "minorgridcolor": "#C8D4E3",
             "startlinecolor": "#2a3f5f"
            },
            "baxis": {
             "endlinecolor": "#2a3f5f",
             "gridcolor": "#C8D4E3",
             "linecolor": "#C8D4E3",
             "minorgridcolor": "#C8D4E3",
             "startlinecolor": "#2a3f5f"
            },
            "type": "carpet"
           }
          ],
          "choropleth": [
           {
            "colorbar": {
             "outlinewidth": 0,
             "ticks": ""
            },
            "type": "choropleth"
           }
          ],
          "contour": [
           {
            "colorbar": {
             "outlinewidth": 0,
             "ticks": ""
            },
            "colorscale": [
             [
              0,
              "#0d0887"
             ],
             [
              0.1111111111111111,
              "#46039f"
             ],
             [
              0.2222222222222222,
              "#7201a8"
             ],
             [
              0.3333333333333333,
              "#9c179e"
             ],
             [
              0.4444444444444444,
              "#bd3786"
             ],
             [
              0.5555555555555556,
              "#d8576b"
             ],
             [
              0.6666666666666666,
              "#ed7953"
             ],
             [
              0.7777777777777778,
              "#fb9f3a"
             ],
             [
              0.8888888888888888,
              "#fdca26"
             ],
             [
              1,
              "#f0f921"
             ]
            ],
            "type": "contour"
           }
          ],
          "contourcarpet": [
           {
            "colorbar": {
             "outlinewidth": 0,
             "ticks": ""
            },
            "type": "contourcarpet"
           }
          ],
          "heatmap": [
           {
            "colorbar": {
             "outlinewidth": 0,
             "ticks": ""
            },
            "colorscale": [
             [
              0,
              "#0d0887"
             ],
             [
              0.1111111111111111,
              "#46039f"
             ],
             [
              0.2222222222222222,
              "#7201a8"
             ],
             [
              0.3333333333333333,
              "#9c179e"
             ],
             [
              0.4444444444444444,
              "#bd3786"
             ],
             [
              0.5555555555555556,
              "#d8576b"
             ],
             [
              0.6666666666666666,
              "#ed7953"
             ],
             [
              0.7777777777777778,
              "#fb9f3a"
             ],
             [
              0.8888888888888888,
              "#fdca26"
             ],
             [
              1,
              "#f0f921"
             ]
            ],
            "type": "heatmap"
           }
          ],
          "heatmapgl": [
           {
            "colorbar": {
             "outlinewidth": 0,
             "ticks": ""
            },
            "colorscale": [
             [
              0,
              "#0d0887"
             ],
             [
              0.1111111111111111,
              "#46039f"
             ],
             [
              0.2222222222222222,
              "#7201a8"
             ],
             [
              0.3333333333333333,
              "#9c179e"
             ],
             [
              0.4444444444444444,
              "#bd3786"
             ],
             [
              0.5555555555555556,
              "#d8576b"
             ],
             [
              0.6666666666666666,
              "#ed7953"
             ],
             [
              0.7777777777777778,
              "#fb9f3a"
             ],
             [
              0.8888888888888888,
              "#fdca26"
             ],
             [
              1,
              "#f0f921"
             ]
            ],
            "type": "heatmapgl"
           }
          ],
          "histogram": [
           {
            "marker": {
             "pattern": {
              "fillmode": "overlay",
              "size": 10,
              "solidity": 0.2
             }
            },
            "type": "histogram"
           }
          ],
          "histogram2d": [
           {
            "colorbar": {
             "outlinewidth": 0,
             "ticks": ""
            },
            "colorscale": [
             [
              0,
              "#0d0887"
             ],
             [
              0.1111111111111111,
              "#46039f"
             ],
             [
              0.2222222222222222,
              "#7201a8"
             ],
             [
              0.3333333333333333,
              "#9c179e"
             ],
             [
              0.4444444444444444,
              "#bd3786"
             ],
             [
              0.5555555555555556,
              "#d8576b"
             ],
             [
              0.6666666666666666,
              "#ed7953"
             ],
             [
              0.7777777777777778,
              "#fb9f3a"
             ],
             [
              0.8888888888888888,
              "#fdca26"
             ],
             [
              1,
              "#f0f921"
             ]
            ],
            "type": "histogram2d"
           }
          ],
          "histogram2dcontour": [
           {
            "colorbar": {
             "outlinewidth": 0,
             "ticks": ""
            },
            "colorscale": [
             [
              0,
              "#0d0887"
             ],
             [
              0.1111111111111111,
              "#46039f"
             ],
             [
              0.2222222222222222,
              "#7201a8"
             ],
             [
              0.3333333333333333,
              "#9c179e"
             ],
             [
              0.4444444444444444,
              "#bd3786"
             ],
             [
              0.5555555555555556,
              "#d8576b"
             ],
             [
              0.6666666666666666,
              "#ed7953"
             ],
             [
              0.7777777777777778,
              "#fb9f3a"
             ],
             [
              0.8888888888888888,
              "#fdca26"
             ],
             [
              1,
              "#f0f921"
             ]
            ],
            "type": "histogram2dcontour"
           }
          ],
          "mesh3d": [
           {
            "colorbar": {
             "outlinewidth": 0,
             "ticks": ""
            },
            "type": "mesh3d"
           }
          ],
          "parcoords": [
           {
            "line": {
             "colorbar": {
              "outlinewidth": 0,
              "ticks": ""
             }
            },
            "type": "parcoords"
           }
          ],
          "pie": [
           {
            "automargin": true,
            "type": "pie"
           }
          ],
          "scatter": [
           {
            "fillpattern": {
             "fillmode": "overlay",
             "size": 10,
             "solidity": 0.2
            },
            "type": "scatter"
           }
          ],
          "scatter3d": [
           {
            "line": {
             "colorbar": {
              "outlinewidth": 0,
              "ticks": ""
             }
            },
            "marker": {
             "colorbar": {
              "outlinewidth": 0,
              "ticks": ""
             }
            },
            "type": "scatter3d"
           }
          ],
          "scattercarpet": [
           {
            "marker": {
             "colorbar": {
              "outlinewidth": 0,
              "ticks": ""
             }
            },
            "type": "scattercarpet"
           }
          ],
          "scattergeo": [
           {
            "marker": {
             "colorbar": {
              "outlinewidth": 0,
              "ticks": ""
             }
            },
            "type": "scattergeo"
           }
          ],
          "scattergl": [
           {
            "marker": {
             "colorbar": {
              "outlinewidth": 0,
              "ticks": ""
             }
            },
            "type": "scattergl"
           }
          ],
          "scattermapbox": [
           {
            "marker": {
             "colorbar": {
              "outlinewidth": 0,
              "ticks": ""
             }
            },
            "type": "scattermapbox"
           }
          ],
          "scatterpolar": [
           {
            "marker": {
             "colorbar": {
              "outlinewidth": 0,
              "ticks": ""
             }
            },
            "type": "scatterpolar"
           }
          ],
          "scatterpolargl": [
           {
            "marker": {
             "colorbar": {
              "outlinewidth": 0,
              "ticks": ""
             }
            },
            "type": "scatterpolargl"
           }
          ],
          "scatterternary": [
           {
            "marker": {
             "colorbar": {
              "outlinewidth": 0,
              "ticks": ""
             }
            },
            "type": "scatterternary"
           }
          ],
          "surface": [
           {
            "colorbar": {
             "outlinewidth": 0,
             "ticks": ""
            },
            "colorscale": [
             [
              0,
              "#0d0887"
             ],
             [
              0.1111111111111111,
              "#46039f"
             ],
             [
              0.2222222222222222,
              "#7201a8"
             ],
             [
              0.3333333333333333,
              "#9c179e"
             ],
             [
              0.4444444444444444,
              "#bd3786"
             ],
             [
              0.5555555555555556,
              "#d8576b"
             ],
             [
              0.6666666666666666,
              "#ed7953"
             ],
             [
              0.7777777777777778,
              "#fb9f3a"
             ],
             [
              0.8888888888888888,
              "#fdca26"
             ],
             [
              1,
              "#f0f921"
             ]
            ],
            "type": "surface"
           }
          ],
          "table": [
           {
            "cells": {
             "fill": {
              "color": "#EBF0F8"
             },
             "line": {
              "color": "white"
             }
            },
            "header": {
             "fill": {
              "color": "#C8D4E3"
             },
             "line": {
              "color": "white"
             }
            },
            "type": "table"
           }
          ]
         },
         "layout": {
          "annotationdefaults": {
           "arrowcolor": "#2a3f5f",
           "arrowhead": 0,
           "arrowwidth": 1
          },
          "autotypenumbers": "strict",
          "coloraxis": {
           "colorbar": {
            "outlinewidth": 0,
            "ticks": ""
           }
          },
          "colorscale": {
           "diverging": [
            [
             0,
             "#8e0152"
            ],
            [
             0.1,
             "#c51b7d"
            ],
            [
             0.2,
             "#de77ae"
            ],
            [
             0.3,
             "#f1b6da"
            ],
            [
             0.4,
             "#fde0ef"
            ],
            [
             0.5,
             "#f7f7f7"
            ],
            [
             0.6,
             "#e6f5d0"
            ],
            [
             0.7,
             "#b8e186"
            ],
            [
             0.8,
             "#7fbc41"
            ],
            [
             0.9,
             "#4d9221"
            ],
            [
             1,
             "#276419"
            ]
           ],
           "sequential": [
            [
             0,
             "#0d0887"
            ],
            [
             0.1111111111111111,
             "#46039f"
            ],
            [
             0.2222222222222222,
             "#7201a8"
            ],
            [
             0.3333333333333333,
             "#9c179e"
            ],
            [
             0.4444444444444444,
             "#bd3786"
            ],
            [
             0.5555555555555556,
             "#d8576b"
            ],
            [
             0.6666666666666666,
             "#ed7953"
            ],
            [
             0.7777777777777778,
             "#fb9f3a"
            ],
            [
             0.8888888888888888,
             "#fdca26"
            ],
            [
             1,
             "#f0f921"
            ]
           ],
           "sequentialminus": [
            [
             0,
             "#0d0887"
            ],
            [
             0.1111111111111111,
             "#46039f"
            ],
            [
             0.2222222222222222,
             "#7201a8"
            ],
            [
             0.3333333333333333,
             "#9c179e"
            ],
            [
             0.4444444444444444,
             "#bd3786"
            ],
            [
             0.5555555555555556,
             "#d8576b"
            ],
            [
             0.6666666666666666,
             "#ed7953"
            ],
            [
             0.7777777777777778,
             "#fb9f3a"
            ],
            [
             0.8888888888888888,
             "#fdca26"
            ],
            [
             1,
             "#f0f921"
            ]
           ]
          },
          "colorway": [
           "#636efa",
           "#EF553B",
           "#00cc96",
           "#ab63fa",
           "#FFA15A",
           "#19d3f3",
           "#FF6692",
           "#B6E880",
           "#FF97FF",
           "#FECB52"
          ],
          "font": {
           "color": "#2a3f5f"
          },
          "geo": {
           "bgcolor": "white",
           "lakecolor": "white",
           "landcolor": "white",
           "showlakes": true,
           "showland": true,
           "subunitcolor": "#C8D4E3"
          },
          "hoverlabel": {
           "align": "left"
          },
          "hovermode": "closest",
          "mapbox": {
           "style": "light"
          },
          "paper_bgcolor": "white",
          "plot_bgcolor": "white",
          "polar": {
           "angularaxis": {
            "gridcolor": "#EBF0F8",
            "linecolor": "#EBF0F8",
            "ticks": ""
           },
           "bgcolor": "white",
           "radialaxis": {
            "gridcolor": "#EBF0F8",
            "linecolor": "#EBF0F8",
            "ticks": ""
           }
          },
          "scene": {
           "xaxis": {
            "backgroundcolor": "white",
            "gridcolor": "#DFE8F3",
            "gridwidth": 2,
            "linecolor": "#EBF0F8",
            "showbackground": true,
            "ticks": "",
            "zerolinecolor": "#EBF0F8"
           },
           "yaxis": {
            "backgroundcolor": "white",
            "gridcolor": "#DFE8F3",
            "gridwidth": 2,
            "linecolor": "#EBF0F8",
            "showbackground": true,
            "ticks": "",
            "zerolinecolor": "#EBF0F8"
           },
           "zaxis": {
            "backgroundcolor": "white",
            "gridcolor": "#DFE8F3",
            "gridwidth": 2,
            "linecolor": "#EBF0F8",
            "showbackground": true,
            "ticks": "",
            "zerolinecolor": "#EBF0F8"
           }
          },
          "shapedefaults": {
           "line": {
            "color": "#2a3f5f"
           }
          },
          "ternary": {
           "aaxis": {
            "gridcolor": "#DFE8F3",
            "linecolor": "#A2B1C6",
            "ticks": ""
           },
           "baxis": {
            "gridcolor": "#DFE8F3",
            "linecolor": "#A2B1C6",
            "ticks": ""
           },
           "bgcolor": "white",
           "caxis": {
            "gridcolor": "#DFE8F3",
            "linecolor": "#A2B1C6",
            "ticks": ""
           }
          },
          "title": {
           "x": 0.05
          },
          "xaxis": {
           "automargin": true,
           "gridcolor": "#EBF0F8",
           "linecolor": "#EBF0F8",
           "ticks": "",
           "title": {
            "standoff": 15
           },
           "zerolinecolor": "#EBF0F8",
           "zerolinewidth": 2
          },
          "yaxis": {
           "automargin": true,
           "gridcolor": "#EBF0F8",
           "linecolor": "#EBF0F8",
           "ticks": "",
           "title": {
            "standoff": 15
           },
           "zerolinecolor": "#EBF0F8",
           "zerolinewidth": 2
          }
         }
        },
        "title": {
         "text": "Top 10 Most Expensive Chocolate Products ($)"
        },
        "xaxis": {
         "anchor": "y",
         "autorange": true,
         "domain": [
          0,
          1
         ],
         "range": [
          0,
          71.57894736842105
         ],
         "title": {
          "text": "Price ($)"
         },
         "type": "linear"
        },
        "yaxis": {
         "anchor": "x",
         "autorange": true,
         "domain": [
          0,
          1
         ],
         "range": [
          9.5,
          -0.5
         ],
         "title": {
          "text": "Product Name"
         },
         "type": "category"
        }
       }
      },
      "image/png": "[encoded data removed]",
      "text/html": [
       "<div>                            <div id=\"c0396e0c-b5dd-4fbf-8a22-608bc9a83109\" class=\"plotly-graph-div\" style=\"height:525px; width:100%;\"></div>            <script type=\"text/javascript\">                require([\"plotly\"], function(Plotly) {                    window.PLOTLYENV=window.PLOTLYENV || {};                                    if (document.getElementById(\"c0396e0c-b5dd-4fbf-8a22-608bc9a83109\")) {                    Plotly.newPlot(                        \"c0396e0c-b5dd-4fbf-8a22-608bc9a83109\",                        [{\"alignmentgroup\":\"True\",\"hovertemplate\":\"Price ($)=%{x}<br>Product Name=%{y}<extra></extra>\",\"legendgroup\":\"\",\"marker\":{\"color\":\"purple\",\"pattern\":{\"shape\":\"\"}},\"name\":\"\",\"offsetgroup\":\"\",\"orientation\":\"h\",\"showlegend\":false,\"textposition\":\"auto\",\"x\":[68.0,68.0,34.0,25.84,25.84,25.84,25.84,25.84,25.84,25.84],\"xaxis\":\"x\",\"y\":[\"2.5Kg Bulk 41% Milk Hot Chocolate Drops\",\"2.5Kg Bulk 61% Dark Hot Chocolate Drops\",\"Hot Chocolate Shaker\",\"Blonde Chocolate Truffles\",\"Dark Chocolate Truffles\",\"Marc De Champagne Truffles\",\"Milk Chocolate Truffles\",\"Salted Caramels Blonde Chocolate\",\"Salted Caramels Dark Chocolate\",\"Salted Caramels Milk Chocolate\"],\"yaxis\":\"y\",\"type\":\"bar\"}],                        {\"template\":{\"data\":{\"barpolar\":[{\"marker\":{\"line\":{\"color\":\"white\",\"width\":0.5},\"pattern\":{\"fillmode\":\"overlay\",\"size\":10,\"solidity\":0.2}},\"type\":\"barpolar\"}],\"bar\":[{\"error_x\":{\"color\":\"#2a3f5f\"},\"error_y\":{\"color\":\"#2a3f5f\"},\"marker\":{\"line\":{\"color\":\"white\",\"width\":0.5},\"pattern\":{\"fillmode\":\"overlay\",\"size\":10,\"solidity\":0.2}},\"type\":\"bar\"}],\"carpet\":[{\"aaxis\":{\"endlinecolor\":\"#2a3f5f\",\"gridcolor\":\"#C8D4E3\",\"linecolor\":\"#C8D4E3\",\"minorgridcolor\":\"#C8D4E3\",\"startlinecolor\":\"#2a3f5f\"},\"baxis\":{\"endlinecolor\":\"#2a3f5f\",\"gridcolor\":\"#C8D4E3\",\"linecolor\":\"#C8D4E3\",\"minorgridcolor\":\"#C8D4E3\",\"startlinecolor\":\"#2a3f5f\"},\"type\":\"carpet\"}],\"choropleth\":[{\"colorbar\":{\"outlinewidth\":0,\"ticks\":\"\"},\"type\":\"choropleth\"}],\"contourcarpet\":[{\"colorbar\":{\"outlinewidth\":0,\"ticks\":\"\"},\"type\":\"contourcarpet\"}],\"contour\":[{\"colorbar\":{\"outlinewidth\":0,\"ticks\":\"\"},\"colorscale\":[[0.0,\"#0d0887\"],[0.1111111111111111,\"#46039f\"],[0.2222222222222222,\"#7201a8\"],[0.3333333333333333,\"#9c179e\"],[0.4444444444444444,\"#bd3786\"],[0.5555555555555556,\"#d8576b\"],[0.6666666666666666,\"#ed7953\"],[0.7777777777777778,\"#fb9f3a\"],[0.8888888888888888,\"#fdca26\"],[1.0,\"#f0f921\"]],\"type\":\"contour\"}],\"heatmapgl\":[{\"colorbar\":{\"outlinewidth\":0,\"ticks\":\"\"},\"colorscale\":[[0.0,\"#0d0887\"],[0.1111111111111111,\"#46039f\"],[0.2222222222222222,\"#7201a8\"],[0.3333333333333333,\"#9c179e\"],[0.4444444444444444,\"#bd3786\"],[0.5555555555555556,\"#d8576b\"],[0.6666666666666666,\"#ed7953\"],[0.7777777777777778,\"#fb9f3a\"],[0.8888888888888888,\"#fdca26\"],[1.0,\"#f0f921\"]],\"type\":\"heatmapgl\"}],\"heatmap\":[{\"colorbar\":{\"outlinewidth\":0,\"ticks\":\"\"},\"colorscale\":[[0.0,\"#0d0887\"],[0.1111111111111111,\"#46039f\"],[0.2222222222222222,\"#7201a8\"],[0.3333333333333333,\"#9c179e\"],[0.4444444444444444,\"#bd3786\"],[0.5555555555555556,\"#d8576b\"],[0.6666666666666666,\"#ed7953\"],[0.7777777777777778,\"#fb9f3a\"],[0.8888888888888888,\"#fdca26\"],[1.0,\"#f0f921\"]],\"type\":\"heatmap\"}],\"histogram2dcontour\":[{\"colorbar\":{\"outlinewidth\":0,\"ticks\":\"\"},\"colorscale\":[[0.0,\"#0d0887\"],[0.1111111111111111,\"#46039f\"],[0.2222222222222222,\"#7201a8\"],[0.3333333333333333,\"#9c179e\"],[0.4444444444444444,\"#bd3786\"],[0.5555555555555556,\"#d8576b\"],[0.6666666666666666,\"#ed7953\"],[0.7777777777777778,\"#fb9f3a\"],[0.8888888888888888,\"#fdca26\"],[1.0,\"#f0f921\"]],\"type\":\"histogram2dcontour\"}],\"histogram2d\":[{\"colorbar\":{\"outlinewidth\":0,\"ticks\":\"\"},\"colorscale\":[[0.0,\"#0d0887\"],[0.1111111111111111,\"#46039f\"],[0.2222222222222222,\"#7201a8\"],[0.3333333333333333,\"#9c179e\"],[0.4444444444444444,\"#bd3786\"],[0.5555555555555556,\"#d8576b\"],[0.6666666666666666,\"#ed7953\"],[0.7777777777777778,\"#fb9f3a\"],[0.8888888888888888,\"#fdca26\"],[1.0,\"#f0f921\"]],\"type\":\"histogram2d\"}],\"histogram\":[{\"marker\":{\"pattern\":{\"fillmode\":\"overlay\",\"size\":10,\"solidity\":0.2}},\"type\":\"histogram\"}],\"mesh3d\":[{\"colorbar\":{\"outlinewidth\":0,\"ticks\":\"\"},\"type\":\"mesh3d\"}],\"parcoords\":[{\"line\":{\"colorbar\":{\"outlinewidth\":0,\"ticks\":\"\"}},\"type\":\"parcoords\"}],\"pie\":[{\"automargin\":true,\"type\":\"pie\"}],\"scatter3d\":[{\"line\":{\"colorbar\":{\"outlinewidth\":0,\"ticks\":\"\"}},\"marker\":{\"colorbar\":{\"outlinewidth\":0,\"ticks\":\"\"}},\"type\":\"scatter3d\"}],\"scattercarpet\":[{\"marker\":{\"colorbar\":{\"outlinewidth\":0,\"ticks\":\"\"}},\"type\":\"scattercarpet\"}],\"scattergeo\":[{\"marker\":{\"colorbar\":{\"outlinewidth\":0,\"ticks\":\"\"}},\"type\":\"scattergeo\"}],\"scattergl\":[{\"marker\":{\"colorbar\":{\"outlinewidth\":0,\"ticks\":\"\"}},\"type\":\"scattergl\"}],\"scattermapbox\":[{\"marker\":{\"colorbar\":{\"outlinewidth\":0,\"ticks\":\"\"}},\"type\":\"scattermapbox\"}],\"scatterpolargl\":[{\"marker\":{\"colorbar\":{\"outlinewidth\":0,\"ticks\":\"\"}},\"type\":\"scatterpolargl\"}],\"scatterpolar\":[{\"marker\":{\"colorbar\":{\"outlinewidth\":0,\"ticks\":\"\"}},\"type\":\"scatterpolar\"}],\"scatter\":[{\"fillpattern\":{\"fillmode\":\"overlay\",\"size\":10,\"solidity\":0.2},\"type\":\"scatter\"}],\"scatterternary\":[{\"marker\":{\"colorbar\":{\"outlinewidth\":0,\"ticks\":\"\"}},\"type\":\"scatterternary\"}],\"surface\":[{\"colorbar\":{\"outlinewidth\":0,\"ticks\":\"\"},\"colorscale\":[[0.0,\"#0d0887\"],[0.1111111111111111,\"#46039f\"],[0.2222222222222222,\"#7201a8\"],[0.3333333333333333,\"#9c179e\"],[0.4444444444444444,\"#bd3786\"],[0.5555555555555556,\"#d8576b\"],[0.6666666666666666,\"#ed7953\"],[0.7777777777777778,\"#fb9f3a\"],[0.8888888888888888,\"#fdca26\"],[1.0,\"#f0f921\"]],\"type\":\"surface\"}],\"table\":[{\"cells\":{\"fill\":{\"color\":\"#EBF0F8\"},\"line\":{\"color\":\"white\"}},\"header\":{\"fill\":{\"color\":\"#C8D4E3\"},\"line\":{\"color\":\"white\"}},\"type\":\"table\"}]},\"layout\":{\"annotationdefaults\":{\"arrowcolor\":\"#2a3f5f\",\"arrowhead\":0,\"arrowwidth\":1},\"autotypenumbers\":\"strict\",\"coloraxis\":{\"colorbar\":{\"outlinewidth\":0,\"ticks\":\"\"}},\"colorscale\":{\"diverging\":[[0,\"#8e0152\"],[0.1,\"#c51b7d\"],[0.2,\"#de77ae\"],[0.3,\"#f1b6da\"],[0.4,\"#fde0ef\"],[0.5,\"#f7f7f7\"],[0.6,\"#e6f5d0\"],[0.7,\"#b8e186\"],[0.8,\"#7fbc41\"],[0.9,\"#4d9221\"],[1,\"#276419\"]],\"sequential\":[[0.0,\"#0d0887\"],[0.1111111111111111,\"#46039f\"],[0.2222222222222222,\"#7201a8\"],[0.3333333333333333,\"#9c179e\"],[0.4444444444444444,\"#bd3786\"],[0.5555555555555556,\"#d8576b\"],[0.6666666666666666,\"#ed7953\"],[0.7777777777777778,\"#fb9f3a\"],[0.8888888888888888,\"#fdca26\"],[1.0,\"#f0f921\"]],\"sequentialminus\":[[0.0,\"#0d0887\"],[0.1111111111111111,\"#46039f\"],[0.2222222222222222,\"#7201a8\"],[0.3333333333333333,\"#9c179e\"],[0.4444444444444444,\"#bd3786\"],[0.5555555555555556,\"#d8576b\"],[0.6666666666666666,\"#ed7953\"],[0.7777777777777778,\"#fb9f3a\"],[0.8888888888888888,\"#fdca26\"],[1.0,\"#f0f921\"]]},\"colorway\":[\"#636efa\",\"#EF553B\",\"#00cc96\",\"#ab63fa\",\"#FFA15A\",\"#19d3f3\",\"#FF6692\",\"#B6E880\",\"#FF97FF\",\"#FECB52\"],\"font\":{\"color\":\"#2a3f5f\"},\"geo\":{\"bgcolor\":\"white\",\"lakecolor\":\"white\",\"landcolor\":\"white\",\"showlakes\":true,\"showland\":true,\"subunitcolor\":\"#C8D4E3\"},\"hoverlabel\":{\"align\":\"left\"},\"hovermode\":\"closest\",\"mapbox\":{\"style\":\"light\"},\"paper_bgcolor\":\"white\",\"plot_bgcolor\":\"white\",\"polar\":{\"angularaxis\":{\"gridcolor\":\"#EBF0F8\",\"linecolor\":\"#EBF0F8\",\"ticks\":\"\"},\"bgcolor\":\"white\",\"radialaxis\":{\"gridcolor\":\"#EBF0F8\",\"linecolor\":\"#EBF0F8\",\"ticks\":\"\"}},\"scene\":{\"xaxis\":{\"backgroundcolor\":\"white\",\"gridcolor\":\"#DFE8F3\",\"gridwidth\":2,\"linecolor\":\"#EBF0F8\",\"showbackground\":true,\"ticks\":\"\",\"zerolinecolor\":\"#EBF0F8\"},\"yaxis\":{\"backgroundcolor\":\"white\",\"gridcolor\":\"#DFE8F3\",\"gridwidth\":2,\"linecolor\":\"#EBF0F8\",\"showbackground\":true,\"ticks\":\"\",\"zerolinecolor\":\"#EBF0F8\"},\"zaxis\":{\"backgroundcolor\":\"white\",\"gridcolor\":\"#DFE8F3\",\"gridwidth\":2,\"linecolor\":\"#EBF0F8\",\"showbackground\":true,\"ticks\":\"\",\"zerolinecolor\":\"#EBF0F8\"}},\"shapedefaults\":{\"line\":{\"color\":\"#2a3f5f\"}},\"ternary\":{\"aaxis\":{\"gridcolor\":\"#DFE8F3\",\"linecolor\":\"#A2B1C6\",\"ticks\":\"\"},\"baxis\":{\"gridcolor\":\"#DFE8F3\",\"linecolor\":\"#A2B1C6\",\"ticks\":\"\"},\"bgcolor\":\"white\",\"caxis\":{\"gridcolor\":\"#DFE8F3\",\"linecolor\":\"#A2B1C6\",\"ticks\":\"\"}},\"title\":{\"x\":0.05},\"xaxis\":{\"automargin\":true,\"gridcolor\":\"#EBF0F8\",\"linecolor\":\"#EBF0F8\",\"ticks\":\"\",\"title\":{\"standoff\":15},\"zerolinecolor\":\"#EBF0F8\",\"zerolinewidth\":2},\"yaxis\":{\"automargin\":true,\"gridcolor\":\"#EBF0F8\",\"linecolor\":\"#EBF0F8\",\"ticks\":\"\",\"title\":{\"standoff\":15},\"zerolinecolor\":\"#EBF0F8\",\"zerolinewidth\":2}}},\"xaxis\":{\"anchor\":\"y\",\"domain\":[0.0,1.0],\"title\":{\"text\":\"Price ($)\"}},\"yaxis\":{\"anchor\":\"x\",\"domain\":[0.0,1.0],\"title\":{\"text\":\"Product Name\"},\"autorange\":\"reversed\"},\"legend\":{\"tracegroupgap\":0},\"title\":{\"text\":\"Top 10 Most Expensive Chocolate Products ($)\"},\"barmode\":\"relative\"},                        {\"responsive\": true}                    ).then(function(){\n",
       "                            \n",
       "var gd = document.getElementById('c0396e0c-b5dd-4fbf-8a22-608bc9a83109');\n",
       "var x = new MutationObserver(function (mutations, observer) {{\n",
       "        var display = window.getComputedStyle(gd).display;\n",
       "        if (!display || display === 'none') {{\n",
       "            console.log([gd, 'removed!']);\n",
       "            Plotly.purge(gd);\n",
       "            observer.disconnect();\n",
       "        }}\n",
       "}});\n",
       "\n",
       "// Listen for the removal of the full notebook cells\n",
       "var notebookContainer = gd.closest('#notebook-container');\n",
       "if (notebookContainer) {{\n",
       "    x.observe(notebookContainer, {childList: true});\n",
       "}}\n",
       "\n",
       "// Listen for the clearing of the current output cell\n",
       "var outputEl = gd.closest('.output');\n",
       "if (outputEl) {{\n",
       "    x.observe(outputEl, {childList: true});\n",
       "}}\n",
       "\n",
       "                        })                };                });            </script>        </div>"
      ]
     },
     "metadata": {},
     "output_type": "display_data"
    },
    {
     "data": {
      "application/vnd.plotly.v1+json": {
       "config": {
        "plotlyServerURL": "https://plot.ly"
       },
       "data": [
        {
         "alignmentgroup": "True",
         "hovertemplate": "Price ($)=%{x}<br>Product Name=%{y}<extra></extra>",
         "legendgroup": "",
         "marker": {
          "color": "purple",
          "pattern": {
           "shape": ""
          }
         },
         "name": "",
         "offsetgroup": "",
         "orientation": "h",
         "showlegend": false,
         "textposition": "auto",
         "type": "bar",
         "x": [
          1.36,
          6.8,
          6.8,
          6.8,
          6.8,
          6.8,
          6.8,
          6.8,
          6.8,
          6.8
         ],
         "xaxis": "x",
         "y": [
          "Almost Perfect",
          "Blonde Caramel",
          "Caramelised Milk",
          "Chai Caramel Latte",
          "Cinnamon Toast",
          "Colombia 61%",
          "Crunchy Biscuit",
          "Ecudorian 41%",
          "Flat White Coffee",
          "Ginger Biscuit"
         ],
         "yaxis": "y"
        }
       ],
       "layout": {
        "autosize": true,
        "barmode": "relative",
        "legend": {
         "tracegroupgap": 0
        },
        "template": {
         "data": {
          "bar": [
           {
            "error_x": {
             "color": "#2a3f5f"
            },
            "error_y": {
             "color": "#2a3f5f"
            },
            "marker": {
             "line": {
              "color": "white",
              "width": 0.5
             },
             "pattern": {
              "fillmode": "overlay",
              "size": 10,
              "solidity": 0.2
             }
            },
            "type": "bar"
           }
          ],
          "barpolar": [
           {
            "marker": {
             "line": {
              "color": "white",
              "width": 0.5
             },
             "pattern": {
              "fillmode": "overlay",
              "size": 10,
              "solidity": 0.2
             }
            },
            "type": "barpolar"
           }
          ],
          "carpet": [
           {
            "aaxis": {
             "endlinecolor": "#2a3f5f",
             "gridcolor": "#C8D4E3",
             "linecolor": "#C8D4E3",
             "minorgridcolor": "#C8D4E3",
             "startlinecolor": "#2a3f5f"
            },
            "baxis": {
             "endlinecolor": "#2a3f5f",
             "gridcolor": "#C8D4E3",
             "linecolor": "#C8D4E3",
             "minorgridcolor": "#C8D4E3",
             "startlinecolor": "#2a3f5f"
            },
            "type": "carpet"
           }
          ],
          "choropleth": [
           {
            "colorbar": {
             "outlinewidth": 0,
             "ticks": ""
            },
            "type": "choropleth"
           }
          ],
          "contour": [
           {
            "colorbar": {
             "outlinewidth": 0,
             "ticks": ""
            },
            "colorscale": [
             [
              0,
              "#0d0887"
             ],
             [
              0.1111111111111111,
              "#46039f"
             ],
             [
              0.2222222222222222,
              "#7201a8"
             ],
             [
              0.3333333333333333,
              "#9c179e"
             ],
             [
              0.4444444444444444,
              "#bd3786"
             ],
             [
              0.5555555555555556,
              "#d8576b"
             ],
             [
              0.6666666666666666,
              "#ed7953"
             ],
             [
              0.7777777777777778,
              "#fb9f3a"
             ],
             [
              0.8888888888888888,
              "#fdca26"
             ],
             [
              1,
              "#f0f921"
             ]
            ],
            "type": "contour"
           }
          ],
          "contourcarpet": [
           {
            "colorbar": {
             "outlinewidth": 0,
             "ticks": ""
            },
            "type": "contourcarpet"
           }
          ],
          "heatmap": [
           {
            "colorbar": {
             "outlinewidth": 0,
             "ticks": ""
            },
            "colorscale": [
             [
              0,
              "#0d0887"
             ],
             [
              0.1111111111111111,
              "#46039f"
             ],
             [
              0.2222222222222222,
              "#7201a8"
             ],
             [
              0.3333333333333333,
              "#9c179e"
             ],
             [
              0.4444444444444444,
              "#bd3786"
             ],
             [
              0.5555555555555556,
              "#d8576b"
             ],
             [
              0.6666666666666666,
              "#ed7953"
             ],
             [
              0.7777777777777778,
              "#fb9f3a"
             ],
             [
              0.8888888888888888,
              "#fdca26"
             ],
             [
              1,
              "#f0f921"
             ]
            ],
            "type": "heatmap"
           }
          ],
          "heatmapgl": [
           {
            "colorbar": {
             "outlinewidth": 0,
             "ticks": ""
            },
            "colorscale": [
             [
              0,
              "#0d0887"
             ],
             [
              0.1111111111111111,
              "#46039f"
             ],
             [
              0.2222222222222222,
              "#7201a8"
             ],
             [
              0.3333333333333333,
              "#9c179e"
             ],
             [
              0.4444444444444444,
              "#bd3786"
             ],
             [
              0.5555555555555556,
              "#d8576b"
             ],
             [
              0.6666666666666666,
              "#ed7953"
             ],
             [
              0.7777777777777778,
              "#fb9f3a"
             ],
             [
              0.8888888888888888,
              "#fdca26"
             ],
             [
              1,
              "#f0f921"
             ]
            ],
            "type": "heatmapgl"
           }
          ],
          "histogram": [
           {
            "marker": {
             "pattern": {
              "fillmode": "overlay",
              "size": 10,
              "solidity": 0.2
             }
            },
            "type": "histogram"
           }
          ],
          "histogram2d": [
           {
            "colorbar": {
             "outlinewidth": 0,
             "ticks": ""
            },
            "colorscale": [
             [
              0,
              "#0d0887"
             ],
             [
              0.1111111111111111,
              "#46039f"
             ],
             [
              0.2222222222222222,
              "#7201a8"
             ],
             [
              0.3333333333333333,
              "#9c179e"
             ],
             [
              0.4444444444444444,
              "#bd3786"
             ],
             [
              0.5555555555555556,
              "#d8576b"
             ],
             [
              0.6666666666666666,
              "#ed7953"
             ],
             [
              0.7777777777777778,
              "#fb9f3a"
             ],
             [
              0.8888888888888888,
              "#fdca26"
             ],
             [
              1,
              "#f0f921"
             ]
            ],
            "type": "histogram2d"
           }
          ],
          "histogram2dcontour": [
           {
            "colorbar": {
             "outlinewidth": 0,
             "ticks": ""
            },
            "colorscale": [
             [
              0,
              "#0d0887"
             ],
             [
              0.1111111111111111,
              "#46039f"
             ],
             [
              0.2222222222222222,
              "#7201a8"
             ],
             [
              0.3333333333333333,
              "#9c179e"
             ],
             [
              0.4444444444444444,
              "#bd3786"
             ],
             [
              0.5555555555555556,
              "#d8576b"
             ],
             [
              0.6666666666666666,
              "#ed7953"
             ],
             [
              0.7777777777777778,
              "#fb9f3a"
             ],
             [
              0.8888888888888888,
              "#fdca26"
             ],
             [
              1,
              "#f0f921"
             ]
            ],
            "type": "histogram2dcontour"
           }
          ],
          "mesh3d": [
           {
            "colorbar": {
             "outlinewidth": 0,
             "ticks": ""
            },
            "type": "mesh3d"
           }
          ],
          "parcoords": [
           {
            "line": {
             "colorbar": {
              "outlinewidth": 0,
              "ticks": ""
             }
            },
            "type": "parcoords"
           }
          ],
          "pie": [
           {
            "automargin": true,
            "type": "pie"
           }
          ],
          "scatter": [
           {
            "fillpattern": {
             "fillmode": "overlay",
             "size": 10,
             "solidity": 0.2
            },
            "type": "scatter"
           }
          ],
          "scatter3d": [
           {
            "line": {
             "colorbar": {
              "outlinewidth": 0,
              "ticks": ""
             }
            },
            "marker": {
             "colorbar": {
              "outlinewidth": 0,
              "ticks": ""
             }
            },
            "type": "scatter3d"
           }
          ],
          "scattercarpet": [
           {
            "marker": {
             "colorbar": {
              "outlinewidth": 0,
              "ticks": ""
             }
            },
            "type": "scattercarpet"
           }
          ],
          "scattergeo": [
           {
            "marker": {
             "colorbar": {
              "outlinewidth": 0,
              "ticks": ""
             }
            },
            "type": "scattergeo"
           }
          ],
          "scattergl": [
           {
            "marker": {
             "colorbar": {
              "outlinewidth": 0,
              "ticks": ""
             }
            },
            "type": "scattergl"
           }
          ],
          "scattermapbox": [
           {
            "marker": {
             "colorbar": {
              "outlinewidth": 0,
              "ticks": ""
             }
            },
            "type": "scattermapbox"
           }
          ],
          "scatterpolar": [
           {
            "marker": {
             "colorbar": {
              "outlinewidth": 0,
              "ticks": ""
             }
            },
            "type": "scatterpolar"
           }
          ],
          "scatterpolargl": [
           {
            "marker": {
             "colorbar": {
              "outlinewidth": 0,
              "ticks": ""
             }
            },
            "type": "scatterpolargl"
           }
          ],
          "scatterternary": [
           {
            "marker": {
             "colorbar": {
              "outlinewidth": 0,
              "ticks": ""
             }
            },
            "type": "scatterternary"
           }
          ],
          "surface": [
           {
            "colorbar": {
             "outlinewidth": 0,
             "ticks": ""
            },
            "colorscale": [
             [
              0,
              "#0d0887"
             ],
             [
              0.1111111111111111,
              "#46039f"
             ],
             [
              0.2222222222222222,
              "#7201a8"
             ],
             [
              0.3333333333333333,
              "#9c179e"
             ],
             [
              0.4444444444444444,
              "#bd3786"
             ],
             [
              0.5555555555555556,
              "#d8576b"
             ],
             [
              0.6666666666666666,
              "#ed7953"
             ],
             [
              0.7777777777777778,
              "#fb9f3a"
             ],
             [
              0.8888888888888888,
              "#fdca26"
             ],
             [
              1,
              "#f0f921"
             ]
            ],
            "type": "surface"
           }
          ],
          "table": [
           {
            "cells": {
             "fill": {
              "color": "#EBF0F8"
             },
             "line": {
              "color": "white"
             }
            },
            "header": {
             "fill": {
              "color": "#C8D4E3"
             },
             "line": {
              "color": "white"
             }
            },
            "type": "table"
           }
          ]
         },
         "layout": {
          "annotationdefaults": {
           "arrowcolor": "#2a3f5f",
           "arrowhead": 0,
           "arrowwidth": 1
          },
          "autotypenumbers": "strict",
          "coloraxis": {
           "colorbar": {
            "outlinewidth": 0,
            "ticks": ""
           }
          },
          "colorscale": {
           "diverging": [
            [
             0,
             "#8e0152"
            ],
            [
             0.1,
             "#c51b7d"
            ],
            [
             0.2,
             "#de77ae"
            ],
            [
             0.3,
             "#f1b6da"
            ],
            [
             0.4,
             "#fde0ef"
            ],
            [
             0.5,
             "#f7f7f7"
            ],
            [
             0.6,
             "#e6f5d0"
            ],
            [
             0.7,
             "#b8e186"
            ],
            [
             0.8,
             "#7fbc41"
            ],
            [
             0.9,
             "#4d9221"
            ],
            [
             1,
             "#276419"
            ]
           ],
           "sequential": [
            [
             0,
             "#0d0887"
            ],
            [
             0.1111111111111111,
             "#46039f"
            ],
            [
             0.2222222222222222,
             "#7201a8"
            ],
            [
             0.3333333333333333,
             "#9c179e"
            ],
            [
             0.4444444444444444,
             "#bd3786"
            ],
            [
             0.5555555555555556,
             "#d8576b"
            ],
            [
             0.6666666666666666,
             "#ed7953"
            ],
            [
             0.7777777777777778,
             "#fb9f3a"
            ],
            [
             0.8888888888888888,
             "#fdca26"
            ],
            [
             1,
             "#f0f921"
            ]
           ],
           "sequentialminus": [
            [
             0,
             "#0d0887"
            ],
            [
             0.1111111111111111,
             "#46039f"
            ],
            [
             0.2222222222222222,
             "#7201a8"
            ],
            [
             0.3333333333333333,
             "#9c179e"
            ],
            [
             0.4444444444444444,
             "#bd3786"
            ],
            [
             0.5555555555555556,
             "#d8576b"
            ],
            [
             0.6666666666666666,
             "#ed7953"
            ],
            [
             0.7777777777777778,
             "#fb9f3a"
            ],
            [
             0.8888888888888888,
             "#fdca26"
            ],
            [
             1,
             "#f0f921"
            ]
           ]
          },
          "colorway": [
           "#636efa",
           "#EF553B",
           "#00cc96",
           "#ab63fa",
           "#FFA15A",
           "#19d3f3",
           "#FF6692",
           "#B6E880",
           "#FF97FF",
           "#FECB52"
          ],
          "font": {
           "color": "#2a3f5f"
          },
          "geo": {
           "bgcolor": "white",
           "lakecolor": "white",
           "landcolor": "white",
           "showlakes": true,
           "showland": true,
           "subunitcolor": "#C8D4E3"
          },
          "hoverlabel": {
           "align": "left"
          },
          "hovermode": "closest",
          "mapbox": {
           "style": "light"
          },
          "paper_bgcolor": "white",
          "plot_bgcolor": "white",
          "polar": {
           "angularaxis": {
            "gridcolor": "#EBF0F8",
            "linecolor": "#EBF0F8",
            "ticks": ""
           },
           "bgcolor": "white",
           "radialaxis": {
            "gridcolor": "#EBF0F8",
            "linecolor": "#EBF0F8",
            "ticks": ""
           }
          },
          "scene": {
           "xaxis": {
            "backgroundcolor": "white",
            "gridcolor": "#DFE8F3",
            "gridwidth": 2,
            "linecolor": "#EBF0F8",
            "showbackground": true,
            "ticks": "",
            "zerolinecolor": "#EBF0F8"
           },
           "yaxis": {
            "backgroundcolor": "white",
            "gridcolor": "#DFE8F3",
            "gridwidth": 2,
            "linecolor": "#EBF0F8",
            "showbackground": true,
            "ticks": "",
            "zerolinecolor": "#EBF0F8"
           },
           "zaxis": {
            "backgroundcolor": "white",
            "gridcolor": "#DFE8F3",
            "gridwidth": 2,
            "linecolor": "#EBF0F8",
            "showbackground": true,
            "ticks": "",
            "zerolinecolor": "#EBF0F8"
           }
          },
          "shapedefaults": {
           "line": {
            "color": "#2a3f5f"
           }
          },
          "ternary": {
           "aaxis": {
            "gridcolor": "#DFE8F3",
            "linecolor": "#A2B1C6",
            "ticks": ""
           },
           "baxis": {
            "gridcolor": "#DFE8F3",
            "linecolor": "#A2B1C6",
            "ticks": ""
           },
           "bgcolor": "white",
           "caxis": {
            "gridcolor": "#DFE8F3",
            "linecolor": "#A2B1C6",
            "ticks": ""
           }
          },
          "title": {
           "x": 0.05
          },
          "xaxis": {
           "automargin": true,
           "gridcolor": "#EBF0F8",
           "linecolor": "#EBF0F8",
           "ticks": "",
           "title": {
            "standoff": 15
           },
           "zerolinecolor": "#EBF0F8",
           "zerolinewidth": 2
          },
          "yaxis": {
           "automargin": true,
           "gridcolor": "#EBF0F8",
           "linecolor": "#EBF0F8",
           "ticks": "",
           "title": {
            "standoff": 15
           },
           "zerolinecolor": "#EBF0F8",
           "zerolinewidth": 2
          }
         }
        },
        "title": {
         "text": "Top 10 Least Expensive Chocolate Products ($)"
        },
        "xaxis": {
         "anchor": "y",
         "autorange": true,
         "domain": [
          0,
          1
         ],
         "range": [
          0,
          7.157894736842105
         ],
         "title": {
          "text": "Price ($)"
         },
         "type": "linear"
        },
        "yaxis": {
         "anchor": "x",
         "autorange": true,
         "domain": [
          0,
          1
         ],
         "range": [
          9.5,
          -0.5
         ],
         "title": {
          "text": "Product Name"
         },
         "type": "category"
        }
       }
      },
      "image/png": "[encoded data removed]",
      "text/html": [
       "<div>                            <div id=\"0471b8fd-ee0c-48dd-b2d2-91d20b594a4c\" class=\"plotly-graph-div\" style=\"height:525px; width:100%;\"></div>            <script type=\"text/javascript\">                require([\"plotly\"], function(Plotly) {                    window.PLOTLYENV=window.PLOTLYENV || {};                                    if (document.getElementById(\"0471b8fd-ee0c-48dd-b2d2-91d20b594a4c\")) {                    Plotly.newPlot(                        \"0471b8fd-ee0c-48dd-b2d2-91d20b594a4c\",                        [{\"alignmentgroup\":\"True\",\"hovertemplate\":\"Price ($)=%{x}<br>Product Name=%{y}<extra></extra>\",\"legendgroup\":\"\",\"marker\":{\"color\":\"purple\",\"pattern\":{\"shape\":\"\"}},\"name\":\"\",\"offsetgroup\":\"\",\"orientation\":\"h\",\"showlegend\":false,\"textposition\":\"auto\",\"x\":[1.36,6.8,6.8,6.8,6.8,6.8,6.8,6.8,6.8,6.8],\"xaxis\":\"x\",\"y\":[\"Almost Perfect\",\"Blonde Caramel\",\"Caramelised Milk\",\"Chai Caramel Latte\",\"Cinnamon Toast\",\"Colombia 61%\",\"Crunchy Biscuit\",\"Ecudorian 41%\",\"Flat White Coffee\",\"Ginger Biscuit\"],\"yaxis\":\"y\",\"type\":\"bar\"}],                        {\"template\":{\"data\":{\"barpolar\":[{\"marker\":{\"line\":{\"color\":\"white\",\"width\":0.5},\"pattern\":{\"fillmode\":\"overlay\",\"size\":10,\"solidity\":0.2}},\"type\":\"barpolar\"}],\"bar\":[{\"error_x\":{\"color\":\"#2a3f5f\"},\"error_y\":{\"color\":\"#2a3f5f\"},\"marker\":{\"line\":{\"color\":\"white\",\"width\":0.5},\"pattern\":{\"fillmode\":\"overlay\",\"size\":10,\"solidity\":0.2}},\"type\":\"bar\"}],\"carpet\":[{\"aaxis\":{\"endlinecolor\":\"#2a3f5f\",\"gridcolor\":\"#C8D4E3\",\"linecolor\":\"#C8D4E3\",\"minorgridcolor\":\"#C8D4E3\",\"startlinecolor\":\"#2a3f5f\"},\"baxis\":{\"endlinecolor\":\"#2a3f5f\",\"gridcolor\":\"#C8D4E3\",\"linecolor\":\"#C8D4E3\",\"minorgridcolor\":\"#C8D4E3\",\"startlinecolor\":\"#2a3f5f\"},\"type\":\"carpet\"}],\"choropleth\":[{\"colorbar\":{\"outlinewidth\":0,\"ticks\":\"\"},\"type\":\"choropleth\"}],\"contourcarpet\":[{\"colorbar\":{\"outlinewidth\":0,\"ticks\":\"\"},\"type\":\"contourcarpet\"}],\"contour\":[{\"colorbar\":{\"outlinewidth\":0,\"ticks\":\"\"},\"colorscale\":[[0.0,\"#0d0887\"],[0.1111111111111111,\"#46039f\"],[0.2222222222222222,\"#7201a8\"],[0.3333333333333333,\"#9c179e\"],[0.4444444444444444,\"#bd3786\"],[0.5555555555555556,\"#d8576b\"],[0.6666666666666666,\"#ed7953\"],[0.7777777777777778,\"#fb9f3a\"],[0.8888888888888888,\"#fdca26\"],[1.0,\"#f0f921\"]],\"type\":\"contour\"}],\"heatmapgl\":[{\"colorbar\":{\"outlinewidth\":0,\"ticks\":\"\"},\"colorscale\":[[0.0,\"#0d0887\"],[0.1111111111111111,\"#46039f\"],[0.2222222222222222,\"#7201a8\"],[0.3333333333333333,\"#9c179e\"],[0.4444444444444444,\"#bd3786\"],[0.5555555555555556,\"#d8576b\"],[0.6666666666666666,\"#ed7953\"],[0.7777777777777778,\"#fb9f3a\"],[0.8888888888888888,\"#fdca26\"],[1.0,\"#f0f921\"]],\"type\":\"heatmapgl\"}],\"heatmap\":[{\"colorbar\":{\"outlinewidth\":0,\"ticks\":\"\"},\"colorscale\":[[0.0,\"#0d0887\"],[0.1111111111111111,\"#46039f\"],[0.2222222222222222,\"#7201a8\"],[0.3333333333333333,\"#9c179e\"],[0.4444444444444444,\"#bd3786\"],[0.5555555555555556,\"#d8576b\"],[0.6666666666666666,\"#ed7953\"],[0.7777777777777778,\"#fb9f3a\"],[0.8888888888888888,\"#fdca26\"],[1.0,\"#f0f921\"]],\"type\":\"heatmap\"}],\"histogram2dcontour\":[{\"colorbar\":{\"outlinewidth\":0,\"ticks\":\"\"},\"colorscale\":[[0.0,\"#0d0887\"],[0.1111111111111111,\"#46039f\"],[0.2222222222222222,\"#7201a8\"],[0.3333333333333333,\"#9c179e\"],[0.4444444444444444,\"#bd3786\"],[0.5555555555555556,\"#d8576b\"],[0.6666666666666666,\"#ed7953\"],[0.7777777777777778,\"#fb9f3a\"],[0.8888888888888888,\"#fdca26\"],[1.0,\"#f0f921\"]],\"type\":\"histogram2dcontour\"}],\"histogram2d\":[{\"colorbar\":{\"outlinewidth\":0,\"ticks\":\"\"},\"colorscale\":[[0.0,\"#0d0887\"],[0.1111111111111111,\"#46039f\"],[0.2222222222222222,\"#7201a8\"],[0.3333333333333333,\"#9c179e\"],[0.4444444444444444,\"#bd3786\"],[0.5555555555555556,\"#d8576b\"],[0.6666666666666666,\"#ed7953\"],[0.7777777777777778,\"#fb9f3a\"],[0.8888888888888888,\"#fdca26\"],[1.0,\"#f0f921\"]],\"type\":\"histogram2d\"}],\"histogram\":[{\"marker\":{\"pattern\":{\"fillmode\":\"overlay\",\"size\":10,\"solidity\":0.2}},\"type\":\"histogram\"}],\"mesh3d\":[{\"colorbar\":{\"outlinewidth\":0,\"ticks\":\"\"},\"type\":\"mesh3d\"}],\"parcoords\":[{\"line\":{\"colorbar\":{\"outlinewidth\":0,\"ticks\":\"\"}},\"type\":\"parcoords\"}],\"pie\":[{\"automargin\":true,\"type\":\"pie\"}],\"scatter3d\":[{\"line\":{\"colorbar\":{\"outlinewidth\":0,\"ticks\":\"\"}},\"marker\":{\"colorbar\":{\"outlinewidth\":0,\"ticks\":\"\"}},\"type\":\"scatter3d\"}],\"scattercarpet\":[{\"marker\":{\"colorbar\":{\"outlinewidth\":0,\"ticks\":\"\"}},\"type\":\"scattercarpet\"}],\"scattergeo\":[{\"marker\":{\"colorbar\":{\"outlinewidth\":0,\"ticks\":\"\"}},\"type\":\"scattergeo\"}],\"scattergl\":[{\"marker\":{\"colorbar\":{\"outlinewidth\":0,\"ticks\":\"\"}},\"type\":\"scattergl\"}],\"scattermapbox\":[{\"marker\":{\"colorbar\":{\"outlinewidth\":0,\"ticks\":\"\"}},\"type\":\"scattermapbox\"}],\"scatterpolargl\":[{\"marker\":{\"colorbar\":{\"outlinewidth\":0,\"ticks\":\"\"}},\"type\":\"scatterpolargl\"}],\"scatterpolar\":[{\"marker\":{\"colorbar\":{\"outlinewidth\":0,\"ticks\":\"\"}},\"type\":\"scatterpolar\"}],\"scatter\":[{\"fillpattern\":{\"fillmode\":\"overlay\",\"size\":10,\"solidity\":0.2},\"type\":\"scatter\"}],\"scatterternary\":[{\"marker\":{\"colorbar\":{\"outlinewidth\":0,\"ticks\":\"\"}},\"type\":\"scatterternary\"}],\"surface\":[{\"colorbar\":{\"outlinewidth\":0,\"ticks\":\"\"},\"colorscale\":[[0.0,\"#0d0887\"],[0.1111111111111111,\"#46039f\"],[0.2222222222222222,\"#7201a8\"],[0.3333333333333333,\"#9c179e\"],[0.4444444444444444,\"#bd3786\"],[0.5555555555555556,\"#d8576b\"],[0.6666666666666666,\"#ed7953\"],[0.7777777777777778,\"#fb9f3a\"],[0.8888888888888888,\"#fdca26\"],[1.0,\"#f0f921\"]],\"type\":\"surface\"}],\"table\":[{\"cells\":{\"fill\":{\"color\":\"#EBF0F8\"},\"line\":{\"color\":\"white\"}},\"header\":{\"fill\":{\"color\":\"#C8D4E3\"},\"line\":{\"color\":\"white\"}},\"type\":\"table\"}]},\"layout\":{\"annotationdefaults\":{\"arrowcolor\":\"#2a3f5f\",\"arrowhead\":0,\"arrowwidth\":1},\"autotypenumbers\":\"strict\",\"coloraxis\":{\"colorbar\":{\"outlinewidth\":0,\"ticks\":\"\"}},\"colorscale\":{\"diverging\":[[0,\"#8e0152\"],[0.1,\"#c51b7d\"],[0.2,\"#de77ae\"],[0.3,\"#f1b6da\"],[0.4,\"#fde0ef\"],[0.5,\"#f7f7f7\"],[0.6,\"#e6f5d0\"],[0.7,\"#b8e186\"],[0.8,\"#7fbc41\"],[0.9,\"#4d9221\"],[1,\"#276419\"]],\"sequential\":[[0.0,\"#0d0887\"],[0.1111111111111111,\"#46039f\"],[0.2222222222222222,\"#7201a8\"],[0.3333333333333333,\"#9c179e\"],[0.4444444444444444,\"#bd3786\"],[0.5555555555555556,\"#d8576b\"],[0.6666666666666666,\"#ed7953\"],[0.7777777777777778,\"#fb9f3a\"],[0.8888888888888888,\"#fdca26\"],[1.0,\"#f0f921\"]],\"sequentialminus\":[[0.0,\"#0d0887\"],[0.1111111111111111,\"#46039f\"],[0.2222222222222222,\"#7201a8\"],[0.3333333333333333,\"#9c179e\"],[0.4444444444444444,\"#bd3786\"],[0.5555555555555556,\"#d8576b\"],[0.6666666666666666,\"#ed7953\"],[0.7777777777777778,\"#fb9f3a\"],[0.8888888888888888,\"#fdca26\"],[1.0,\"#f0f921\"]]},\"colorway\":[\"#636efa\",\"#EF553B\",\"#00cc96\",\"#ab63fa\",\"#FFA15A\",\"#19d3f3\",\"#FF6692\",\"#B6E880\",\"#FF97FF\",\"#FECB52\"],\"font\":{\"color\":\"#2a3f5f\"},\"geo\":{\"bgcolor\":\"white\",\"lakecolor\":\"white\",\"landcolor\":\"white\",\"showlakes\":true,\"showland\":true,\"subunitcolor\":\"#C8D4E3\"},\"hoverlabel\":{\"align\":\"left\"},\"hovermode\":\"closest\",\"mapbox\":{\"style\":\"light\"},\"paper_bgcolor\":\"white\",\"plot_bgcolor\":\"white\",\"polar\":{\"angularaxis\":{\"gridcolor\":\"#EBF0F8\",\"linecolor\":\"#EBF0F8\",\"ticks\":\"\"},\"bgcolor\":\"white\",\"radialaxis\":{\"gridcolor\":\"#EBF0F8\",\"linecolor\":\"#EBF0F8\",\"ticks\":\"\"}},\"scene\":{\"xaxis\":{\"backgroundcolor\":\"white\",\"gridcolor\":\"#DFE8F3\",\"gridwidth\":2,\"linecolor\":\"#EBF0F8\",\"showbackground\":true,\"ticks\":\"\",\"zerolinecolor\":\"#EBF0F8\"},\"yaxis\":{\"backgroundcolor\":\"white\",\"gridcolor\":\"#DFE8F3\",\"gridwidth\":2,\"linecolor\":\"#EBF0F8\",\"showbackground\":true,\"ticks\":\"\",\"zerolinecolor\":\"#EBF0F8\"},\"zaxis\":{\"backgroundcolor\":\"white\",\"gridcolor\":\"#DFE8F3\",\"gridwidth\":2,\"linecolor\":\"#EBF0F8\",\"showbackground\":true,\"ticks\":\"\",\"zerolinecolor\":\"#EBF0F8\"}},\"shapedefaults\":{\"line\":{\"color\":\"#2a3f5f\"}},\"ternary\":{\"aaxis\":{\"gridcolor\":\"#DFE8F3\",\"linecolor\":\"#A2B1C6\",\"ticks\":\"\"},\"baxis\":{\"gridcolor\":\"#DFE8F3\",\"linecolor\":\"#A2B1C6\",\"ticks\":\"\"},\"bgcolor\":\"white\",\"caxis\":{\"gridcolor\":\"#DFE8F3\",\"linecolor\":\"#A2B1C6\",\"ticks\":\"\"}},\"title\":{\"x\":0.05},\"xaxis\":{\"automargin\":true,\"gridcolor\":\"#EBF0F8\",\"linecolor\":\"#EBF0F8\",\"ticks\":\"\",\"title\":{\"standoff\":15},\"zerolinecolor\":\"#EBF0F8\",\"zerolinewidth\":2},\"yaxis\":{\"automargin\":true,\"gridcolor\":\"#EBF0F8\",\"linecolor\":\"#EBF0F8\",\"ticks\":\"\",\"title\":{\"standoff\":15},\"zerolinecolor\":\"#EBF0F8\",\"zerolinewidth\":2}}},\"xaxis\":{\"anchor\":\"y\",\"domain\":[0.0,1.0],\"title\":{\"text\":\"Price ($)\"}},\"yaxis\":{\"anchor\":\"x\",\"domain\":[0.0,1.0],\"title\":{\"text\":\"Product Name\"},\"autorange\":\"reversed\"},\"legend\":{\"tracegroupgap\":0},\"title\":{\"text\":\"Top 10 Least Expensive Chocolate Products ($)\"},\"barmode\":\"relative\"},                        {\"responsive\": true}                    ).then(function(){\n",
       "                            \n",
       "var gd = document.getElementById('0471b8fd-ee0c-48dd-b2d2-91d20b594a4c');\n",
       "var x = new MutationObserver(function (mutations, observer) {{\n",
       "        var display = window.getComputedStyle(gd).display;\n",
       "        if (!display || display === 'none') {{\n",
       "            console.log([gd, 'removed!']);\n",
       "            Plotly.purge(gd);\n",
       "            observer.disconnect();\n",
       "        }}\n",
       "}});\n",
       "\n",
       "// Listen for the removal of the full notebook cells\n",
       "var notebookContainer = gd.closest('#notebook-container');\n",
       "if (notebookContainer) {{\n",
       "    x.observe(notebookContainer, {childList: true});\n",
       "}}\n",
       "\n",
       "// Listen for the clearing of the current output cell\n",
       "var outputEl = gd.closest('.output');\n",
       "if (outputEl) {{\n",
       "    x.observe(outputEl, {childList: true});\n",
       "}}\n",
       "\n",
       "                        })                };                });            </script>        </div>"
      ]
     },
     "metadata": {},
     "output_type": "display_data"
    }
   ],
   "source": [
    "\n",
    "def show_top_bottom_plotly(view='Top 10'):\n",
    "\n",
    "    df_products['Price ($)'] = df_products['Price ($)'].astype(str).str.replace('$', '').str.strip()\n",
    "    df_products['Price ($)'] = pd.to_numeric(df_products['Price ($)'], errors='coerce')\n",
    "\n",
    " \n",
    "    df_clean = df_products.dropna(subset=['Price ($)'])\n",
    "\n",
    " \n",
    "    if view == 'Top 10':\n",
    "        data = df_clean.nlargest(10, 'Price ($)').sort_values('Price ($)', ascending=False)\n",
    "        title = 'Top 10 Most Expensive Chocolate Products ($)'\n",
    "    else:\n",
    "        data = df_clean.nsmallest(10, 'Price ($)').sort_values('Price ($)', ascending=True)\n",
    "        title = 'Top 10 Least Expensive Chocolate Products ($)'\n",
    "\n",
    "\n",
    "    fig = px.bar(\n",
    "        data,\n",
    "        x='Price ($)',\n",
    "        y='Name',\n",
    "        orientation='h',\n",
    "        title=title,\n",
    "        color_discrete_sequence=['purple'],\n",
    "        labels={'Price ($)': 'Price ($)', 'Name': 'Product Name'}\n",
    "    )\n",
    "\n",
    "    fig.update_layout(\n",
    "        yaxis=dict(autorange=\"reversed\"),\n",
    "        template='plotly_white'\n",
    "    )\n",
    "\n",
    "    fig.show()\n",
    "\n",
    "show_top_bottom_plotly('Top 10')\n",
    "show_top_bottom_plotly('Bottom 10')\n"
   ]
  },
  {
   "cell_type": "markdown",
   "id": "9ac8c076-7a95-4d06-98f7-42951f1b4434",
   "metadata": {},
   "source": [
    "## Price Impact of Top Ingredients"
   ]
  },
  {
   "cell_type": "code",
   "execution_count": 18,
   "id": "a6a25fb7-46ea-4c94-ae0c-18f48198fb60",
   "metadata": {},
   "outputs": [
    {
     "data": {
      "application/vnd.plotly.v1+json": {
       "config": {
        "plotlyServerURL": "https://plot.ly"
       },
       "data": [
        {
         "alignmentgroup": "True",
         "hovertemplate": "Ingredient=%{x}<br>Average Price With ($)=%{text}<extra></extra>",
         "legendgroup": "Sugar",
         "marker": {
          "color": "rgb(252,251,253)",
          "pattern": {
           "shape": ""
          }
         },
         "name": "Sugar",
         "offsetgroup": "Sugar",
         "orientation": "v",
         "showlegend": true,
         "text": [
          15.171555555555557
         ],
         "textposition": "outside",
         "texttemplate": "$%{text:.2f}",
         "type": "bar",
         "x": [
          "Sugar"
         ],
         "xaxis": "x",
         "y": [
          15.171555555555557
         ],
         "yaxis": "y"
        },
        {
         "alignmentgroup": "True",
         "hovertemplate": "Ingredient=%{x}<br>Average Price With ($)=%{text}<extra></extra>",
         "legendgroup": "Cocoa butter",
         "marker": {
          "color": "rgb(239,237,245)",
          "pattern": {
           "shape": ""
          }
         },
         "name": "Cocoa butter",
         "offsetgroup": "Cocoa butter",
         "orientation": "v",
         "showlegend": true,
         "text": [
          15.171555555555557
         ],
         "textposition": "outside",
         "texttemplate": "$%{text:.2f}",
         "type": "bar",
         "x": [
          "Cocoa butter"
         ],
         "xaxis": "x",
         "y": [
          15.171555555555557
         ],
         "yaxis": "y"
        },
        {
         "alignmentgroup": "True",
         "hovertemplate": "Ingredient=%{x}<br>Average Price With ($)=%{text}<extra></extra>",
         "legendgroup": "Whole milk powder",
         "marker": {
          "color": "rgb(218,218,235)",
          "pattern": {
           "shape": ""
          }
         },
         "name": "Whole milk powder",
         "offsetgroup": "Whole milk powder",
         "orientation": "v",
         "showlegend": true,
         "text": [
          11.288
         ],
         "textposition": "outside",
         "texttemplate": "$%{text:.2f}",
         "type": "bar",
         "x": [
          "Whole milk powder"
         ],
         "xaxis": "x",
         "y": [
          11.288
         ],
         "yaxis": "y"
        },
        {
         "alignmentgroup": "True",
         "hovertemplate": "Ingredient=%{x}<br>Average Price With ($)=%{text}<extra></extra>",
         "legendgroup": "Cocoa beans",
         "marker": {
          "color": "rgb(188,189,220)",
          "pattern": {
           "shape": ""
          }
         },
         "name": "Cocoa beans",
         "offsetgroup": "Cocoa beans",
         "orientation": "v",
         "showlegend": true,
         "text": [
          16.818666666666665
         ],
         "textposition": "outside",
         "texttemplate": "$%{text:.2f}",
         "type": "bar",
         "x": [
          "Cocoa beans"
         ],
         "xaxis": "x",
         "y": [
          16.818666666666665
         ],
         "yaxis": "y"
        },
        {
         "alignmentgroup": "True",
         "hovertemplate": "Ingredient=%{x}<br>Average Price With ($)=%{text}<extra></extra>",
         "legendgroup": "Emulsifier: (soya lecithin)",
         "marker": {
          "color": "rgb(158,154,200)",
          "pattern": {
           "shape": ""
          }
         },
         "name": "Emulsifier: (soya lecithin)",
         "offsetgroup": "Emulsifier: (soya lecithin)",
         "orientation": "v",
         "showlegend": true,
         "text": [
          8.959999999999999
         ],
         "textposition": "outside",
         "texttemplate": "$%{text:.2f}",
         "type": "bar",
         "x": [
          "Emulsifier: (soya lecithin)"
         ],
         "xaxis": "x",
         "y": [
          8.959999999999999
         ],
         "yaxis": "y"
        },
        {
         "alignmentgroup": "True",
         "hovertemplate": "Ingredient=%{x}<br>Average Price With ($)=%{text}<extra></extra>",
         "legendgroup": "Pure cocoa butter",
         "marker": {
          "color": "rgb(128,125,186)",
          "pattern": {
           "shape": ""
          }
         },
         "name": "Pure cocoa butter",
         "offsetgroup": "Pure cocoa butter",
         "orientation": "v",
         "showlegend": true,
         "text": [
          15.769523809523811
         ],
         "textposition": "outside",
         "texttemplate": "$%{text:.2f}",
         "type": "bar",
         "x": [
          "Pure cocoa butter"
         ],
         "xaxis": "x",
         "y": [
          15.769523809523811
         ],
         "yaxis": "y"
        },
        {
         "alignmentgroup": "True",
         "hovertemplate": "Ingredient=%{x}<br>Average Price With ($)=%{text}<extra></extra>",
         "legendgroup": "Dark chocolate (61% cocoa minimum",
         "marker": {
          "color": "rgb(106,81,163)",
          "pattern": {
           "shape": ""
          }
         },
         "name": "Dark chocolate (61% cocoa minimum",
         "offsetgroup": "Dark chocolate (61% cocoa minimum",
         "orientation": "v",
         "showlegend": true,
         "text": [
          16.11076923076923
         ],
         "textposition": "outside",
         "texttemplate": "$%{text:.2f}",
         "type": "bar",
         "x": [
          "Dark chocolate (61% cocoa minimum"
         ],
         "xaxis": "x",
         "y": [
          16.11076923076923
         ],
         "yaxis": "y"
        },
        {
         "alignmentgroup": "True",
         "hovertemplate": "Ingredient=%{x}<br>Average Price With ($)=%{text}<extra></extra>",
         "legendgroup": "Butter",
         "marker": {
          "color": "rgb(84,39,143)",
          "pattern": {
           "shape": ""
          }
         },
         "name": "Butter",
         "offsetgroup": "Butter",
         "orientation": "v",
         "showlegend": true,
         "text": [
          15.171555555555557
         ],
         "textposition": "outside",
         "texttemplate": "$%{text:.2f}",
         "type": "bar",
         "x": [
          "Butter"
         ],
         "xaxis": "x",
         "y": [
          15.171555555555557
         ],
         "yaxis": "y"
        }
       ],
       "layout": {
        "autosize": true,
        "barmode": "relative",
        "legend": {
         "title": {
          "text": "Ingredient"
         },
         "tracegroupgap": 0
        },
        "template": {
         "data": {
          "bar": [
           {
            "error_x": {
             "color": "#2a3f5f"
            },
            "error_y": {
             "color": "#2a3f5f"
            },
            "marker": {
             "line": {
              "color": "white",
              "width": 0.5
             },
             "pattern": {
              "fillmode": "overlay",
              "size": 10,
              "solidity": 0.2
             }
            },
            "type": "bar"
           }
          ],
          "barpolar": [
           {
            "marker": {
             "line": {
              "color": "white",
              "width": 0.5
             },
             "pattern": {
              "fillmode": "overlay",
              "size": 10,
              "solidity": 0.2
             }
            },
            "type": "barpolar"
           }
          ],
          "carpet": [
           {
            "aaxis": {
             "endlinecolor": "#2a3f5f",
             "gridcolor": "#C8D4E3",
             "linecolor": "#C8D4E3",
             "minorgridcolor": "#C8D4E3",
             "startlinecolor": "#2a3f5f"
            },
            "baxis": {
             "endlinecolor": "#2a3f5f",
             "gridcolor": "#C8D4E3",
             "linecolor": "#C8D4E3",
             "minorgridcolor": "#C8D4E3",
             "startlinecolor": "#2a3f5f"
            },
            "type": "carpet"
           }
          ],
          "choropleth": [
           {
            "colorbar": {
             "outlinewidth": 0,
             "ticks": ""
            },
            "type": "choropleth"
           }
          ],
          "contour": [
           {
            "colorbar": {
             "outlinewidth": 0,
             "ticks": ""
            },
            "colorscale": [
             [
              0,
              "#0d0887"
             ],
             [
              0.1111111111111111,
              "#46039f"
             ],
             [
              0.2222222222222222,
              "#7201a8"
             ],
             [
              0.3333333333333333,
              "#9c179e"
             ],
             [
              0.4444444444444444,
              "#bd3786"
             ],
             [
              0.5555555555555556,
              "#d8576b"
             ],
             [
              0.6666666666666666,
              "#ed7953"
             ],
             [
              0.7777777777777778,
              "#fb9f3a"
             ],
             [
              0.8888888888888888,
              "#fdca26"
             ],
             [
              1,
              "#f0f921"
             ]
            ],
            "type": "contour"
           }
          ],
          "contourcarpet": [
           {
            "colorbar": {
             "outlinewidth": 0,
             "ticks": ""
            },
            "type": "contourcarpet"
           }
          ],
          "heatmap": [
           {
            "colorbar": {
             "outlinewidth": 0,
             "ticks": ""
            },
            "colorscale": [
             [
              0,
              "#0d0887"
             ],
             [
              0.1111111111111111,
              "#46039f"
             ],
             [
              0.2222222222222222,
              "#7201a8"
             ],
             [
              0.3333333333333333,
              "#9c179e"
             ],
             [
              0.4444444444444444,
              "#bd3786"
             ],
             [
              0.5555555555555556,
              "#d8576b"
             ],
             [
              0.6666666666666666,
              "#ed7953"
             ],
             [
              0.7777777777777778,
              "#fb9f3a"
             ],
             [
              0.8888888888888888,
              "#fdca26"
             ],
             [
              1,
              "#f0f921"
             ]
            ],
            "type": "heatmap"
           }
          ],
          "heatmapgl": [
           {
            "colorbar": {
             "outlinewidth": 0,
             "ticks": ""
            },
            "colorscale": [
             [
              0,
              "#0d0887"
             ],
             [
              0.1111111111111111,
              "#46039f"
             ],
             [
              0.2222222222222222,
              "#7201a8"
             ],
             [
              0.3333333333333333,
              "#9c179e"
             ],
             [
              0.4444444444444444,
              "#bd3786"
             ],
             [
              0.5555555555555556,
              "#d8576b"
             ],
             [
              0.6666666666666666,
              "#ed7953"
             ],
             [
              0.7777777777777778,
              "#fb9f3a"
             ],
             [
              0.8888888888888888,
              "#fdca26"
             ],
             [
              1,
              "#f0f921"
             ]
            ],
            "type": "heatmapgl"
           }
          ],
          "histogram": [
           {
            "marker": {
             "pattern": {
              "fillmode": "overlay",
              "size": 10,
              "solidity": 0.2
             }
            },
            "type": "histogram"
           }
          ],
          "histogram2d": [
           {
            "colorbar": {
             "outlinewidth": 0,
             "ticks": ""
            },
            "colorscale": [
             [
              0,
              "#0d0887"
             ],
             [
              0.1111111111111111,
              "#46039f"
             ],
             [
              0.2222222222222222,
              "#7201a8"
             ],
             [
              0.3333333333333333,
              "#9c179e"
             ],
             [
              0.4444444444444444,
              "#bd3786"
             ],
             [
              0.5555555555555556,
              "#d8576b"
             ],
             [
              0.6666666666666666,
              "#ed7953"
             ],
             [
              0.7777777777777778,
              "#fb9f3a"
             ],
             [
              0.8888888888888888,
              "#fdca26"
             ],
             [
              1,
              "#f0f921"
             ]
            ],
            "type": "histogram2d"
           }
          ],
          "histogram2dcontour": [
           {
            "colorbar": {
             "outlinewidth": 0,
             "ticks": ""
            },
            "colorscale": [
             [
              0,
              "#0d0887"
             ],
             [
              0.1111111111111111,
              "#46039f"
             ],
             [
              0.2222222222222222,
              "#7201a8"
             ],
             [
              0.3333333333333333,
              "#9c179e"
             ],
             [
              0.4444444444444444,
              "#bd3786"
             ],
             [
              0.5555555555555556,
              "#d8576b"
             ],
             [
              0.6666666666666666,
              "#ed7953"
             ],
             [
              0.7777777777777778,
              "#fb9f3a"
             ],
             [
              0.8888888888888888,
              "#fdca26"
             ],
             [
              1,
              "#f0f921"
             ]
            ],
            "type": "histogram2dcontour"
           }
          ],
          "mesh3d": [
           {
            "colorbar": {
             "outlinewidth": 0,
             "ticks": ""
            },
            "type": "mesh3d"
           }
          ],
          "parcoords": [
           {
            "line": {
             "colorbar": {
              "outlinewidth": 0,
              "ticks": ""
             }
            },
            "type": "parcoords"
           }
          ],
          "pie": [
           {
            "automargin": true,
            "type": "pie"
           }
          ],
          "scatter": [
           {
            "fillpattern": {
             "fillmode": "overlay",
             "size": 10,
             "solidity": 0.2
            },
            "type": "scatter"
           }
          ],
          "scatter3d": [
           {
            "line": {
             "colorbar": {
              "outlinewidth": 0,
              "ticks": ""
             }
            },
            "marker": {
             "colorbar": {
              "outlinewidth": 0,
              "ticks": ""
             }
            },
            "type": "scatter3d"
           }
          ],
          "scattercarpet": [
           {
            "marker": {
             "colorbar": {
              "outlinewidth": 0,
              "ticks": ""
             }
            },
            "type": "scattercarpet"
           }
          ],
          "scattergeo": [
           {
            "marker": {
             "colorbar": {
              "outlinewidth": 0,
              "ticks": ""
             }
            },
            "type": "scattergeo"
           }
          ],
          "scattergl": [
           {
            "marker": {
             "colorbar": {
              "outlinewidth": 0,
              "ticks": ""
             }
            },
            "type": "scattergl"
           }
          ],
          "scattermapbox": [
           {
            "marker": {
             "colorbar": {
              "outlinewidth": 0,
              "ticks": ""
             }
            },
            "type": "scattermapbox"
           }
          ],
          "scatterpolar": [
           {
            "marker": {
             "colorbar": {
              "outlinewidth": 0,
              "ticks": ""
             }
            },
            "type": "scatterpolar"
           }
          ],
          "scatterpolargl": [
           {
            "marker": {
             "colorbar": {
              "outlinewidth": 0,
              "ticks": ""
             }
            },
            "type": "scatterpolargl"
           }
          ],
          "scatterternary": [
           {
            "marker": {
             "colorbar": {
              "outlinewidth": 0,
              "ticks": ""
             }
            },
            "type": "scatterternary"
           }
          ],
          "surface": [
           {
            "colorbar": {
             "outlinewidth": 0,
             "ticks": ""
            },
            "colorscale": [
             [
              0,
              "#0d0887"
             ],
             [
              0.1111111111111111,
              "#46039f"
             ],
             [
              0.2222222222222222,
              "#7201a8"
             ],
             [
              0.3333333333333333,
              "#9c179e"
             ],
             [
              0.4444444444444444,
              "#bd3786"
             ],
             [
              0.5555555555555556,
              "#d8576b"
             ],
             [
              0.6666666666666666,
              "#ed7953"
             ],
             [
              0.7777777777777778,
              "#fb9f3a"
             ],
             [
              0.8888888888888888,
              "#fdca26"
             ],
             [
              1,
              "#f0f921"
             ]
            ],
            "type": "surface"
           }
          ],
          "table": [
           {
            "cells": {
             "fill": {
              "color": "#EBF0F8"
             },
             "line": {
              "color": "white"
             }
            },
            "header": {
             "fill": {
              "color": "#C8D4E3"
             },
             "line": {
              "color": "white"
             }
            },
            "type": "table"
           }
          ]
         },
         "layout": {
          "annotationdefaults": {
           "arrowcolor": "#2a3f5f",
           "arrowhead": 0,
           "arrowwidth": 1
          },
          "autotypenumbers": "strict",
          "coloraxis": {
           "colorbar": {
            "outlinewidth": 0,
            "ticks": ""
           }
          },
          "colorscale": {
           "diverging": [
            [
             0,
             "#8e0152"
            ],
            [
             0.1,
             "#c51b7d"
            ],
            [
             0.2,
             "#de77ae"
            ],
            [
             0.3,
             "#f1b6da"
            ],
            [
             0.4,
             "#fde0ef"
            ],
            [
             0.5,
             "#f7f7f7"
            ],
            [
             0.6,
             "#e6f5d0"
            ],
            [
             0.7,
             "#b8e186"
            ],
            [
             0.8,
             "#7fbc41"
            ],
            [
             0.9,
             "#4d9221"
            ],
            [
             1,
             "#276419"
            ]
           ],
           "sequential": [
            [
             0,
             "#0d0887"
            ],
            [
             0.1111111111111111,
             "#46039f"
            ],
            [
             0.2222222222222222,
             "#7201a8"
            ],
            [
             0.3333333333333333,
             "#9c179e"
            ],
            [
             0.4444444444444444,
             "#bd3786"
            ],
            [
             0.5555555555555556,
             "#d8576b"
            ],
            [
             0.6666666666666666,
             "#ed7953"
            ],
            [
             0.7777777777777778,
             "#fb9f3a"
            ],
            [
             0.8888888888888888,
             "#fdca26"
            ],
            [
             1,
             "#f0f921"
            ]
           ],
           "sequentialminus": [
            [
             0,
             "#0d0887"
            ],
            [
             0.1111111111111111,
             "#46039f"
            ],
            [
             0.2222222222222222,
             "#7201a8"
            ],
            [
             0.3333333333333333,
             "#9c179e"
            ],
            [
             0.4444444444444444,
             "#bd3786"
            ],
            [
             0.5555555555555556,
             "#d8576b"
            ],
            [
             0.6666666666666666,
             "#ed7953"
            ],
            [
             0.7777777777777778,
             "#fb9f3a"
            ],
            [
             0.8888888888888888,
             "#fdca26"
            ],
            [
             1,
             "#f0f921"
            ]
           ]
          },
          "colorway": [
           "#636efa",
           "#EF553B",
           "#00cc96",
           "#ab63fa",
           "#FFA15A",
           "#19d3f3",
           "#FF6692",
           "#B6E880",
           "#FF97FF",
           "#FECB52"
          ],
          "font": {
           "color": "#2a3f5f"
          },
          "geo": {
           "bgcolor": "white",
           "lakecolor": "white",
           "landcolor": "white",
           "showlakes": true,
           "showland": true,
           "subunitcolor": "#C8D4E3"
          },
          "hoverlabel": {
           "align": "left"
          },
          "hovermode": "closest",
          "mapbox": {
           "style": "light"
          },
          "paper_bgcolor": "white",
          "plot_bgcolor": "white",
          "polar": {
           "angularaxis": {
            "gridcolor": "#EBF0F8",
            "linecolor": "#EBF0F8",
            "ticks": ""
           },
           "bgcolor": "white",
           "radialaxis": {
            "gridcolor": "#EBF0F8",
            "linecolor": "#EBF0F8",
            "ticks": ""
           }
          },
          "scene": {
           "xaxis": {
            "backgroundcolor": "white",
            "gridcolor": "#DFE8F3",
            "gridwidth": 2,
            "linecolor": "#EBF0F8",
            "showbackground": true,
            "ticks": "",
            "zerolinecolor": "#EBF0F8"
           },
           "yaxis": {
            "backgroundcolor": "white",
            "gridcolor": "#DFE8F3",
            "gridwidth": 2,
            "linecolor": "#EBF0F8",
            "showbackground": true,
            "ticks": "",
            "zerolinecolor": "#EBF0F8"
           },
           "zaxis": {
            "backgroundcolor": "white",
            "gridcolor": "#DFE8F3",
            "gridwidth": 2,
            "linecolor": "#EBF0F8",
            "showbackground": true,
            "ticks": "",
            "zerolinecolor": "#EBF0F8"
           }
          },
          "shapedefaults": {
           "line": {
            "color": "#2a3f5f"
           }
          },
          "ternary": {
           "aaxis": {
            "gridcolor": "#DFE8F3",
            "linecolor": "#A2B1C6",
            "ticks": ""
           },
           "baxis": {
            "gridcolor": "#DFE8F3",
            "linecolor": "#A2B1C6",
            "ticks": ""
           },
           "bgcolor": "white",
           "caxis": {
            "gridcolor": "#DFE8F3",
            "linecolor": "#A2B1C6",
            "ticks": ""
           }
          },
          "title": {
           "x": 0.05
          },
          "xaxis": {
           "automargin": true,
           "gridcolor": "#EBF0F8",
           "linecolor": "#EBF0F8",
           "ticks": "",
           "title": {
            "standoff": 15
           },
           "zerolinecolor": "#EBF0F8",
           "zerolinewidth": 2
          },
          "yaxis": {
           "automargin": true,
           "gridcolor": "#EBF0F8",
           "linecolor": "#EBF0F8",
           "ticks": "",
           "title": {
            "standoff": 15
           },
           "zerolinecolor": "#EBF0F8",
           "zerolinewidth": 2
          }
         }
        },
        "title": {
         "text": "Price Impact of Top Ingredients"
        },
        "uniformtext": {
         "minsize": 8,
         "mode": "hide"
        },
        "xaxis": {
         "anchor": "y",
         "autorange": true,
         "categoryarray": [
          "Sugar",
          "Cocoa butter",
          "Whole milk powder",
          "Cocoa beans",
          "Emulsifier: (soya lecithin)",
          "Pure cocoa butter",
          "Dark chocolate (61% cocoa minimum",
          "Butter"
         ],
         "categoryorder": "array",
         "domain": [
          0,
          1
         ],
         "range": [
          -0.5,
          7.5
         ],
         "title": {
          "text": "Ingredient"
         },
         "type": "category"
        },
        "yaxis": {
         "anchor": "x",
         "autorange": true,
         "domain": [
          0,
          1
         ],
         "range": [
          0,
          17.703859649122805
         ],
         "title": {
          "text": "Average Price ($)"
         },
         "type": "linear"
        }
       }
      },
      "image/png": "[encoded data removed]",
      "text/html": [
       "<div>                            <div id=\"f2704c38-4bca-4c3a-96ff-9b6a798f1c8b\" class=\"plotly-graph-div\" style=\"height:525px; width:100%;\"></div>            <script type=\"text/javascript\">                require([\"plotly\"], function(Plotly) {                    window.PLOTLYENV=window.PLOTLYENV || {};                                    if (document.getElementById(\"f2704c38-4bca-4c3a-96ff-9b6a798f1c8b\")) {                    Plotly.newPlot(                        \"f2704c38-4bca-4c3a-96ff-9b6a798f1c8b\",                        [{\"alignmentgroup\":\"True\",\"hovertemplate\":\"Ingredient=%{x}<br>Average Price With ($)=%{text}<extra></extra>\",\"legendgroup\":\"Sugar\",\"marker\":{\"color\":\"rgb(252,251,253)\",\"pattern\":{\"shape\":\"\"}},\"name\":\"Sugar\",\"offsetgroup\":\"Sugar\",\"orientation\":\"v\",\"showlegend\":true,\"text\":[15.171555555555557],\"textposition\":\"outside\",\"x\":[\"Sugar\"],\"xaxis\":\"x\",\"y\":[15.171555555555557],\"yaxis\":\"y\",\"type\":\"bar\",\"texttemplate\":\"$%{text:.2f}\"},{\"alignmentgroup\":\"True\",\"hovertemplate\":\"Ingredient=%{x}<br>Average Price With ($)=%{text}<extra></extra>\",\"legendgroup\":\"Cocoa butter\",\"marker\":{\"color\":\"rgb(239,237,245)\",\"pattern\":{\"shape\":\"\"}},\"name\":\"Cocoa butter\",\"offsetgroup\":\"Cocoa butter\",\"orientation\":\"v\",\"showlegend\":true,\"text\":[15.171555555555557],\"textposition\":\"outside\",\"x\":[\"Cocoa butter\"],\"xaxis\":\"x\",\"y\":[15.171555555555557],\"yaxis\":\"y\",\"type\":\"bar\",\"texttemplate\":\"$%{text:.2f}\"},{\"alignmentgroup\":\"True\",\"hovertemplate\":\"Ingredient=%{x}<br>Average Price With ($)=%{text}<extra></extra>\",\"legendgroup\":\"Whole milk powder\",\"marker\":{\"color\":\"rgb(218,218,235)\",\"pattern\":{\"shape\":\"\"}},\"name\":\"Whole milk powder\",\"offsetgroup\":\"Whole milk powder\",\"orientation\":\"v\",\"showlegend\":true,\"text\":[11.288],\"textposition\":\"outside\",\"x\":[\"Whole milk powder\"],\"xaxis\":\"x\",\"y\":[11.288],\"yaxis\":\"y\",\"type\":\"bar\",\"texttemplate\":\"$%{text:.2f}\"},{\"alignmentgroup\":\"True\",\"hovertemplate\":\"Ingredient=%{x}<br>Average Price With ($)=%{text}<extra></extra>\",\"legendgroup\":\"Cocoa beans\",\"marker\":{\"color\":\"rgb(188,189,220)\",\"pattern\":{\"shape\":\"\"}},\"name\":\"Cocoa beans\",\"offsetgroup\":\"Cocoa beans\",\"orientation\":\"v\",\"showlegend\":true,\"text\":[16.818666666666665],\"textposition\":\"outside\",\"x\":[\"Cocoa beans\"],\"xaxis\":\"x\",\"y\":[16.818666666666665],\"yaxis\":\"y\",\"type\":\"bar\",\"texttemplate\":\"$%{text:.2f}\"},{\"alignmentgroup\":\"True\",\"hovertemplate\":\"Ingredient=%{x}<br>Average Price With ($)=%{text}<extra></extra>\",\"legendgroup\":\"Emulsifier: (soya lecithin)\",\"marker\":{\"color\":\"rgb(158,154,200)\",\"pattern\":{\"shape\":\"\"}},\"name\":\"Emulsifier: (soya lecithin)\",\"offsetgroup\":\"Emulsifier: (soya lecithin)\",\"orientation\":\"v\",\"showlegend\":true,\"text\":[8.959999999999999],\"textposition\":\"outside\",\"x\":[\"Emulsifier: (soya lecithin)\"],\"xaxis\":\"x\",\"y\":[8.959999999999999],\"yaxis\":\"y\",\"type\":\"bar\",\"texttemplate\":\"$%{text:.2f}\"},{\"alignmentgroup\":\"True\",\"hovertemplate\":\"Ingredient=%{x}<br>Average Price With ($)=%{text}<extra></extra>\",\"legendgroup\":\"Pure cocoa butter\",\"marker\":{\"color\":\"rgb(128,125,186)\",\"pattern\":{\"shape\":\"\"}},\"name\":\"Pure cocoa butter\",\"offsetgroup\":\"Pure cocoa butter\",\"orientation\":\"v\",\"showlegend\":true,\"text\":[15.769523809523811],\"textposition\":\"outside\",\"x\":[\"Pure cocoa butter\"],\"xaxis\":\"x\",\"y\":[15.769523809523811],\"yaxis\":\"y\",\"type\":\"bar\",\"texttemplate\":\"$%{text:.2f}\"},{\"alignmentgroup\":\"True\",\"hovertemplate\":\"Ingredient=%{x}<br>Average Price With ($)=%{text}<extra></extra>\",\"legendgroup\":\"Dark chocolate (61% cocoa minimum\",\"marker\":{\"color\":\"rgb(106,81,163)\",\"pattern\":{\"shape\":\"\"}},\"name\":\"Dark chocolate (61% cocoa minimum\",\"offsetgroup\":\"Dark chocolate (61% cocoa minimum\",\"orientation\":\"v\",\"showlegend\":true,\"text\":[16.11076923076923],\"textposition\":\"outside\",\"x\":[\"Dark chocolate (61% cocoa minimum\"],\"xaxis\":\"x\",\"y\":[16.11076923076923],\"yaxis\":\"y\",\"type\":\"bar\",\"texttemplate\":\"$%{text:.2f}\"},{\"alignmentgroup\":\"True\",\"hovertemplate\":\"Ingredient=%{x}<br>Average Price With ($)=%{text}<extra></extra>\",\"legendgroup\":\"Butter\",\"marker\":{\"color\":\"rgb(84,39,143)\",\"pattern\":{\"shape\":\"\"}},\"name\":\"Butter\",\"offsetgroup\":\"Butter\",\"orientation\":\"v\",\"showlegend\":true,\"text\":[15.171555555555557],\"textposition\":\"outside\",\"x\":[\"Butter\"],\"xaxis\":\"x\",\"y\":[15.171555555555557],\"yaxis\":\"y\",\"type\":\"bar\",\"texttemplate\":\"$%{text:.2f}\"}],                        {\"template\":{\"data\":{\"barpolar\":[{\"marker\":{\"line\":{\"color\":\"white\",\"width\":0.5},\"pattern\":{\"fillmode\":\"overlay\",\"size\":10,\"solidity\":0.2}},\"type\":\"barpolar\"}],\"bar\":[{\"error_x\":{\"color\":\"#2a3f5f\"},\"error_y\":{\"color\":\"#2a3f5f\"},\"marker\":{\"line\":{\"color\":\"white\",\"width\":0.5},\"pattern\":{\"fillmode\":\"overlay\",\"size\":10,\"solidity\":0.2}},\"type\":\"bar\"}],\"carpet\":[{\"aaxis\":{\"endlinecolor\":\"#2a3f5f\",\"gridcolor\":\"#C8D4E3\",\"linecolor\":\"#C8D4E3\",\"minorgridcolor\":\"#C8D4E3\",\"startlinecolor\":\"#2a3f5f\"},\"baxis\":{\"endlinecolor\":\"#2a3f5f\",\"gridcolor\":\"#C8D4E3\",\"linecolor\":\"#C8D4E3\",\"minorgridcolor\":\"#C8D4E3\",\"startlinecolor\":\"#2a3f5f\"},\"type\":\"carpet\"}],\"choropleth\":[{\"colorbar\":{\"outlinewidth\":0,\"ticks\":\"\"},\"type\":\"choropleth\"}],\"contourcarpet\":[{\"colorbar\":{\"outlinewidth\":0,\"ticks\":\"\"},\"type\":\"contourcarpet\"}],\"contour\":[{\"colorbar\":{\"outlinewidth\":0,\"ticks\":\"\"},\"colorscale\":[[0.0,\"#0d0887\"],[0.1111111111111111,\"#46039f\"],[0.2222222222222222,\"#7201a8\"],[0.3333333333333333,\"#9c179e\"],[0.4444444444444444,\"#bd3786\"],[0.5555555555555556,\"#d8576b\"],[0.6666666666666666,\"#ed7953\"],[0.7777777777777778,\"#fb9f3a\"],[0.8888888888888888,\"#fdca26\"],[1.0,\"#f0f921\"]],\"type\":\"contour\"}],\"heatmapgl\":[{\"colorbar\":{\"outlinewidth\":0,\"ticks\":\"\"},\"colorscale\":[[0.0,\"#0d0887\"],[0.1111111111111111,\"#46039f\"],[0.2222222222222222,\"#7201a8\"],[0.3333333333333333,\"#9c179e\"],[0.4444444444444444,\"#bd3786\"],[0.5555555555555556,\"#d8576b\"],[0.6666666666666666,\"#ed7953\"],[0.7777777777777778,\"#fb9f3a\"],[0.8888888888888888,\"#fdca26\"],[1.0,\"#f0f921\"]],\"type\":\"heatmapgl\"}],\"heatmap\":[{\"colorbar\":{\"outlinewidth\":0,\"ticks\":\"\"},\"colorscale\":[[0.0,\"#0d0887\"],[0.1111111111111111,\"#46039f\"],[0.2222222222222222,\"#7201a8\"],[0.3333333333333333,\"#9c179e\"],[0.4444444444444444,\"#bd3786\"],[0.5555555555555556,\"#d8576b\"],[0.6666666666666666,\"#ed7953\"],[0.7777777777777778,\"#fb9f3a\"],[0.8888888888888888,\"#fdca26\"],[1.0,\"#f0f921\"]],\"type\":\"heatmap\"}],\"histogram2dcontour\":[{\"colorbar\":{\"outlinewidth\":0,\"ticks\":\"\"},\"colorscale\":[[0.0,\"#0d0887\"],[0.1111111111111111,\"#46039f\"],[0.2222222222222222,\"#7201a8\"],[0.3333333333333333,\"#9c179e\"],[0.4444444444444444,\"#bd3786\"],[0.5555555555555556,\"#d8576b\"],[0.6666666666666666,\"#ed7953\"],[0.7777777777777778,\"#fb9f3a\"],[0.8888888888888888,\"#fdca26\"],[1.0,\"#f0f921\"]],\"type\":\"histogram2dcontour\"}],\"histogram2d\":[{\"colorbar\":{\"outlinewidth\":0,\"ticks\":\"\"},\"colorscale\":[[0.0,\"#0d0887\"],[0.1111111111111111,\"#46039f\"],[0.2222222222222222,\"#7201a8\"],[0.3333333333333333,\"#9c179e\"],[0.4444444444444444,\"#bd3786\"],[0.5555555555555556,\"#d8576b\"],[0.6666666666666666,\"#ed7953\"],[0.7777777777777778,\"#fb9f3a\"],[0.8888888888888888,\"#fdca26\"],[1.0,\"#f0f921\"]],\"type\":\"histogram2d\"}],\"histogram\":[{\"marker\":{\"pattern\":{\"fillmode\":\"overlay\",\"size\":10,\"solidity\":0.2}},\"type\":\"histogram\"}],\"mesh3d\":[{\"colorbar\":{\"outlinewidth\":0,\"ticks\":\"\"},\"type\":\"mesh3d\"}],\"parcoords\":[{\"line\":{\"colorbar\":{\"outlinewidth\":0,\"ticks\":\"\"}},\"type\":\"parcoords\"}],\"pie\":[{\"automargin\":true,\"type\":\"pie\"}],\"scatter3d\":[{\"line\":{\"colorbar\":{\"outlinewidth\":0,\"ticks\":\"\"}},\"marker\":{\"colorbar\":{\"outlinewidth\":0,\"ticks\":\"\"}},\"type\":\"scatter3d\"}],\"scattercarpet\":[{\"marker\":{\"colorbar\":{\"outlinewidth\":0,\"ticks\":\"\"}},\"type\":\"scattercarpet\"}],\"scattergeo\":[{\"marker\":{\"colorbar\":{\"outlinewidth\":0,\"ticks\":\"\"}},\"type\":\"scattergeo\"}],\"scattergl\":[{\"marker\":{\"colorbar\":{\"outlinewidth\":0,\"ticks\":\"\"}},\"type\":\"scattergl\"}],\"scattermapbox\":[{\"marker\":{\"colorbar\":{\"outlinewidth\":0,\"ticks\":\"\"}},\"type\":\"scattermapbox\"}],\"scatterpolargl\":[{\"marker\":{\"colorbar\":{\"outlinewidth\":0,\"ticks\":\"\"}},\"type\":\"scatterpolargl\"}],\"scatterpolar\":[{\"marker\":{\"colorbar\":{\"outlinewidth\":0,\"ticks\":\"\"}},\"type\":\"scatterpolar\"}],\"scatter\":[{\"fillpattern\":{\"fillmode\":\"overlay\",\"size\":10,\"solidity\":0.2},\"type\":\"scatter\"}],\"scatterternary\":[{\"marker\":{\"colorbar\":{\"outlinewidth\":0,\"ticks\":\"\"}},\"type\":\"scatterternary\"}],\"surface\":[{\"colorbar\":{\"outlinewidth\":0,\"ticks\":\"\"},\"colorscale\":[[0.0,\"#0d0887\"],[0.1111111111111111,\"#46039f\"],[0.2222222222222222,\"#7201a8\"],[0.3333333333333333,\"#9c179e\"],[0.4444444444444444,\"#bd3786\"],[0.5555555555555556,\"#d8576b\"],[0.6666666666666666,\"#ed7953\"],[0.7777777777777778,\"#fb9f3a\"],[0.8888888888888888,\"#fdca26\"],[1.0,\"#f0f921\"]],\"type\":\"surface\"}],\"table\":[{\"cells\":{\"fill\":{\"color\":\"#EBF0F8\"},\"line\":{\"color\":\"white\"}},\"header\":{\"fill\":{\"color\":\"#C8D4E3\"},\"line\":{\"color\":\"white\"}},\"type\":\"table\"}]},\"layout\":{\"annotationdefaults\":{\"arrowcolor\":\"#2a3f5f\",\"arrowhead\":0,\"arrowwidth\":1},\"autotypenumbers\":\"strict\",\"coloraxis\":{\"colorbar\":{\"outlinewidth\":0,\"ticks\":\"\"}},\"colorscale\":{\"diverging\":[[0,\"#8e0152\"],[0.1,\"#c51b7d\"],[0.2,\"#de77ae\"],[0.3,\"#f1b6da\"],[0.4,\"#fde0ef\"],[0.5,\"#f7f7f7\"],[0.6,\"#e6f5d0\"],[0.7,\"#b8e186\"],[0.8,\"#7fbc41\"],[0.9,\"#4d9221\"],[1,\"#276419\"]],\"sequential\":[[0.0,\"#0d0887\"],[0.1111111111111111,\"#46039f\"],[0.2222222222222222,\"#7201a8\"],[0.3333333333333333,\"#9c179e\"],[0.4444444444444444,\"#bd3786\"],[0.5555555555555556,\"#d8576b\"],[0.6666666666666666,\"#ed7953\"],[0.7777777777777778,\"#fb9f3a\"],[0.8888888888888888,\"#fdca26\"],[1.0,\"#f0f921\"]],\"sequentialminus\":[[0.0,\"#0d0887\"],[0.1111111111111111,\"#46039f\"],[0.2222222222222222,\"#7201a8\"],[0.3333333333333333,\"#9c179e\"],[0.4444444444444444,\"#bd3786\"],[0.5555555555555556,\"#d8576b\"],[0.6666666666666666,\"#ed7953\"],[0.7777777777777778,\"#fb9f3a\"],[0.8888888888888888,\"#fdca26\"],[1.0,\"#f0f921\"]]},\"colorway\":[\"#636efa\",\"#EF553B\",\"#00cc96\",\"#ab63fa\",\"#FFA15A\",\"#19d3f3\",\"#FF6692\",\"#B6E880\",\"#FF97FF\",\"#FECB52\"],\"font\":{\"color\":\"#2a3f5f\"},\"geo\":{\"bgcolor\":\"white\",\"lakecolor\":\"white\",\"landcolor\":\"white\",\"showlakes\":true,\"showland\":true,\"subunitcolor\":\"#C8D4E3\"},\"hoverlabel\":{\"align\":\"left\"},\"hovermode\":\"closest\",\"mapbox\":{\"style\":\"light\"},\"paper_bgcolor\":\"white\",\"plot_bgcolor\":\"white\",\"polar\":{\"angularaxis\":{\"gridcolor\":\"#EBF0F8\",\"linecolor\":\"#EBF0F8\",\"ticks\":\"\"},\"bgcolor\":\"white\",\"radialaxis\":{\"gridcolor\":\"#EBF0F8\",\"linecolor\":\"#EBF0F8\",\"ticks\":\"\"}},\"scene\":{\"xaxis\":{\"backgroundcolor\":\"white\",\"gridcolor\":\"#DFE8F3\",\"gridwidth\":2,\"linecolor\":\"#EBF0F8\",\"showbackground\":true,\"ticks\":\"\",\"zerolinecolor\":\"#EBF0F8\"},\"yaxis\":{\"backgroundcolor\":\"white\",\"gridcolor\":\"#DFE8F3\",\"gridwidth\":2,\"linecolor\":\"#EBF0F8\",\"showbackground\":true,\"ticks\":\"\",\"zerolinecolor\":\"#EBF0F8\"},\"zaxis\":{\"backgroundcolor\":\"white\",\"gridcolor\":\"#DFE8F3\",\"gridwidth\":2,\"linecolor\":\"#EBF0F8\",\"showbackground\":true,\"ticks\":\"\",\"zerolinecolor\":\"#EBF0F8\"}},\"shapedefaults\":{\"line\":{\"color\":\"#2a3f5f\"}},\"ternary\":{\"aaxis\":{\"gridcolor\":\"#DFE8F3\",\"linecolor\":\"#A2B1C6\",\"ticks\":\"\"},\"baxis\":{\"gridcolor\":\"#DFE8F3\",\"linecolor\":\"#A2B1C6\",\"ticks\":\"\"},\"bgcolor\":\"white\",\"caxis\":{\"gridcolor\":\"#DFE8F3\",\"linecolor\":\"#A2B1C6\",\"ticks\":\"\"}},\"title\":{\"x\":0.05},\"xaxis\":{\"automargin\":true,\"gridcolor\":\"#EBF0F8\",\"linecolor\":\"#EBF0F8\",\"ticks\":\"\",\"title\":{\"standoff\":15},\"zerolinecolor\":\"#EBF0F8\",\"zerolinewidth\":2},\"yaxis\":{\"automargin\":true,\"gridcolor\":\"#EBF0F8\",\"linecolor\":\"#EBF0F8\",\"ticks\":\"\",\"title\":{\"standoff\":15},\"zerolinecolor\":\"#EBF0F8\",\"zerolinewidth\":2}}},\"xaxis\":{\"anchor\":\"y\",\"domain\":[0.0,1.0],\"title\":{\"text\":\"Ingredient\"},\"categoryorder\":\"array\",\"categoryarray\":[\"Sugar\",\"Cocoa butter\",\"Whole milk powder\",\"Cocoa beans\",\"Emulsifier: (soya lecithin)\",\"Pure cocoa butter\",\"Dark chocolate (61% cocoa minimum\",\"Butter\"]},\"yaxis\":{\"anchor\":\"x\",\"domain\":[0.0,1.0],\"title\":{\"text\":\"Average Price ($)\"}},\"legend\":{\"title\":{\"text\":\"Ingredient\"},\"tracegroupgap\":0},\"title\":{\"text\":\"Price Impact of Top Ingredients\"},\"barmode\":\"relative\",\"uniformtext\":{\"minsize\":8,\"mode\":\"hide\"}},                        {\"responsive\": true}                    ).then(function(){\n",
       "                            \n",
       "var gd = document.getElementById('f2704c38-4bca-4c3a-96ff-9b6a798f1c8b');\n",
       "var x = new MutationObserver(function (mutations, observer) {{\n",
       "        var display = window.getComputedStyle(gd).display;\n",
       "        if (!display || display === 'none') {{\n",
       "            console.log([gd, 'removed!']);\n",
       "            Plotly.purge(gd);\n",
       "            observer.disconnect();\n",
       "        }}\n",
       "}});\n",
       "\n",
       "// Listen for the removal of the full notebook cells\n",
       "var notebookContainer = gd.closest('#notebook-container');\n",
       "if (notebookContainer) {{\n",
       "    x.observe(notebookContainer, {childList: true});\n",
       "}}\n",
       "\n",
       "// Listen for the clearing of the current output cell\n",
       "var outputEl = gd.closest('.output');\n",
       "if (outputEl) {{\n",
       "    x.observe(outputEl, {childList: true});\n",
       "}}\n",
       "\n",
       "                        })                };                });            </script>        </div>"
      ]
     },
     "metadata": {},
     "output_type": "display_data"
    }
   ],
   "source": [
    "all_ingredients = df_products['Ingredients'].dropna().astype(str).str.lower().str.split(', ')\n",
    "flat_ingredients = [ingredient.strip() for sublist in all_ingredients for ingredient in sublist]\n",
    "\n",
    "ingredient_counts = Counter(flat_ingredients)\n",
    "top_20_ingredients = [item[0] for item in ingredient_counts.most_common(20)]\n",
    "top_5_ingredients = top_20_ingredients[:8]  # Top 8\n",
    "\n",
    "price_impact_data = []\n",
    "for ingredient in top_5_ingredients:\n",
    "    contains = df_products['Ingredients'].astype(str).str.lower().str.contains(ingredient, na=False, regex=False)\n",
    "    avg_price_with = pd.to_numeric(df_products.loc[contains, 'Price ($)'], errors='coerce').mean()\n",
    "    \n",
    "    price_impact_data.append({\n",
    "        'Ingredient': ingredient.capitalize(),\n",
    "        'Average Price With ($)': avg_price_with\n",
    "    })\n",
    "\n",
    "impact_df = pd.DataFrame(price_impact_data)\n",
    "\n",
    "fig = px.bar(\n",
    "    impact_df,\n",
    "    x='Ingredient',\n",
    "    y='Average Price With ($)',\n",
    "    text='Average Price With ($)',\n",
    "    title='Price Impact of Top Ingredients',\n",
    "    color='Ingredient',\n",
    "    color_discrete_sequence=px.colors.sequential.Purples\n",
    ")\n",
    "\n",
    "fig.update_traces(texttemplate='$%{text:.2f}', textposition='outside')\n",
    "fig.update_layout(\n",
    "    yaxis_title='Average Price ($)',\n",
    "    xaxis_title='Ingredient',\n",
    "    uniformtext_minsize=8,\n",
    "    uniformtext_mode='hide',\n",
    "    template='plotly_white'\n",
    ")\n",
    "\n",
    "fig.show()\n"
   ]
  },
  {
   "cell_type": "markdown",
   "id": "f528662b-b9b5-45c6-814a-7fd8618773d5",
   "metadata": {},
   "source": [
    "## Top 10 Ingredients by Frequency"
   ]
  },
  {
   "cell_type": "code",
   "execution_count": 19,
   "id": "362eaf45-16da-4257-b258-9196e3bb256c",
   "metadata": {},
   "outputs": [
    {
     "data": {
      "application/vnd.plotly.v1+json": {
       "config": {
        "plotlyServerURL": "https://plot.ly"
       },
       "data": [
        {
         "alignmentgroup": "True",
         "hovertemplate": "Ingredient=%{y}<br>Count=%{text}<extra></extra>",
         "legendgroup": "cocoa butter",
         "marker": {
          "color": "rgb(63,0,125)",
          "pattern": {
           "shape": ""
          }
         },
         "name": "cocoa butter",
         "offsetgroup": "cocoa butter",
         "orientation": "h",
         "showlegend": true,
         "text": [
          45
         ],
         "textposition": "outside",
         "type": "bar",
         "x": [
          45
         ],
         "xaxis": "x",
         "y": [
          "cocoa butter"
         ],
         "yaxis": "y"
        },
        {
         "alignmentgroup": "True",
         "hovertemplate": "Ingredient=%{y}<br>Count=%{text}<extra></extra>",
         "legendgroup": "sugar",
         "marker": {
          "color": "rgb(84,39,143)",
          "pattern": {
           "shape": ""
          }
         },
         "name": "sugar",
         "offsetgroup": "sugar",
         "orientation": "h",
         "showlegend": true,
         "text": [
          45
         ],
         "textposition": "outside",
         "type": "bar",
         "x": [
          45
         ],
         "xaxis": "x",
         "y": [
          "sugar"
         ],
         "yaxis": "y"
        },
        {
         "alignmentgroup": "True",
         "hovertemplate": "Ingredient=%{y}<br>Count=%{text}<extra></extra>",
         "legendgroup": "whole milk powder",
         "marker": {
          "color": "rgb(106,81,163)",
          "pattern": {
           "shape": ""
          }
         },
         "name": "whole milk powder",
         "offsetgroup": "whole milk powder",
         "orientation": "h",
         "showlegend": true,
         "text": [
          24
         ],
         "textposition": "outside",
         "type": "bar",
         "x": [
          24
         ],
         "xaxis": "x",
         "y": [
          "whole milk powder"
         ],
         "yaxis": "y"
        },
        {
         "alignmentgroup": "True",
         "hovertemplate": "Ingredient=%{y}<br>Count=%{text}<extra></extra>",
         "legendgroup": "cocoa beans",
         "marker": {
          "color": "rgb(128,125,186)",
          "pattern": {
           "shape": ""
          }
         },
         "name": "cocoa beans",
         "offsetgroup": "cocoa beans",
         "orientation": "h",
         "showlegend": true,
         "text": [
          16
         ],
         "textposition": "outside",
         "type": "bar",
         "x": [
          16
         ],
         "xaxis": "x",
         "y": [
          "cocoa beans"
         ],
         "yaxis": "y"
        },
        {
         "alignmentgroup": "True",
         "hovertemplate": "Ingredient=%{y}<br>Count=%{text}<extra></extra>",
         "legendgroup": "emulsifier: (soya lecithin)",
         "marker": {
          "color": "rgb(158,154,200)",
          "pattern": {
           "shape": ""
          }
         },
         "name": "emulsifier: (soya lecithin)",
         "offsetgroup": "emulsifier: (soya lecithin)",
         "orientation": "h",
         "showlegend": true,
         "text": [
          16
         ],
         "textposition": "outside",
         "type": "bar",
         "x": [
          16
         ],
         "xaxis": "x",
         "y": [
          "emulsifier: (soya lecithin)"
         ],
         "yaxis": "y"
        },
        {
         "alignmentgroup": "True",
         "hovertemplate": "Ingredient=%{y}<br>Count=%{text}<extra></extra>",
         "legendgroup": "pure cocoa butter",
         "marker": {
          "color": "rgb(188,189,220)",
          "pattern": {
           "shape": ""
          }
         },
         "name": "pure cocoa butter",
         "offsetgroup": "pure cocoa butter",
         "orientation": "h",
         "showlegend": true,
         "text": [
          15
         ],
         "textposition": "outside",
         "type": "bar",
         "x": [
          15
         ],
         "xaxis": "x",
         "y": [
          "pure cocoa butter"
         ],
         "yaxis": "y"
        },
        {
         "alignmentgroup": "True",
         "hovertemplate": "Ingredient=%{y}<br>Count=%{text}<extra></extra>",
         "legendgroup": "dark chocolate (61% cocoa minimum",
         "marker": {
          "color": "rgb(218,218,235)",
          "pattern": {
           "shape": ""
          }
         },
         "name": "dark chocolate (61% cocoa minimum",
         "offsetgroup": "dark chocolate (61% cocoa minimum",
         "orientation": "h",
         "showlegend": true,
         "text": [
          11
         ],
         "textposition": "outside",
         "type": "bar",
         "x": [
          11
         ],
         "xaxis": "x",
         "y": [
          "dark chocolate (61% cocoa minimum"
         ],
         "yaxis": "y"
        },
        {
         "alignmentgroup": "True",
         "hovertemplate": "Ingredient=%{y}<br>Count=%{text}<extra></extra>",
         "legendgroup": "butter",
         "marker": {
          "color": "rgb(239,237,245)",
          "pattern": {
           "shape": ""
          }
         },
         "name": "butter",
         "offsetgroup": "butter",
         "orientation": "h",
         "showlegend": true,
         "text": [
          11
         ],
         "textposition": "outside",
         "type": "bar",
         "x": [
          11
         ],
         "xaxis": "x",
         "y": [
          "butter"
         ],
         "yaxis": "y"
        },
        {
         "alignmentgroup": "True",
         "hovertemplate": "Ingredient=%{y}<br>Count=%{text}<extra></extra>",
         "legendgroup": "vanilla extract.",
         "marker": {
          "color": "rgb(252,251,253)",
          "pattern": {
           "shape": ""
          }
         },
         "name": "vanilla extract.",
         "offsetgroup": "vanilla extract.",
         "orientation": "h",
         "showlegend": true,
         "text": [
          10
         ],
         "textposition": "outside",
         "type": "bar",
         "x": [
          10
         ],
         "xaxis": "x",
         "y": [
          "vanilla extract."
         ],
         "yaxis": "y"
        },
        {
         "alignmentgroup": "True",
         "hovertemplate": "Ingredient=%{y}<br>Count=%{text}<extra></extra>",
         "legendgroup": "skimmed milk powder",
         "marker": {
          "color": "rgb(63,0,125)",
          "pattern": {
           "shape": ""
          }
         },
         "name": "skimmed milk powder",
         "offsetgroup": "skimmed milk powder",
         "orientation": "h",
         "showlegend": true,
         "text": [
          9
         ],
         "textposition": "outside",
         "type": "bar",
         "x": [
          9
         ],
         "xaxis": "x",
         "y": [
          "skimmed milk powder"
         ],
         "yaxis": "y"
        }
       ],
       "layout": {
        "autosize": true,
        "barmode": "relative",
        "legend": {
         "title": {
          "text": "Ingredient"
         },
         "tracegroupgap": 0
        },
        "template": {
         "data": {
          "bar": [
           {
            "error_x": {
             "color": "#2a3f5f"
            },
            "error_y": {
             "color": "#2a3f5f"
            },
            "marker": {
             "line": {
              "color": "white",
              "width": 0.5
             },
             "pattern": {
              "fillmode": "overlay",
              "size": 10,
              "solidity": 0.2
             }
            },
            "type": "bar"
           }
          ],
          "barpolar": [
           {
            "marker": {
             "line": {
              "color": "white",
              "width": 0.5
             },
             "pattern": {
              "fillmode": "overlay",
              "size": 10,
              "solidity": 0.2
             }
            },
            "type": "barpolar"
           }
          ],
          "carpet": [
           {
            "aaxis": {
             "endlinecolor": "#2a3f5f",
             "gridcolor": "#C8D4E3",
             "linecolor": "#C8D4E3",
             "minorgridcolor": "#C8D4E3",
             "startlinecolor": "#2a3f5f"
            },
            "baxis": {
             "endlinecolor": "#2a3f5f",
             "gridcolor": "#C8D4E3",
             "linecolor": "#C8D4E3",
             "minorgridcolor": "#C8D4E3",
             "startlinecolor": "#2a3f5f"
            },
            "type": "carpet"
           }
          ],
          "choropleth": [
           {
            "colorbar": {
             "outlinewidth": 0,
             "ticks": ""
            },
            "type": "choropleth"
           }
          ],
          "contour": [
           {
            "colorbar": {
             "outlinewidth": 0,
             "ticks": ""
            },
            "colorscale": [
             [
              0,
              "#0d0887"
             ],
             [
              0.1111111111111111,
              "#46039f"
             ],
             [
              0.2222222222222222,
              "#7201a8"
             ],
             [
              0.3333333333333333,
              "#9c179e"
             ],
             [
              0.4444444444444444,
              "#bd3786"
             ],
             [
              0.5555555555555556,
              "#d8576b"
             ],
             [
              0.6666666666666666,
              "#ed7953"
             ],
             [
              0.7777777777777778,
              "#fb9f3a"
             ],
             [
              0.8888888888888888,
              "#fdca26"
             ],
             [
              1,
              "#f0f921"
             ]
            ],
            "type": "contour"
           }
          ],
          "contourcarpet": [
           {
            "colorbar": {
             "outlinewidth": 0,
             "ticks": ""
            },
            "type": "contourcarpet"
           }
          ],
          "heatmap": [
           {
            "colorbar": {
             "outlinewidth": 0,
             "ticks": ""
            },
            "colorscale": [
             [
              0,
              "#0d0887"
             ],
             [
              0.1111111111111111,
              "#46039f"
             ],
             [
              0.2222222222222222,
              "#7201a8"
             ],
             [
              0.3333333333333333,
              "#9c179e"
             ],
             [
              0.4444444444444444,
              "#bd3786"
             ],
             [
              0.5555555555555556,
              "#d8576b"
             ],
             [
              0.6666666666666666,
              "#ed7953"
             ],
             [
              0.7777777777777778,
              "#fb9f3a"
             ],
             [
              0.8888888888888888,
              "#fdca26"
             ],
             [
              1,
              "#f0f921"
             ]
            ],
            "type": "heatmap"
           }
          ],
          "heatmapgl": [
           {
            "colorbar": {
             "outlinewidth": 0,
             "ticks": ""
            },
            "colorscale": [
             [
              0,
              "#0d0887"
             ],
             [
              0.1111111111111111,
              "#46039f"
             ],
             [
              0.2222222222222222,
              "#7201a8"
             ],
             [
              0.3333333333333333,
              "#9c179e"
             ],
             [
              0.4444444444444444,
              "#bd3786"
             ],
             [
              0.5555555555555556,
              "#d8576b"
             ],
             [
              0.6666666666666666,
              "#ed7953"
             ],
             [
              0.7777777777777778,
              "#fb9f3a"
             ],
             [
              0.8888888888888888,
              "#fdca26"
             ],
             [
              1,
              "#f0f921"
             ]
            ],
            "type": "heatmapgl"
           }
          ],
          "histogram": [
           {
            "marker": {
             "pattern": {
              "fillmode": "overlay",
              "size": 10,
              "solidity": 0.2
             }
            },
            "type": "histogram"
           }
          ],
          "histogram2d": [
           {
            "colorbar": {
             "outlinewidth": 0,
             "ticks": ""
            },
            "colorscale": [
             [
              0,
              "#0d0887"
             ],
             [
              0.1111111111111111,
              "#46039f"
             ],
             [
              0.2222222222222222,
              "#7201a8"
             ],
             [
              0.3333333333333333,
              "#9c179e"
             ],
             [
              0.4444444444444444,
              "#bd3786"
             ],
             [
              0.5555555555555556,
              "#d8576b"
             ],
             [
              0.6666666666666666,
              "#ed7953"
             ],
             [
              0.7777777777777778,
              "#fb9f3a"
             ],
             [
              0.8888888888888888,
              "#fdca26"
             ],
             [
              1,
              "#f0f921"
             ]
            ],
            "type": "histogram2d"
           }
          ],
          "histogram2dcontour": [
           {
            "colorbar": {
             "outlinewidth": 0,
             "ticks": ""
            },
            "colorscale": [
             [
              0,
              "#0d0887"
             ],
             [
              0.1111111111111111,
              "#46039f"
             ],
             [
              0.2222222222222222,
              "#7201a8"
             ],
             [
              0.3333333333333333,
              "#9c179e"
             ],
             [
              0.4444444444444444,
              "#bd3786"
             ],
             [
              0.5555555555555556,
              "#d8576b"
             ],
             [
              0.6666666666666666,
              "#ed7953"
             ],
             [
              0.7777777777777778,
              "#fb9f3a"
             ],
             [
              0.8888888888888888,
              "#fdca26"
             ],
             [
              1,
              "#f0f921"
             ]
            ],
            "type": "histogram2dcontour"
           }
          ],
          "mesh3d": [
           {
            "colorbar": {
             "outlinewidth": 0,
             "ticks": ""
            },
            "type": "mesh3d"
           }
          ],
          "parcoords": [
           {
            "line": {
             "colorbar": {
              "outlinewidth": 0,
              "ticks": ""
             }
            },
            "type": "parcoords"
           }
          ],
          "pie": [
           {
            "automargin": true,
            "type": "pie"
           }
          ],
          "scatter": [
           {
            "fillpattern": {
             "fillmode": "overlay",
             "size": 10,
             "solidity": 0.2
            },
            "type": "scatter"
           }
          ],
          "scatter3d": [
           {
            "line": {
             "colorbar": {
              "outlinewidth": 0,
              "ticks": ""
             }
            },
            "marker": {
             "colorbar": {
              "outlinewidth": 0,
              "ticks": ""
             }
            },
            "type": "scatter3d"
           }
          ],
          "scattercarpet": [
           {
            "marker": {
             "colorbar": {
              "outlinewidth": 0,
              "ticks": ""
             }
            },
            "type": "scattercarpet"
           }
          ],
          "scattergeo": [
           {
            "marker": {
             "colorbar": {
              "outlinewidth": 0,
              "ticks": ""
             }
            },
            "type": "scattergeo"
           }
          ],
          "scattergl": [
           {
            "marker": {
             "colorbar": {
              "outlinewidth": 0,
              "ticks": ""
             }
            },
            "type": "scattergl"
           }
          ],
          "scattermapbox": [
           {
            "marker": {
             "colorbar": {
              "outlinewidth": 0,
              "ticks": ""
             }
            },
            "type": "scattermapbox"
           }
          ],
          "scatterpolar": [
           {
            "marker": {
             "colorbar": {
              "outlinewidth": 0,
              "ticks": ""
             }
            },
            "type": "scatterpolar"
           }
          ],
          "scatterpolargl": [
           {
            "marker": {
             "colorbar": {
              "outlinewidth": 0,
              "ticks": ""
             }
            },
            "type": "scatterpolargl"
           }
          ],
          "scatterternary": [
           {
            "marker": {
             "colorbar": {
              "outlinewidth": 0,
              "ticks": ""
             }
            },
            "type": "scatterternary"
           }
          ],
          "surface": [
           {
            "colorbar": {
             "outlinewidth": 0,
             "ticks": ""
            },
            "colorscale": [
             [
              0,
              "#0d0887"
             ],
             [
              0.1111111111111111,
              "#46039f"
             ],
             [
              0.2222222222222222,
              "#7201a8"
             ],
             [
              0.3333333333333333,
              "#9c179e"
             ],
             [
              0.4444444444444444,
              "#bd3786"
             ],
             [
              0.5555555555555556,
              "#d8576b"
             ],
             [
              0.6666666666666666,
              "#ed7953"
             ],
             [
              0.7777777777777778,
              "#fb9f3a"
             ],
             [
              0.8888888888888888,
              "#fdca26"
             ],
             [
              1,
              "#f0f921"
             ]
            ],
            "type": "surface"
           }
          ],
          "table": [
           {
            "cells": {
             "fill": {
              "color": "#EBF0F8"
             },
             "line": {
              "color": "white"
             }
            },
            "header": {
             "fill": {
              "color": "#C8D4E3"
             },
             "line": {
              "color": "white"
             }
            },
            "type": "table"
           }
          ]
         },
         "layout": {
          "annotationdefaults": {
           "arrowcolor": "#2a3f5f",
           "arrowhead": 0,
           "arrowwidth": 1
          },
          "autotypenumbers": "strict",
          "coloraxis": {
           "colorbar": {
            "outlinewidth": 0,
            "ticks": ""
           }
          },
          "colorscale": {
           "diverging": [
            [
             0,
             "#8e0152"
            ],
            [
             0.1,
             "#c51b7d"
            ],
            [
             0.2,
             "#de77ae"
            ],
            [
             0.3,
             "#f1b6da"
            ],
            [
             0.4,
             "#fde0ef"
            ],
            [
             0.5,
             "#f7f7f7"
            ],
            [
             0.6,
             "#e6f5d0"
            ],
            [
             0.7,
             "#b8e186"
            ],
            [
             0.8,
             "#7fbc41"
            ],
            [
             0.9,
             "#4d9221"
            ],
            [
             1,
             "#276419"
            ]
           ],
           "sequential": [
            [
             0,
             "#0d0887"
            ],
            [
             0.1111111111111111,
             "#46039f"
            ],
            [
             0.2222222222222222,
             "#7201a8"
            ],
            [
             0.3333333333333333,
             "#9c179e"
            ],
            [
             0.4444444444444444,
             "#bd3786"
            ],
            [
             0.5555555555555556,
             "#d8576b"
            ],
            [
             0.6666666666666666,
             "#ed7953"
            ],
            [
             0.7777777777777778,
             "#fb9f3a"
            ],
            [
             0.8888888888888888,
             "#fdca26"
            ],
            [
             1,
             "#f0f921"
            ]
           ],
           "sequentialminus": [
            [
             0,
             "#0d0887"
            ],
            [
             0.1111111111111111,
             "#46039f"
            ],
            [
             0.2222222222222222,
             "#7201a8"
            ],
            [
             0.3333333333333333,
             "#9c179e"
            ],
            [
             0.4444444444444444,
             "#bd3786"
            ],
            [
             0.5555555555555556,
             "#d8576b"
            ],
            [
             0.6666666666666666,
             "#ed7953"
            ],
            [
             0.7777777777777778,
             "#fb9f3a"
            ],
            [
             0.8888888888888888,
             "#fdca26"
            ],
            [
             1,
             "#f0f921"
            ]
           ]
          },
          "colorway": [
           "#636efa",
           "#EF553B",
           "#00cc96",
           "#ab63fa",
           "#FFA15A",
           "#19d3f3",
           "#FF6692",
           "#B6E880",
           "#FF97FF",
           "#FECB52"
          ],
          "font": {
           "color": "#2a3f5f"
          },
          "geo": {
           "bgcolor": "white",
           "lakecolor": "white",
           "landcolor": "white",
           "showlakes": true,
           "showland": true,
           "subunitcolor": "#C8D4E3"
          },
          "hoverlabel": {
           "align": "left"
          },
          "hovermode": "closest",
          "mapbox": {
           "style": "light"
          },
          "paper_bgcolor": "white",
          "plot_bgcolor": "white",
          "polar": {
           "angularaxis": {
            "gridcolor": "#EBF0F8",
            "linecolor": "#EBF0F8",
            "ticks": ""
           },
           "bgcolor": "white",
           "radialaxis": {
            "gridcolor": "#EBF0F8",
            "linecolor": "#EBF0F8",
            "ticks": ""
           }
          },
          "scene": {
           "xaxis": {
            "backgroundcolor": "white",
            "gridcolor": "#DFE8F3",
            "gridwidth": 2,
            "linecolor": "#EBF0F8",
            "showbackground": true,
            "ticks": "",
            "zerolinecolor": "#EBF0F8"
           },
           "yaxis": {
            "backgroundcolor": "white",
            "gridcolor": "#DFE8F3",
            "gridwidth": 2,
            "linecolor": "#EBF0F8",
            "showbackground": true,
            "ticks": "",
            "zerolinecolor": "#EBF0F8"
           },
           "zaxis": {
            "backgroundcolor": "white",
            "gridcolor": "#DFE8F3",
            "gridwidth": 2,
            "linecolor": "#EBF0F8",
            "showbackground": true,
            "ticks": "",
            "zerolinecolor": "#EBF0F8"
           }
          },
          "shapedefaults": {
           "line": {
            "color": "#2a3f5f"
           }
          },
          "ternary": {
           "aaxis": {
            "gridcolor": "#DFE8F3",
            "linecolor": "#A2B1C6",
            "ticks": ""
           },
           "baxis": {
            "gridcolor": "#DFE8F3",
            "linecolor": "#A2B1C6",
            "ticks": ""
           },
           "bgcolor": "white",
           "caxis": {
            "gridcolor": "#DFE8F3",
            "linecolor": "#A2B1C6",
            "ticks": ""
           }
          },
          "title": {
           "x": 0.05
          },
          "xaxis": {
           "automargin": true,
           "gridcolor": "#EBF0F8",
           "linecolor": "#EBF0F8",
           "ticks": "",
           "title": {
            "standoff": 15
           },
           "zerolinecolor": "#EBF0F8",
           "zerolinewidth": 2
          },
          "yaxis": {
           "automargin": true,
           "gridcolor": "#EBF0F8",
           "linecolor": "#EBF0F8",
           "ticks": "",
           "title": {
            "standoff": 15
           },
           "zerolinecolor": "#EBF0F8",
           "zerolinewidth": 2
          }
         }
        },
        "title": {
         "text": "Top 10 Ingredients by Frequency"
        },
        "xaxis": {
         "anchor": "y",
         "autorange": true,
         "domain": [
          0,
          1
         ],
         "range": [
          0,
          47.36842105263158
         ],
         "title": {
          "text": "Count"
         },
         "type": "linear"
        },
        "yaxis": {
         "anchor": "x",
         "autorange": true,
         "categoryarray": [
          "skimmed milk powder",
          "vanilla extract.",
          "butter",
          "dark chocolate (61% cocoa minimum",
          "pure cocoa butter",
          "emulsifier: (soya lecithin)",
          "cocoa beans",
          "whole milk powder",
          "sugar",
          "cocoa butter"
         ],
         "categoryorder": "array",
         "domain": [
          0,
          1
         ],
         "range": [
          9.5,
          -0.5
         ],
         "title": {
          "text": "Ingredient"
         },
         "type": "category"
        }
       }
      },
      "image/png": "[encoded data removed]",
      "text/html": [
       "<div>                            <div id=\"5bf2138c-2533-41e7-aa47-134b1ab0932f\" class=\"plotly-graph-div\" style=\"height:525px; width:100%;\"></div>            <script type=\"text/javascript\">                require([\"plotly\"], function(Plotly) {                    window.PLOTLYENV=window.PLOTLYENV || {};                                    if (document.getElementById(\"5bf2138c-2533-41e7-aa47-134b1ab0932f\")) {                    Plotly.newPlot(                        \"5bf2138c-2533-41e7-aa47-134b1ab0932f\",                        [{\"alignmentgroup\":\"True\",\"hovertemplate\":\"Ingredient=%{y}<br>Count=%{text}<extra></extra>\",\"legendgroup\":\"cocoa butter\",\"marker\":{\"color\":\"rgb(63,0,125)\",\"pattern\":{\"shape\":\"\"}},\"name\":\"cocoa butter\",\"offsetgroup\":\"cocoa butter\",\"orientation\":\"h\",\"showlegend\":true,\"text\":[45.0],\"textposition\":\"outside\",\"x\":[45],\"xaxis\":\"x\",\"y\":[\"cocoa butter\"],\"yaxis\":\"y\",\"type\":\"bar\"},{\"alignmentgroup\":\"True\",\"hovertemplate\":\"Ingredient=%{y}<br>Count=%{text}<extra></extra>\",\"legendgroup\":\"sugar\",\"marker\":{\"color\":\"rgb(84,39,143)\",\"pattern\":{\"shape\":\"\"}},\"name\":\"sugar\",\"offsetgroup\":\"sugar\",\"orientation\":\"h\",\"showlegend\":true,\"text\":[45.0],\"textposition\":\"outside\",\"x\":[45],\"xaxis\":\"x\",\"y\":[\"sugar\"],\"yaxis\":\"y\",\"type\":\"bar\"},{\"alignmentgroup\":\"True\",\"hovertemplate\":\"Ingredient=%{y}<br>Count=%{text}<extra></extra>\",\"legendgroup\":\"whole milk powder\",\"marker\":{\"color\":\"rgb(106,81,163)\",\"pattern\":{\"shape\":\"\"}},\"name\":\"whole milk powder\",\"offsetgroup\":\"whole milk powder\",\"orientation\":\"h\",\"showlegend\":true,\"text\":[24.0],\"textposition\":\"outside\",\"x\":[24],\"xaxis\":\"x\",\"y\":[\"whole milk powder\"],\"yaxis\":\"y\",\"type\":\"bar\"},{\"alignmentgroup\":\"True\",\"hovertemplate\":\"Ingredient=%{y}<br>Count=%{text}<extra></extra>\",\"legendgroup\":\"cocoa beans\",\"marker\":{\"color\":\"rgb(128,125,186)\",\"pattern\":{\"shape\":\"\"}},\"name\":\"cocoa beans\",\"offsetgroup\":\"cocoa beans\",\"orientation\":\"h\",\"showlegend\":true,\"text\":[16.0],\"textposition\":\"outside\",\"x\":[16],\"xaxis\":\"x\",\"y\":[\"cocoa beans\"],\"yaxis\":\"y\",\"type\":\"bar\"},{\"alignmentgroup\":\"True\",\"hovertemplate\":\"Ingredient=%{y}<br>Count=%{text}<extra></extra>\",\"legendgroup\":\"emulsifier: (soya lecithin)\",\"marker\":{\"color\":\"rgb(158,154,200)\",\"pattern\":{\"shape\":\"\"}},\"name\":\"emulsifier: (soya lecithin)\",\"offsetgroup\":\"emulsifier: (soya lecithin)\",\"orientation\":\"h\",\"showlegend\":true,\"text\":[16.0],\"textposition\":\"outside\",\"x\":[16],\"xaxis\":\"x\",\"y\":[\"emulsifier: (soya lecithin)\"],\"yaxis\":\"y\",\"type\":\"bar\"},{\"alignmentgroup\":\"True\",\"hovertemplate\":\"Ingredient=%{y}<br>Count=%{text}<extra></extra>\",\"legendgroup\":\"pure cocoa butter\",\"marker\":{\"color\":\"rgb(188,189,220)\",\"pattern\":{\"shape\":\"\"}},\"name\":\"pure cocoa butter\",\"offsetgroup\":\"pure cocoa butter\",\"orientation\":\"h\",\"showlegend\":true,\"text\":[15.0],\"textposition\":\"outside\",\"x\":[15],\"xaxis\":\"x\",\"y\":[\"pure cocoa butter\"],\"yaxis\":\"y\",\"type\":\"bar\"},{\"alignmentgroup\":\"True\",\"hovertemplate\":\"Ingredient=%{y}<br>Count=%{text}<extra></extra>\",\"legendgroup\":\"dark chocolate (61% cocoa minimum\",\"marker\":{\"color\":\"rgb(218,218,235)\",\"pattern\":{\"shape\":\"\"}},\"name\":\"dark chocolate (61% cocoa minimum\",\"offsetgroup\":\"dark chocolate (61% cocoa minimum\",\"orientation\":\"h\",\"showlegend\":true,\"text\":[11.0],\"textposition\":\"outside\",\"x\":[11],\"xaxis\":\"x\",\"y\":[\"dark chocolate (61% cocoa minimum\"],\"yaxis\":\"y\",\"type\":\"bar\"},{\"alignmentgroup\":\"True\",\"hovertemplate\":\"Ingredient=%{y}<br>Count=%{text}<extra></extra>\",\"legendgroup\":\"butter\",\"marker\":{\"color\":\"rgb(239,237,245)\",\"pattern\":{\"shape\":\"\"}},\"name\":\"butter\",\"offsetgroup\":\"butter\",\"orientation\":\"h\",\"showlegend\":true,\"text\":[11.0],\"textposition\":\"outside\",\"x\":[11],\"xaxis\":\"x\",\"y\":[\"butter\"],\"yaxis\":\"y\",\"type\":\"bar\"},{\"alignmentgroup\":\"True\",\"hovertemplate\":\"Ingredient=%{y}<br>Count=%{text}<extra></extra>\",\"legendgroup\":\"vanilla extract.\",\"marker\":{\"color\":\"rgb(252,251,253)\",\"pattern\":{\"shape\":\"\"}},\"name\":\"vanilla extract.\",\"offsetgroup\":\"vanilla extract.\",\"orientation\":\"h\",\"showlegend\":true,\"text\":[10.0],\"textposition\":\"outside\",\"x\":[10],\"xaxis\":\"x\",\"y\":[\"vanilla extract.\"],\"yaxis\":\"y\",\"type\":\"bar\"},{\"alignmentgroup\":\"True\",\"hovertemplate\":\"Ingredient=%{y}<br>Count=%{text}<extra></extra>\",\"legendgroup\":\"skimmed milk powder\",\"marker\":{\"color\":\"rgb(63,0,125)\",\"pattern\":{\"shape\":\"\"}},\"name\":\"skimmed milk powder\",\"offsetgroup\":\"skimmed milk powder\",\"orientation\":\"h\",\"showlegend\":true,\"text\":[9.0],\"textposition\":\"outside\",\"x\":[9],\"xaxis\":\"x\",\"y\":[\"skimmed milk powder\"],\"yaxis\":\"y\",\"type\":\"bar\"}],                        {\"template\":{\"data\":{\"barpolar\":[{\"marker\":{\"line\":{\"color\":\"white\",\"width\":0.5},\"pattern\":{\"fillmode\":\"overlay\",\"size\":10,\"solidity\":0.2}},\"type\":\"barpolar\"}],\"bar\":[{\"error_x\":{\"color\":\"#2a3f5f\"},\"error_y\":{\"color\":\"#2a3f5f\"},\"marker\":{\"line\":{\"color\":\"white\",\"width\":0.5},\"pattern\":{\"fillmode\":\"overlay\",\"size\":10,\"solidity\":0.2}},\"type\":\"bar\"}],\"carpet\":[{\"aaxis\":{\"endlinecolor\":\"#2a3f5f\",\"gridcolor\":\"#C8D4E3\",\"linecolor\":\"#C8D4E3\",\"minorgridcolor\":\"#C8D4E3\",\"startlinecolor\":\"#2a3f5f\"},\"baxis\":{\"endlinecolor\":\"#2a3f5f\",\"gridcolor\":\"#C8D4E3\",\"linecolor\":\"#C8D4E3\",\"minorgridcolor\":\"#C8D4E3\",\"startlinecolor\":\"#2a3f5f\"},\"type\":\"carpet\"}],\"choropleth\":[{\"colorbar\":{\"outlinewidth\":0,\"ticks\":\"\"},\"type\":\"choropleth\"}],\"contourcarpet\":[{\"colorbar\":{\"outlinewidth\":0,\"ticks\":\"\"},\"type\":\"contourcarpet\"}],\"contour\":[{\"colorbar\":{\"outlinewidth\":0,\"ticks\":\"\"},\"colorscale\":[[0.0,\"#0d0887\"],[0.1111111111111111,\"#46039f\"],[0.2222222222222222,\"#7201a8\"],[0.3333333333333333,\"#9c179e\"],[0.4444444444444444,\"#bd3786\"],[0.5555555555555556,\"#d8576b\"],[0.6666666666666666,\"#ed7953\"],[0.7777777777777778,\"#fb9f3a\"],[0.8888888888888888,\"#fdca26\"],[1.0,\"#f0f921\"]],\"type\":\"contour\"}],\"heatmapgl\":[{\"colorbar\":{\"outlinewidth\":0,\"ticks\":\"\"},\"colorscale\":[[0.0,\"#0d0887\"],[0.1111111111111111,\"#46039f\"],[0.2222222222222222,\"#7201a8\"],[0.3333333333333333,\"#9c179e\"],[0.4444444444444444,\"#bd3786\"],[0.5555555555555556,\"#d8576b\"],[0.6666666666666666,\"#ed7953\"],[0.7777777777777778,\"#fb9f3a\"],[0.8888888888888888,\"#fdca26\"],[1.0,\"#f0f921\"]],\"type\":\"heatmapgl\"}],\"heatmap\":[{\"colorbar\":{\"outlinewidth\":0,\"ticks\":\"\"},\"colorscale\":[[0.0,\"#0d0887\"],[0.1111111111111111,\"#46039f\"],[0.2222222222222222,\"#7201a8\"],[0.3333333333333333,\"#9c179e\"],[0.4444444444444444,\"#bd3786\"],[0.5555555555555556,\"#d8576b\"],[0.6666666666666666,\"#ed7953\"],[0.7777777777777778,\"#fb9f3a\"],[0.8888888888888888,\"#fdca26\"],[1.0,\"#f0f921\"]],\"type\":\"heatmap\"}],\"histogram2dcontour\":[{\"colorbar\":{\"outlinewidth\":0,\"ticks\":\"\"},\"colorscale\":[[0.0,\"#0d0887\"],[0.1111111111111111,\"#46039f\"],[0.2222222222222222,\"#7201a8\"],[0.3333333333333333,\"#9c179e\"],[0.4444444444444444,\"#bd3786\"],[0.5555555555555556,\"#d8576b\"],[0.6666666666666666,\"#ed7953\"],[0.7777777777777778,\"#fb9f3a\"],[0.8888888888888888,\"#fdca26\"],[1.0,\"#f0f921\"]],\"type\":\"histogram2dcontour\"}],\"histogram2d\":[{\"colorbar\":{\"outlinewidth\":0,\"ticks\":\"\"},\"colorscale\":[[0.0,\"#0d0887\"],[0.1111111111111111,\"#46039f\"],[0.2222222222222222,\"#7201a8\"],[0.3333333333333333,\"#9c179e\"],[0.4444444444444444,\"#bd3786\"],[0.5555555555555556,\"#d8576b\"],[0.6666666666666666,\"#ed7953\"],[0.7777777777777778,\"#fb9f3a\"],[0.8888888888888888,\"#fdca26\"],[1.0,\"#f0f921\"]],\"type\":\"histogram2d\"}],\"histogram\":[{\"marker\":{\"pattern\":{\"fillmode\":\"overlay\",\"size\":10,\"solidity\":0.2}},\"type\":\"histogram\"}],\"mesh3d\":[{\"colorbar\":{\"outlinewidth\":0,\"ticks\":\"\"},\"type\":\"mesh3d\"}],\"parcoords\":[{\"line\":{\"colorbar\":{\"outlinewidth\":0,\"ticks\":\"\"}},\"type\":\"parcoords\"}],\"pie\":[{\"automargin\":true,\"type\":\"pie\"}],\"scatter3d\":[{\"line\":{\"colorbar\":{\"outlinewidth\":0,\"ticks\":\"\"}},\"marker\":{\"colorbar\":{\"outlinewidth\":0,\"ticks\":\"\"}},\"type\":\"scatter3d\"}],\"scattercarpet\":[{\"marker\":{\"colorbar\":{\"outlinewidth\":0,\"ticks\":\"\"}},\"type\":\"scattercarpet\"}],\"scattergeo\":[{\"marker\":{\"colorbar\":{\"outlinewidth\":0,\"ticks\":\"\"}},\"type\":\"scattergeo\"}],\"scattergl\":[{\"marker\":{\"colorbar\":{\"outlinewidth\":0,\"ticks\":\"\"}},\"type\":\"scattergl\"}],\"scattermapbox\":[{\"marker\":{\"colorbar\":{\"outlinewidth\":0,\"ticks\":\"\"}},\"type\":\"scattermapbox\"}],\"scatterpolargl\":[{\"marker\":{\"colorbar\":{\"outlinewidth\":0,\"ticks\":\"\"}},\"type\":\"scatterpolargl\"}],\"scatterpolar\":[{\"marker\":{\"colorbar\":{\"outlinewidth\":0,\"ticks\":\"\"}},\"type\":\"scatterpolar\"}],\"scatter\":[{\"fillpattern\":{\"fillmode\":\"overlay\",\"size\":10,\"solidity\":0.2},\"type\":\"scatter\"}],\"scatterternary\":[{\"marker\":{\"colorbar\":{\"outlinewidth\":0,\"ticks\":\"\"}},\"type\":\"scatterternary\"}],\"surface\":[{\"colorbar\":{\"outlinewidth\":0,\"ticks\":\"\"},\"colorscale\":[[0.0,\"#0d0887\"],[0.1111111111111111,\"#46039f\"],[0.2222222222222222,\"#7201a8\"],[0.3333333333333333,\"#9c179e\"],[0.4444444444444444,\"#bd3786\"],[0.5555555555555556,\"#d8576b\"],[0.6666666666666666,\"#ed7953\"],[0.7777777777777778,\"#fb9f3a\"],[0.8888888888888888,\"#fdca26\"],[1.0,\"#f0f921\"]],\"type\":\"surface\"}],\"table\":[{\"cells\":{\"fill\":{\"color\":\"#EBF0F8\"},\"line\":{\"color\":\"white\"}},\"header\":{\"fill\":{\"color\":\"#C8D4E3\"},\"line\":{\"color\":\"white\"}},\"type\":\"table\"}]},\"layout\":{\"annotationdefaults\":{\"arrowcolor\":\"#2a3f5f\",\"arrowhead\":0,\"arrowwidth\":1},\"autotypenumbers\":\"strict\",\"coloraxis\":{\"colorbar\":{\"outlinewidth\":0,\"ticks\":\"\"}},\"colorscale\":{\"diverging\":[[0,\"#8e0152\"],[0.1,\"#c51b7d\"],[0.2,\"#de77ae\"],[0.3,\"#f1b6da\"],[0.4,\"#fde0ef\"],[0.5,\"#f7f7f7\"],[0.6,\"#e6f5d0\"],[0.7,\"#b8e186\"],[0.8,\"#7fbc41\"],[0.9,\"#4d9221\"],[1,\"#276419\"]],\"sequential\":[[0.0,\"#0d0887\"],[0.1111111111111111,\"#46039f\"],[0.2222222222222222,\"#7201a8\"],[0.3333333333333333,\"#9c179e\"],[0.4444444444444444,\"#bd3786\"],[0.5555555555555556,\"#d8576b\"],[0.6666666666666666,\"#ed7953\"],[0.7777777777777778,\"#fb9f3a\"],[0.8888888888888888,\"#fdca26\"],[1.0,\"#f0f921\"]],\"sequentialminus\":[[0.0,\"#0d0887\"],[0.1111111111111111,\"#46039f\"],[0.2222222222222222,\"#7201a8\"],[0.3333333333333333,\"#9c179e\"],[0.4444444444444444,\"#bd3786\"],[0.5555555555555556,\"#d8576b\"],[0.6666666666666666,\"#ed7953\"],[0.7777777777777778,\"#fb9f3a\"],[0.8888888888888888,\"#fdca26\"],[1.0,\"#f0f921\"]]},\"colorway\":[\"#636efa\",\"#EF553B\",\"#00cc96\",\"#ab63fa\",\"#FFA15A\",\"#19d3f3\",\"#FF6692\",\"#B6E880\",\"#FF97FF\",\"#FECB52\"],\"font\":{\"color\":\"#2a3f5f\"},\"geo\":{\"bgcolor\":\"white\",\"lakecolor\":\"white\",\"landcolor\":\"white\",\"showlakes\":true,\"showland\":true,\"subunitcolor\":\"#C8D4E3\"},\"hoverlabel\":{\"align\":\"left\"},\"hovermode\":\"closest\",\"mapbox\":{\"style\":\"light\"},\"paper_bgcolor\":\"white\",\"plot_bgcolor\":\"white\",\"polar\":{\"angularaxis\":{\"gridcolor\":\"#EBF0F8\",\"linecolor\":\"#EBF0F8\",\"ticks\":\"\"},\"bgcolor\":\"white\",\"radialaxis\":{\"gridcolor\":\"#EBF0F8\",\"linecolor\":\"#EBF0F8\",\"ticks\":\"\"}},\"scene\":{\"xaxis\":{\"backgroundcolor\":\"white\",\"gridcolor\":\"#DFE8F3\",\"gridwidth\":2,\"linecolor\":\"#EBF0F8\",\"showbackground\":true,\"ticks\":\"\",\"zerolinecolor\":\"#EBF0F8\"},\"yaxis\":{\"backgroundcolor\":\"white\",\"gridcolor\":\"#DFE8F3\",\"gridwidth\":2,\"linecolor\":\"#EBF0F8\",\"showbackground\":true,\"ticks\":\"\",\"zerolinecolor\":\"#EBF0F8\"},\"zaxis\":{\"backgroundcolor\":\"white\",\"gridcolor\":\"#DFE8F3\",\"gridwidth\":2,\"linecolor\":\"#EBF0F8\",\"showbackground\":true,\"ticks\":\"\",\"zerolinecolor\":\"#EBF0F8\"}},\"shapedefaults\":{\"line\":{\"color\":\"#2a3f5f\"}},\"ternary\":{\"aaxis\":{\"gridcolor\":\"#DFE8F3\",\"linecolor\":\"#A2B1C6\",\"ticks\":\"\"},\"baxis\":{\"gridcolor\":\"#DFE8F3\",\"linecolor\":\"#A2B1C6\",\"ticks\":\"\"},\"bgcolor\":\"white\",\"caxis\":{\"gridcolor\":\"#DFE8F3\",\"linecolor\":\"#A2B1C6\",\"ticks\":\"\"}},\"title\":{\"x\":0.05},\"xaxis\":{\"automargin\":true,\"gridcolor\":\"#EBF0F8\",\"linecolor\":\"#EBF0F8\",\"ticks\":\"\",\"title\":{\"standoff\":15},\"zerolinecolor\":\"#EBF0F8\",\"zerolinewidth\":2},\"yaxis\":{\"automargin\":true,\"gridcolor\":\"#EBF0F8\",\"linecolor\":\"#EBF0F8\",\"ticks\":\"\",\"title\":{\"standoff\":15},\"zerolinecolor\":\"#EBF0F8\",\"zerolinewidth\":2}}},\"xaxis\":{\"anchor\":\"y\",\"domain\":[0.0,1.0],\"title\":{\"text\":\"Count\"}},\"yaxis\":{\"anchor\":\"x\",\"domain\":[0.0,1.0],\"title\":{\"text\":\"Ingredient\"},\"categoryorder\":\"array\",\"categoryarray\":[\"skimmed milk powder\",\"vanilla extract.\",\"butter\",\"dark chocolate (61% cocoa minimum\",\"pure cocoa butter\",\"emulsifier: (soya lecithin)\",\"cocoa beans\",\"whole milk powder\",\"sugar\",\"cocoa butter\"],\"autorange\":\"reversed\"},\"legend\":{\"title\":{\"text\":\"Ingredient\"},\"tracegroupgap\":0},\"title\":{\"text\":\"Top 10 Ingredients by Frequency\"},\"barmode\":\"relative\"},                        {\"responsive\": true}                    ).then(function(){\n",
       "                            \n",
       "var gd = document.getElementById('5bf2138c-2533-41e7-aa47-134b1ab0932f');\n",
       "var x = new MutationObserver(function (mutations, observer) {{\n",
       "        var display = window.getComputedStyle(gd).display;\n",
       "        if (!display || display === 'none') {{\n",
       "            console.log([gd, 'removed!']);\n",
       "            Plotly.purge(gd);\n",
       "            observer.disconnect();\n",
       "        }}\n",
       "}});\n",
       "\n",
       "// Listen for the removal of the full notebook cells\n",
       "var notebookContainer = gd.closest('#notebook-container');\n",
       "if (notebookContainer) {{\n",
       "    x.observe(notebookContainer, {childList: true});\n",
       "}}\n",
       "\n",
       "// Listen for the clearing of the current output cell\n",
       "var outputEl = gd.closest('.output');\n",
       "if (outputEl) {{\n",
       "    x.observe(outputEl, {childList: true});\n",
       "}}\n",
       "\n",
       "                        })                };                });            </script>        </div>"
      ]
     },
     "metadata": {},
     "output_type": "display_data"
    }
   ],
   "source": [
    "\n",
    "df_with_ingredients = df_products[\n",
    "    df_products['Ingredients'].notna() &\n",
    "    (df_products['Ingredients'].str.strip() != '')\n",
    "]\n",
    "\n",
    "ingredient_list = []\n",
    "for row in df_with_ingredients['Ingredients']:\n",
    "    for ingredient in str(row).split(','):\n",
    "        ingredient_list.append(ingredient.strip().lower())\n",
    "\n",
    "ingredient_counts = Counter(ingredient_list)\n",
    "\n",
    "top_ingredients_df = pd.DataFrame(\n",
    "    ingredient_counts.most_common(10),\n",
    "    columns=['Ingredient', 'Count']\n",
    ")\n",
    "\n",
    "fig = px.bar(\n",
    "    top_ingredients_df,\n",
    "    x='Count',\n",
    "    y='Ingredient',\n",
    "    orientation='h',\n",
    "    title='Top 10 Ingredients by Frequency',\n",
    "    text='Count',\n",
    "    color='Ingredient',\n",
    "    color_discrete_sequence=px.colors.sequential.Purples[::-1]\n",
    ")\n",
    "\n",
    "fig.update_traces(textposition='outside')\n",
    "fig.update_layout(\n",
    "    xaxis_title='Count',\n",
    "    yaxis_title='Ingredient',\n",
    "    yaxis=dict(autorange='reversed'),\n",
    "    template='plotly_white'\n",
    ")\n",
    "\n",
    "fig.show()\n"
   ]
  },
  {
   "cell_type": "markdown",
   "id": "af93ac87-d9aa-4724-bd61-cf1116376287",
   "metadata": {},
   "source": [
    "## Most Expensive Products: Cocoa vs Milk Composition"
   ]
  },
  {
   "cell_type": "code",
   "execution_count": 20,
   "id": "33b70fb3-dcf8-4ac2-8602-eb5342457e28",
   "metadata": {},
   "outputs": [
    {
     "data": {
      "application/vnd.plotly.v1+json": {
       "config": {
        "plotlyServerURL": "https://plot.ly"
       },
       "data": [
        {
         "alignmentgroup": "True",
         "hovertemplate": "Component=Cocoa %<br>Percentage=%{text}<br>Name=%{y}<extra></extra>",
         "legendgroup": "Cocoa %",
         "marker": {
          "color": "#6F0C8A",
          "pattern": {
           "shape": ""
          }
         },
         "name": "Cocoa %",
         "offsetgroup": "Cocoa %",
         "orientation": "h",
         "showlegend": true,
         "text": [
          41,
          32,
          40,
          37,
          37
         ],
         "textposition": "outside",
         "type": "bar",
         "x": [
          41,
          32,
          40,
          37,
          37
         ],
         "xaxis": "x",
         "y": [
          "2.5Kg Bulk 41% Milk Hot Chocolate Drops",
          "Blonde Chocolate Truffles",
          "Marc De Champagne Truffles",
          "Milk Chocolate Truffles",
          "Salted Caramels Milk Chocolate"
         ],
         "yaxis": "y"
        },
        {
         "alignmentgroup": "True",
         "hovertemplate": "Component=Milk %<br>Percentage=%{text}<br>Name=%{y}<extra></extra>",
         "legendgroup": "Milk %",
         "marker": {
          "color": "#7853A8",
          "pattern": {
           "shape": ""
          }
         },
         "name": "Milk %",
         "offsetgroup": "Milk %",
         "orientation": "h",
         "showlegend": true,
         "text": [
          19,
          7,
          19,
          21,
          21
         ],
         "textposition": "outside",
         "type": "bar",
         "x": [
          19,
          7,
          19,
          21,
          21
         ],
         "xaxis": "x",
         "y": [
          "2.5Kg Bulk 41% Milk Hot Chocolate Drops",
          "Blonde Chocolate Truffles",
          "Marc De Champagne Truffles",
          "Milk Chocolate Truffles",
          "Salted Caramels Milk Chocolate"
         ],
         "yaxis": "y"
        }
       ],
       "layout": {
        "autosize": true,
        "barmode": "relative",
        "legend": {
         "title": {
          "text": ""
         },
         "tracegroupgap": 0
        },
        "template": {
         "data": {
          "bar": [
           {
            "error_x": {
             "color": "#2a3f5f"
            },
            "error_y": {
             "color": "#2a3f5f"
            },
            "marker": {
             "line": {
              "color": "white",
              "width": 0.5
             },
             "pattern": {
              "fillmode": "overlay",
              "size": 10,
              "solidity": 0.2
             }
            },
            "type": "bar"
           }
          ],
          "barpolar": [
           {
            "marker": {
             "line": {
              "color": "white",
              "width": 0.5
             },
             "pattern": {
              "fillmode": "overlay",
              "size": 10,
              "solidity": 0.2
             }
            },
            "type": "barpolar"
           }
          ],
          "carpet": [
           {
            "aaxis": {
             "endlinecolor": "#2a3f5f",
             "gridcolor": "#C8D4E3",
             "linecolor": "#C8D4E3",
             "minorgridcolor": "#C8D4E3",
             "startlinecolor": "#2a3f5f"
            },
            "baxis": {
             "endlinecolor": "#2a3f5f",
             "gridcolor": "#C8D4E3",
             "linecolor": "#C8D4E3",
             "minorgridcolor": "#C8D4E3",
             "startlinecolor": "#2a3f5f"
            },
            "type": "carpet"
           }
          ],
          "choropleth": [
           {
            "colorbar": {
             "outlinewidth": 0,
             "ticks": ""
            },
            "type": "choropleth"
           }
          ],
          "contour": [
           {
            "colorbar": {
             "outlinewidth": 0,
             "ticks": ""
            },
            "colorscale": [
             [
              0,
              "#0d0887"
             ],
             [
              0.1111111111111111,
              "#46039f"
             ],
             [
              0.2222222222222222,
              "#7201a8"
             ],
             [
              0.3333333333333333,
              "#9c179e"
             ],
             [
              0.4444444444444444,
              "#bd3786"
             ],
             [
              0.5555555555555556,
              "#d8576b"
             ],
             [
              0.6666666666666666,
              "#ed7953"
             ],
             [
              0.7777777777777778,
              "#fb9f3a"
             ],
             [
              0.8888888888888888,
              "#fdca26"
             ],
             [
              1,
              "#f0f921"
             ]
            ],
            "type": "contour"
           }
          ],
          "contourcarpet": [
           {
            "colorbar": {
             "outlinewidth": 0,
             "ticks": ""
            },
            "type": "contourcarpet"
           }
          ],
          "heatmap": [
           {
            "colorbar": {
             "outlinewidth": 0,
             "ticks": ""
            },
            "colorscale": [
             [
              0,
              "#0d0887"
             ],
             [
              0.1111111111111111,
              "#46039f"
             ],
             [
              0.2222222222222222,
              "#7201a8"
             ],
             [
              0.3333333333333333,
              "#9c179e"
             ],
             [
              0.4444444444444444,
              "#bd3786"
             ],
             [
              0.5555555555555556,
              "#d8576b"
             ],
             [
              0.6666666666666666,
              "#ed7953"
             ],
             [
              0.7777777777777778,
              "#fb9f3a"
             ],
             [
              0.8888888888888888,
              "#fdca26"
             ],
             [
              1,
              "#f0f921"
             ]
            ],
            "type": "heatmap"
           }
          ],
          "heatmapgl": [
           {
            "colorbar": {
             "outlinewidth": 0,
             "ticks": ""
            },
            "colorscale": [
             [
              0,
              "#0d0887"
             ],
             [
              0.1111111111111111,
              "#46039f"
             ],
             [
              0.2222222222222222,
              "#7201a8"
             ],
             [
              0.3333333333333333,
              "#9c179e"
             ],
             [
              0.4444444444444444,
              "#bd3786"
             ],
             [
              0.5555555555555556,
              "#d8576b"
             ],
             [
              0.6666666666666666,
              "#ed7953"
             ],
             [
              0.7777777777777778,
              "#fb9f3a"
             ],
             [
              0.8888888888888888,
              "#fdca26"
             ],
             [
              1,
              "#f0f921"
             ]
            ],
            "type": "heatmapgl"
           }
          ],
          "histogram": [
           {
            "marker": {
             "pattern": {
              "fillmode": "overlay",
              "size": 10,
              "solidity": 0.2
             }
            },
            "type": "histogram"
           }
          ],
          "histogram2d": [
           {
            "colorbar": {
             "outlinewidth": 0,
             "ticks": ""
            },
            "colorscale": [
             [
              0,
              "#0d0887"
             ],
             [
              0.1111111111111111,
              "#46039f"
             ],
             [
              0.2222222222222222,
              "#7201a8"
             ],
             [
              0.3333333333333333,
              "#9c179e"
             ],
             [
              0.4444444444444444,
              "#bd3786"
             ],
             [
              0.5555555555555556,
              "#d8576b"
             ],
             [
              0.6666666666666666,
              "#ed7953"
             ],
             [
              0.7777777777777778,
              "#fb9f3a"
             ],
             [
              0.8888888888888888,
              "#fdca26"
             ],
             [
              1,
              "#f0f921"
             ]
            ],
            "type": "histogram2d"
           }
          ],
          "histogram2dcontour": [
           {
            "colorbar": {
             "outlinewidth": 0,
             "ticks": ""
            },
            "colorscale": [
             [
              0,
              "#0d0887"
             ],
             [
              0.1111111111111111,
              "#46039f"
             ],
             [
              0.2222222222222222,
              "#7201a8"
             ],
             [
              0.3333333333333333,
              "#9c179e"
             ],
             [
              0.4444444444444444,
              "#bd3786"
             ],
             [
              0.5555555555555556,
              "#d8576b"
             ],
             [
              0.6666666666666666,
              "#ed7953"
             ],
             [
              0.7777777777777778,
              "#fb9f3a"
             ],
             [
              0.8888888888888888,
              "#fdca26"
             ],
             [
              1,
              "#f0f921"
             ]
            ],
            "type": "histogram2dcontour"
           }
          ],
          "mesh3d": [
           {
            "colorbar": {
             "outlinewidth": 0,
             "ticks": ""
            },
            "type": "mesh3d"
           }
          ],
          "parcoords": [
           {
            "line": {
             "colorbar": {
              "outlinewidth": 0,
              "ticks": ""
             }
            },
            "type": "parcoords"
           }
          ],
          "pie": [
           {
            "automargin": true,
            "type": "pie"
           }
          ],
          "scatter": [
           {
            "fillpattern": {
             "fillmode": "overlay",
             "size": 10,
             "solidity": 0.2
            },
            "type": "scatter"
           }
          ],
          "scatter3d": [
           {
            "line": {
             "colorbar": {
              "outlinewidth": 0,
              "ticks": ""
             }
            },
            "marker": {
             "colorbar": {
              "outlinewidth": 0,
              "ticks": ""
             }
            },
            "type": "scatter3d"
           }
          ],
          "scattercarpet": [
           {
            "marker": {
             "colorbar": {
              "outlinewidth": 0,
              "ticks": ""
             }
            },
            "type": "scattercarpet"
           }
          ],
          "scattergeo": [
           {
            "marker": {
             "colorbar": {
              "outlinewidth": 0,
              "ticks": ""
             }
            },
            "type": "scattergeo"
           }
          ],
          "scattergl": [
           {
            "marker": {
             "colorbar": {
              "outlinewidth": 0,
              "ticks": ""
             }
            },
            "type": "scattergl"
           }
          ],
          "scattermapbox": [
           {
            "marker": {
             "colorbar": {
              "outlinewidth": 0,
              "ticks": ""
             }
            },
            "type": "scattermapbox"
           }
          ],
          "scatterpolar": [
           {
            "marker": {
             "colorbar": {
              "outlinewidth": 0,
              "ticks": ""
             }
            },
            "type": "scatterpolar"
           }
          ],
          "scatterpolargl": [
           {
            "marker": {
             "colorbar": {
              "outlinewidth": 0,
              "ticks": ""
             }
            },
            "type": "scatterpolargl"
           }
          ],
          "scatterternary": [
           {
            "marker": {
             "colorbar": {
              "outlinewidth": 0,
              "ticks": ""
             }
            },
            "type": "scatterternary"
           }
          ],
          "surface": [
           {
            "colorbar": {
             "outlinewidth": 0,
             "ticks": ""
            },
            "colorscale": [
             [
              0,
              "#0d0887"
             ],
             [
              0.1111111111111111,
              "#46039f"
             ],
             [
              0.2222222222222222,
              "#7201a8"
             ],
             [
              0.3333333333333333,
              "#9c179e"
             ],
             [
              0.4444444444444444,
              "#bd3786"
             ],
             [
              0.5555555555555556,
              "#d8576b"
             ],
             [
              0.6666666666666666,
              "#ed7953"
             ],
             [
              0.7777777777777778,
              "#fb9f3a"
             ],
             [
              0.8888888888888888,
              "#fdca26"
             ],
             [
              1,
              "#f0f921"
             ]
            ],
            "type": "surface"
           }
          ],
          "table": [
           {
            "cells": {
             "fill": {
              "color": "#EBF0F8"
             },
             "line": {
              "color": "white"
             }
            },
            "header": {
             "fill": {
              "color": "#C8D4E3"
             },
             "line": {
              "color": "white"
             }
            },
            "type": "table"
           }
          ]
         },
         "layout": {
          "annotationdefaults": {
           "arrowcolor": "#2a3f5f",
           "arrowhead": 0,
           "arrowwidth": 1
          },
          "autotypenumbers": "strict",
          "coloraxis": {
           "colorbar": {
            "outlinewidth": 0,
            "ticks": ""
           }
          },
          "colorscale": {
           "diverging": [
            [
             0,
             "#8e0152"
            ],
            [
             0.1,
             "#c51b7d"
            ],
            [
             0.2,
             "#de77ae"
            ],
            [
             0.3,
             "#f1b6da"
            ],
            [
             0.4,
             "#fde0ef"
            ],
            [
             0.5,
             "#f7f7f7"
            ],
            [
             0.6,
             "#e6f5d0"
            ],
            [
             0.7,
             "#b8e186"
            ],
            [
             0.8,
             "#7fbc41"
            ],
            [
             0.9,
             "#4d9221"
            ],
            [
             1,
             "#276419"
            ]
           ],
           "sequential": [
            [
             0,
             "#0d0887"
            ],
            [
             0.1111111111111111,
             "#46039f"
            ],
            [
             0.2222222222222222,
             "#7201a8"
            ],
            [
             0.3333333333333333,
             "#9c179e"
            ],
            [
             0.4444444444444444,
             "#bd3786"
            ],
            [
             0.5555555555555556,
             "#d8576b"
            ],
            [
             0.6666666666666666,
             "#ed7953"
            ],
            [
             0.7777777777777778,
             "#fb9f3a"
            ],
            [
             0.8888888888888888,
             "#fdca26"
            ],
            [
             1,
             "#f0f921"
            ]
           ],
           "sequentialminus": [
            [
             0,
             "#0d0887"
            ],
            [
             0.1111111111111111,
             "#46039f"
            ],
            [
             0.2222222222222222,
             "#7201a8"
            ],
            [
             0.3333333333333333,
             "#9c179e"
            ],
            [
             0.4444444444444444,
             "#bd3786"
            ],
            [
             0.5555555555555556,
             "#d8576b"
            ],
            [
             0.6666666666666666,
             "#ed7953"
            ],
            [
             0.7777777777777778,
             "#fb9f3a"
            ],
            [
             0.8888888888888888,
             "#fdca26"
            ],
            [
             1,
             "#f0f921"
            ]
           ]
          },
          "colorway": [
           "#636efa",
           "#EF553B",
           "#00cc96",
           "#ab63fa",
           "#FFA15A",
           "#19d3f3",
           "#FF6692",
           "#B6E880",
           "#FF97FF",
           "#FECB52"
          ],
          "font": {
           "color": "#2a3f5f"
          },
          "geo": {
           "bgcolor": "white",
           "lakecolor": "white",
           "landcolor": "white",
           "showlakes": true,
           "showland": true,
           "subunitcolor": "#C8D4E3"
          },
          "hoverlabel": {
           "align": "left"
          },
          "hovermode": "closest",
          "mapbox": {
           "style": "light"
          },
          "paper_bgcolor": "white",
          "plot_bgcolor": "white",
          "polar": {
           "angularaxis": {
            "gridcolor": "#EBF0F8",
            "linecolor": "#EBF0F8",
            "ticks": ""
           },
           "bgcolor": "white",
           "radialaxis": {
            "gridcolor": "#EBF0F8",
            "linecolor": "#EBF0F8",
            "ticks": ""
           }
          },
          "scene": {
           "xaxis": {
            "backgroundcolor": "white",
            "gridcolor": "#DFE8F3",
            "gridwidth": 2,
            "linecolor": "#EBF0F8",
            "showbackground": true,
            "ticks": "",
            "zerolinecolor": "#EBF0F8"
           },
           "yaxis": {
            "backgroundcolor": "white",
            "gridcolor": "#DFE8F3",
            "gridwidth": 2,
            "linecolor": "#EBF0F8",
            "showbackground": true,
            "ticks": "",
            "zerolinecolor": "#EBF0F8"
           },
           "zaxis": {
            "backgroundcolor": "white",
            "gridcolor": "#DFE8F3",
            "gridwidth": 2,
            "linecolor": "#EBF0F8",
            "showbackground": true,
            "ticks": "",
            "zerolinecolor": "#EBF0F8"
           }
          },
          "shapedefaults": {
           "line": {
            "color": "#2a3f5f"
           }
          },
          "ternary": {
           "aaxis": {
            "gridcolor": "#DFE8F3",
            "linecolor": "#A2B1C6",
            "ticks": ""
           },
           "baxis": {
            "gridcolor": "#DFE8F3",
            "linecolor": "#A2B1C6",
            "ticks": ""
           },
           "bgcolor": "white",
           "caxis": {
            "gridcolor": "#DFE8F3",
            "linecolor": "#A2B1C6",
            "ticks": ""
           }
          },
          "title": {
           "x": 0.05
          },
          "xaxis": {
           "automargin": true,
           "gridcolor": "#EBF0F8",
           "linecolor": "#EBF0F8",
           "ticks": "",
           "title": {
            "standoff": 15
           },
           "zerolinecolor": "#EBF0F8",
           "zerolinewidth": 2
          },
          "yaxis": {
           "automargin": true,
           "gridcolor": "#EBF0F8",
           "linecolor": "#EBF0F8",
           "ticks": "",
           "title": {
            "standoff": 15
           },
           "zerolinecolor": "#EBF0F8",
           "zerolinewidth": 2
          }
         }
        },
        "title": {
         "text": "Top 10 Most Expensive Products: Cocoa vs Milk Composition"
        },
        "xaxis": {
         "anchor": "y",
         "autorange": true,
         "domain": [
          0,
          1
         ],
         "range": [
          0,
          63.1578947368421
         ],
         "title": {
          "text": "Composition Percentage"
         },
         "type": "linear"
        },
        "yaxis": {
         "anchor": "x",
         "autorange": true,
         "domain": [
          0,
          1
         ],
         "range": [
          4.5,
          -0.5
         ],
         "title": {
          "text": "Product Name"
         },
         "type": "category"
        }
       }
      },
      "image/png": "[encoded data removed]",
      "text/html": [
       "<div>                            <div id=\"2b326320-dcf2-458f-b7f8-c7736958cb09\" class=\"plotly-graph-div\" style=\"height:525px; width:100%;\"></div>            <script type=\"text/javascript\">                require([\"plotly\"], function(Plotly) {                    window.PLOTLYENV=window.PLOTLYENV || {};                                    if (document.getElementById(\"2b326320-dcf2-458f-b7f8-c7736958cb09\")) {                    Plotly.newPlot(                        \"2b326320-dcf2-458f-b7f8-c7736958cb09\",                        [{\"alignmentgroup\":\"True\",\"hovertemplate\":\"Component=Cocoa %<br>Percentage=%{text}<br>Name=%{y}<extra></extra>\",\"legendgroup\":\"Cocoa %\",\"marker\":{\"color\":\"#6F0C8A\",\"pattern\":{\"shape\":\"\"}},\"name\":\"Cocoa %\",\"offsetgroup\":\"Cocoa %\",\"orientation\":\"h\",\"showlegend\":true,\"text\":[41.0,32.0,40.0,37.0,37.0],\"textposition\":\"outside\",\"x\":[41.0,32.0,40.0,37.0,37.0],\"xaxis\":\"x\",\"y\":[\"2.5Kg Bulk 41% Milk Hot Chocolate Drops\",\"Blonde Chocolate Truffles\",\"Marc De Champagne Truffles\",\"Milk Chocolate Truffles\",\"Salted Caramels Milk Chocolate\"],\"yaxis\":\"y\",\"type\":\"bar\"},{\"alignmentgroup\":\"True\",\"hovertemplate\":\"Component=Milk %<br>Percentage=%{text}<br>Name=%{y}<extra></extra>\",\"legendgroup\":\"Milk %\",\"marker\":{\"color\":\"#7853A8\",\"pattern\":{\"shape\":\"\"}},\"name\":\"Milk %\",\"offsetgroup\":\"Milk %\",\"orientation\":\"h\",\"showlegend\":true,\"text\":[19.0,7.0,19.0,21.0,21.0],\"textposition\":\"outside\",\"x\":[19.0,7.0,19.0,21.0,21.0],\"xaxis\":\"x\",\"y\":[\"2.5Kg Bulk 41% Milk Hot Chocolate Drops\",\"Blonde Chocolate Truffles\",\"Marc De Champagne Truffles\",\"Milk Chocolate Truffles\",\"Salted Caramels Milk Chocolate\"],\"yaxis\":\"y\",\"type\":\"bar\"}],                        {\"template\":{\"data\":{\"barpolar\":[{\"marker\":{\"line\":{\"color\":\"white\",\"width\":0.5},\"pattern\":{\"fillmode\":\"overlay\",\"size\":10,\"solidity\":0.2}},\"type\":\"barpolar\"}],\"bar\":[{\"error_x\":{\"color\":\"#2a3f5f\"},\"error_y\":{\"color\":\"#2a3f5f\"},\"marker\":{\"line\":{\"color\":\"white\",\"width\":0.5},\"pattern\":{\"fillmode\":\"overlay\",\"size\":10,\"solidity\":0.2}},\"type\":\"bar\"}],\"carpet\":[{\"aaxis\":{\"endlinecolor\":\"#2a3f5f\",\"gridcolor\":\"#C8D4E3\",\"linecolor\":\"#C8D4E3\",\"minorgridcolor\":\"#C8D4E3\",\"startlinecolor\":\"#2a3f5f\"},\"baxis\":{\"endlinecolor\":\"#2a3f5f\",\"gridcolor\":\"#C8D4E3\",\"linecolor\":\"#C8D4E3\",\"minorgridcolor\":\"#C8D4E3\",\"startlinecolor\":\"#2a3f5f\"},\"type\":\"carpet\"}],\"choropleth\":[{\"colorbar\":{\"outlinewidth\":0,\"ticks\":\"\"},\"type\":\"choropleth\"}],\"contourcarpet\":[{\"colorbar\":{\"outlinewidth\":0,\"ticks\":\"\"},\"type\":\"contourcarpet\"}],\"contour\":[{\"colorbar\":{\"outlinewidth\":0,\"ticks\":\"\"},\"colorscale\":[[0.0,\"#0d0887\"],[0.1111111111111111,\"#46039f\"],[0.2222222222222222,\"#7201a8\"],[0.3333333333333333,\"#9c179e\"],[0.4444444444444444,\"#bd3786\"],[0.5555555555555556,\"#d8576b\"],[0.6666666666666666,\"#ed7953\"],[0.7777777777777778,\"#fb9f3a\"],[0.8888888888888888,\"#fdca26\"],[1.0,\"#f0f921\"]],\"type\":\"contour\"}],\"heatmapgl\":[{\"colorbar\":{\"outlinewidth\":0,\"ticks\":\"\"},\"colorscale\":[[0.0,\"#0d0887\"],[0.1111111111111111,\"#46039f\"],[0.2222222222222222,\"#7201a8\"],[0.3333333333333333,\"#9c179e\"],[0.4444444444444444,\"#bd3786\"],[0.5555555555555556,\"#d8576b\"],[0.6666666666666666,\"#ed7953\"],[0.7777777777777778,\"#fb9f3a\"],[0.8888888888888888,\"#fdca26\"],[1.0,\"#f0f921\"]],\"type\":\"heatmapgl\"}],\"heatmap\":[{\"colorbar\":{\"outlinewidth\":0,\"ticks\":\"\"},\"colorscale\":[[0.0,\"#0d0887\"],[0.1111111111111111,\"#46039f\"],[0.2222222222222222,\"#7201a8\"],[0.3333333333333333,\"#9c179e\"],[0.4444444444444444,\"#bd3786\"],[0.5555555555555556,\"#d8576b\"],[0.6666666666666666,\"#ed7953\"],[0.7777777777777778,\"#fb9f3a\"],[0.8888888888888888,\"#fdca26\"],[1.0,\"#f0f921\"]],\"type\":\"heatmap\"}],\"histogram2dcontour\":[{\"colorbar\":{\"outlinewidth\":0,\"ticks\":\"\"},\"colorscale\":[[0.0,\"#0d0887\"],[0.1111111111111111,\"#46039f\"],[0.2222222222222222,\"#7201a8\"],[0.3333333333333333,\"#9c179e\"],[0.4444444444444444,\"#bd3786\"],[0.5555555555555556,\"#d8576b\"],[0.6666666666666666,\"#ed7953\"],[0.7777777777777778,\"#fb9f3a\"],[0.8888888888888888,\"#fdca26\"],[1.0,\"#f0f921\"]],\"type\":\"histogram2dcontour\"}],\"histogram2d\":[{\"colorbar\":{\"outlinewidth\":0,\"ticks\":\"\"},\"colorscale\":[[0.0,\"#0d0887\"],[0.1111111111111111,\"#46039f\"],[0.2222222222222222,\"#7201a8\"],[0.3333333333333333,\"#9c179e\"],[0.4444444444444444,\"#bd3786\"],[0.5555555555555556,\"#d8576b\"],[0.6666666666666666,\"#ed7953\"],[0.7777777777777778,\"#fb9f3a\"],[0.8888888888888888,\"#fdca26\"],[1.0,\"#f0f921\"]],\"type\":\"histogram2d\"}],\"histogram\":[{\"marker\":{\"pattern\":{\"fillmode\":\"overlay\",\"size\":10,\"solidity\":0.2}},\"type\":\"histogram\"}],\"mesh3d\":[{\"colorbar\":{\"outlinewidth\":0,\"ticks\":\"\"},\"type\":\"mesh3d\"}],\"parcoords\":[{\"line\":{\"colorbar\":{\"outlinewidth\":0,\"ticks\":\"\"}},\"type\":\"parcoords\"}],\"pie\":[{\"automargin\":true,\"type\":\"pie\"}],\"scatter3d\":[{\"line\":{\"colorbar\":{\"outlinewidth\":0,\"ticks\":\"\"}},\"marker\":{\"colorbar\":{\"outlinewidth\":0,\"ticks\":\"\"}},\"type\":\"scatter3d\"}],\"scattercarpet\":[{\"marker\":{\"colorbar\":{\"outlinewidth\":0,\"ticks\":\"\"}},\"type\":\"scattercarpet\"}],\"scattergeo\":[{\"marker\":{\"colorbar\":{\"outlinewidth\":0,\"ticks\":\"\"}},\"type\":\"scattergeo\"}],\"scattergl\":[{\"marker\":{\"colorbar\":{\"outlinewidth\":0,\"ticks\":\"\"}},\"type\":\"scattergl\"}],\"scattermapbox\":[{\"marker\":{\"colorbar\":{\"outlinewidth\":0,\"ticks\":\"\"}},\"type\":\"scattermapbox\"}],\"scatterpolargl\":[{\"marker\":{\"colorbar\":{\"outlinewidth\":0,\"ticks\":\"\"}},\"type\":\"scatterpolargl\"}],\"scatterpolar\":[{\"marker\":{\"colorbar\":{\"outlinewidth\":0,\"ticks\":\"\"}},\"type\":\"scatterpolar\"}],\"scatter\":[{\"fillpattern\":{\"fillmode\":\"overlay\",\"size\":10,\"solidity\":0.2},\"type\":\"scatter\"}],\"scatterternary\":[{\"marker\":{\"colorbar\":{\"outlinewidth\":0,\"ticks\":\"\"}},\"type\":\"scatterternary\"}],\"surface\":[{\"colorbar\":{\"outlinewidth\":0,\"ticks\":\"\"},\"colorscale\":[[0.0,\"#0d0887\"],[0.1111111111111111,\"#46039f\"],[0.2222222222222222,\"#7201a8\"],[0.3333333333333333,\"#9c179e\"],[0.4444444444444444,\"#bd3786\"],[0.5555555555555556,\"#d8576b\"],[0.6666666666666666,\"#ed7953\"],[0.7777777777777778,\"#fb9f3a\"],[0.8888888888888888,\"#fdca26\"],[1.0,\"#f0f921\"]],\"type\":\"surface\"}],\"table\":[{\"cells\":{\"fill\":{\"color\":\"#EBF0F8\"},\"line\":{\"color\":\"white\"}},\"header\":{\"fill\":{\"color\":\"#C8D4E3\"},\"line\":{\"color\":\"white\"}},\"type\":\"table\"}]},\"layout\":{\"annotationdefaults\":{\"arrowcolor\":\"#2a3f5f\",\"arrowhead\":0,\"arrowwidth\":1},\"autotypenumbers\":\"strict\",\"coloraxis\":{\"colorbar\":{\"outlinewidth\":0,\"ticks\":\"\"}},\"colorscale\":{\"diverging\":[[0,\"#8e0152\"],[0.1,\"#c51b7d\"],[0.2,\"#de77ae\"],[0.3,\"#f1b6da\"],[0.4,\"#fde0ef\"],[0.5,\"#f7f7f7\"],[0.6,\"#e6f5d0\"],[0.7,\"#b8e186\"],[0.8,\"#7fbc41\"],[0.9,\"#4d9221\"],[1,\"#276419\"]],\"sequential\":[[0.0,\"#0d0887\"],[0.1111111111111111,\"#46039f\"],[0.2222222222222222,\"#7201a8\"],[0.3333333333333333,\"#9c179e\"],[0.4444444444444444,\"#bd3786\"],[0.5555555555555556,\"#d8576b\"],[0.6666666666666666,\"#ed7953\"],[0.7777777777777778,\"#fb9f3a\"],[0.8888888888888888,\"#fdca26\"],[1.0,\"#f0f921\"]],\"sequentialminus\":[[0.0,\"#0d0887\"],[0.1111111111111111,\"#46039f\"],[0.2222222222222222,\"#7201a8\"],[0.3333333333333333,\"#9c179e\"],[0.4444444444444444,\"#bd3786\"],[0.5555555555555556,\"#d8576b\"],[0.6666666666666666,\"#ed7953\"],[0.7777777777777778,\"#fb9f3a\"],[0.8888888888888888,\"#fdca26\"],[1.0,\"#f0f921\"]]},\"colorway\":[\"#636efa\",\"#EF553B\",\"#00cc96\",\"#ab63fa\",\"#FFA15A\",\"#19d3f3\",\"#FF6692\",\"#B6E880\",\"#FF97FF\",\"#FECB52\"],\"font\":{\"color\":\"#2a3f5f\"},\"geo\":{\"bgcolor\":\"white\",\"lakecolor\":\"white\",\"landcolor\":\"white\",\"showlakes\":true,\"showland\":true,\"subunitcolor\":\"#C8D4E3\"},\"hoverlabel\":{\"align\":\"left\"},\"hovermode\":\"closest\",\"mapbox\":{\"style\":\"light\"},\"paper_bgcolor\":\"white\",\"plot_bgcolor\":\"white\",\"polar\":{\"angularaxis\":{\"gridcolor\":\"#EBF0F8\",\"linecolor\":\"#EBF0F8\",\"ticks\":\"\"},\"bgcolor\":\"white\",\"radialaxis\":{\"gridcolor\":\"#EBF0F8\",\"linecolor\":\"#EBF0F8\",\"ticks\":\"\"}},\"scene\":{\"xaxis\":{\"backgroundcolor\":\"white\",\"gridcolor\":\"#DFE8F3\",\"gridwidth\":2,\"linecolor\":\"#EBF0F8\",\"showbackground\":true,\"ticks\":\"\",\"zerolinecolor\":\"#EBF0F8\"},\"yaxis\":{\"backgroundcolor\":\"white\",\"gridcolor\":\"#DFE8F3\",\"gridwidth\":2,\"linecolor\":\"#EBF0F8\",\"showbackground\":true,\"ticks\":\"\",\"zerolinecolor\":\"#EBF0F8\"},\"zaxis\":{\"backgroundcolor\":\"white\",\"gridcolor\":\"#DFE8F3\",\"gridwidth\":2,\"linecolor\":\"#EBF0F8\",\"showbackground\":true,\"ticks\":\"\",\"zerolinecolor\":\"#EBF0F8\"}},\"shapedefaults\":{\"line\":{\"color\":\"#2a3f5f\"}},\"ternary\":{\"aaxis\":{\"gridcolor\":\"#DFE8F3\",\"linecolor\":\"#A2B1C6\",\"ticks\":\"\"},\"baxis\":{\"gridcolor\":\"#DFE8F3\",\"linecolor\":\"#A2B1C6\",\"ticks\":\"\"},\"bgcolor\":\"white\",\"caxis\":{\"gridcolor\":\"#DFE8F3\",\"linecolor\":\"#A2B1C6\",\"ticks\":\"\"}},\"title\":{\"x\":0.05},\"xaxis\":{\"automargin\":true,\"gridcolor\":\"#EBF0F8\",\"linecolor\":\"#EBF0F8\",\"ticks\":\"\",\"title\":{\"standoff\":15},\"zerolinecolor\":\"#EBF0F8\",\"zerolinewidth\":2},\"yaxis\":{\"automargin\":true,\"gridcolor\":\"#EBF0F8\",\"linecolor\":\"#EBF0F8\",\"ticks\":\"\",\"title\":{\"standoff\":15},\"zerolinecolor\":\"#EBF0F8\",\"zerolinewidth\":2}}},\"xaxis\":{\"anchor\":\"y\",\"domain\":[0.0,1.0],\"title\":{\"text\":\"Composition Percentage\"}},\"yaxis\":{\"anchor\":\"x\",\"domain\":[0.0,1.0],\"title\":{\"text\":\"Product Name\"},\"autorange\":\"reversed\"},\"legend\":{\"title\":{\"text\":\"\"},\"tracegroupgap\":0},\"title\":{\"text\":\"Top 10 Most Expensive Products: Cocoa vs Milk Composition\"},\"barmode\":\"relative\"},                        {\"responsive\": true}                    ).then(function(){\n",
       "                            \n",
       "var gd = document.getElementById('2b326320-dcf2-458f-b7f8-c7736958cb09');\n",
       "var x = new MutationObserver(function (mutations, observer) {{\n",
       "        var display = window.getComputedStyle(gd).display;\n",
       "        if (!display || display === 'none') {{\n",
       "            console.log([gd, 'removed!']);\n",
       "            Plotly.purge(gd);\n",
       "            observer.disconnect();\n",
       "        }}\n",
       "}});\n",
       "\n",
       "// Listen for the removal of the full notebook cells\n",
       "var notebookContainer = gd.closest('#notebook-container');\n",
       "if (notebookContainer) {{\n",
       "    x.observe(notebookContainer, {childList: true});\n",
       "}}\n",
       "\n",
       "// Listen for the clearing of the current output cell\n",
       "var outputEl = gd.closest('.output');\n",
       "if (outputEl) {{\n",
       "    x.observe(outputEl, {childList: true});\n",
       "}}\n",
       "\n",
       "                        })                };                });            </script>        </div>"
      ]
     },
     "metadata": {},
     "output_type": "display_data"
    }
   ],
   "source": [
    "def extract_cocoa_percent(text):\n",
    "    match = re.search(r'(\\d+)% Cocoa', str(text))\n",
    "    return int(match.group(1)) if match else None\n",
    "\n",
    "def extract_milk_percent(text):\n",
    "    match = re.search(r'(\\d+)% Milk', str(text))\n",
    "    return int(match.group(1)) if match else None\n",
    "\n",
    "df_products['Cocoa %'] = df_products['Ingredients'].apply(extract_cocoa_percent)\n",
    "df_products['Milk %'] = df_products['Ingredients'].apply(extract_milk_percent)\n",
    "\n",
    "top_products = df_products.nlargest(10, 'Price ($)').copy()\n",
    "\n",
    "top_products = top_products.dropna(subset=['Cocoa %', 'Milk %'])\n",
    "\n",
    "melted = pd.melt(\n",
    "    top_products,\n",
    "    id_vars='Name',\n",
    "    value_vars=['Cocoa %', 'Milk %'],\n",
    "    var_name='Component',\n",
    "    value_name='Percentage'\n",
    ")\n",
    "\n",
    "fig = px.bar(\n",
    "    melted,\n",
    "    x='Percentage',\n",
    "    y='Name',\n",
    "    color='Component',\n",
    "    orientation='h',\n",
    "    title='Top 10 Most Expensive Products: Cocoa vs Milk Composition',\n",
    "    color_discrete_map={\n",
    "        'Cocoa %': '#6F0C8A',\n",
    "        'Milk %': '#7853A8'\n",
    "    },\n",
    "    text='Percentage'\n",
    ")\n",
    "\n",
    "fig.update_traces(textposition='outside')\n",
    "fig.update_layout(\n",
    "    yaxis=dict(autorange='reversed'),\n",
    "    xaxis_title='Composition Percentage',\n",
    "    yaxis_title='Product Name',\n",
    "    template='plotly_white',\n",
    "    legend_title=''\n",
    ")\n",
    "\n",
    "fig.show()\n"
   ]
  },
  {
   "cell_type": "markdown",
   "id": "4a151152-ff75-4308-ab5d-a937a1cd104b",
   "metadata": {},
   "source": [
    "## Cocoa %, Milk %, and Price Comparison"
   ]
  },
  {
   "cell_type": "code",
   "execution_count": 21,
   "id": "05d68ade-3e5d-41bb-b494-cf180c19683c",
   "metadata": {},
   "outputs": [
    {
     "data": {
      "application/vnd.plotly.v1+json": {
       "config": {
        "plotlyServerURL": "https://plot.ly"
       },
       "data": [
        {
         "alignmentgroup": "True",
         "hovertemplate": "Metric=Cocoa %<br>Product Name=%{x}<br>Value=%{y}<extra></extra>",
         "legendgroup": "Cocoa %",
         "marker": {
          "color": "#6F0C8A",
          "pattern": {
           "shape": ""
          }
         },
         "name": "Cocoa %",
         "offsetgroup": "Cocoa %",
         "orientation": "v",
         "showlegend": true,
         "textposition": "auto",
         "type": "bar",
         "x": [
          "2.5Kg Bulk 41% Milk Hot Chocolate Drops",
          "Blonde Chocolate Truffles",
          "Marc De Champagne Truffles",
          "Milk Chocolate Truffles",
          "Salted Caramels Milk Chocolate",
          "Bulk 41% Milk Hot Chocolate Drops 750 Grams",
          "Milk Chocolate Malt Balls",
          "Salt Caramel Malt Balls",
          "41% Milk Hot Chocolate Drops",
          "Blonde Chocolate Honeycomb - Bag"
         ],
         "xaxis": "x",
         "y": [
          41,
          32,
          40,
          37,
          37,
          41,
          41,
          39,
          41,
          35
         ],
         "yaxis": "y"
        },
        {
         "alignmentgroup": "True",
         "hovertemplate": "Metric=Milk %<br>Product Name=%{x}<br>Value=%{y}<extra></extra>",
         "legendgroup": "Milk %",
         "marker": {
          "color": "#FBCBCB",
          "pattern": {
           "shape": ""
          }
         },
         "name": "Milk %",
         "offsetgroup": "Milk %",
         "orientation": "v",
         "showlegend": true,
         "textposition": "auto",
         "type": "bar",
         "x": [
          "2.5Kg Bulk 41% Milk Hot Chocolate Drops",
          "Blonde Chocolate Truffles",
          "Marc De Champagne Truffles",
          "Milk Chocolate Truffles",
          "Salted Caramels Milk Chocolate",
          "Bulk 41% Milk Hot Chocolate Drops 750 Grams",
          "Milk Chocolate Malt Balls",
          "Salt Caramel Malt Balls",
          "41% Milk Hot Chocolate Drops",
          "Blonde Chocolate Honeycomb - Bag"
         ],
         "xaxis": "x",
         "y": [
          19,
          7,
          19,
          21,
          21,
          19,
          19,
          19,
          19,
          7
         ],
         "yaxis": "y"
        },
        {
         "alignmentgroup": "True",
         "hovertemplate": "Metric=Price ($)<br>Product Name=%{x}<br>Value=%{y}<extra></extra>",
         "legendgroup": "Price ($)",
         "marker": {
          "color": "#7853A8",
          "pattern": {
           "shape": ""
          }
         },
         "name": "Price ($)",
         "offsetgroup": "Price ($)",
         "orientation": "v",
         "showlegend": true,
         "textposition": "auto",
         "type": "bar",
         "x": [
          "2.5Kg Bulk 41% Milk Hot Chocolate Drops",
          "Blonde Chocolate Truffles",
          "Marc De Champagne Truffles",
          "Milk Chocolate Truffles",
          "Salted Caramels Milk Chocolate",
          "Bulk 41% Milk Hot Chocolate Drops 750 Grams",
          "Milk Chocolate Malt Balls",
          "Salt Caramel Malt Balls",
          "41% Milk Hot Chocolate Drops",
          "Blonde Chocolate Honeycomb - Bag"
         ],
         "xaxis": "x",
         "y": [
          68,
          25.84,
          25.84,
          25.84,
          25.84,
          23.12,
          12.24,
          12.24,
          10.88,
          10.88
         ],
         "yaxis": "y"
        }
       ],
       "layout": {
        "autosize": true,
        "barmode": "group",
        "legend": {
         "title": {
          "text": "Metric"
         },
         "tracegroupgap": 0
        },
        "template": {
         "data": {
          "bar": [
           {
            "error_x": {
             "color": "#2a3f5f"
            },
            "error_y": {
             "color": "#2a3f5f"
            },
            "marker": {
             "line": {
              "color": "#E5ECF6",
              "width": 0.5
             },
             "pattern": {
              "fillmode": "overlay",
              "size": 10,
              "solidity": 0.2
             }
            },
            "type": "bar"
           }
          ],
          "barpolar": [
           {
            "marker": {
             "line": {
              "color": "#E5ECF6",
              "width": 0.5
             },
             "pattern": {
              "fillmode": "overlay",
              "size": 10,
              "solidity": 0.2
             }
            },
            "type": "barpolar"
           }
          ],
          "carpet": [
           {
            "aaxis": {
             "endlinecolor": "#2a3f5f",
             "gridcolor": "white",
             "linecolor": "white",
             "minorgridcolor": "white",
             "startlinecolor": "#2a3f5f"
            },
            "baxis": {
             "endlinecolor": "#2a3f5f",
             "gridcolor": "white",
             "linecolor": "white",
             "minorgridcolor": "white",
             "startlinecolor": "#2a3f5f"
            },
            "type": "carpet"
           }
          ],
          "choropleth": [
           {
            "colorbar": {
             "outlinewidth": 0,
             "ticks": ""
            },
            "type": "choropleth"
           }
          ],
          "contour": [
           {
            "colorbar": {
             "outlinewidth": 0,
             "ticks": ""
            },
            "colorscale": [
             [
              0,
              "#0d0887"
             ],
             [
              0.1111111111111111,
              "#46039f"
             ],
             [
              0.2222222222222222,
              "#7201a8"
             ],
             [
              0.3333333333333333,
              "#9c179e"
             ],
             [
              0.4444444444444444,
              "#bd3786"
             ],
             [
              0.5555555555555556,
              "#d8576b"
             ],
             [
              0.6666666666666666,
              "#ed7953"
             ],
             [
              0.7777777777777778,
              "#fb9f3a"
             ],
             [
              0.8888888888888888,
              "#fdca26"
             ],
             [
              1,
              "#f0f921"
             ]
            ],
            "type": "contour"
           }
          ],
          "contourcarpet": [
           {
            "colorbar": {
             "outlinewidth": 0,
             "ticks": ""
            },
            "type": "contourcarpet"
           }
          ],
          "heatmap": [
           {
            "colorbar": {
             "outlinewidth": 0,
             "ticks": ""
            },
            "colorscale": [
             [
              0,
              "#0d0887"
             ],
             [
              0.1111111111111111,
              "#46039f"
             ],
             [
              0.2222222222222222,
              "#7201a8"
             ],
             [
              0.3333333333333333,
              "#9c179e"
             ],
             [
              0.4444444444444444,
              "#bd3786"
             ],
             [
              0.5555555555555556,
              "#d8576b"
             ],
             [
              0.6666666666666666,
              "#ed7953"
             ],
             [
              0.7777777777777778,
              "#fb9f3a"
             ],
             [
              0.8888888888888888,
              "#fdca26"
             ],
             [
              1,
              "#f0f921"
             ]
            ],
            "type": "heatmap"
           }
          ],
          "heatmapgl": [
           {
            "colorbar": {
             "outlinewidth": 0,
             "ticks": ""
            },
            "colorscale": [
             [
              0,
              "#0d0887"
             ],
             [
              0.1111111111111111,
              "#46039f"
             ],
             [
              0.2222222222222222,
              "#7201a8"
             ],
             [
              0.3333333333333333,
              "#9c179e"
             ],
             [
              0.4444444444444444,
              "#bd3786"
             ],
             [
              0.5555555555555556,
              "#d8576b"
             ],
             [
              0.6666666666666666,
              "#ed7953"
             ],
             [
              0.7777777777777778,
              "#fb9f3a"
             ],
             [
              0.8888888888888888,
              "#fdca26"
             ],
             [
              1,
              "#f0f921"
             ]
            ],
            "type": "heatmapgl"
           }
          ],
          "histogram": [
           {
            "marker": {
             "pattern": {
              "fillmode": "overlay",
              "size": 10,
              "solidity": 0.2
             }
            },
            "type": "histogram"
           }
          ],
          "histogram2d": [
           {
            "colorbar": {
             "outlinewidth": 0,
             "ticks": ""
            },
            "colorscale": [
             [
              0,
              "#0d0887"
             ],
             [
              0.1111111111111111,
              "#46039f"
             ],
             [
              0.2222222222222222,
              "#7201a8"
             ],
             [
              0.3333333333333333,
              "#9c179e"
             ],
             [
              0.4444444444444444,
              "#bd3786"
             ],
             [
              0.5555555555555556,
              "#d8576b"
             ],
             [
              0.6666666666666666,
              "#ed7953"
             ],
             [
              0.7777777777777778,
              "#fb9f3a"
             ],
             [
              0.8888888888888888,
              "#fdca26"
             ],
             [
              1,
              "#f0f921"
             ]
            ],
            "type": "histogram2d"
           }
          ],
          "histogram2dcontour": [
           {
            "colorbar": {
             "outlinewidth": 0,
             "ticks": ""
            },
            "colorscale": [
             [
              0,
              "#0d0887"
             ],
             [
              0.1111111111111111,
              "#46039f"
             ],
             [
              0.2222222222222222,
              "#7201a8"
             ],
             [
              0.3333333333333333,
              "#9c179e"
             ],
             [
              0.4444444444444444,
              "#bd3786"
             ],
             [
              0.5555555555555556,
              "#d8576b"
             ],
             [
              0.6666666666666666,
              "#ed7953"
             ],
             [
              0.7777777777777778,
              "#fb9f3a"
             ],
             [
              0.8888888888888888,
              "#fdca26"
             ],
             [
              1,
              "#f0f921"
             ]
            ],
            "type": "histogram2dcontour"
           }
          ],
          "mesh3d": [
           {
            "colorbar": {
             "outlinewidth": 0,
             "ticks": ""
            },
            "type": "mesh3d"
           }
          ],
          "parcoords": [
           {
            "line": {
             "colorbar": {
              "outlinewidth": 0,
              "ticks": ""
             }
            },
            "type": "parcoords"
           }
          ],
          "pie": [
           {
            "automargin": true,
            "type": "pie"
           }
          ],
          "scatter": [
           {
            "fillpattern": {
             "fillmode": "overlay",
             "size": 10,
             "solidity": 0.2
            },
            "type": "scatter"
           }
          ],
          "scatter3d": [
           {
            "line": {
             "colorbar": {
              "outlinewidth": 0,
              "ticks": ""
             }
            },
            "marker": {
             "colorbar": {
              "outlinewidth": 0,
              "ticks": ""
             }
            },
            "type": "scatter3d"
           }
          ],
          "scattercarpet": [
           {
            "marker": {
             "colorbar": {
              "outlinewidth": 0,
              "ticks": ""
             }
            },
            "type": "scattercarpet"
           }
          ],
          "scattergeo": [
           {
            "marker": {
             "colorbar": {
              "outlinewidth": 0,
              "ticks": ""
             }
            },
            "type": "scattergeo"
           }
          ],
          "scattergl": [
           {
            "marker": {
             "colorbar": {
              "outlinewidth": 0,
              "ticks": ""
             }
            },
            "type": "scattergl"
           }
          ],
          "scattermapbox": [
           {
            "marker": {
             "colorbar": {
              "outlinewidth": 0,
              "ticks": ""
             }
            },
            "type": "scattermapbox"
           }
          ],
          "scatterpolar": [
           {
            "marker": {
             "colorbar": {
              "outlinewidth": 0,
              "ticks": ""
             }
            },
            "type": "scatterpolar"
           }
          ],
          "scatterpolargl": [
           {
            "marker": {
             "colorbar": {
              "outlinewidth": 0,
              "ticks": ""
             }
            },
            "type": "scatterpolargl"
           }
          ],
          "scatterternary": [
           {
            "marker": {
             "colorbar": {
              "outlinewidth": 0,
              "ticks": ""
             }
            },
            "type": "scatterternary"
           }
          ],
          "surface": [
           {
            "colorbar": {
             "outlinewidth": 0,
             "ticks": ""
            },
            "colorscale": [
             [
              0,
              "#0d0887"
             ],
             [
              0.1111111111111111,
              "#46039f"
             ],
             [
              0.2222222222222222,
              "#7201a8"
             ],
             [
              0.3333333333333333,
              "#9c179e"
             ],
             [
              0.4444444444444444,
              "#bd3786"
             ],
             [
              0.5555555555555556,
              "#d8576b"
             ],
             [
              0.6666666666666666,
              "#ed7953"
             ],
             [
              0.7777777777777778,
              "#fb9f3a"
             ],
             [
              0.8888888888888888,
              "#fdca26"
             ],
             [
              1,
              "#f0f921"
             ]
            ],
            "type": "surface"
           }
          ],
          "table": [
           {
            "cells": {
             "fill": {
              "color": "#EBF0F8"
             },
             "line": {
              "color": "white"
             }
            },
            "header": {
             "fill": {
              "color": "#C8D4E3"
             },
             "line": {
              "color": "white"
             }
            },
            "type": "table"
           }
          ]
         },
         "layout": {
          "annotationdefaults": {
           "arrowcolor": "#2a3f5f",
           "arrowhead": 0,
           "arrowwidth": 1
          },
          "autotypenumbers": "strict",
          "coloraxis": {
           "colorbar": {
            "outlinewidth": 0,
            "ticks": ""
           }
          },
          "colorscale": {
           "diverging": [
            [
             0,
             "#8e0152"
            ],
            [
             0.1,
             "#c51b7d"
            ],
            [
             0.2,
             "#de77ae"
            ],
            [
             0.3,
             "#f1b6da"
            ],
            [
             0.4,
             "#fde0ef"
            ],
            [
             0.5,
             "#f7f7f7"
            ],
            [
             0.6,
             "#e6f5d0"
            ],
            [
             0.7,
             "#b8e186"
            ],
            [
             0.8,
             "#7fbc41"
            ],
            [
             0.9,
             "#4d9221"
            ],
            [
             1,
             "#276419"
            ]
           ],
           "sequential": [
            [
             0,
             "#0d0887"
            ],
            [
             0.1111111111111111,
             "#46039f"
            ],
            [
             0.2222222222222222,
             "#7201a8"
            ],
            [
             0.3333333333333333,
             "#9c179e"
            ],
            [
             0.4444444444444444,
             "#bd3786"
            ],
            [
             0.5555555555555556,
             "#d8576b"
            ],
            [
             0.6666666666666666,
             "#ed7953"
            ],
            [
             0.7777777777777778,
             "#fb9f3a"
            ],
            [
             0.8888888888888888,
             "#fdca26"
            ],
            [
             1,
             "#f0f921"
            ]
           ],
           "sequentialminus": [
            [
             0,
             "#0d0887"
            ],
            [
             0.1111111111111111,
             "#46039f"
            ],
            [
             0.2222222222222222,
             "#7201a8"
            ],
            [
             0.3333333333333333,
             "#9c179e"
            ],
            [
             0.4444444444444444,
             "#bd3786"
            ],
            [
             0.5555555555555556,
             "#d8576b"
            ],
            [
             0.6666666666666666,
             "#ed7953"
            ],
            [
             0.7777777777777778,
             "#fb9f3a"
            ],
            [
             0.8888888888888888,
             "#fdca26"
            ],
            [
             1,
             "#f0f921"
            ]
           ]
          },
          "colorway": [
           "#636efa",
           "#EF553B",
           "#00cc96",
           "#ab63fa",
           "#FFA15A",
           "#19d3f3",
           "#FF6692",
           "#B6E880",
           "#FF97FF",
           "#FECB52"
          ],
          "font": {
           "color": "#2a3f5f"
          },
          "geo": {
           "bgcolor": "white",
           "lakecolor": "white",
           "landcolor": "#E5ECF6",
           "showlakes": true,
           "showland": true,
           "subunitcolor": "white"
          },
          "hoverlabel": {
           "align": "left"
          },
          "hovermode": "closest",
          "mapbox": {
           "style": "light"
          },
          "paper_bgcolor": "white",
          "plot_bgcolor": "#E5ECF6",
          "polar": {
           "angularaxis": {
            "gridcolor": "white",
            "linecolor": "white",
            "ticks": ""
           },
           "bgcolor": "#E5ECF6",
           "radialaxis": {
            "gridcolor": "white",
            "linecolor": "white",
            "ticks": ""
           }
          },
          "scene": {
           "xaxis": {
            "backgroundcolor": "#E5ECF6",
            "gridcolor": "white",
            "gridwidth": 2,
            "linecolor": "white",
            "showbackground": true,
            "ticks": "",
            "zerolinecolor": "white"
           },
           "yaxis": {
            "backgroundcolor": "#E5ECF6",
            "gridcolor": "white",
            "gridwidth": 2,
            "linecolor": "white",
            "showbackground": true,
            "ticks": "",
            "zerolinecolor": "white"
           },
           "zaxis": {
            "backgroundcolor": "#E5ECF6",
            "gridcolor": "white",
            "gridwidth": 2,
            "linecolor": "white",
            "showbackground": true,
            "ticks": "",
            "zerolinecolor": "white"
           }
          },
          "shapedefaults": {
           "line": {
            "color": "#2a3f5f"
           }
          },
          "ternary": {
           "aaxis": {
            "gridcolor": "white",
            "linecolor": "white",
            "ticks": ""
           },
           "baxis": {
            "gridcolor": "white",
            "linecolor": "white",
            "ticks": ""
           },
           "bgcolor": "#E5ECF6",
           "caxis": {
            "gridcolor": "white",
            "linecolor": "white",
            "ticks": ""
           }
          },
          "title": {
           "x": 0.05
          },
          "xaxis": {
           "automargin": true,
           "gridcolor": "white",
           "linecolor": "white",
           "ticks": "",
           "title": {
            "standoff": 15
           },
           "zerolinecolor": "white",
           "zerolinewidth": 2
          },
          "yaxis": {
           "automargin": true,
           "gridcolor": "white",
           "linecolor": "white",
           "ticks": "",
           "title": {
            "standoff": 15
           },
           "zerolinecolor": "white",
           "zerolinewidth": 2
          }
         }
        },
        "title": {
         "text": "Top 10 Products: Cocoa %, Milk %, and Price Comparison"
        },
        "xaxis": {
         "anchor": "y",
         "autorange": true,
         "domain": [
          0,
          1
         ],
         "range": [
          -0.5,
          9.5
         ],
         "tickangle": -45,
         "title": {
          "text": "Product Name"
         },
         "type": "category"
        },
        "yaxis": {
         "anchor": "x",
         "autorange": true,
         "domain": [
          0,
          1
         ],
         "range": [
          0,
          71.57894736842105
         ],
         "title": {
          "text": "Value"
         },
         "type": "linear"
        }
       }
      },
      "image/png": "[encoded data removed]",
      "text/html": [
       "<div>                            <div id=\"39c2df6c-1765-4f4b-9ceb-ea521efb8e0b\" class=\"plotly-graph-div\" style=\"height:525px; width:100%;\"></div>            <script type=\"text/javascript\">                require([\"plotly\"], function(Plotly) {                    window.PLOTLYENV=window.PLOTLYENV || {};                                    if (document.getElementById(\"39c2df6c-1765-4f4b-9ceb-ea521efb8e0b\")) {                    Plotly.newPlot(                        \"39c2df6c-1765-4f4b-9ceb-ea521efb8e0b\",                        [{\"alignmentgroup\":\"True\",\"hovertemplate\":\"Metric=Cocoa %<br>Product Name=%{x}<br>Value=%{y}<extra></extra>\",\"legendgroup\":\"Cocoa %\",\"marker\":{\"color\":\"#6F0C8A\",\"pattern\":{\"shape\":\"\"}},\"name\":\"Cocoa %\",\"offsetgroup\":\"Cocoa %\",\"orientation\":\"v\",\"showlegend\":true,\"textposition\":\"auto\",\"x\":[\"2.5Kg Bulk 41% Milk Hot Chocolate Drops\",\"Blonde Chocolate Truffles\",\"Marc De Champagne Truffles\",\"Milk Chocolate Truffles\",\"Salted Caramels Milk Chocolate\",\"Bulk 41% Milk Hot Chocolate Drops 750 Grams\",\"Milk Chocolate Malt Balls\",\"Salt Caramel Malt Balls\",\"41% Milk Hot Chocolate Drops\",\"Blonde Chocolate Honeycomb - Bag\"],\"xaxis\":\"x\",\"y\":[41.0,32.0,40.0,37.0,37.0,41.0,41.0,39.0,41.0,35.0],\"yaxis\":\"y\",\"type\":\"bar\"},{\"alignmentgroup\":\"True\",\"hovertemplate\":\"Metric=Milk %<br>Product Name=%{x}<br>Value=%{y}<extra></extra>\",\"legendgroup\":\"Milk %\",\"marker\":{\"color\":\"#FBCBCB\",\"pattern\":{\"shape\":\"\"}},\"name\":\"Milk %\",\"offsetgroup\":\"Milk %\",\"orientation\":\"v\",\"showlegend\":true,\"textposition\":\"auto\",\"x\":[\"2.5Kg Bulk 41% Milk Hot Chocolate Drops\",\"Blonde Chocolate Truffles\",\"Marc De Champagne Truffles\",\"Milk Chocolate Truffles\",\"Salted Caramels Milk Chocolate\",\"Bulk 41% Milk Hot Chocolate Drops 750 Grams\",\"Milk Chocolate Malt Balls\",\"Salt Caramel Malt Balls\",\"41% Milk Hot Chocolate Drops\",\"Blonde Chocolate Honeycomb - Bag\"],\"xaxis\":\"x\",\"y\":[19.0,7.0,19.0,21.0,21.0,19.0,19.0,19.0,19.0,7.0],\"yaxis\":\"y\",\"type\":\"bar\"},{\"alignmentgroup\":\"True\",\"hovertemplate\":\"Metric=Price ($)<br>Product Name=%{x}<br>Value=%{y}<extra></extra>\",\"legendgroup\":\"Price ($)\",\"marker\":{\"color\":\"#7853A8\",\"pattern\":{\"shape\":\"\"}},\"name\":\"Price ($)\",\"offsetgroup\":\"Price ($)\",\"orientation\":\"v\",\"showlegend\":true,\"textposition\":\"auto\",\"x\":[\"2.5Kg Bulk 41% Milk Hot Chocolate Drops\",\"Blonde Chocolate Truffles\",\"Marc De Champagne Truffles\",\"Milk Chocolate Truffles\",\"Salted Caramels Milk Chocolate\",\"Bulk 41% Milk Hot Chocolate Drops 750 Grams\",\"Milk Chocolate Malt Balls\",\"Salt Caramel Malt Balls\",\"41% Milk Hot Chocolate Drops\",\"Blonde Chocolate Honeycomb - Bag\"],\"xaxis\":\"x\",\"y\":[68.0,25.84,25.84,25.84,25.84,23.12,12.24,12.24,10.88,10.88],\"yaxis\":\"y\",\"type\":\"bar\"}],                        {\"template\":{\"data\":{\"histogram2dcontour\":[{\"type\":\"histogram2dcontour\",\"colorbar\":{\"outlinewidth\":0,\"ticks\":\"\"},\"colorscale\":[[0.0,\"#0d0887\"],[0.1111111111111111,\"#46039f\"],[0.2222222222222222,\"#7201a8\"],[0.3333333333333333,\"#9c179e\"],[0.4444444444444444,\"#bd3786\"],[0.5555555555555556,\"#d8576b\"],[0.6666666666666666,\"#ed7953\"],[0.7777777777777778,\"#fb9f3a\"],[0.8888888888888888,\"#fdca26\"],[1.0,\"#f0f921\"]]}],\"choropleth\":[{\"type\":\"choropleth\",\"colorbar\":{\"outlinewidth\":0,\"ticks\":\"\"}}],\"histogram2d\":[{\"type\":\"histogram2d\",\"colorbar\":{\"outlinewidth\":0,\"ticks\":\"\"},\"colorscale\":[[0.0,\"#0d0887\"],[0.1111111111111111,\"#46039f\"],[0.2222222222222222,\"#7201a8\"],[0.3333333333333333,\"#9c179e\"],[0.4444444444444444,\"#bd3786\"],[0.5555555555555556,\"#d8576b\"],[0.6666666666666666,\"#ed7953\"],[0.7777777777777778,\"#fb9f3a\"],[0.8888888888888888,\"#fdca26\"],[1.0,\"#f0f921\"]]}],\"heatmap\":[{\"type\":\"heatmap\",\"colorbar\":{\"outlinewidth\":0,\"ticks\":\"\"},\"colorscale\":[[0.0,\"#0d0887\"],[0.1111111111111111,\"#46039f\"],[0.2222222222222222,\"#7201a8\"],[0.3333333333333333,\"#9c179e\"],[0.4444444444444444,\"#bd3786\"],[0.5555555555555556,\"#d8576b\"],[0.6666666666666666,\"#ed7953\"],[0.7777777777777778,\"#fb9f3a\"],[0.8888888888888888,\"#fdca26\"],[1.0,\"#f0f921\"]]}],\"heatmapgl\":[{\"type\":\"heatmapgl\",\"colorbar\":{\"outlinewidth\":0,\"ticks\":\"\"},\"colorscale\":[[0.0,\"#0d0887\"],[0.1111111111111111,\"#46039f\"],[0.2222222222222222,\"#7201a8\"],[0.3333333333333333,\"#9c179e\"],[0.4444444444444444,\"#bd3786\"],[0.5555555555555556,\"#d8576b\"],[0.6666666666666666,\"#ed7953\"],[0.7777777777777778,\"#fb9f3a\"],[0.8888888888888888,\"#fdca26\"],[1.0,\"#f0f921\"]]}],\"contourcarpet\":[{\"type\":\"contourcarpet\",\"colorbar\":{\"outlinewidth\":0,\"ticks\":\"\"}}],\"contour\":[{\"type\":\"contour\",\"colorbar\":{\"outlinewidth\":0,\"ticks\":\"\"},\"colorscale\":[[0.0,\"#0d0887\"],[0.1111111111111111,\"#46039f\"],[0.2222222222222222,\"#7201a8\"],[0.3333333333333333,\"#9c179e\"],[0.4444444444444444,\"#bd3786\"],[0.5555555555555556,\"#d8576b\"],[0.6666666666666666,\"#ed7953\"],[0.7777777777777778,\"#fb9f3a\"],[0.8888888888888888,\"#fdca26\"],[1.0,\"#f0f921\"]]}],\"surface\":[{\"type\":\"surface\",\"colorbar\":{\"outlinewidth\":0,\"ticks\":\"\"},\"colorscale\":[[0.0,\"#0d0887\"],[0.1111111111111111,\"#46039f\"],[0.2222222222222222,\"#7201a8\"],[0.3333333333333333,\"#9c179e\"],[0.4444444444444444,\"#bd3786\"],[0.5555555555555556,\"#d8576b\"],[0.6666666666666666,\"#ed7953\"],[0.7777777777777778,\"#fb9f3a\"],[0.8888888888888888,\"#fdca26\"],[1.0,\"#f0f921\"]]}],\"mesh3d\":[{\"type\":\"mesh3d\",\"colorbar\":{\"outlinewidth\":0,\"ticks\":\"\"}}],\"scatter\":[{\"fillpattern\":{\"fillmode\":\"overlay\",\"size\":10,\"solidity\":0.2},\"type\":\"scatter\"}],\"parcoords\":[{\"type\":\"parcoords\",\"line\":{\"colorbar\":{\"outlinewidth\":0,\"ticks\":\"\"}}}],\"scatterpolargl\":[{\"type\":\"scatterpolargl\",\"marker\":{\"colorbar\":{\"outlinewidth\":0,\"ticks\":\"\"}}}],\"bar\":[{\"error_x\":{\"color\":\"#2a3f5f\"},\"error_y\":{\"color\":\"#2a3f5f\"},\"marker\":{\"line\":{\"color\":\"#E5ECF6\",\"width\":0.5},\"pattern\":{\"fillmode\":\"overlay\",\"size\":10,\"solidity\":0.2}},\"type\":\"bar\"}],\"scattergeo\":[{\"type\":\"scattergeo\",\"marker\":{\"colorbar\":{\"outlinewidth\":0,\"ticks\":\"\"}}}],\"scatterpolar\":[{\"type\":\"scatterpolar\",\"marker\":{\"colorbar\":{\"outlinewidth\":0,\"ticks\":\"\"}}}],\"histogram\":[{\"marker\":{\"pattern\":{\"fillmode\":\"overlay\",\"size\":10,\"solidity\":0.2}},\"type\":\"histogram\"}],\"scattergl\":[{\"type\":\"scattergl\",\"marker\":{\"colorbar\":{\"outlinewidth\":0,\"ticks\":\"\"}}}],\"scatter3d\":[{\"type\":\"scatter3d\",\"line\":{\"colorbar\":{\"outlinewidth\":0,\"ticks\":\"\"}},\"marker\":{\"colorbar\":{\"outlinewidth\":0,\"ticks\":\"\"}}}],\"scattermapbox\":[{\"type\":\"scattermapbox\",\"marker\":{\"colorbar\":{\"outlinewidth\":0,\"ticks\":\"\"}}}],\"scatterternary\":[{\"type\":\"scatterternary\",\"marker\":{\"colorbar\":{\"outlinewidth\":0,\"ticks\":\"\"}}}],\"scattercarpet\":[{\"type\":\"scattercarpet\",\"marker\":{\"colorbar\":{\"outlinewidth\":0,\"ticks\":\"\"}}}],\"carpet\":[{\"aaxis\":{\"endlinecolor\":\"#2a3f5f\",\"gridcolor\":\"white\",\"linecolor\":\"white\",\"minorgridcolor\":\"white\",\"startlinecolor\":\"#2a3f5f\"},\"baxis\":{\"endlinecolor\":\"#2a3f5f\",\"gridcolor\":\"white\",\"linecolor\":\"white\",\"minorgridcolor\":\"white\",\"startlinecolor\":\"#2a3f5f\"},\"type\":\"carpet\"}],\"table\":[{\"cells\":{\"fill\":{\"color\":\"#EBF0F8\"},\"line\":{\"color\":\"white\"}},\"header\":{\"fill\":{\"color\":\"#C8D4E3\"},\"line\":{\"color\":\"white\"}},\"type\":\"table\"}],\"barpolar\":[{\"marker\":{\"line\":{\"color\":\"#E5ECF6\",\"width\":0.5},\"pattern\":{\"fillmode\":\"overlay\",\"size\":10,\"solidity\":0.2}},\"type\":\"barpolar\"}],\"pie\":[{\"automargin\":true,\"type\":\"pie\"}]},\"layout\":{\"autotypenumbers\":\"strict\",\"colorway\":[\"#636efa\",\"#EF553B\",\"#00cc96\",\"#ab63fa\",\"#FFA15A\",\"#19d3f3\",\"#FF6692\",\"#B6E880\",\"#FF97FF\",\"#FECB52\"],\"font\":{\"color\":\"#2a3f5f\"},\"hovermode\":\"closest\",\"hoverlabel\":{\"align\":\"left\"},\"paper_bgcolor\":\"white\",\"plot_bgcolor\":\"#E5ECF6\",\"polar\":{\"bgcolor\":\"#E5ECF6\",\"angularaxis\":{\"gridcolor\":\"white\",\"linecolor\":\"white\",\"ticks\":\"\"},\"radialaxis\":{\"gridcolor\":\"white\",\"linecolor\":\"white\",\"ticks\":\"\"}},\"ternary\":{\"bgcolor\":\"#E5ECF6\",\"aaxis\":{\"gridcolor\":\"white\",\"linecolor\":\"white\",\"ticks\":\"\"},\"baxis\":{\"gridcolor\":\"white\",\"linecolor\":\"white\",\"ticks\":\"\"},\"caxis\":{\"gridcolor\":\"white\",\"linecolor\":\"white\",\"ticks\":\"\"}},\"coloraxis\":{\"colorbar\":{\"outlinewidth\":0,\"ticks\":\"\"}},\"colorscale\":{\"sequential\":[[0.0,\"#0d0887\"],[0.1111111111111111,\"#46039f\"],[0.2222222222222222,\"#7201a8\"],[0.3333333333333333,\"#9c179e\"],[0.4444444444444444,\"#bd3786\"],[0.5555555555555556,\"#d8576b\"],[0.6666666666666666,\"#ed7953\"],[0.7777777777777778,\"#fb9f3a\"],[0.8888888888888888,\"#fdca26\"],[1.0,\"#f0f921\"]],\"sequentialminus\":[[0.0,\"#0d0887\"],[0.1111111111111111,\"#46039f\"],[0.2222222222222222,\"#7201a8\"],[0.3333333333333333,\"#9c179e\"],[0.4444444444444444,\"#bd3786\"],[0.5555555555555556,\"#d8576b\"],[0.6666666666666666,\"#ed7953\"],[0.7777777777777778,\"#fb9f3a\"],[0.8888888888888888,\"#fdca26\"],[1.0,\"#f0f921\"]],\"diverging\":[[0,\"#8e0152\"],[0.1,\"#c51b7d\"],[0.2,\"#de77ae\"],[0.3,\"#f1b6da\"],[0.4,\"#fde0ef\"],[0.5,\"#f7f7f7\"],[0.6,\"#e6f5d0\"],[0.7,\"#b8e186\"],[0.8,\"#7fbc41\"],[0.9,\"#4d9221\"],[1,\"#276419\"]]},\"xaxis\":{\"gridcolor\":\"white\",\"linecolor\":\"white\",\"ticks\":\"\",\"title\":{\"standoff\":15},\"zerolinecolor\":\"white\",\"automargin\":true,\"zerolinewidth\":2},\"yaxis\":{\"gridcolor\":\"white\",\"linecolor\":\"white\",\"ticks\":\"\",\"title\":{\"standoff\":15},\"zerolinecolor\":\"white\",\"automargin\":true,\"zerolinewidth\":2},\"scene\":{\"xaxis\":{\"backgroundcolor\":\"#E5ECF6\",\"gridcolor\":\"white\",\"linecolor\":\"white\",\"showbackground\":true,\"ticks\":\"\",\"zerolinecolor\":\"white\",\"gridwidth\":2},\"yaxis\":{\"backgroundcolor\":\"#E5ECF6\",\"gridcolor\":\"white\",\"linecolor\":\"white\",\"showbackground\":true,\"ticks\":\"\",\"zerolinecolor\":\"white\",\"gridwidth\":2},\"zaxis\":{\"backgroundcolor\":\"#E5ECF6\",\"gridcolor\":\"white\",\"linecolor\":\"white\",\"showbackground\":true,\"ticks\":\"\",\"zerolinecolor\":\"white\",\"gridwidth\":2}},\"shapedefaults\":{\"line\":{\"color\":\"#2a3f5f\"}},\"annotationdefaults\":{\"arrowcolor\":\"#2a3f5f\",\"arrowhead\":0,\"arrowwidth\":1},\"geo\":{\"bgcolor\":\"white\",\"landcolor\":\"#E5ECF6\",\"subunitcolor\":\"white\",\"showland\":true,\"showlakes\":true,\"lakecolor\":\"white\"},\"title\":{\"x\":0.05},\"mapbox\":{\"style\":\"light\"}}},\"xaxis\":{\"anchor\":\"y\",\"domain\":[0.0,1.0],\"title\":{\"text\":\"Product Name\"},\"tickangle\":-45},\"yaxis\":{\"anchor\":\"x\",\"domain\":[0.0,1.0],\"title\":{\"text\":\"Value\"}},\"legend\":{\"title\":{\"text\":\"Metric\"},\"tracegroupgap\":0},\"title\":{\"text\":\"Top 10 Products: Cocoa %, Milk %, and Price Comparison\"},\"barmode\":\"group\"},                        {\"responsive\": true}                    ).then(function(){\n",
       "                            \n",
       "var gd = document.getElementById('39c2df6c-1765-4f4b-9ceb-ea521efb8e0b');\n",
       "var x = new MutationObserver(function (mutations, observer) {{\n",
       "        var display = window.getComputedStyle(gd).display;\n",
       "        if (!display || display === 'none') {{\n",
       "            console.log([gd, 'removed!']);\n",
       "            Plotly.purge(gd);\n",
       "            observer.disconnect();\n",
       "        }}\n",
       "}});\n",
       "\n",
       "// Listen for the removal of the full notebook cells\n",
       "var notebookContainer = gd.closest('#notebook-container');\n",
       "if (notebookContainer) {{\n",
       "    x.observe(notebookContainer, {childList: true});\n",
       "}}\n",
       "\n",
       "// Listen for the clearing of the current output cell\n",
       "var outputEl = gd.closest('.output');\n",
       "if (outputEl) {{\n",
       "    x.observe(outputEl, {childList: true});\n",
       "}}\n",
       "\n",
       "                        })                };                });            </script>        </div>"
      ]
     },
     "metadata": {},
     "output_type": "display_data"
    }
   ],
   "source": [
    "plot_data = df_products[['Name', 'Cocoa %', 'Milk %', 'Price ($)']].dropna()\n",
    "plot_data = plot_data.nlargest(10, 'Price ($)')\n",
    "\n",
    "df_long = plot_data.melt(id_vars='Name', \n",
    "                         value_vars=['Cocoa %', 'Milk %', 'Price ($)'],\n",
    "                         var_name='Metric', value_name='Value')\n",
    "\n",
    "color_map = {\n",
    "    'Cocoa %': '#6F0C8A',\n",
    "    'Milk %': '#FBCBCB',  \n",
    "    'Price ($)': '#7853A8' \n",
    "}\n",
    "\n",
    "fig = px.bar(df_long, \n",
    "             x='Name', y='Value', color='Metric', barmode='group',\n",
    "             color_discrete_map=color_map,\n",
    "             title='Top 10 Products: Cocoa %, Milk %, and Price Comparison',\n",
    "             labels={'Name': 'Product Name', 'Value': 'Value'})\n",
    "\n",
    "fig.update_layout(xaxis_tickangle=-45)\n",
    "fig.show()\n"
   ]
  },
  {
   "cell_type": "markdown",
   "id": "007a5c5f-87b1-4d02-87ed-7cb2d3d1e38c",
   "metadata": {},
   "source": [
    "## Top Common Ingredients"
   ]
  },
  {
   "cell_type": "code",
   "execution_count": 22,
   "id": "524b5f0f-70f9-41ab-b2f2-01efde254c5d",
   "metadata": {},
   "outputs": [
    {
     "data": {
      "application/vnd.plotly.v1+json": {
       "config": {
        "plotlyServerURL": "https://plot.ly"
       },
       "data": [
        {
         "alignmentgroup": "True",
         "hovertemplate": "Frequency=%{x}<br>Ingredient=%{y}<extra></extra>",
         "legendgroup": "",
         "marker": {
          "color": "purple",
          "pattern": {
           "shape": ""
          }
         },
         "name": "",
         "offsetgroup": "",
         "orientation": "h",
         "showlegend": false,
         "textposition": "auto",
         "type": "bar",
         "x": [
          45,
          45,
          24,
          16,
          16,
          15,
          11,
          11,
          10,
          9
         ],
         "xaxis": "x",
         "y": [
          "cocoa butter",
          "sugar",
          "whole milk powder",
          "cocoa beans",
          "emulsifier: (soya lecithin)",
          "pure cocoa butter",
          "dark chocolate (61% cocoa minimum",
          "butter",
          "vanilla extract.",
          "skimmed milk powder"
         ],
         "yaxis": "y"
        }
       ],
       "layout": {
        "autosize": true,
        "barmode": "relative",
        "legend": {
         "tracegroupgap": 0
        },
        "plot_bgcolor": "white",
        "template": {
         "data": {
          "bar": [
           {
            "error_x": {
             "color": "#2a3f5f"
            },
            "error_y": {
             "color": "#2a3f5f"
            },
            "marker": {
             "line": {
              "color": "#E5ECF6",
              "width": 0.5
             },
             "pattern": {
              "fillmode": "overlay",
              "size": 10,
              "solidity": 0.2
             }
            },
            "type": "bar"
           }
          ],
          "barpolar": [
           {
            "marker": {
             "line": {
              "color": "#E5ECF6",
              "width": 0.5
             },
             "pattern": {
              "fillmode": "overlay",
              "size": 10,
              "solidity": 0.2
             }
            },
            "type": "barpolar"
           }
          ],
          "carpet": [
           {
            "aaxis": {
             "endlinecolor": "#2a3f5f",
             "gridcolor": "white",
             "linecolor": "white",
             "minorgridcolor": "white",
             "startlinecolor": "#2a3f5f"
            },
            "baxis": {
             "endlinecolor": "#2a3f5f",
             "gridcolor": "white",
             "linecolor": "white",
             "minorgridcolor": "white",
             "startlinecolor": "#2a3f5f"
            },
            "type": "carpet"
           }
          ],
          "choropleth": [
           {
            "colorbar": {
             "outlinewidth": 0,
             "ticks": ""
            },
            "type": "choropleth"
           }
          ],
          "contour": [
           {
            "colorbar": {
             "outlinewidth": 0,
             "ticks": ""
            },
            "colorscale": [
             [
              0,
              "#0d0887"
             ],
             [
              0.1111111111111111,
              "#46039f"
             ],
             [
              0.2222222222222222,
              "#7201a8"
             ],
             [
              0.3333333333333333,
              "#9c179e"
             ],
             [
              0.4444444444444444,
              "#bd3786"
             ],
             [
              0.5555555555555556,
              "#d8576b"
             ],
             [
              0.6666666666666666,
              "#ed7953"
             ],
             [
              0.7777777777777778,
              "#fb9f3a"
             ],
             [
              0.8888888888888888,
              "#fdca26"
             ],
             [
              1,
              "#f0f921"
             ]
            ],
            "type": "contour"
           }
          ],
          "contourcarpet": [
           {
            "colorbar": {
             "outlinewidth": 0,
             "ticks": ""
            },
            "type": "contourcarpet"
           }
          ],
          "heatmap": [
           {
            "colorbar": {
             "outlinewidth": 0,
             "ticks": ""
            },
            "colorscale": [
             [
              0,
              "#0d0887"
             ],
             [
              0.1111111111111111,
              "#46039f"
             ],
             [
              0.2222222222222222,
              "#7201a8"
             ],
             [
              0.3333333333333333,
              "#9c179e"
             ],
             [
              0.4444444444444444,
              "#bd3786"
             ],
             [
              0.5555555555555556,
              "#d8576b"
             ],
             [
              0.6666666666666666,
              "#ed7953"
             ],
             [
              0.7777777777777778,
              "#fb9f3a"
             ],
             [
              0.8888888888888888,
              "#fdca26"
             ],
             [
              1,
              "#f0f921"
             ]
            ],
            "type": "heatmap"
           }
          ],
          "heatmapgl": [
           {
            "colorbar": {
             "outlinewidth": 0,
             "ticks": ""
            },
            "colorscale": [
             [
              0,
              "#0d0887"
             ],
             [
              0.1111111111111111,
              "#46039f"
             ],
             [
              0.2222222222222222,
              "#7201a8"
             ],
             [
              0.3333333333333333,
              "#9c179e"
             ],
             [
              0.4444444444444444,
              "#bd3786"
             ],
             [
              0.5555555555555556,
              "#d8576b"
             ],
             [
              0.6666666666666666,
              "#ed7953"
             ],
             [
              0.7777777777777778,
              "#fb9f3a"
             ],
             [
              0.8888888888888888,
              "#fdca26"
             ],
             [
              1,
              "#f0f921"
             ]
            ],
            "type": "heatmapgl"
           }
          ],
          "histogram": [
           {
            "marker": {
             "pattern": {
              "fillmode": "overlay",
              "size": 10,
              "solidity": 0.2
             }
            },
            "type": "histogram"
           }
          ],
          "histogram2d": [
           {
            "colorbar": {
             "outlinewidth": 0,
             "ticks": ""
            },
            "colorscale": [
             [
              0,
              "#0d0887"
             ],
             [
              0.1111111111111111,
              "#46039f"
             ],
             [
              0.2222222222222222,
              "#7201a8"
             ],
             [
              0.3333333333333333,
              "#9c179e"
             ],
             [
              0.4444444444444444,
              "#bd3786"
             ],
             [
              0.5555555555555556,
              "#d8576b"
             ],
             [
              0.6666666666666666,
              "#ed7953"
             ],
             [
              0.7777777777777778,
              "#fb9f3a"
             ],
             [
              0.8888888888888888,
              "#fdca26"
             ],
             [
              1,
              "#f0f921"
             ]
            ],
            "type": "histogram2d"
           }
          ],
          "histogram2dcontour": [
           {
            "colorbar": {
             "outlinewidth": 0,
             "ticks": ""
            },
            "colorscale": [
             [
              0,
              "#0d0887"
             ],
             [
              0.1111111111111111,
              "#46039f"
             ],
             [
              0.2222222222222222,
              "#7201a8"
             ],
             [
              0.3333333333333333,
              "#9c179e"
             ],
             [
              0.4444444444444444,
              "#bd3786"
             ],
             [
              0.5555555555555556,
              "#d8576b"
             ],
             [
              0.6666666666666666,
              "#ed7953"
             ],
             [
              0.7777777777777778,
              "#fb9f3a"
             ],
             [
              0.8888888888888888,
              "#fdca26"
             ],
             [
              1,
              "#f0f921"
             ]
            ],
            "type": "histogram2dcontour"
           }
          ],
          "mesh3d": [
           {
            "colorbar": {
             "outlinewidth": 0,
             "ticks": ""
            },
            "type": "mesh3d"
           }
          ],
          "parcoords": [
           {
            "line": {
             "colorbar": {
              "outlinewidth": 0,
              "ticks": ""
             }
            },
            "type": "parcoords"
           }
          ],
          "pie": [
           {
            "automargin": true,
            "type": "pie"
           }
          ],
          "scatter": [
           {
            "fillpattern": {
             "fillmode": "overlay",
             "size": 10,
             "solidity": 0.2
            },
            "type": "scatter"
           }
          ],
          "scatter3d": [
           {
            "line": {
             "colorbar": {
              "outlinewidth": 0,
              "ticks": ""
             }
            },
            "marker": {
             "colorbar": {
              "outlinewidth": 0,
              "ticks": ""
             }
            },
            "type": "scatter3d"
           }
          ],
          "scattercarpet": [
           {
            "marker": {
             "colorbar": {
              "outlinewidth": 0,
              "ticks": ""
             }
            },
            "type": "scattercarpet"
           }
          ],
          "scattergeo": [
           {
            "marker": {
             "colorbar": {
              "outlinewidth": 0,
              "ticks": ""
             }
            },
            "type": "scattergeo"
           }
          ],
          "scattergl": [
           {
            "marker": {
             "colorbar": {
              "outlinewidth": 0,
              "ticks": ""
             }
            },
            "type": "scattergl"
           }
          ],
          "scattermapbox": [
           {
            "marker": {
             "colorbar": {
              "outlinewidth": 0,
              "ticks": ""
             }
            },
            "type": "scattermapbox"
           }
          ],
          "scatterpolar": [
           {
            "marker": {
             "colorbar": {
              "outlinewidth": 0,
              "ticks": ""
             }
            },
            "type": "scatterpolar"
           }
          ],
          "scatterpolargl": [
           {
            "marker": {
             "colorbar": {
              "outlinewidth": 0,
              "ticks": ""
             }
            },
            "type": "scatterpolargl"
           }
          ],
          "scatterternary": [
           {
            "marker": {
             "colorbar": {
              "outlinewidth": 0,
              "ticks": ""
             }
            },
            "type": "scatterternary"
           }
          ],
          "surface": [
           {
            "colorbar": {
             "outlinewidth": 0,
             "ticks": ""
            },
            "colorscale": [
             [
              0,
              "#0d0887"
             ],
             [
              0.1111111111111111,
              "#46039f"
             ],
             [
              0.2222222222222222,
              "#7201a8"
             ],
             [
              0.3333333333333333,
              "#9c179e"
             ],
             [
              0.4444444444444444,
              "#bd3786"
             ],
             [
              0.5555555555555556,
              "#d8576b"
             ],
             [
              0.6666666666666666,
              "#ed7953"
             ],
             [
              0.7777777777777778,
              "#fb9f3a"
             ],
             [
              0.8888888888888888,
              "#fdca26"
             ],
             [
              1,
              "#f0f921"
             ]
            ],
            "type": "surface"
           }
          ],
          "table": [
           {
            "cells": {
             "fill": {
              "color": "#EBF0F8"
             },
             "line": {
              "color": "white"
             }
            },
            "header": {
             "fill": {
              "color": "#C8D4E3"
             },
             "line": {
              "color": "white"
             }
            },
            "type": "table"
           }
          ]
         },
         "layout": {
          "annotationdefaults": {
           "arrowcolor": "#2a3f5f",
           "arrowhead": 0,
           "arrowwidth": 1
          },
          "autotypenumbers": "strict",
          "coloraxis": {
           "colorbar": {
            "outlinewidth": 0,
            "ticks": ""
           }
          },
          "colorscale": {
           "diverging": [
            [
             0,
             "#8e0152"
            ],
            [
             0.1,
             "#c51b7d"
            ],
            [
             0.2,
             "#de77ae"
            ],
            [
             0.3,
             "#f1b6da"
            ],
            [
             0.4,
             "#fde0ef"
            ],
            [
             0.5,
             "#f7f7f7"
            ],
            [
             0.6,
             "#e6f5d0"
            ],
            [
             0.7,
             "#b8e186"
            ],
            [
             0.8,
             "#7fbc41"
            ],
            [
             0.9,
             "#4d9221"
            ],
            [
             1,
             "#276419"
            ]
           ],
           "sequential": [
            [
             0,
             "#0d0887"
            ],
            [
             0.1111111111111111,
             "#46039f"
            ],
            [
             0.2222222222222222,
             "#7201a8"
            ],
            [
             0.3333333333333333,
             "#9c179e"
            ],
            [
             0.4444444444444444,
             "#bd3786"
            ],
            [
             0.5555555555555556,
             "#d8576b"
            ],
            [
             0.6666666666666666,
             "#ed7953"
            ],
            [
             0.7777777777777778,
             "#fb9f3a"
            ],
            [
             0.8888888888888888,
             "#fdca26"
            ],
            [
             1,
             "#f0f921"
            ]
           ],
           "sequentialminus": [
            [
             0,
             "#0d0887"
            ],
            [
             0.1111111111111111,
             "#46039f"
            ],
            [
             0.2222222222222222,
             "#7201a8"
            ],
            [
             0.3333333333333333,
             "#9c179e"
            ],
            [
             0.4444444444444444,
             "#bd3786"
            ],
            [
             0.5555555555555556,
             "#d8576b"
            ],
            [
             0.6666666666666666,
             "#ed7953"
            ],
            [
             0.7777777777777778,
             "#fb9f3a"
            ],
            [
             0.8888888888888888,
             "#fdca26"
            ],
            [
             1,
             "#f0f921"
            ]
           ]
          },
          "colorway": [
           "#636efa",
           "#EF553B",
           "#00cc96",
           "#ab63fa",
           "#FFA15A",
           "#19d3f3",
           "#FF6692",
           "#B6E880",
           "#FF97FF",
           "#FECB52"
          ],
          "font": {
           "color": "#2a3f5f"
          },
          "geo": {
           "bgcolor": "white",
           "lakecolor": "white",
           "landcolor": "#E5ECF6",
           "showlakes": true,
           "showland": true,
           "subunitcolor": "white"
          },
          "hoverlabel": {
           "align": "left"
          },
          "hovermode": "closest",
          "mapbox": {
           "style": "light"
          },
          "paper_bgcolor": "white",
          "plot_bgcolor": "#E5ECF6",
          "polar": {
           "angularaxis": {
            "gridcolor": "white",
            "linecolor": "white",
            "ticks": ""
           },
           "bgcolor": "#E5ECF6",
           "radialaxis": {
            "gridcolor": "white",
            "linecolor": "white",
            "ticks": ""
           }
          },
          "scene": {
           "xaxis": {
            "backgroundcolor": "#E5ECF6",
            "gridcolor": "white",
            "gridwidth": 2,
            "linecolor": "white",
            "showbackground": true,
            "ticks": "",
            "zerolinecolor": "white"
           },
           "yaxis": {
            "backgroundcolor": "#E5ECF6",
            "gridcolor": "white",
            "gridwidth": 2,
            "linecolor": "white",
            "showbackground": true,
            "ticks": "",
            "zerolinecolor": "white"
           },
           "zaxis": {
            "backgroundcolor": "#E5ECF6",
            "gridcolor": "white",
            "gridwidth": 2,
            "linecolor": "white",
            "showbackground": true,
            "ticks": "",
            "zerolinecolor": "white"
           }
          },
          "shapedefaults": {
           "line": {
            "color": "#2a3f5f"
           }
          },
          "ternary": {
           "aaxis": {
            "gridcolor": "white",
            "linecolor": "white",
            "ticks": ""
           },
           "baxis": {
            "gridcolor": "white",
            "linecolor": "white",
            "ticks": ""
           },
           "bgcolor": "#E5ECF6",
           "caxis": {
            "gridcolor": "white",
            "linecolor": "white",
            "ticks": ""
           }
          },
          "title": {
           "x": 0.05
          },
          "xaxis": {
           "automargin": true,
           "gridcolor": "white",
           "linecolor": "white",
           "ticks": "",
           "title": {
            "standoff": 15
           },
           "zerolinecolor": "white",
           "zerolinewidth": 2
          },
          "yaxis": {
           "automargin": true,
           "gridcolor": "white",
           "linecolor": "white",
           "ticks": "",
           "title": {
            "standoff": 15
           },
           "zerolinecolor": "white",
           "zerolinewidth": 2
          }
         }
        },
        "title": {
         "text": "Top 10 Most Common Ingredients"
        },
        "xaxis": {
         "anchor": "y",
         "autorange": true,
         "domain": [
          0,
          1
         ],
         "range": [
          0,
          47.36842105263158
         ],
         "showgrid": true,
         "title": {
          "text": "Frequency"
         },
         "type": "linear"
        },
        "yaxis": {
         "anchor": "x",
         "autorange": true,
         "domain": [
          0,
          1
         ],
         "range": [
          9.5,
          -0.5
         ],
         "title": {
          "text": "Ingredient"
         },
         "type": "category"
        }
       }
      },
      "image/png": "[encoded data removed]",
      "text/html": [
       "<div>                            <div id=\"d6849747-d3b4-4bf1-9ae5-92fdfeb822e3\" class=\"plotly-graph-div\" style=\"height:525px; width:100%;\"></div>            <script type=\"text/javascript\">                require([\"plotly\"], function(Plotly) {                    window.PLOTLYENV=window.PLOTLYENV || {};                                    if (document.getElementById(\"d6849747-d3b4-4bf1-9ae5-92fdfeb822e3\")) {                    Plotly.newPlot(                        \"d6849747-d3b4-4bf1-9ae5-92fdfeb822e3\",                        [{\"alignmentgroup\":\"True\",\"hovertemplate\":\"Frequency=%{x}<br>Ingredient=%{y}<extra></extra>\",\"legendgroup\":\"\",\"marker\":{\"color\":\"purple\",\"pattern\":{\"shape\":\"\"}},\"name\":\"\",\"offsetgroup\":\"\",\"orientation\":\"h\",\"showlegend\":false,\"textposition\":\"auto\",\"x\":[45,45,24,16,16,15,11,11,10,9],\"xaxis\":\"x\",\"y\":[\"cocoa butter\",\"sugar\",\"whole milk powder\",\"cocoa beans\",\"emulsifier: (soya lecithin)\",\"pure cocoa butter\",\"dark chocolate (61% cocoa minimum\",\"butter\",\"vanilla extract.\",\"skimmed milk powder\"],\"yaxis\":\"y\",\"type\":\"bar\"}],                        {\"template\":{\"data\":{\"histogram2dcontour\":[{\"type\":\"histogram2dcontour\",\"colorbar\":{\"outlinewidth\":0,\"ticks\":\"\"},\"colorscale\":[[0.0,\"#0d0887\"],[0.1111111111111111,\"#46039f\"],[0.2222222222222222,\"#7201a8\"],[0.3333333333333333,\"#9c179e\"],[0.4444444444444444,\"#bd3786\"],[0.5555555555555556,\"#d8576b\"],[0.6666666666666666,\"#ed7953\"],[0.7777777777777778,\"#fb9f3a\"],[0.8888888888888888,\"#fdca26\"],[1.0,\"#f0f921\"]]}],\"choropleth\":[{\"type\":\"choropleth\",\"colorbar\":{\"outlinewidth\":0,\"ticks\":\"\"}}],\"histogram2d\":[{\"type\":\"histogram2d\",\"colorbar\":{\"outlinewidth\":0,\"ticks\":\"\"},\"colorscale\":[[0.0,\"#0d0887\"],[0.1111111111111111,\"#46039f\"],[0.2222222222222222,\"#7201a8\"],[0.3333333333333333,\"#9c179e\"],[0.4444444444444444,\"#bd3786\"],[0.5555555555555556,\"#d8576b\"],[0.6666666666666666,\"#ed7953\"],[0.7777777777777778,\"#fb9f3a\"],[0.8888888888888888,\"#fdca26\"],[1.0,\"#f0f921\"]]}],\"heatmap\":[{\"type\":\"heatmap\",\"colorbar\":{\"outlinewidth\":0,\"ticks\":\"\"},\"colorscale\":[[0.0,\"#0d0887\"],[0.1111111111111111,\"#46039f\"],[0.2222222222222222,\"#7201a8\"],[0.3333333333333333,\"#9c179e\"],[0.4444444444444444,\"#bd3786\"],[0.5555555555555556,\"#d8576b\"],[0.6666666666666666,\"#ed7953\"],[0.7777777777777778,\"#fb9f3a\"],[0.8888888888888888,\"#fdca26\"],[1.0,\"#f0f921\"]]}],\"heatmapgl\":[{\"type\":\"heatmapgl\",\"colorbar\":{\"outlinewidth\":0,\"ticks\":\"\"},\"colorscale\":[[0.0,\"#0d0887\"],[0.1111111111111111,\"#46039f\"],[0.2222222222222222,\"#7201a8\"],[0.3333333333333333,\"#9c179e\"],[0.4444444444444444,\"#bd3786\"],[0.5555555555555556,\"#d8576b\"],[0.6666666666666666,\"#ed7953\"],[0.7777777777777778,\"#fb9f3a\"],[0.8888888888888888,\"#fdca26\"],[1.0,\"#f0f921\"]]}],\"contourcarpet\":[{\"type\":\"contourcarpet\",\"colorbar\":{\"outlinewidth\":0,\"ticks\":\"\"}}],\"contour\":[{\"type\":\"contour\",\"colorbar\":{\"outlinewidth\":0,\"ticks\":\"\"},\"colorscale\":[[0.0,\"#0d0887\"],[0.1111111111111111,\"#46039f\"],[0.2222222222222222,\"#7201a8\"],[0.3333333333333333,\"#9c179e\"],[0.4444444444444444,\"#bd3786\"],[0.5555555555555556,\"#d8576b\"],[0.6666666666666666,\"#ed7953\"],[0.7777777777777778,\"#fb9f3a\"],[0.8888888888888888,\"#fdca26\"],[1.0,\"#f0f921\"]]}],\"surface\":[{\"type\":\"surface\",\"colorbar\":{\"outlinewidth\":0,\"ticks\":\"\"},\"colorscale\":[[0.0,\"#0d0887\"],[0.1111111111111111,\"#46039f\"],[0.2222222222222222,\"#7201a8\"],[0.3333333333333333,\"#9c179e\"],[0.4444444444444444,\"#bd3786\"],[0.5555555555555556,\"#d8576b\"],[0.6666666666666666,\"#ed7953\"],[0.7777777777777778,\"#fb9f3a\"],[0.8888888888888888,\"#fdca26\"],[1.0,\"#f0f921\"]]}],\"mesh3d\":[{\"type\":\"mesh3d\",\"colorbar\":{\"outlinewidth\":0,\"ticks\":\"\"}}],\"scatter\":[{\"fillpattern\":{\"fillmode\":\"overlay\",\"size\":10,\"solidity\":0.2},\"type\":\"scatter\"}],\"parcoords\":[{\"type\":\"parcoords\",\"line\":{\"colorbar\":{\"outlinewidth\":0,\"ticks\":\"\"}}}],\"scatterpolargl\":[{\"type\":\"scatterpolargl\",\"marker\":{\"colorbar\":{\"outlinewidth\":0,\"ticks\":\"\"}}}],\"bar\":[{\"error_x\":{\"color\":\"#2a3f5f\"},\"error_y\":{\"color\":\"#2a3f5f\"},\"marker\":{\"line\":{\"color\":\"#E5ECF6\",\"width\":0.5},\"pattern\":{\"fillmode\":\"overlay\",\"size\":10,\"solidity\":0.2}},\"type\":\"bar\"}],\"scattergeo\":[{\"type\":\"scattergeo\",\"marker\":{\"colorbar\":{\"outlinewidth\":0,\"ticks\":\"\"}}}],\"scatterpolar\":[{\"type\":\"scatterpolar\",\"marker\":{\"colorbar\":{\"outlinewidth\":0,\"ticks\":\"\"}}}],\"histogram\":[{\"marker\":{\"pattern\":{\"fillmode\":\"overlay\",\"size\":10,\"solidity\":0.2}},\"type\":\"histogram\"}],\"scattergl\":[{\"type\":\"scattergl\",\"marker\":{\"colorbar\":{\"outlinewidth\":0,\"ticks\":\"\"}}}],\"scatter3d\":[{\"type\":\"scatter3d\",\"line\":{\"colorbar\":{\"outlinewidth\":0,\"ticks\":\"\"}},\"marker\":{\"colorbar\":{\"outlinewidth\":0,\"ticks\":\"\"}}}],\"scattermapbox\":[{\"type\":\"scattermapbox\",\"marker\":{\"colorbar\":{\"outlinewidth\":0,\"ticks\":\"\"}}}],\"scatterternary\":[{\"type\":\"scatterternary\",\"marker\":{\"colorbar\":{\"outlinewidth\":0,\"ticks\":\"\"}}}],\"scattercarpet\":[{\"type\":\"scattercarpet\",\"marker\":{\"colorbar\":{\"outlinewidth\":0,\"ticks\":\"\"}}}],\"carpet\":[{\"aaxis\":{\"endlinecolor\":\"#2a3f5f\",\"gridcolor\":\"white\",\"linecolor\":\"white\",\"minorgridcolor\":\"white\",\"startlinecolor\":\"#2a3f5f\"},\"baxis\":{\"endlinecolor\":\"#2a3f5f\",\"gridcolor\":\"white\",\"linecolor\":\"white\",\"minorgridcolor\":\"white\",\"startlinecolor\":\"#2a3f5f\"},\"type\":\"carpet\"}],\"table\":[{\"cells\":{\"fill\":{\"color\":\"#EBF0F8\"},\"line\":{\"color\":\"white\"}},\"header\":{\"fill\":{\"color\":\"#C8D4E3\"},\"line\":{\"color\":\"white\"}},\"type\":\"table\"}],\"barpolar\":[{\"marker\":{\"line\":{\"color\":\"#E5ECF6\",\"width\":0.5},\"pattern\":{\"fillmode\":\"overlay\",\"size\":10,\"solidity\":0.2}},\"type\":\"barpolar\"}],\"pie\":[{\"automargin\":true,\"type\":\"pie\"}]},\"layout\":{\"autotypenumbers\":\"strict\",\"colorway\":[\"#636efa\",\"#EF553B\",\"#00cc96\",\"#ab63fa\",\"#FFA15A\",\"#19d3f3\",\"#FF6692\",\"#B6E880\",\"#FF97FF\",\"#FECB52\"],\"font\":{\"color\":\"#2a3f5f\"},\"hovermode\":\"closest\",\"hoverlabel\":{\"align\":\"left\"},\"paper_bgcolor\":\"white\",\"plot_bgcolor\":\"#E5ECF6\",\"polar\":{\"bgcolor\":\"#E5ECF6\",\"angularaxis\":{\"gridcolor\":\"white\",\"linecolor\":\"white\",\"ticks\":\"\"},\"radialaxis\":{\"gridcolor\":\"white\",\"linecolor\":\"white\",\"ticks\":\"\"}},\"ternary\":{\"bgcolor\":\"#E5ECF6\",\"aaxis\":{\"gridcolor\":\"white\",\"linecolor\":\"white\",\"ticks\":\"\"},\"baxis\":{\"gridcolor\":\"white\",\"linecolor\":\"white\",\"ticks\":\"\"},\"caxis\":{\"gridcolor\":\"white\",\"linecolor\":\"white\",\"ticks\":\"\"}},\"coloraxis\":{\"colorbar\":{\"outlinewidth\":0,\"ticks\":\"\"}},\"colorscale\":{\"sequential\":[[0.0,\"#0d0887\"],[0.1111111111111111,\"#46039f\"],[0.2222222222222222,\"#7201a8\"],[0.3333333333333333,\"#9c179e\"],[0.4444444444444444,\"#bd3786\"],[0.5555555555555556,\"#d8576b\"],[0.6666666666666666,\"#ed7953\"],[0.7777777777777778,\"#fb9f3a\"],[0.8888888888888888,\"#fdca26\"],[1.0,\"#f0f921\"]],\"sequentialminus\":[[0.0,\"#0d0887\"],[0.1111111111111111,\"#46039f\"],[0.2222222222222222,\"#7201a8\"],[0.3333333333333333,\"#9c179e\"],[0.4444444444444444,\"#bd3786\"],[0.5555555555555556,\"#d8576b\"],[0.6666666666666666,\"#ed7953\"],[0.7777777777777778,\"#fb9f3a\"],[0.8888888888888888,\"#fdca26\"],[1.0,\"#f0f921\"]],\"diverging\":[[0,\"#8e0152\"],[0.1,\"#c51b7d\"],[0.2,\"#de77ae\"],[0.3,\"#f1b6da\"],[0.4,\"#fde0ef\"],[0.5,\"#f7f7f7\"],[0.6,\"#e6f5d0\"],[0.7,\"#b8e186\"],[0.8,\"#7fbc41\"],[0.9,\"#4d9221\"],[1,\"#276419\"]]},\"xaxis\":{\"gridcolor\":\"white\",\"linecolor\":\"white\",\"ticks\":\"\",\"title\":{\"standoff\":15},\"zerolinecolor\":\"white\",\"automargin\":true,\"zerolinewidth\":2},\"yaxis\":{\"gridcolor\":\"white\",\"linecolor\":\"white\",\"ticks\":\"\",\"title\":{\"standoff\":15},\"zerolinecolor\":\"white\",\"automargin\":true,\"zerolinewidth\":2},\"scene\":{\"xaxis\":{\"backgroundcolor\":\"#E5ECF6\",\"gridcolor\":\"white\",\"linecolor\":\"white\",\"showbackground\":true,\"ticks\":\"\",\"zerolinecolor\":\"white\",\"gridwidth\":2},\"yaxis\":{\"backgroundcolor\":\"#E5ECF6\",\"gridcolor\":\"white\",\"linecolor\":\"white\",\"showbackground\":true,\"ticks\":\"\",\"zerolinecolor\":\"white\",\"gridwidth\":2},\"zaxis\":{\"backgroundcolor\":\"#E5ECF6\",\"gridcolor\":\"white\",\"linecolor\":\"white\",\"showbackground\":true,\"ticks\":\"\",\"zerolinecolor\":\"white\",\"gridwidth\":2}},\"shapedefaults\":{\"line\":{\"color\":\"#2a3f5f\"}},\"annotationdefaults\":{\"arrowcolor\":\"#2a3f5f\",\"arrowhead\":0,\"arrowwidth\":1},\"geo\":{\"bgcolor\":\"white\",\"landcolor\":\"#E5ECF6\",\"subunitcolor\":\"white\",\"showland\":true,\"showlakes\":true,\"lakecolor\":\"white\"},\"title\":{\"x\":0.05},\"mapbox\":{\"style\":\"light\"}}},\"xaxis\":{\"anchor\":\"y\",\"domain\":[0.0,1.0],\"title\":{\"text\":\"Frequency\"},\"showgrid\":true},\"yaxis\":{\"anchor\":\"x\",\"domain\":[0.0,1.0],\"title\":{\"text\":\"Ingredient\"},\"autorange\":\"reversed\"},\"legend\":{\"tracegroupgap\":0},\"title\":{\"text\":\"Top 10 Most Common Ingredients\"},\"barmode\":\"relative\",\"plot_bgcolor\":\"white\"},                        {\"responsive\": true}                    ).then(function(){\n",
       "                            \n",
       "var gd = document.getElementById('d6849747-d3b4-4bf1-9ae5-92fdfeb822e3');\n",
       "var x = new MutationObserver(function (mutations, observer) {{\n",
       "        var display = window.getComputedStyle(gd).display;\n",
       "        if (!display || display === 'none') {{\n",
       "            console.log([gd, 'removed!']);\n",
       "            Plotly.purge(gd);\n",
       "            observer.disconnect();\n",
       "        }}\n",
       "}});\n",
       "\n",
       "// Listen for the removal of the full notebook cells\n",
       "var notebookContainer = gd.closest('#notebook-container');\n",
       "if (notebookContainer) {{\n",
       "    x.observe(notebookContainer, {childList: true});\n",
       "}}\n",
       "\n",
       "// Listen for the clearing of the current output cell\n",
       "var outputEl = gd.closest('.output');\n",
       "if (outputEl) {{\n",
       "    x.observe(outputEl, {childList: true});\n",
       "}}\n",
       "\n",
       "                        })                };                });            </script>        </div>"
      ]
     },
     "metadata": {},
     "output_type": "display_data"
    }
   ],
   "source": [
    "ingredient_series = pd.Series(ingredient_counts).sort_values(ascending=False)\n",
    "top_ingredients = ingredient_series.head(10)\n",
    "\n",
    "df_top = top_ingredients.reset_index()\n",
    "df_top.columns = ['Ingredient', 'Frequency']\n",
    "\n",
    "fig = px.bar(df_top, \n",
    "             x='Frequency', y='Ingredient', \n",
    "             orientation='h', \n",
    "             title='Top 10 Most Common Ingredients',\n",
    "             labels={'Frequency': 'Frequency', 'Ingredient': 'Ingredient'},\n",
    "             color_discrete_sequence=['purple'])\n",
    "\n",
    "fig.update_layout(yaxis=dict(autorange='reversed'),\n",
    "                  xaxis=dict(showgrid=True),\n",
    "                  plot_bgcolor='white')\n",
    "\n",
    "fig.show()\n"
   ]
  },
  {
   "cell_type": "markdown",
   "id": "e7199de5-21b0-49cd-ac69-2815c00fb722",
   "metadata": {},
   "source": [
    "## Products by Category or Flavor"
   ]
  },
  {
   "cell_type": "code",
   "execution_count": 26,
   "id": "baca7f3f-5241-4072-8c39-8628f0fbd900",
   "metadata": {},
   "outputs": [
    {
     "data": {
      "application/vnd.plotly.v1+json": {
       "config": {
        "plotlyServerURL": "https://plot.ly"
       },
       "data": [
        {
         "alignmentgroup": "True",
         "hovertemplate": "Flavor=%{x}<br>Count=%{marker.color}<extra></extra>",
         "legendgroup": "",
         "marker": {
          "color": [
           3,
           3,
           2,
           2
          ],
          "coloraxis": "coloraxis",
          "pattern": {
           "shape": ""
          }
         },
         "name": "",
         "offsetgroup": "",
         "orientation": "v",
         "showlegend": false,
         "textposition": "auto",
         "type": "bar",
         "x": [
          "Vanilla",
          "Chocolate",
          "Strawberry",
          "Mint"
         ],
         "xaxis": "x",
         "y": [
          3,
          3,
          2,
          2
         ],
         "yaxis": "y"
        }
       ],
       "layout": {
        "autosize": true,
        "barmode": "relative",
        "coloraxis": {
         "colorbar": {
          "title": {
           "text": "Count"
          }
         },
         "colorscale": [
          [
           0,
           "rgb(252,251,253)"
          ],
          [
           0.125,
           "rgb(239,237,245)"
          ],
          [
           0.25,
           "rgb(218,218,235)"
          ],
          [
           0.375,
           "rgb(188,189,220)"
          ],
          [
           0.5,
           "rgb(158,154,200)"
          ],
          [
           0.625,
           "rgb(128,125,186)"
          ],
          [
           0.75,
           "rgb(106,81,163)"
          ],
          [
           0.875,
           "rgb(84,39,143)"
          ],
          [
           1,
           "rgb(63,0,125)"
          ]
         ]
        },
        "legend": {
         "tracegroupgap": 0
        },
        "plot_bgcolor": "white",
        "template": {
         "data": {
          "bar": [
           {
            "error_x": {
             "color": "#2a3f5f"
            },
            "error_y": {
             "color": "#2a3f5f"
            },
            "marker": {
             "line": {
              "color": "#E5ECF6",
              "width": 0.5
             },
             "pattern": {
              "fillmode": "overlay",
              "size": 10,
              "solidity": 0.2
             }
            },
            "type": "bar"
           }
          ],
          "barpolar": [
           {
            "marker": {
             "line": {
              "color": "#E5ECF6",
              "width": 0.5
             },
             "pattern": {
              "fillmode": "overlay",
              "size": 10,
              "solidity": 0.2
             }
            },
            "type": "barpolar"
           }
          ],
          "carpet": [
           {
            "aaxis": {
             "endlinecolor": "#2a3f5f",
             "gridcolor": "white",
             "linecolor": "white",
             "minorgridcolor": "white",
             "startlinecolor": "#2a3f5f"
            },
            "baxis": {
             "endlinecolor": "#2a3f5f",
             "gridcolor": "white",
             "linecolor": "white",
             "minorgridcolor": "white",
             "startlinecolor": "#2a3f5f"
            },
            "type": "carpet"
           }
          ],
          "choropleth": [
           {
            "colorbar": {
             "outlinewidth": 0,
             "ticks": ""
            },
            "type": "choropleth"
           }
          ],
          "contour": [
           {
            "colorbar": {
             "outlinewidth": 0,
             "ticks": ""
            },
            "colorscale": [
             [
              0,
              "#0d0887"
             ],
             [
              0.1111111111111111,
              "#46039f"
             ],
             [
              0.2222222222222222,
              "#7201a8"
             ],
             [
              0.3333333333333333,
              "#9c179e"
             ],
             [
              0.4444444444444444,
              "#bd3786"
             ],
             [
              0.5555555555555556,
              "#d8576b"
             ],
             [
              0.6666666666666666,
              "#ed7953"
             ],
             [
              0.7777777777777778,
              "#fb9f3a"
             ],
             [
              0.8888888888888888,
              "#fdca26"
             ],
             [
              1,
              "#f0f921"
             ]
            ],
            "type": "contour"
           }
          ],
          "contourcarpet": [
           {
            "colorbar": {
             "outlinewidth": 0,
             "ticks": ""
            },
            "type": "contourcarpet"
           }
          ],
          "heatmap": [
           {
            "colorbar": {
             "outlinewidth": 0,
             "ticks": ""
            },
            "colorscale": [
             [
              0,
              "#0d0887"
             ],
             [
              0.1111111111111111,
              "#46039f"
             ],
             [
              0.2222222222222222,
              "#7201a8"
             ],
             [
              0.3333333333333333,
              "#9c179e"
             ],
             [
              0.4444444444444444,
              "#bd3786"
             ],
             [
              0.5555555555555556,
              "#d8576b"
             ],
             [
              0.6666666666666666,
              "#ed7953"
             ],
             [
              0.7777777777777778,
              "#fb9f3a"
             ],
             [
              0.8888888888888888,
              "#fdca26"
             ],
             [
              1,
              "#f0f921"
             ]
            ],
            "type": "heatmap"
           }
          ],
          "heatmapgl": [
           {
            "colorbar": {
             "outlinewidth": 0,
             "ticks": ""
            },
            "colorscale": [
             [
              0,
              "#0d0887"
             ],
             [
              0.1111111111111111,
              "#46039f"
             ],
             [
              0.2222222222222222,
              "#7201a8"
             ],
             [
              0.3333333333333333,
              "#9c179e"
             ],
             [
              0.4444444444444444,
              "#bd3786"
             ],
             [
              0.5555555555555556,
              "#d8576b"
             ],
             [
              0.6666666666666666,
              "#ed7953"
             ],
             [
              0.7777777777777778,
              "#fb9f3a"
             ],
             [
              0.8888888888888888,
              "#fdca26"
             ],
             [
              1,
              "#f0f921"
             ]
            ],
            "type": "heatmapgl"
           }
          ],
          "histogram": [
           {
            "marker": {
             "pattern": {
              "fillmode": "overlay",
              "size": 10,
              "solidity": 0.2
             }
            },
            "type": "histogram"
           }
          ],
          "histogram2d": [
           {
            "colorbar": {
             "outlinewidth": 0,
             "ticks": ""
            },
            "colorscale": [
             [
              0,
              "#0d0887"
             ],
             [
              0.1111111111111111,
              "#46039f"
             ],
             [
              0.2222222222222222,
              "#7201a8"
             ],
             [
              0.3333333333333333,
              "#9c179e"
             ],
             [
              0.4444444444444444,
              "#bd3786"
             ],
             [
              0.5555555555555556,
              "#d8576b"
             ],
             [
              0.6666666666666666,
              "#ed7953"
             ],
             [
              0.7777777777777778,
              "#fb9f3a"
             ],
             [
              0.8888888888888888,
              "#fdca26"
             ],
             [
              1,
              "#f0f921"
             ]
            ],
            "type": "histogram2d"
           }
          ],
          "histogram2dcontour": [
           {
            "colorbar": {
             "outlinewidth": 0,
             "ticks": ""
            },
            "colorscale": [
             [
              0,
              "#0d0887"
             ],
             [
              0.1111111111111111,
              "#46039f"
             ],
             [
              0.2222222222222222,
              "#7201a8"
             ],
             [
              0.3333333333333333,
              "#9c179e"
             ],
             [
              0.4444444444444444,
              "#bd3786"
             ],
             [
              0.5555555555555556,
              "#d8576b"
             ],
             [
              0.6666666666666666,
              "#ed7953"
             ],
             [
              0.7777777777777778,
              "#fb9f3a"
             ],
             [
              0.8888888888888888,
              "#fdca26"
             ],
             [
              1,
              "#f0f921"
             ]
            ],
            "type": "histogram2dcontour"
           }
          ],
          "mesh3d": [
           {
            "colorbar": {
             "outlinewidth": 0,
             "ticks": ""
            },
            "type": "mesh3d"
           }
          ],
          "parcoords": [
           {
            "line": {
             "colorbar": {
              "outlinewidth": 0,
              "ticks": ""
             }
            },
            "type": "parcoords"
           }
          ],
          "pie": [
           {
            "automargin": true,
            "type": "pie"
           }
          ],
          "scatter": [
           {
            "fillpattern": {
             "fillmode": "overlay",
             "size": 10,
             "solidity": 0.2
            },
            "type": "scatter"
           }
          ],
          "scatter3d": [
           {
            "line": {
             "colorbar": {
              "outlinewidth": 0,
              "ticks": ""
             }
            },
            "marker": {
             "colorbar": {
              "outlinewidth": 0,
              "ticks": ""
             }
            },
            "type": "scatter3d"
           }
          ],
          "scattercarpet": [
           {
            "marker": {
             "colorbar": {
              "outlinewidth": 0,
              "ticks": ""
             }
            },
            "type": "scattercarpet"
           }
          ],
          "scattergeo": [
           {
            "marker": {
             "colorbar": {
              "outlinewidth": 0,
              "ticks": ""
             }
            },
            "type": "scattergeo"
           }
          ],
          "scattergl": [
           {
            "marker": {
             "colorbar": {
              "outlinewidth": 0,
              "ticks": ""
             }
            },
            "type": "scattergl"
           }
          ],
          "scattermapbox": [
           {
            "marker": {
             "colorbar": {
              "outlinewidth": 0,
              "ticks": ""
             }
            },
            "type": "scattermapbox"
           }
          ],
          "scatterpolar": [
           {
            "marker": {
             "colorbar": {
              "outlinewidth": 0,
              "ticks": ""
             }
            },
            "type": "scatterpolar"
           }
          ],
          "scatterpolargl": [
           {
            "marker": {
             "colorbar": {
              "outlinewidth": 0,
              "ticks": ""
             }
            },
            "type": "scatterpolargl"
           }
          ],
          "scatterternary": [
           {
            "marker": {
             "colorbar": {
              "outlinewidth": 0,
              "ticks": ""
             }
            },
            "type": "scatterternary"
           }
          ],
          "surface": [
           {
            "colorbar": {
             "outlinewidth": 0,
             "ticks": ""
            },
            "colorscale": [
             [
              0,
              "#0d0887"
             ],
             [
              0.1111111111111111,
              "#46039f"
             ],
             [
              0.2222222222222222,
              "#7201a8"
             ],
             [
              0.3333333333333333,
              "#9c179e"
             ],
             [
              0.4444444444444444,
              "#bd3786"
             ],
             [
              0.5555555555555556,
              "#d8576b"
             ],
             [
              0.6666666666666666,
              "#ed7953"
             ],
             [
              0.7777777777777778,
              "#fb9f3a"
             ],
             [
              0.8888888888888888,
              "#fdca26"
             ],
             [
              1,
              "#f0f921"
             ]
            ],
            "type": "surface"
           }
          ],
          "table": [
           {
            "cells": {
             "fill": {
              "color": "#EBF0F8"
             },
             "line": {
              "color": "white"
             }
            },
            "header": {
             "fill": {
              "color": "#C8D4E3"
             },
             "line": {
              "color": "white"
             }
            },
            "type": "table"
           }
          ]
         },
         "layout": {
          "annotationdefaults": {
           "arrowcolor": "#2a3f5f",
           "arrowhead": 0,
           "arrowwidth": 1
          },
          "autotypenumbers": "strict",
          "coloraxis": {
           "colorbar": {
            "outlinewidth": 0,
            "ticks": ""
           }
          },
          "colorscale": {
           "diverging": [
            [
             0,
             "#8e0152"
            ],
            [
             0.1,
             "#c51b7d"
            ],
            [
             0.2,
             "#de77ae"
            ],
            [
             0.3,
             "#f1b6da"
            ],
            [
             0.4,
             "#fde0ef"
            ],
            [
             0.5,
             "#f7f7f7"
            ],
            [
             0.6,
             "#e6f5d0"
            ],
            [
             0.7,
             "#b8e186"
            ],
            [
             0.8,
             "#7fbc41"
            ],
            [
             0.9,
             "#4d9221"
            ],
            [
             1,
             "#276419"
            ]
           ],
           "sequential": [
            [
             0,
             "#0d0887"
            ],
            [
             0.1111111111111111,
             "#46039f"
            ],
            [
             0.2222222222222222,
             "#7201a8"
            ],
            [
             0.3333333333333333,
             "#9c179e"
            ],
            [
             0.4444444444444444,
             "#bd3786"
            ],
            [
             0.5555555555555556,
             "#d8576b"
            ],
            [
             0.6666666666666666,
             "#ed7953"
            ],
            [
             0.7777777777777778,
             "#fb9f3a"
            ],
            [
             0.8888888888888888,
             "#fdca26"
            ],
            [
             1,
             "#f0f921"
            ]
           ],
           "sequentialminus": [
            [
             0,
             "#0d0887"
            ],
            [
             0.1111111111111111,
             "#46039f"
            ],
            [
             0.2222222222222222,
             "#7201a8"
            ],
            [
             0.3333333333333333,
             "#9c179e"
            ],
            [
             0.4444444444444444,
             "#bd3786"
            ],
            [
             0.5555555555555556,
             "#d8576b"
            ],
            [
             0.6666666666666666,
             "#ed7953"
            ],
            [
             0.7777777777777778,
             "#fb9f3a"
            ],
            [
             0.8888888888888888,
             "#fdca26"
            ],
            [
             1,
             "#f0f921"
            ]
           ]
          },
          "colorway": [
           "#636efa",
           "#EF553B",
           "#00cc96",
           "#ab63fa",
           "#FFA15A",
           "#19d3f3",
           "#FF6692",
           "#B6E880",
           "#FF97FF",
           "#FECB52"
          ],
          "font": {
           "color": "#2a3f5f"
          },
          "geo": {
           "bgcolor": "white",
           "lakecolor": "white",
           "landcolor": "#E5ECF6",
           "showlakes": true,
           "showland": true,
           "subunitcolor": "white"
          },
          "hoverlabel": {
           "align": "left"
          },
          "hovermode": "closest",
          "mapbox": {
           "style": "light"
          },
          "paper_bgcolor": "white",
          "plot_bgcolor": "#E5ECF6",
          "polar": {
           "angularaxis": {
            "gridcolor": "white",
            "linecolor": "white",
            "ticks": ""
           },
           "bgcolor": "#E5ECF6",
           "radialaxis": {
            "gridcolor": "white",
            "linecolor": "white",
            "ticks": ""
           }
          },
          "scene": {
           "xaxis": {
            "backgroundcolor": "#E5ECF6",
            "gridcolor": "white",
            "gridwidth": 2,
            "linecolor": "white",
            "showbackground": true,
            "ticks": "",
            "zerolinecolor": "white"
           },
           "yaxis": {
            "backgroundcolor": "#E5ECF6",
            "gridcolor": "white",
            "gridwidth": 2,
            "linecolor": "white",
            "showbackground": true,
            "ticks": "",
            "zerolinecolor": "white"
           },
           "zaxis": {
            "backgroundcolor": "#E5ECF6",
            "gridcolor": "white",
            "gridwidth": 2,
            "linecolor": "white",
            "showbackground": true,
            "ticks": "",
            "zerolinecolor": "white"
           }
          },
          "shapedefaults": {
           "line": {
            "color": "#2a3f5f"
           }
          },
          "ternary": {
           "aaxis": {
            "gridcolor": "white",
            "linecolor": "white",
            "ticks": ""
           },
           "baxis": {
            "gridcolor": "white",
            "linecolor": "white",
            "ticks": ""
           },
           "bgcolor": "#E5ECF6",
           "caxis": {
            "gridcolor": "white",
            "linecolor": "white",
            "ticks": ""
           }
          },
          "title": {
           "x": 0.05
          },
          "xaxis": {
           "automargin": true,
           "gridcolor": "white",
           "linecolor": "white",
           "ticks": "",
           "title": {
            "standoff": 15
           },
           "zerolinecolor": "white",
           "zerolinewidth": 2
          },
          "yaxis": {
           "automargin": true,
           "gridcolor": "white",
           "linecolor": "white",
           "ticks": "",
           "title": {
            "standoff": 15
           },
           "zerolinecolor": "white",
           "zerolinewidth": 2
          }
         }
        },
        "title": {
         "font": {
          "color": "purple",
          "size": 16
         },
         "text": "Top Flavor Mentions in Product Names"
        },
        "xaxis": {
         "anchor": "y",
         "autorange": true,
         "domain": [
          0,
          1
         ],
         "range": [
          -0.5,
          3.5
         ],
         "title": {
          "text": "Flavor"
         },
         "type": "category"
        },
        "yaxis": {
         "anchor": "x",
         "autorange": true,
         "domain": [
          0,
          1
         ],
         "range": [
          0,
          3.1578947368421053
         ],
         "showgrid": true,
         "title": {
          "text": "Count"
         },
         "type": "linear"
        }
       }
      },
      "image/png": "[encoded data removed]",
      "text/html": [
       "<div>                            <div id=\"8bfce918-9000-433c-acd2-8eb35e9e611e\" class=\"plotly-graph-div\" style=\"height:525px; width:100%;\"></div>            <script type=\"text/javascript\">                require([\"plotly\"], function(Plotly) {                    window.PLOTLYENV=window.PLOTLYENV || {};                                    if (document.getElementById(\"8bfce918-9000-433c-acd2-8eb35e9e611e\")) {                    Plotly.newPlot(                        \"8bfce918-9000-433c-acd2-8eb35e9e611e\",                        [{\"alignmentgroup\":\"True\",\"hovertemplate\":\"Flavor=%{x}<br>Count=%{marker.color}<extra></extra>\",\"legendgroup\":\"\",\"marker\":{\"color\":[3,3,2,2],\"coloraxis\":\"coloraxis\",\"pattern\":{\"shape\":\"\"}},\"name\":\"\",\"offsetgroup\":\"\",\"orientation\":\"v\",\"showlegend\":false,\"textposition\":\"auto\",\"x\":[\"Vanilla\",\"Chocolate\",\"Strawberry\",\"Mint\"],\"xaxis\":\"x\",\"y\":[3,3,2,2],\"yaxis\":\"y\",\"type\":\"bar\"}],                        {\"template\":{\"data\":{\"histogram2dcontour\":[{\"type\":\"histogram2dcontour\",\"colorbar\":{\"outlinewidth\":0,\"ticks\":\"\"},\"colorscale\":[[0.0,\"#0d0887\"],[0.1111111111111111,\"#46039f\"],[0.2222222222222222,\"#7201a8\"],[0.3333333333333333,\"#9c179e\"],[0.4444444444444444,\"#bd3786\"],[0.5555555555555556,\"#d8576b\"],[0.6666666666666666,\"#ed7953\"],[0.7777777777777778,\"#fb9f3a\"],[0.8888888888888888,\"#fdca26\"],[1.0,\"#f0f921\"]]}],\"choropleth\":[{\"type\":\"choropleth\",\"colorbar\":{\"outlinewidth\":0,\"ticks\":\"\"}}],\"histogram2d\":[{\"type\":\"histogram2d\",\"colorbar\":{\"outlinewidth\":0,\"ticks\":\"\"},\"colorscale\":[[0.0,\"#0d0887\"],[0.1111111111111111,\"#46039f\"],[0.2222222222222222,\"#7201a8\"],[0.3333333333333333,\"#9c179e\"],[0.4444444444444444,\"#bd3786\"],[0.5555555555555556,\"#d8576b\"],[0.6666666666666666,\"#ed7953\"],[0.7777777777777778,\"#fb9f3a\"],[0.8888888888888888,\"#fdca26\"],[1.0,\"#f0f921\"]]}],\"heatmap\":[{\"type\":\"heatmap\",\"colorbar\":{\"outlinewidth\":0,\"ticks\":\"\"},\"colorscale\":[[0.0,\"#0d0887\"],[0.1111111111111111,\"#46039f\"],[0.2222222222222222,\"#7201a8\"],[0.3333333333333333,\"#9c179e\"],[0.4444444444444444,\"#bd3786\"],[0.5555555555555556,\"#d8576b\"],[0.6666666666666666,\"#ed7953\"],[0.7777777777777778,\"#fb9f3a\"],[0.8888888888888888,\"#fdca26\"],[1.0,\"#f0f921\"]]}],\"heatmapgl\":[{\"type\":\"heatmapgl\",\"colorbar\":{\"outlinewidth\":0,\"ticks\":\"\"},\"colorscale\":[[0.0,\"#0d0887\"],[0.1111111111111111,\"#46039f\"],[0.2222222222222222,\"#7201a8\"],[0.3333333333333333,\"#9c179e\"],[0.4444444444444444,\"#bd3786\"],[0.5555555555555556,\"#d8576b\"],[0.6666666666666666,\"#ed7953\"],[0.7777777777777778,\"#fb9f3a\"],[0.8888888888888888,\"#fdca26\"],[1.0,\"#f0f921\"]]}],\"contourcarpet\":[{\"type\":\"contourcarpet\",\"colorbar\":{\"outlinewidth\":0,\"ticks\":\"\"}}],\"contour\":[{\"type\":\"contour\",\"colorbar\":{\"outlinewidth\":0,\"ticks\":\"\"},\"colorscale\":[[0.0,\"#0d0887\"],[0.1111111111111111,\"#46039f\"],[0.2222222222222222,\"#7201a8\"],[0.3333333333333333,\"#9c179e\"],[0.4444444444444444,\"#bd3786\"],[0.5555555555555556,\"#d8576b\"],[0.6666666666666666,\"#ed7953\"],[0.7777777777777778,\"#fb9f3a\"],[0.8888888888888888,\"#fdca26\"],[1.0,\"#f0f921\"]]}],\"surface\":[{\"type\":\"surface\",\"colorbar\":{\"outlinewidth\":0,\"ticks\":\"\"},\"colorscale\":[[0.0,\"#0d0887\"],[0.1111111111111111,\"#46039f\"],[0.2222222222222222,\"#7201a8\"],[0.3333333333333333,\"#9c179e\"],[0.4444444444444444,\"#bd3786\"],[0.5555555555555556,\"#d8576b\"],[0.6666666666666666,\"#ed7953\"],[0.7777777777777778,\"#fb9f3a\"],[0.8888888888888888,\"#fdca26\"],[1.0,\"#f0f921\"]]}],\"mesh3d\":[{\"type\":\"mesh3d\",\"colorbar\":{\"outlinewidth\":0,\"ticks\":\"\"}}],\"scatter\":[{\"fillpattern\":{\"fillmode\":\"overlay\",\"size\":10,\"solidity\":0.2},\"type\":\"scatter\"}],\"parcoords\":[{\"type\":\"parcoords\",\"line\":{\"colorbar\":{\"outlinewidth\":0,\"ticks\":\"\"}}}],\"scatterpolargl\":[{\"type\":\"scatterpolargl\",\"marker\":{\"colorbar\":{\"outlinewidth\":0,\"ticks\":\"\"}}}],\"bar\":[{\"error_x\":{\"color\":\"#2a3f5f\"},\"error_y\":{\"color\":\"#2a3f5f\"},\"marker\":{\"line\":{\"color\":\"#E5ECF6\",\"width\":0.5},\"pattern\":{\"fillmode\":\"overlay\",\"size\":10,\"solidity\":0.2}},\"type\":\"bar\"}],\"scattergeo\":[{\"type\":\"scattergeo\",\"marker\":{\"colorbar\":{\"outlinewidth\":0,\"ticks\":\"\"}}}],\"scatterpolar\":[{\"type\":\"scatterpolar\",\"marker\":{\"colorbar\":{\"outlinewidth\":0,\"ticks\":\"\"}}}],\"histogram\":[{\"marker\":{\"pattern\":{\"fillmode\":\"overlay\",\"size\":10,\"solidity\":0.2}},\"type\":\"histogram\"}],\"scattergl\":[{\"type\":\"scattergl\",\"marker\":{\"colorbar\":{\"outlinewidth\":0,\"ticks\":\"\"}}}],\"scatter3d\":[{\"type\":\"scatter3d\",\"line\":{\"colorbar\":{\"outlinewidth\":0,\"ticks\":\"\"}},\"marker\":{\"colorbar\":{\"outlinewidth\":0,\"ticks\":\"\"}}}],\"scattermapbox\":[{\"type\":\"scattermapbox\",\"marker\":{\"colorbar\":{\"outlinewidth\":0,\"ticks\":\"\"}}}],\"scatterternary\":[{\"type\":\"scatterternary\",\"marker\":{\"colorbar\":{\"outlinewidth\":0,\"ticks\":\"\"}}}],\"scattercarpet\":[{\"type\":\"scattercarpet\",\"marker\":{\"colorbar\":{\"outlinewidth\":0,\"ticks\":\"\"}}}],\"carpet\":[{\"aaxis\":{\"endlinecolor\":\"#2a3f5f\",\"gridcolor\":\"white\",\"linecolor\":\"white\",\"minorgridcolor\":\"white\",\"startlinecolor\":\"#2a3f5f\"},\"baxis\":{\"endlinecolor\":\"#2a3f5f\",\"gridcolor\":\"white\",\"linecolor\":\"white\",\"minorgridcolor\":\"white\",\"startlinecolor\":\"#2a3f5f\"},\"type\":\"carpet\"}],\"table\":[{\"cells\":{\"fill\":{\"color\":\"#EBF0F8\"},\"line\":{\"color\":\"white\"}},\"header\":{\"fill\":{\"color\":\"#C8D4E3\"},\"line\":{\"color\":\"white\"}},\"type\":\"table\"}],\"barpolar\":[{\"marker\":{\"line\":{\"color\":\"#E5ECF6\",\"width\":0.5},\"pattern\":{\"fillmode\":\"overlay\",\"size\":10,\"solidity\":0.2}},\"type\":\"barpolar\"}],\"pie\":[{\"automargin\":true,\"type\":\"pie\"}]},\"layout\":{\"autotypenumbers\":\"strict\",\"colorway\":[\"#636efa\",\"#EF553B\",\"#00cc96\",\"#ab63fa\",\"#FFA15A\",\"#19d3f3\",\"#FF6692\",\"#B6E880\",\"#FF97FF\",\"#FECB52\"],\"font\":{\"color\":\"#2a3f5f\"},\"hovermode\":\"closest\",\"hoverlabel\":{\"align\":\"left\"},\"paper_bgcolor\":\"white\",\"plot_bgcolor\":\"#E5ECF6\",\"polar\":{\"bgcolor\":\"#E5ECF6\",\"angularaxis\":{\"gridcolor\":\"white\",\"linecolor\":\"white\",\"ticks\":\"\"},\"radialaxis\":{\"gridcolor\":\"white\",\"linecolor\":\"white\",\"ticks\":\"\"}},\"ternary\":{\"bgcolor\":\"#E5ECF6\",\"aaxis\":{\"gridcolor\":\"white\",\"linecolor\":\"white\",\"ticks\":\"\"},\"baxis\":{\"gridcolor\":\"white\",\"linecolor\":\"white\",\"ticks\":\"\"},\"caxis\":{\"gridcolor\":\"white\",\"linecolor\":\"white\",\"ticks\":\"\"}},\"coloraxis\":{\"colorbar\":{\"outlinewidth\":0,\"ticks\":\"\"}},\"colorscale\":{\"sequential\":[[0.0,\"#0d0887\"],[0.1111111111111111,\"#46039f\"],[0.2222222222222222,\"#7201a8\"],[0.3333333333333333,\"#9c179e\"],[0.4444444444444444,\"#bd3786\"],[0.5555555555555556,\"#d8576b\"],[0.6666666666666666,\"#ed7953\"],[0.7777777777777778,\"#fb9f3a\"],[0.8888888888888888,\"#fdca26\"],[1.0,\"#f0f921\"]],\"sequentialminus\":[[0.0,\"#0d0887\"],[0.1111111111111111,\"#46039f\"],[0.2222222222222222,\"#7201a8\"],[0.3333333333333333,\"#9c179e\"],[0.4444444444444444,\"#bd3786\"],[0.5555555555555556,\"#d8576b\"],[0.6666666666666666,\"#ed7953\"],[0.7777777777777778,\"#fb9f3a\"],[0.8888888888888888,\"#fdca26\"],[1.0,\"#f0f921\"]],\"diverging\":[[0,\"#8e0152\"],[0.1,\"#c51b7d\"],[0.2,\"#de77ae\"],[0.3,\"#f1b6da\"],[0.4,\"#fde0ef\"],[0.5,\"#f7f7f7\"],[0.6,\"#e6f5d0\"],[0.7,\"#b8e186\"],[0.8,\"#7fbc41\"],[0.9,\"#4d9221\"],[1,\"#276419\"]]},\"xaxis\":{\"gridcolor\":\"white\",\"linecolor\":\"white\",\"ticks\":\"\",\"title\":{\"standoff\":15},\"zerolinecolor\":\"white\",\"automargin\":true,\"zerolinewidth\":2},\"yaxis\":{\"gridcolor\":\"white\",\"linecolor\":\"white\",\"ticks\":\"\",\"title\":{\"standoff\":15},\"zerolinecolor\":\"white\",\"automargin\":true,\"zerolinewidth\":2},\"scene\":{\"xaxis\":{\"backgroundcolor\":\"#E5ECF6\",\"gridcolor\":\"white\",\"linecolor\":\"white\",\"showbackground\":true,\"ticks\":\"\",\"zerolinecolor\":\"white\",\"gridwidth\":2},\"yaxis\":{\"backgroundcolor\":\"#E5ECF6\",\"gridcolor\":\"white\",\"linecolor\":\"white\",\"showbackground\":true,\"ticks\":\"\",\"zerolinecolor\":\"white\",\"gridwidth\":2},\"zaxis\":{\"backgroundcolor\":\"#E5ECF6\",\"gridcolor\":\"white\",\"linecolor\":\"white\",\"showbackground\":true,\"ticks\":\"\",\"zerolinecolor\":\"white\",\"gridwidth\":2}},\"shapedefaults\":{\"line\":{\"color\":\"#2a3f5f\"}},\"annotationdefaults\":{\"arrowcolor\":\"#2a3f5f\",\"arrowhead\":0,\"arrowwidth\":1},\"geo\":{\"bgcolor\":\"white\",\"landcolor\":\"#E5ECF6\",\"subunitcolor\":\"white\",\"showland\":true,\"showlakes\":true,\"lakecolor\":\"white\"},\"title\":{\"x\":0.05},\"mapbox\":{\"style\":\"light\"}}},\"xaxis\":{\"anchor\":\"y\",\"domain\":[0.0,1.0],\"title\":{\"text\":\"Flavor\"}},\"yaxis\":{\"anchor\":\"x\",\"domain\":[0.0,1.0],\"title\":{\"text\":\"Count\"},\"showgrid\":true},\"coloraxis\":{\"colorbar\":{\"title\":{\"text\":\"Count\"}},\"colorscale\":[[0.0,\"rgb(252,251,253)\"],[0.125,\"rgb(239,237,245)\"],[0.25,\"rgb(218,218,235)\"],[0.375,\"rgb(188,189,220)\"],[0.5,\"rgb(158,154,200)\"],[0.625,\"rgb(128,125,186)\"],[0.75,\"rgb(106,81,163)\"],[0.875,\"rgb(84,39,143)\"],[1.0,\"rgb(63,0,125)\"]]},\"legend\":{\"tracegroupgap\":0},\"title\":{\"text\":\"Top Flavor Mentions in Product Names\",\"font\":{\"size\":16,\"color\":\"purple\"}},\"barmode\":\"relative\",\"plot_bgcolor\":\"white\"},                        {\"responsive\": true}                    ).then(function(){\n",
       "                            \n",
       "var gd = document.getElementById('8bfce918-9000-433c-acd2-8eb35e9e611e');\n",
       "var x = new MutationObserver(function (mutations, observer) {{\n",
       "        var display = window.getComputedStyle(gd).display;\n",
       "        if (!display || display === 'none') {{\n",
       "            console.log([gd, 'removed!']);\n",
       "            Plotly.purge(gd);\n",
       "            observer.disconnect();\n",
       "        }}\n",
       "}});\n",
       "\n",
       "// Listen for the removal of the full notebook cells\n",
       "var notebookContainer = gd.closest('#notebook-container');\n",
       "if (notebookContainer) {{\n",
       "    x.observe(notebookContainer, {childList: true});\n",
       "}}\n",
       "\n",
       "// Listen for the clearing of the current output cell\n",
       "var outputEl = gd.closest('.output');\n",
       "if (outputEl) {{\n",
       "    x.observe(outputEl, {childList: true});\n",
       "}}\n",
       "\n",
       "                        })                };                });            </script>        </div>"
      ]
     },
     "metadata": {},
     "output_type": "display_data"
    }
   ],
   "source": [
    "from collections import Counter\n",
    "flavors = [\n",
    "    'Vanilla', 'Chocolate', 'Strawberry', 'Vanilla', 'Chocolate', \n",
    "    'Chocolate', 'Mint', 'Vanilla', 'Mint', 'Strawberry'\n",
    "]\n",
    "\n",
    "\n",
    "flavor_counts = Counter(flavors)\n",
    "\n",
    "df_flavors = pd.DataFrame({\n",
    "    'Flavor': list(flavor_counts.keys()),\n",
    "    'Count': list(flavor_counts.values())\n",
    "})\n",
    "\n",
    "df_flavors = df_flavors.sort_values('Count', ascending=False)\n",
    "\n",
    "fig = px.bar(df_flavors, \n",
    "             x='Flavor', y='Count',\n",
    "             title='Top Flavor Mentions in Product Names',\n",
    "             labels={'Count': 'Count', 'Flavor': 'Flavor'},\n",
    "             color='Count',\n",
    "             color_continuous_scale='Purples')\n",
    "\n",
    "fig.update_layout(\n",
    "    plot_bgcolor='white',\n",
    "    xaxis_title='Flavor',\n",
    "    yaxis_title='Count',\n",
    "    yaxis=dict(showgrid=True),\n",
    "    title_font=dict(size=16, color='purple')\n",
    ")\n",
    "\n",
    "fig.show()\n"
   ]
  },
  {
   "cell_type": "code",
   "execution_count": null,
   "id": "1164f03a-e7a4-424b-9473-00718991a004",
   "metadata": {},
   "outputs": [],
   "source": []
  },
  {
   "cell_type": "markdown",
   "id": "bc3794e4-8590-4853-9f38-cc2dbb75c4b0",
   "metadata": {},
   "source": [
    "## Missing Ingredients"
   ]
  },
  {
   "cell_type": "code",
   "execution_count": 24,
   "id": "b742d5ac-08c3-44a7-91cf-d0ef024092d5",
   "metadata": {},
   "outputs": [
    {
     "data": {
      "application/vnd.plotly.v1+json": {
       "config": {
        "plotlyServerURL": "https://plot.ly"
       },
       "data": [
        {
         "customdata": [
          [
           "Has Ingredients"
          ],
          [
           "No Ingredients"
          ]
         ],
         "domain": {
          "x": [
           0,
           1
          ],
          "y": [
           0,
           1
          ]
         },
         "hovertemplate": "Status=%{customdata[0]}<br>Count=%{value}<extra></extra>",
         "labels": [
          "Has Ingredients",
          "No Ingredients"
         ],
         "legendgroup": "",
         "marker": {
          "colors": [
           "purple",
           "lavender"
          ]
         },
         "name": "",
         "showlegend": true,
         "textinfo": "percent+label",
         "textposition": "inside",
         "type": "pie",
         "values": [
          48,
          6
         ]
        }
       ],
       "layout": {
        "autosize": true,
        "legend": {
         "tracegroupgap": 0
        },
        "template": {
         "data": {
          "bar": [
           {
            "error_x": {
             "color": "#2a3f5f"
            },
            "error_y": {
             "color": "#2a3f5f"
            },
            "marker": {
             "line": {
              "color": "#E5ECF6",
              "width": 0.5
             },
             "pattern": {
              "fillmode": "overlay",
              "size": 10,
              "solidity": 0.2
             }
            },
            "type": "bar"
           }
          ],
          "barpolar": [
           {
            "marker": {
             "line": {
              "color": "#E5ECF6",
              "width": 0.5
             },
             "pattern": {
              "fillmode": "overlay",
              "size": 10,
              "solidity": 0.2
             }
            },
            "type": "barpolar"
           }
          ],
          "carpet": [
           {
            "aaxis": {
             "endlinecolor": "#2a3f5f",
             "gridcolor": "white",
             "linecolor": "white",
             "minorgridcolor": "white",
             "startlinecolor": "#2a3f5f"
            },
            "baxis": {
             "endlinecolor": "#2a3f5f",
             "gridcolor": "white",
             "linecolor": "white",
             "minorgridcolor": "white",
             "startlinecolor": "#2a3f5f"
            },
            "type": "carpet"
           }
          ],
          "choropleth": [
           {
            "colorbar": {
             "outlinewidth": 0,
             "ticks": ""
            },
            "type": "choropleth"
           }
          ],
          "contour": [
           {
            "colorbar": {
             "outlinewidth": 0,
             "ticks": ""
            },
            "colorscale": [
             [
              0,
              "#0d0887"
             ],
             [
              0.1111111111111111,
              "#46039f"
             ],
             [
              0.2222222222222222,
              "#7201a8"
             ],
             [
              0.3333333333333333,
              "#9c179e"
             ],
             [
              0.4444444444444444,
              "#bd3786"
             ],
             [
              0.5555555555555556,
              "#d8576b"
             ],
             [
              0.6666666666666666,
              "#ed7953"
             ],
             [
              0.7777777777777778,
              "#fb9f3a"
             ],
             [
              0.8888888888888888,
              "#fdca26"
             ],
             [
              1,
              "#f0f921"
             ]
            ],
            "type": "contour"
           }
          ],
          "contourcarpet": [
           {
            "colorbar": {
             "outlinewidth": 0,
             "ticks": ""
            },
            "type": "contourcarpet"
           }
          ],
          "heatmap": [
           {
            "colorbar": {
             "outlinewidth": 0,
             "ticks": ""
            },
            "colorscale": [
             [
              0,
              "#0d0887"
             ],
             [
              0.1111111111111111,
              "#46039f"
             ],
             [
              0.2222222222222222,
              "#7201a8"
             ],
             [
              0.3333333333333333,
              "#9c179e"
             ],
             [
              0.4444444444444444,
              "#bd3786"
             ],
             [
              0.5555555555555556,
              "#d8576b"
             ],
             [
              0.6666666666666666,
              "#ed7953"
             ],
             [
              0.7777777777777778,
              "#fb9f3a"
             ],
             [
              0.8888888888888888,
              "#fdca26"
             ],
             [
              1,
              "#f0f921"
             ]
            ],
            "type": "heatmap"
           }
          ],
          "heatmapgl": [
           {
            "colorbar": {
             "outlinewidth": 0,
             "ticks": ""
            },
            "colorscale": [
             [
              0,
              "#0d0887"
             ],
             [
              0.1111111111111111,
              "#46039f"
             ],
             [
              0.2222222222222222,
              "#7201a8"
             ],
             [
              0.3333333333333333,
              "#9c179e"
             ],
             [
              0.4444444444444444,
              "#bd3786"
             ],
             [
              0.5555555555555556,
              "#d8576b"
             ],
             [
              0.6666666666666666,
              "#ed7953"
             ],
             [
              0.7777777777777778,
              "#fb9f3a"
             ],
             [
              0.8888888888888888,
              "#fdca26"
             ],
             [
              1,
              "#f0f921"
             ]
            ],
            "type": "heatmapgl"
           }
          ],
          "histogram": [
           {
            "marker": {
             "pattern": {
              "fillmode": "overlay",
              "size": 10,
              "solidity": 0.2
             }
            },
            "type": "histogram"
           }
          ],
          "histogram2d": [
           {
            "colorbar": {
             "outlinewidth": 0,
             "ticks": ""
            },
            "colorscale": [
             [
              0,
              "#0d0887"
             ],
             [
              0.1111111111111111,
              "#46039f"
             ],
             [
              0.2222222222222222,
              "#7201a8"
             ],
             [
              0.3333333333333333,
              "#9c179e"
             ],
             [
              0.4444444444444444,
              "#bd3786"
             ],
             [
              0.5555555555555556,
              "#d8576b"
             ],
             [
              0.6666666666666666,
              "#ed7953"
             ],
             [
              0.7777777777777778,
              "#fb9f3a"
             ],
             [
              0.8888888888888888,
              "#fdca26"
             ],
             [
              1,
              "#f0f921"
             ]
            ],
            "type": "histogram2d"
           }
          ],
          "histogram2dcontour": [
           {
            "colorbar": {
             "outlinewidth": 0,
             "ticks": ""
            },
            "colorscale": [
             [
              0,
              "#0d0887"
             ],
             [
              0.1111111111111111,
              "#46039f"
             ],
             [
              0.2222222222222222,
              "#7201a8"
             ],
             [
              0.3333333333333333,
              "#9c179e"
             ],
             [
              0.4444444444444444,
              "#bd3786"
             ],
             [
              0.5555555555555556,
              "#d8576b"
             ],
             [
              0.6666666666666666,
              "#ed7953"
             ],
             [
              0.7777777777777778,
              "#fb9f3a"
             ],
             [
              0.8888888888888888,
              "#fdca26"
             ],
             [
              1,
              "#f0f921"
             ]
            ],
            "type": "histogram2dcontour"
           }
          ],
          "mesh3d": [
           {
            "colorbar": {
             "outlinewidth": 0,
             "ticks": ""
            },
            "type": "mesh3d"
           }
          ],
          "parcoords": [
           {
            "line": {
             "colorbar": {
              "outlinewidth": 0,
              "ticks": ""
             }
            },
            "type": "parcoords"
           }
          ],
          "pie": [
           {
            "automargin": true,
            "type": "pie"
           }
          ],
          "scatter": [
           {
            "fillpattern": {
             "fillmode": "overlay",
             "size": 10,
             "solidity": 0.2
            },
            "type": "scatter"
           }
          ],
          "scatter3d": [
           {
            "line": {
             "colorbar": {
              "outlinewidth": 0,
              "ticks": ""
             }
            },
            "marker": {
             "colorbar": {
              "outlinewidth": 0,
              "ticks": ""
             }
            },
            "type": "scatter3d"
           }
          ],
          "scattercarpet": [
           {
            "marker": {
             "colorbar": {
              "outlinewidth": 0,
              "ticks": ""
             }
            },
            "type": "scattercarpet"
           }
          ],
          "scattergeo": [
           {
            "marker": {
             "colorbar": {
              "outlinewidth": 0,
              "ticks": ""
             }
            },
            "type": "scattergeo"
           }
          ],
          "scattergl": [
           {
            "marker": {
             "colorbar": {
              "outlinewidth": 0,
              "ticks": ""
             }
            },
            "type": "scattergl"
           }
          ],
          "scattermapbox": [
           {
            "marker": {
             "colorbar": {
              "outlinewidth": 0,
              "ticks": ""
             }
            },
            "type": "scattermapbox"
           }
          ],
          "scatterpolar": [
           {
            "marker": {
             "colorbar": {
              "outlinewidth": 0,
              "ticks": ""
             }
            },
            "type": "scatterpolar"
           }
          ],
          "scatterpolargl": [
           {
            "marker": {
             "colorbar": {
              "outlinewidth": 0,
              "ticks": ""
             }
            },
            "type": "scatterpolargl"
           }
          ],
          "scatterternary": [
           {
            "marker": {
             "colorbar": {
              "outlinewidth": 0,
              "ticks": ""
             }
            },
            "type": "scatterternary"
           }
          ],
          "surface": [
           {
            "colorbar": {
             "outlinewidth": 0,
             "ticks": ""
            },
            "colorscale": [
             [
              0,
              "#0d0887"
             ],
             [
              0.1111111111111111,
              "#46039f"
             ],
             [
              0.2222222222222222,
              "#7201a8"
             ],
             [
              0.3333333333333333,
              "#9c179e"
             ],
             [
              0.4444444444444444,
              "#bd3786"
             ],
             [
              0.5555555555555556,
              "#d8576b"
             ],
             [
              0.6666666666666666,
              "#ed7953"
             ],
             [
              0.7777777777777778,
              "#fb9f3a"
             ],
             [
              0.8888888888888888,
              "#fdca26"
             ],
             [
              1,
              "#f0f921"
             ]
            ],
            "type": "surface"
           }
          ],
          "table": [
           {
            "cells": {
             "fill": {
              "color": "#EBF0F8"
             },
             "line": {
              "color": "white"
             }
            },
            "header": {
             "fill": {
              "color": "#C8D4E3"
             },
             "line": {
              "color": "white"
             }
            },
            "type": "table"
           }
          ]
         },
         "layout": {
          "annotationdefaults": {
           "arrowcolor": "#2a3f5f",
           "arrowhead": 0,
           "arrowwidth": 1
          },
          "autotypenumbers": "strict",
          "coloraxis": {
           "colorbar": {
            "outlinewidth": 0,
            "ticks": ""
           }
          },
          "colorscale": {
           "diverging": [
            [
             0,
             "#8e0152"
            ],
            [
             0.1,
             "#c51b7d"
            ],
            [
             0.2,
             "#de77ae"
            ],
            [
             0.3,
             "#f1b6da"
            ],
            [
             0.4,
             "#fde0ef"
            ],
            [
             0.5,
             "#f7f7f7"
            ],
            [
             0.6,
             "#e6f5d0"
            ],
            [
             0.7,
             "#b8e186"
            ],
            [
             0.8,
             "#7fbc41"
            ],
            [
             0.9,
             "#4d9221"
            ],
            [
             1,
             "#276419"
            ]
           ],
           "sequential": [
            [
             0,
             "#0d0887"
            ],
            [
             0.1111111111111111,
             "#46039f"
            ],
            [
             0.2222222222222222,
             "#7201a8"
            ],
            [
             0.3333333333333333,
             "#9c179e"
            ],
            [
             0.4444444444444444,
             "#bd3786"
            ],
            [
             0.5555555555555556,
             "#d8576b"
            ],
            [
             0.6666666666666666,
             "#ed7953"
            ],
            [
             0.7777777777777778,
             "#fb9f3a"
            ],
            [
             0.8888888888888888,
             "#fdca26"
            ],
            [
             1,
             "#f0f921"
            ]
           ],
           "sequentialminus": [
            [
             0,
             "#0d0887"
            ],
            [
             0.1111111111111111,
             "#46039f"
            ],
            [
             0.2222222222222222,
             "#7201a8"
            ],
            [
             0.3333333333333333,
             "#9c179e"
            ],
            [
             0.4444444444444444,
             "#bd3786"
            ],
            [
             0.5555555555555556,
             "#d8576b"
            ],
            [
             0.6666666666666666,
             "#ed7953"
            ],
            [
             0.7777777777777778,
             "#fb9f3a"
            ],
            [
             0.8888888888888888,
             "#fdca26"
            ],
            [
             1,
             "#f0f921"
            ]
           ]
          },
          "colorway": [
           "#636efa",
           "#EF553B",
           "#00cc96",
           "#ab63fa",
           "#FFA15A",
           "#19d3f3",
           "#FF6692",
           "#B6E880",
           "#FF97FF",
           "#FECB52"
          ],
          "font": {
           "color": "#2a3f5f"
          },
          "geo": {
           "bgcolor": "white",
           "lakecolor": "white",
           "landcolor": "#E5ECF6",
           "showlakes": true,
           "showland": true,
           "subunitcolor": "white"
          },
          "hoverlabel": {
           "align": "left"
          },
          "hovermode": "closest",
          "mapbox": {
           "style": "light"
          },
          "paper_bgcolor": "white",
          "plot_bgcolor": "#E5ECF6",
          "polar": {
           "angularaxis": {
            "gridcolor": "white",
            "linecolor": "white",
            "ticks": ""
           },
           "bgcolor": "#E5ECF6",
           "radialaxis": {
            "gridcolor": "white",
            "linecolor": "white",
            "ticks": ""
           }
          },
          "scene": {
           "xaxis": {
            "backgroundcolor": "#E5ECF6",
            "gridcolor": "white",
            "gridwidth": 2,
            "linecolor": "white",
            "showbackground": true,
            "ticks": "",
            "zerolinecolor": "white"
           },
           "yaxis": {
            "backgroundcolor": "#E5ECF6",
            "gridcolor": "white",
            "gridwidth": 2,
            "linecolor": "white",
            "showbackground": true,
            "ticks": "",
            "zerolinecolor": "white"
           },
           "zaxis": {
            "backgroundcolor": "#E5ECF6",
            "gridcolor": "white",
            "gridwidth": 2,
            "linecolor": "white",
            "showbackground": true,
            "ticks": "",
            "zerolinecolor": "white"
           }
          },
          "shapedefaults": {
           "line": {
            "color": "#2a3f5f"
           }
          },
          "ternary": {
           "aaxis": {
            "gridcolor": "white",
            "linecolor": "white",
            "ticks": ""
           },
           "baxis": {
            "gridcolor": "white",
            "linecolor": "white",
            "ticks": ""
           },
           "bgcolor": "#E5ECF6",
           "caxis": {
            "gridcolor": "white",
            "linecolor": "white",
            "ticks": ""
           }
          },
          "title": {
           "x": 0.05
          },
          "xaxis": {
           "automargin": true,
           "gridcolor": "white",
           "linecolor": "white",
           "ticks": "",
           "title": {
            "standoff": 15
           },
           "zerolinecolor": "white",
           "zerolinewidth": 2
          },
          "yaxis": {
           "automargin": true,
           "gridcolor": "white",
           "linecolor": "white",
           "ticks": "",
           "title": {
            "standoff": 15
           },
           "zerolinecolor": "white",
           "zerolinewidth": 2
          }
         }
        },
        "title": {
         "text": "Products with vs without Ingredients"
        }
       }
      },
      "image/png": "[encoded data removed]",
      "text/html": [
       "<div>                            <div id=\"cd2b2aa7-6faa-4aef-9faa-6f7b1aff7aeb\" class=\"plotly-graph-div\" style=\"height:525px; width:100%;\"></div>            <script type=\"text/javascript\">                require([\"plotly\"], function(Plotly) {                    window.PLOTLYENV=window.PLOTLYENV || {};                                    if (document.getElementById(\"cd2b2aa7-6faa-4aef-9faa-6f7b1aff7aeb\")) {                    Plotly.newPlot(                        \"cd2b2aa7-6faa-4aef-9faa-6f7b1aff7aeb\",                        [{\"customdata\":[[\"Has Ingredients\"],[\"No Ingredients\"]],\"domain\":{\"x\":[0.0,1.0],\"y\":[0.0,1.0]},\"hovertemplate\":\"Status=%{customdata[0]}<br>Count=%{value}<extra></extra>\",\"labels\":[\"Has Ingredients\",\"No Ingredients\"],\"legendgroup\":\"\",\"marker\":{\"colors\":[\"purple\",\"lavender\"]},\"name\":\"\",\"showlegend\":true,\"values\":[48,6],\"type\":\"pie\",\"textinfo\":\"percent+label\",\"textposition\":\"inside\"}],                        {\"template\":{\"data\":{\"histogram2dcontour\":[{\"type\":\"histogram2dcontour\",\"colorbar\":{\"outlinewidth\":0,\"ticks\":\"\"},\"colorscale\":[[0.0,\"#0d0887\"],[0.1111111111111111,\"#46039f\"],[0.2222222222222222,\"#7201a8\"],[0.3333333333333333,\"#9c179e\"],[0.4444444444444444,\"#bd3786\"],[0.5555555555555556,\"#d8576b\"],[0.6666666666666666,\"#ed7953\"],[0.7777777777777778,\"#fb9f3a\"],[0.8888888888888888,\"#fdca26\"],[1.0,\"#f0f921\"]]}],\"choropleth\":[{\"type\":\"choropleth\",\"colorbar\":{\"outlinewidth\":0,\"ticks\":\"\"}}],\"histogram2d\":[{\"type\":\"histogram2d\",\"colorbar\":{\"outlinewidth\":0,\"ticks\":\"\"},\"colorscale\":[[0.0,\"#0d0887\"],[0.1111111111111111,\"#46039f\"],[0.2222222222222222,\"#7201a8\"],[0.3333333333333333,\"#9c179e\"],[0.4444444444444444,\"#bd3786\"],[0.5555555555555556,\"#d8576b\"],[0.6666666666666666,\"#ed7953\"],[0.7777777777777778,\"#fb9f3a\"],[0.8888888888888888,\"#fdca26\"],[1.0,\"#f0f921\"]]}],\"heatmap\":[{\"type\":\"heatmap\",\"colorbar\":{\"outlinewidth\":0,\"ticks\":\"\"},\"colorscale\":[[0.0,\"#0d0887\"],[0.1111111111111111,\"#46039f\"],[0.2222222222222222,\"#7201a8\"],[0.3333333333333333,\"#9c179e\"],[0.4444444444444444,\"#bd3786\"],[0.5555555555555556,\"#d8576b\"],[0.6666666666666666,\"#ed7953\"],[0.7777777777777778,\"#fb9f3a\"],[0.8888888888888888,\"#fdca26\"],[1.0,\"#f0f921\"]]}],\"heatmapgl\":[{\"type\":\"heatmapgl\",\"colorbar\":{\"outlinewidth\":0,\"ticks\":\"\"},\"colorscale\":[[0.0,\"#0d0887\"],[0.1111111111111111,\"#46039f\"],[0.2222222222222222,\"#7201a8\"],[0.3333333333333333,\"#9c179e\"],[0.4444444444444444,\"#bd3786\"],[0.5555555555555556,\"#d8576b\"],[0.6666666666666666,\"#ed7953\"],[0.7777777777777778,\"#fb9f3a\"],[0.8888888888888888,\"#fdca26\"],[1.0,\"#f0f921\"]]}],\"contourcarpet\":[{\"type\":\"contourcarpet\",\"colorbar\":{\"outlinewidth\":0,\"ticks\":\"\"}}],\"contour\":[{\"type\":\"contour\",\"colorbar\":{\"outlinewidth\":0,\"ticks\":\"\"},\"colorscale\":[[0.0,\"#0d0887\"],[0.1111111111111111,\"#46039f\"],[0.2222222222222222,\"#7201a8\"],[0.3333333333333333,\"#9c179e\"],[0.4444444444444444,\"#bd3786\"],[0.5555555555555556,\"#d8576b\"],[0.6666666666666666,\"#ed7953\"],[0.7777777777777778,\"#fb9f3a\"],[0.8888888888888888,\"#fdca26\"],[1.0,\"#f0f921\"]]}],\"surface\":[{\"type\":\"surface\",\"colorbar\":{\"outlinewidth\":0,\"ticks\":\"\"},\"colorscale\":[[0.0,\"#0d0887\"],[0.1111111111111111,\"#46039f\"],[0.2222222222222222,\"#7201a8\"],[0.3333333333333333,\"#9c179e\"],[0.4444444444444444,\"#bd3786\"],[0.5555555555555556,\"#d8576b\"],[0.6666666666666666,\"#ed7953\"],[0.7777777777777778,\"#fb9f3a\"],[0.8888888888888888,\"#fdca26\"],[1.0,\"#f0f921\"]]}],\"mesh3d\":[{\"type\":\"mesh3d\",\"colorbar\":{\"outlinewidth\":0,\"ticks\":\"\"}}],\"scatter\":[{\"fillpattern\":{\"fillmode\":\"overlay\",\"size\":10,\"solidity\":0.2},\"type\":\"scatter\"}],\"parcoords\":[{\"type\":\"parcoords\",\"line\":{\"colorbar\":{\"outlinewidth\":0,\"ticks\":\"\"}}}],\"scatterpolargl\":[{\"type\":\"scatterpolargl\",\"marker\":{\"colorbar\":{\"outlinewidth\":0,\"ticks\":\"\"}}}],\"bar\":[{\"error_x\":{\"color\":\"#2a3f5f\"},\"error_y\":{\"color\":\"#2a3f5f\"},\"marker\":{\"line\":{\"color\":\"#E5ECF6\",\"width\":0.5},\"pattern\":{\"fillmode\":\"overlay\",\"size\":10,\"solidity\":0.2}},\"type\":\"bar\"}],\"scattergeo\":[{\"type\":\"scattergeo\",\"marker\":{\"colorbar\":{\"outlinewidth\":0,\"ticks\":\"\"}}}],\"scatterpolar\":[{\"type\":\"scatterpolar\",\"marker\":{\"colorbar\":{\"outlinewidth\":0,\"ticks\":\"\"}}}],\"histogram\":[{\"marker\":{\"pattern\":{\"fillmode\":\"overlay\",\"size\":10,\"solidity\":0.2}},\"type\":\"histogram\"}],\"scattergl\":[{\"type\":\"scattergl\",\"marker\":{\"colorbar\":{\"outlinewidth\":0,\"ticks\":\"\"}}}],\"scatter3d\":[{\"type\":\"scatter3d\",\"line\":{\"colorbar\":{\"outlinewidth\":0,\"ticks\":\"\"}},\"marker\":{\"colorbar\":{\"outlinewidth\":0,\"ticks\":\"\"}}}],\"scattermapbox\":[{\"type\":\"scattermapbox\",\"marker\":{\"colorbar\":{\"outlinewidth\":0,\"ticks\":\"\"}}}],\"scatterternary\":[{\"type\":\"scatterternary\",\"marker\":{\"colorbar\":{\"outlinewidth\":0,\"ticks\":\"\"}}}],\"scattercarpet\":[{\"type\":\"scattercarpet\",\"marker\":{\"colorbar\":{\"outlinewidth\":0,\"ticks\":\"\"}}}],\"carpet\":[{\"aaxis\":{\"endlinecolor\":\"#2a3f5f\",\"gridcolor\":\"white\",\"linecolor\":\"white\",\"minorgridcolor\":\"white\",\"startlinecolor\":\"#2a3f5f\"},\"baxis\":{\"endlinecolor\":\"#2a3f5f\",\"gridcolor\":\"white\",\"linecolor\":\"white\",\"minorgridcolor\":\"white\",\"startlinecolor\":\"#2a3f5f\"},\"type\":\"carpet\"}],\"table\":[{\"cells\":{\"fill\":{\"color\":\"#EBF0F8\"},\"line\":{\"color\":\"white\"}},\"header\":{\"fill\":{\"color\":\"#C8D4E3\"},\"line\":{\"color\":\"white\"}},\"type\":\"table\"}],\"barpolar\":[{\"marker\":{\"line\":{\"color\":\"#E5ECF6\",\"width\":0.5},\"pattern\":{\"fillmode\":\"overlay\",\"size\":10,\"solidity\":0.2}},\"type\":\"barpolar\"}],\"pie\":[{\"automargin\":true,\"type\":\"pie\"}]},\"layout\":{\"autotypenumbers\":\"strict\",\"colorway\":[\"#636efa\",\"#EF553B\",\"#00cc96\",\"#ab63fa\",\"#FFA15A\",\"#19d3f3\",\"#FF6692\",\"#B6E880\",\"#FF97FF\",\"#FECB52\"],\"font\":{\"color\":\"#2a3f5f\"},\"hovermode\":\"closest\",\"hoverlabel\":{\"align\":\"left\"},\"paper_bgcolor\":\"white\",\"plot_bgcolor\":\"#E5ECF6\",\"polar\":{\"bgcolor\":\"#E5ECF6\",\"angularaxis\":{\"gridcolor\":\"white\",\"linecolor\":\"white\",\"ticks\":\"\"},\"radialaxis\":{\"gridcolor\":\"white\",\"linecolor\":\"white\",\"ticks\":\"\"}},\"ternary\":{\"bgcolor\":\"#E5ECF6\",\"aaxis\":{\"gridcolor\":\"white\",\"linecolor\":\"white\",\"ticks\":\"\"},\"baxis\":{\"gridcolor\":\"white\",\"linecolor\":\"white\",\"ticks\":\"\"},\"caxis\":{\"gridcolor\":\"white\",\"linecolor\":\"white\",\"ticks\":\"\"}},\"coloraxis\":{\"colorbar\":{\"outlinewidth\":0,\"ticks\":\"\"}},\"colorscale\":{\"sequential\":[[0.0,\"#0d0887\"],[0.1111111111111111,\"#46039f\"],[0.2222222222222222,\"#7201a8\"],[0.3333333333333333,\"#9c179e\"],[0.4444444444444444,\"#bd3786\"],[0.5555555555555556,\"#d8576b\"],[0.6666666666666666,\"#ed7953\"],[0.7777777777777778,\"#fb9f3a\"],[0.8888888888888888,\"#fdca26\"],[1.0,\"#f0f921\"]],\"sequentialminus\":[[0.0,\"#0d0887\"],[0.1111111111111111,\"#46039f\"],[0.2222222222222222,\"#7201a8\"],[0.3333333333333333,\"#9c179e\"],[0.4444444444444444,\"#bd3786\"],[0.5555555555555556,\"#d8576b\"],[0.6666666666666666,\"#ed7953\"],[0.7777777777777778,\"#fb9f3a\"],[0.8888888888888888,\"#fdca26\"],[1.0,\"#f0f921\"]],\"diverging\":[[0,\"#8e0152\"],[0.1,\"#c51b7d\"],[0.2,\"#de77ae\"],[0.3,\"#f1b6da\"],[0.4,\"#fde0ef\"],[0.5,\"#f7f7f7\"],[0.6,\"#e6f5d0\"],[0.7,\"#b8e186\"],[0.8,\"#7fbc41\"],[0.9,\"#4d9221\"],[1,\"#276419\"]]},\"xaxis\":{\"gridcolor\":\"white\",\"linecolor\":\"white\",\"ticks\":\"\",\"title\":{\"standoff\":15},\"zerolinecolor\":\"white\",\"automargin\":true,\"zerolinewidth\":2},\"yaxis\":{\"gridcolor\":\"white\",\"linecolor\":\"white\",\"ticks\":\"\",\"title\":{\"standoff\":15},\"zerolinecolor\":\"white\",\"automargin\":true,\"zerolinewidth\":2},\"scene\":{\"xaxis\":{\"backgroundcolor\":\"#E5ECF6\",\"gridcolor\":\"white\",\"linecolor\":\"white\",\"showbackground\":true,\"ticks\":\"\",\"zerolinecolor\":\"white\",\"gridwidth\":2},\"yaxis\":{\"backgroundcolor\":\"#E5ECF6\",\"gridcolor\":\"white\",\"linecolor\":\"white\",\"showbackground\":true,\"ticks\":\"\",\"zerolinecolor\":\"white\",\"gridwidth\":2},\"zaxis\":{\"backgroundcolor\":\"#E5ECF6\",\"gridcolor\":\"white\",\"linecolor\":\"white\",\"showbackground\":true,\"ticks\":\"\",\"zerolinecolor\":\"white\",\"gridwidth\":2}},\"shapedefaults\":{\"line\":{\"color\":\"#2a3f5f\"}},\"annotationdefaults\":{\"arrowcolor\":\"#2a3f5f\",\"arrowhead\":0,\"arrowwidth\":1},\"geo\":{\"bgcolor\":\"white\",\"landcolor\":\"#E5ECF6\",\"subunitcolor\":\"white\",\"showland\":true,\"showlakes\":true,\"lakecolor\":\"white\"},\"title\":{\"x\":0.05},\"mapbox\":{\"style\":\"light\"}}},\"legend\":{\"tracegroupgap\":0},\"title\":{\"text\":\"Products with vs without Ingredients\"}},                        {\"responsive\": true}                    ).then(function(){\n",
       "                            \n",
       "var gd = document.getElementById('cd2b2aa7-6faa-4aef-9faa-6f7b1aff7aeb');\n",
       "var x = new MutationObserver(function (mutations, observer) {{\n",
       "        var display = window.getComputedStyle(gd).display;\n",
       "        if (!display || display === 'none') {{\n",
       "            console.log([gd, 'removed!']);\n",
       "            Plotly.purge(gd);\n",
       "            observer.disconnect();\n",
       "        }}\n",
       "}});\n",
       "\n",
       "// Listen for the removal of the full notebook cells\n",
       "var notebookContainer = gd.closest('#notebook-container');\n",
       "if (notebookContainer) {{\n",
       "    x.observe(notebookContainer, {childList: true});\n",
       "}}\n",
       "\n",
       "// Listen for the clearing of the current output cell\n",
       "var outputEl = gd.closest('.output');\n",
       "if (outputEl) {{\n",
       "    x.observe(outputEl, {childList: true});\n",
       "}}\n",
       "\n",
       "                        })                };                });            </script>        </div>"
      ]
     },
     "metadata": {},
     "output_type": "display_data"
    }
   ],
   "source": [
    "import plotly.express as px\n",
    "import pandas as pd\n",
    "\n",
    "has_ingredients = df['Ingredients'].apply(lambda x: x != 'No Ingredients').sum()\n",
    "no_ingredients = len(df) - has_ingredients\n",
    "\n",
    "pie_data = pd.DataFrame({\n",
    "    'Status': ['Has Ingredients', 'No Ingredients'],\n",
    "    'Count': [has_ingredients, no_ingredients]\n",
    "})\n",
    "\n",
    "fig = px.pie(pie_data, values='Count', names='Status',\n",
    "             color='Status',\n",
    "             color_discrete_map={'Has Ingredients': 'purple', 'No Ingredients': 'lavender'},\n",
    "             title='Products with vs without Ingredients')\n",
    "\n",
    "fig.update_traces(textposition='inside', textinfo='percent+label')\n",
    "\n",
    "fig.show()\n"
   ]
  },
  {
   "cell_type": "markdown",
   "id": "82739258-9866-422c-95f1-060f9cf838ae",
   "metadata": {},
   "source": [
    "## Top 10 Expensive Chocolates"
   ]
  },
  {
   "cell_type": "code",
   "execution_count": 25,
   "id": "6a0569b0-47b7-44ac-a08f-531ce96f1c27",
   "metadata": {},
   "outputs": [
    {
     "data": {
      "application/vnd.plotly.v1+json": {
       "config": {
        "plotlyServerURL": "https://plot.ly"
       },
       "data": [
        {
         "alignmentgroup": "True",
         "hovertemplate": "Price ($)=%{x:.2f}<br>=%{y}<extra></extra>",
         "legendgroup": "",
         "marker": {
          "color": "#800080",
          "pattern": {
           "shape": ""
          }
         },
         "name": "",
         "offsetgroup": "",
         "orientation": "h",
         "showlegend": false,
         "textposition": "auto",
         "type": "bar",
         "x": [
          25.84,
          25.84,
          25.84,
          25.84,
          25.84,
          25.84,
          25.84,
          34,
          50,
          50
         ],
         "xaxis": "x",
         "y": [
          "Blonde Chocolate Truffles",
          "Dark Chocolate Truffles",
          "Marc De Champagne Truffles",
          "Milk Chocolate Truffles",
          "Salted Caramels Blonde Chocolate",
          "Salted Caramels Dark Chocolate",
          "Salted Caramels Milk Chocolate",
          "Hot Chocolate Shaker",
          "2.5Kg Bulk 41% Milk Hot Chocolate Drops",
          "2.5Kg Bulk 61% Dark Hot Chocolate Drops"
         ],
         "yaxis": "y"
        }
       ],
       "layout": {
        "autosize": true,
        "barmode": "relative",
        "legend": {
         "tracegroupgap": 0
        },
        "margin": {
         "b": 50,
         "l": 150,
         "r": 50,
         "t": 70
        },
        "plot_bgcolor": "white",
        "template": {
         "data": {
          "bar": [
           {
            "error_x": {
             "color": "#2a3f5f"
            },
            "error_y": {
             "color": "#2a3f5f"
            },
            "marker": {
             "line": {
              "color": "#E5ECF6",
              "width": 0.5
             },
             "pattern": {
              "fillmode": "overlay",
              "size": 10,
              "solidity": 0.2
             }
            },
            "type": "bar"
           }
          ],
          "barpolar": [
           {
            "marker": {
             "line": {
              "color": "#E5ECF6",
              "width": 0.5
             },
             "pattern": {
              "fillmode": "overlay",
              "size": 10,
              "solidity": 0.2
             }
            },
            "type": "barpolar"
           }
          ],
          "carpet": [
           {
            "aaxis": {
             "endlinecolor": "#2a3f5f",
             "gridcolor": "white",
             "linecolor": "white",
             "minorgridcolor": "white",
             "startlinecolor": "#2a3f5f"
            },
            "baxis": {
             "endlinecolor": "#2a3f5f",
             "gridcolor": "white",
             "linecolor": "white",
             "minorgridcolor": "white",
             "startlinecolor": "#2a3f5f"
            },
            "type": "carpet"
           }
          ],
          "choropleth": [
           {
            "colorbar": {
             "outlinewidth": 0,
             "ticks": ""
            },
            "type": "choropleth"
           }
          ],
          "contour": [
           {
            "colorbar": {
             "outlinewidth": 0,
             "ticks": ""
            },
            "colorscale": [
             [
              0,
              "#0d0887"
             ],
             [
              0.1111111111111111,
              "#46039f"
             ],
             [
              0.2222222222222222,
              "#7201a8"
             ],
             [
              0.3333333333333333,
              "#9c179e"
             ],
             [
              0.4444444444444444,
              "#bd3786"
             ],
             [
              0.5555555555555556,
              "#d8576b"
             ],
             [
              0.6666666666666666,
              "#ed7953"
             ],
             [
              0.7777777777777778,
              "#fb9f3a"
             ],
             [
              0.8888888888888888,
              "#fdca26"
             ],
             [
              1,
              "#f0f921"
             ]
            ],
            "type": "contour"
           }
          ],
          "contourcarpet": [
           {
            "colorbar": {
             "outlinewidth": 0,
             "ticks": ""
            },
            "type": "contourcarpet"
           }
          ],
          "heatmap": [
           {
            "colorbar": {
             "outlinewidth": 0,
             "ticks": ""
            },
            "colorscale": [
             [
              0,
              "#0d0887"
             ],
             [
              0.1111111111111111,
              "#46039f"
             ],
             [
              0.2222222222222222,
              "#7201a8"
             ],
             [
              0.3333333333333333,
              "#9c179e"
             ],
             [
              0.4444444444444444,
              "#bd3786"
             ],
             [
              0.5555555555555556,
              "#d8576b"
             ],
             [
              0.6666666666666666,
              "#ed7953"
             ],
             [
              0.7777777777777778,
              "#fb9f3a"
             ],
             [
              0.8888888888888888,
              "#fdca26"
             ],
             [
              1,
              "#f0f921"
             ]
            ],
            "type": "heatmap"
           }
          ],
          "heatmapgl": [
           {
            "colorbar": {
             "outlinewidth": 0,
             "ticks": ""
            },
            "colorscale": [
             [
              0,
              "#0d0887"
             ],
             [
              0.1111111111111111,
              "#46039f"
             ],
             [
              0.2222222222222222,
              "#7201a8"
             ],
             [
              0.3333333333333333,
              "#9c179e"
             ],
             [
              0.4444444444444444,
              "#bd3786"
             ],
             [
              0.5555555555555556,
              "#d8576b"
             ],
             [
              0.6666666666666666,
              "#ed7953"
             ],
             [
              0.7777777777777778,
              "#fb9f3a"
             ],
             [
              0.8888888888888888,
              "#fdca26"
             ],
             [
              1,
              "#f0f921"
             ]
            ],
            "type": "heatmapgl"
           }
          ],
          "histogram": [
           {
            "marker": {
             "pattern": {
              "fillmode": "overlay",
              "size": 10,
              "solidity": 0.2
             }
            },
            "type": "histogram"
           }
          ],
          "histogram2d": [
           {
            "colorbar": {
             "outlinewidth": 0,
             "ticks": ""
            },
            "colorscale": [
             [
              0,
              "#0d0887"
             ],
             [
              0.1111111111111111,
              "#46039f"
             ],
             [
              0.2222222222222222,
              "#7201a8"
             ],
             [
              0.3333333333333333,
              "#9c179e"
             ],
             [
              0.4444444444444444,
              "#bd3786"
             ],
             [
              0.5555555555555556,
              "#d8576b"
             ],
             [
              0.6666666666666666,
              "#ed7953"
             ],
             [
              0.7777777777777778,
              "#fb9f3a"
             ],
             [
              0.8888888888888888,
              "#fdca26"
             ],
             [
              1,
              "#f0f921"
             ]
            ],
            "type": "histogram2d"
           }
          ],
          "histogram2dcontour": [
           {
            "colorbar": {
             "outlinewidth": 0,
             "ticks": ""
            },
            "colorscale": [
             [
              0,
              "#0d0887"
             ],
             [
              0.1111111111111111,
              "#46039f"
             ],
             [
              0.2222222222222222,
              "#7201a8"
             ],
             [
              0.3333333333333333,
              "#9c179e"
             ],
             [
              0.4444444444444444,
              "#bd3786"
             ],
             [
              0.5555555555555556,
              "#d8576b"
             ],
             [
              0.6666666666666666,
              "#ed7953"
             ],
             [
              0.7777777777777778,
              "#fb9f3a"
             ],
             [
              0.8888888888888888,
              "#fdca26"
             ],
             [
              1,
              "#f0f921"
             ]
            ],
            "type": "histogram2dcontour"
           }
          ],
          "mesh3d": [
           {
            "colorbar": {
             "outlinewidth": 0,
             "ticks": ""
            },
            "type": "mesh3d"
           }
          ],
          "parcoords": [
           {
            "line": {
             "colorbar": {
              "outlinewidth": 0,
              "ticks": ""
             }
            },
            "type": "parcoords"
           }
          ],
          "pie": [
           {
            "automargin": true,
            "type": "pie"
           }
          ],
          "scatter": [
           {
            "fillpattern": {
             "fillmode": "overlay",
             "size": 10,
             "solidity": 0.2
            },
            "type": "scatter"
           }
          ],
          "scatter3d": [
           {
            "line": {
             "colorbar": {
              "outlinewidth": 0,
              "ticks": ""
             }
            },
            "marker": {
             "colorbar": {
              "outlinewidth": 0,
              "ticks": ""
             }
            },
            "type": "scatter3d"
           }
          ],
          "scattercarpet": [
           {
            "marker": {
             "colorbar": {
              "outlinewidth": 0,
              "ticks": ""
             }
            },
            "type": "scattercarpet"
           }
          ],
          "scattergeo": [
           {
            "marker": {
             "colorbar": {
              "outlinewidth": 0,
              "ticks": ""
             }
            },
            "type": "scattergeo"
           }
          ],
          "scattergl": [
           {
            "marker": {
             "colorbar": {
              "outlinewidth": 0,
              "ticks": ""
             }
            },
            "type": "scattergl"
           }
          ],
          "scattermapbox": [
           {
            "marker": {
             "colorbar": {
              "outlinewidth": 0,
              "ticks": ""
             }
            },
            "type": "scattermapbox"
           }
          ],
          "scatterpolar": [
           {
            "marker": {
             "colorbar": {
              "outlinewidth": 0,
              "ticks": ""
             }
            },
            "type": "scatterpolar"
           }
          ],
          "scatterpolargl": [
           {
            "marker": {
             "colorbar": {
              "outlinewidth": 0,
              "ticks": ""
             }
            },
            "type": "scatterpolargl"
           }
          ],
          "scatterternary": [
           {
            "marker": {
             "colorbar": {
              "outlinewidth": 0,
              "ticks": ""
             }
            },
            "type": "scatterternary"
           }
          ],
          "surface": [
           {
            "colorbar": {
             "outlinewidth": 0,
             "ticks": ""
            },
            "colorscale": [
             [
              0,
              "#0d0887"
             ],
             [
              0.1111111111111111,
              "#46039f"
             ],
             [
              0.2222222222222222,
              "#7201a8"
             ],
             [
              0.3333333333333333,
              "#9c179e"
             ],
             [
              0.4444444444444444,
              "#bd3786"
             ],
             [
              0.5555555555555556,
              "#d8576b"
             ],
             [
              0.6666666666666666,
              "#ed7953"
             ],
             [
              0.7777777777777778,
              "#fb9f3a"
             ],
             [
              0.8888888888888888,
              "#fdca26"
             ],
             [
              1,
              "#f0f921"
             ]
            ],
            "type": "surface"
           }
          ],
          "table": [
           {
            "cells": {
             "fill": {
              "color": "#EBF0F8"
             },
             "line": {
              "color": "white"
             }
            },
            "header": {
             "fill": {
              "color": "#C8D4E3"
             },
             "line": {
              "color": "white"
             }
            },
            "type": "table"
           }
          ]
         },
         "layout": {
          "annotationdefaults": {
           "arrowcolor": "#2a3f5f",
           "arrowhead": 0,
           "arrowwidth": 1
          },
          "autotypenumbers": "strict",
          "coloraxis": {
           "colorbar": {
            "outlinewidth": 0,
            "ticks": ""
           }
          },
          "colorscale": {
           "diverging": [
            [
             0,
             "#8e0152"
            ],
            [
             0.1,
             "#c51b7d"
            ],
            [
             0.2,
             "#de77ae"
            ],
            [
             0.3,
             "#f1b6da"
            ],
            [
             0.4,
             "#fde0ef"
            ],
            [
             0.5,
             "#f7f7f7"
            ],
            [
             0.6,
             "#e6f5d0"
            ],
            [
             0.7,
             "#b8e186"
            ],
            [
             0.8,
             "#7fbc41"
            ],
            [
             0.9,
             "#4d9221"
            ],
            [
             1,
             "#276419"
            ]
           ],
           "sequential": [
            [
             0,
             "#0d0887"
            ],
            [
             0.1111111111111111,
             "#46039f"
            ],
            [
             0.2222222222222222,
             "#7201a8"
            ],
            [
             0.3333333333333333,
             "#9c179e"
            ],
            [
             0.4444444444444444,
             "#bd3786"
            ],
            [
             0.5555555555555556,
             "#d8576b"
            ],
            [
             0.6666666666666666,
             "#ed7953"
            ],
            [
             0.7777777777777778,
             "#fb9f3a"
            ],
            [
             0.8888888888888888,
             "#fdca26"
            ],
            [
             1,
             "#f0f921"
            ]
           ],
           "sequentialminus": [
            [
             0,
             "#0d0887"
            ],
            [
             0.1111111111111111,
             "#46039f"
            ],
            [
             0.2222222222222222,
             "#7201a8"
            ],
            [
             0.3333333333333333,
             "#9c179e"
            ],
            [
             0.4444444444444444,
             "#bd3786"
            ],
            [
             0.5555555555555556,
             "#d8576b"
            ],
            [
             0.6666666666666666,
             "#ed7953"
            ],
            [
             0.7777777777777778,
             "#fb9f3a"
            ],
            [
             0.8888888888888888,
             "#fdca26"
            ],
            [
             1,
             "#f0f921"
            ]
           ]
          },
          "colorway": [
           "#636efa",
           "#EF553B",
           "#00cc96",
           "#ab63fa",
           "#FFA15A",
           "#19d3f3",
           "#FF6692",
           "#B6E880",
           "#FF97FF",
           "#FECB52"
          ],
          "font": {
           "color": "#2a3f5f"
          },
          "geo": {
           "bgcolor": "white",
           "lakecolor": "white",
           "landcolor": "#E5ECF6",
           "showlakes": true,
           "showland": true,
           "subunitcolor": "white"
          },
          "hoverlabel": {
           "align": "left"
          },
          "hovermode": "closest",
          "mapbox": {
           "style": "light"
          },
          "paper_bgcolor": "white",
          "plot_bgcolor": "#E5ECF6",
          "polar": {
           "angularaxis": {
            "gridcolor": "white",
            "linecolor": "white",
            "ticks": ""
           },
           "bgcolor": "#E5ECF6",
           "radialaxis": {
            "gridcolor": "white",
            "linecolor": "white",
            "ticks": ""
           }
          },
          "scene": {
           "xaxis": {
            "backgroundcolor": "#E5ECF6",
            "gridcolor": "white",
            "gridwidth": 2,
            "linecolor": "white",
            "showbackground": true,
            "ticks": "",
            "zerolinecolor": "white"
           },
           "yaxis": {
            "backgroundcolor": "#E5ECF6",
            "gridcolor": "white",
            "gridwidth": 2,
            "linecolor": "white",
            "showbackground": true,
            "ticks": "",
            "zerolinecolor": "white"
           },
           "zaxis": {
            "backgroundcolor": "#E5ECF6",
            "gridcolor": "white",
            "gridwidth": 2,
            "linecolor": "white",
            "showbackground": true,
            "ticks": "",
            "zerolinecolor": "white"
           }
          },
          "shapedefaults": {
           "line": {
            "color": "#2a3f5f"
           }
          },
          "ternary": {
           "aaxis": {
            "gridcolor": "white",
            "linecolor": "white",
            "ticks": ""
           },
           "baxis": {
            "gridcolor": "white",
            "linecolor": "white",
            "ticks": ""
           },
           "bgcolor": "#E5ECF6",
           "caxis": {
            "gridcolor": "white",
            "linecolor": "white",
            "ticks": ""
           }
          },
          "title": {
           "x": 0.05
          },
          "xaxis": {
           "automargin": true,
           "gridcolor": "white",
           "linecolor": "white",
           "ticks": "",
           "title": {
            "standoff": 15
           },
           "zerolinecolor": "white",
           "zerolinewidth": 2
          },
          "yaxis": {
           "automargin": true,
           "gridcolor": "white",
           "linecolor": "white",
           "ticks": "",
           "title": {
            "standoff": 15
           },
           "zerolinecolor": "white",
           "zerolinewidth": 2
          }
         }
        },
        "title": {
         "text": "Top 10 Most Expensive Chocolates"
        },
        "xaxis": {
         "anchor": "y",
         "autorange": true,
         "domain": [
          0,
          1
         ],
         "gridcolor": "lightgrey",
         "range": [
          0,
          52.631578947368425
         ],
         "showgrid": true,
         "title": {
          "text": "Price ($)"
         },
         "type": "linear"
        },
        "yaxis": {
         "anchor": "x",
         "autorange": true,
         "domain": [
          0,
          1
         ],
         "range": [
          9.5,
          -0.5
         ],
         "title": {
          "text": ""
         },
         "type": "category"
        }
       }
      },
      "image/png": "[encoded data removed]",
      "text/html": [
       "<div>                            <div id=\"b3ed769a-3c0d-4e2c-b3e3-a946012fde6c\" class=\"plotly-graph-div\" style=\"height:525px; width:100%;\"></div>            <script type=\"text/javascript\">                require([\"plotly\"], function(Plotly) {                    window.PLOTLYENV=window.PLOTLYENV || {};                                    if (document.getElementById(\"b3ed769a-3c0d-4e2c-b3e3-a946012fde6c\")) {                    Plotly.newPlot(                        \"b3ed769a-3c0d-4e2c-b3e3-a946012fde6c\",                        [{\"alignmentgroup\":\"True\",\"hovertemplate\":\"Price ($)=%{x:.2f}<br>=%{y}<extra></extra>\",\"legendgroup\":\"\",\"marker\":{\"color\":\"#800080\",\"pattern\":{\"shape\":\"\"}},\"name\":\"\",\"offsetgroup\":\"\",\"orientation\":\"h\",\"showlegend\":false,\"textposition\":\"auto\",\"x\":[25.84,25.84,25.84,25.84,25.84,25.84,25.84,34.0,50.0,50.0],\"xaxis\":\"x\",\"y\":[\"Blonde Chocolate Truffles\",\"Dark Chocolate Truffles\",\"Marc De Champagne Truffles\",\"Milk Chocolate Truffles\",\"Salted Caramels Blonde Chocolate\",\"Salted Caramels Dark Chocolate\",\"Salted Caramels Milk Chocolate\",\"Hot Chocolate Shaker\",\"2.5Kg Bulk 41% Milk Hot Chocolate Drops\",\"2.5Kg Bulk 61% Dark Hot Chocolate Drops\"],\"yaxis\":\"y\",\"type\":\"bar\"}],                        {\"template\":{\"data\":{\"histogram2dcontour\":[{\"type\":\"histogram2dcontour\",\"colorbar\":{\"outlinewidth\":0,\"ticks\":\"\"},\"colorscale\":[[0.0,\"#0d0887\"],[0.1111111111111111,\"#46039f\"],[0.2222222222222222,\"#7201a8\"],[0.3333333333333333,\"#9c179e\"],[0.4444444444444444,\"#bd3786\"],[0.5555555555555556,\"#d8576b\"],[0.6666666666666666,\"#ed7953\"],[0.7777777777777778,\"#fb9f3a\"],[0.8888888888888888,\"#fdca26\"],[1.0,\"#f0f921\"]]}],\"choropleth\":[{\"type\":\"choropleth\",\"colorbar\":{\"outlinewidth\":0,\"ticks\":\"\"}}],\"histogram2d\":[{\"type\":\"histogram2d\",\"colorbar\":{\"outlinewidth\":0,\"ticks\":\"\"},\"colorscale\":[[0.0,\"#0d0887\"],[0.1111111111111111,\"#46039f\"],[0.2222222222222222,\"#7201a8\"],[0.3333333333333333,\"#9c179e\"],[0.4444444444444444,\"#bd3786\"],[0.5555555555555556,\"#d8576b\"],[0.6666666666666666,\"#ed7953\"],[0.7777777777777778,\"#fb9f3a\"],[0.8888888888888888,\"#fdca26\"],[1.0,\"#f0f921\"]]}],\"heatmap\":[{\"type\":\"heatmap\",\"colorbar\":{\"outlinewidth\":0,\"ticks\":\"\"},\"colorscale\":[[0.0,\"#0d0887\"],[0.1111111111111111,\"#46039f\"],[0.2222222222222222,\"#7201a8\"],[0.3333333333333333,\"#9c179e\"],[0.4444444444444444,\"#bd3786\"],[0.5555555555555556,\"#d8576b\"],[0.6666666666666666,\"#ed7953\"],[0.7777777777777778,\"#fb9f3a\"],[0.8888888888888888,\"#fdca26\"],[1.0,\"#f0f921\"]]}],\"heatmapgl\":[{\"type\":\"heatmapgl\",\"colorbar\":{\"outlinewidth\":0,\"ticks\":\"\"},\"colorscale\":[[0.0,\"#0d0887\"],[0.1111111111111111,\"#46039f\"],[0.2222222222222222,\"#7201a8\"],[0.3333333333333333,\"#9c179e\"],[0.4444444444444444,\"#bd3786\"],[0.5555555555555556,\"#d8576b\"],[0.6666666666666666,\"#ed7953\"],[0.7777777777777778,\"#fb9f3a\"],[0.8888888888888888,\"#fdca26\"],[1.0,\"#f0f921\"]]}],\"contourcarpet\":[{\"type\":\"contourcarpet\",\"colorbar\":{\"outlinewidth\":0,\"ticks\":\"\"}}],\"contour\":[{\"type\":\"contour\",\"colorbar\":{\"outlinewidth\":0,\"ticks\":\"\"},\"colorscale\":[[0.0,\"#0d0887\"],[0.1111111111111111,\"#46039f\"],[0.2222222222222222,\"#7201a8\"],[0.3333333333333333,\"#9c179e\"],[0.4444444444444444,\"#bd3786\"],[0.5555555555555556,\"#d8576b\"],[0.6666666666666666,\"#ed7953\"],[0.7777777777777778,\"#fb9f3a\"],[0.8888888888888888,\"#fdca26\"],[1.0,\"#f0f921\"]]}],\"surface\":[{\"type\":\"surface\",\"colorbar\":{\"outlinewidth\":0,\"ticks\":\"\"},\"colorscale\":[[0.0,\"#0d0887\"],[0.1111111111111111,\"#46039f\"],[0.2222222222222222,\"#7201a8\"],[0.3333333333333333,\"#9c179e\"],[0.4444444444444444,\"#bd3786\"],[0.5555555555555556,\"#d8576b\"],[0.6666666666666666,\"#ed7953\"],[0.7777777777777778,\"#fb9f3a\"],[0.8888888888888888,\"#fdca26\"],[1.0,\"#f0f921\"]]}],\"mesh3d\":[{\"type\":\"mesh3d\",\"colorbar\":{\"outlinewidth\":0,\"ticks\":\"\"}}],\"scatter\":[{\"fillpattern\":{\"fillmode\":\"overlay\",\"size\":10,\"solidity\":0.2},\"type\":\"scatter\"}],\"parcoords\":[{\"type\":\"parcoords\",\"line\":{\"colorbar\":{\"outlinewidth\":0,\"ticks\":\"\"}}}],\"scatterpolargl\":[{\"type\":\"scatterpolargl\",\"marker\":{\"colorbar\":{\"outlinewidth\":0,\"ticks\":\"\"}}}],\"bar\":[{\"error_x\":{\"color\":\"#2a3f5f\"},\"error_y\":{\"color\":\"#2a3f5f\"},\"marker\":{\"line\":{\"color\":\"#E5ECF6\",\"width\":0.5},\"pattern\":{\"fillmode\":\"overlay\",\"size\":10,\"solidity\":0.2}},\"type\":\"bar\"}],\"scattergeo\":[{\"type\":\"scattergeo\",\"marker\":{\"colorbar\":{\"outlinewidth\":0,\"ticks\":\"\"}}}],\"scatterpolar\":[{\"type\":\"scatterpolar\",\"marker\":{\"colorbar\":{\"outlinewidth\":0,\"ticks\":\"\"}}}],\"histogram\":[{\"marker\":{\"pattern\":{\"fillmode\":\"overlay\",\"size\":10,\"solidity\":0.2}},\"type\":\"histogram\"}],\"scattergl\":[{\"type\":\"scattergl\",\"marker\":{\"colorbar\":{\"outlinewidth\":0,\"ticks\":\"\"}}}],\"scatter3d\":[{\"type\":\"scatter3d\",\"line\":{\"colorbar\":{\"outlinewidth\":0,\"ticks\":\"\"}},\"marker\":{\"colorbar\":{\"outlinewidth\":0,\"ticks\":\"\"}}}],\"scattermapbox\":[{\"type\":\"scattermapbox\",\"marker\":{\"colorbar\":{\"outlinewidth\":0,\"ticks\":\"\"}}}],\"scatterternary\":[{\"type\":\"scatterternary\",\"marker\":{\"colorbar\":{\"outlinewidth\":0,\"ticks\":\"\"}}}],\"scattercarpet\":[{\"type\":\"scattercarpet\",\"marker\":{\"colorbar\":{\"outlinewidth\":0,\"ticks\":\"\"}}}],\"carpet\":[{\"aaxis\":{\"endlinecolor\":\"#2a3f5f\",\"gridcolor\":\"white\",\"linecolor\":\"white\",\"minorgridcolor\":\"white\",\"startlinecolor\":\"#2a3f5f\"},\"baxis\":{\"endlinecolor\":\"#2a3f5f\",\"gridcolor\":\"white\",\"linecolor\":\"white\",\"minorgridcolor\":\"white\",\"startlinecolor\":\"#2a3f5f\"},\"type\":\"carpet\"}],\"table\":[{\"cells\":{\"fill\":{\"color\":\"#EBF0F8\"},\"line\":{\"color\":\"white\"}},\"header\":{\"fill\":{\"color\":\"#C8D4E3\"},\"line\":{\"color\":\"white\"}},\"type\":\"table\"}],\"barpolar\":[{\"marker\":{\"line\":{\"color\":\"#E5ECF6\",\"width\":0.5},\"pattern\":{\"fillmode\":\"overlay\",\"size\":10,\"solidity\":0.2}},\"type\":\"barpolar\"}],\"pie\":[{\"automargin\":true,\"type\":\"pie\"}]},\"layout\":{\"autotypenumbers\":\"strict\",\"colorway\":[\"#636efa\",\"#EF553B\",\"#00cc96\",\"#ab63fa\",\"#FFA15A\",\"#19d3f3\",\"#FF6692\",\"#B6E880\",\"#FF97FF\",\"#FECB52\"],\"font\":{\"color\":\"#2a3f5f\"},\"hovermode\":\"closest\",\"hoverlabel\":{\"align\":\"left\"},\"paper_bgcolor\":\"white\",\"plot_bgcolor\":\"#E5ECF6\",\"polar\":{\"bgcolor\":\"#E5ECF6\",\"angularaxis\":{\"gridcolor\":\"white\",\"linecolor\":\"white\",\"ticks\":\"\"},\"radialaxis\":{\"gridcolor\":\"white\",\"linecolor\":\"white\",\"ticks\":\"\"}},\"ternary\":{\"bgcolor\":\"#E5ECF6\",\"aaxis\":{\"gridcolor\":\"white\",\"linecolor\":\"white\",\"ticks\":\"\"},\"baxis\":{\"gridcolor\":\"white\",\"linecolor\":\"white\",\"ticks\":\"\"},\"caxis\":{\"gridcolor\":\"white\",\"linecolor\":\"white\",\"ticks\":\"\"}},\"coloraxis\":{\"colorbar\":{\"outlinewidth\":0,\"ticks\":\"\"}},\"colorscale\":{\"sequential\":[[0.0,\"#0d0887\"],[0.1111111111111111,\"#46039f\"],[0.2222222222222222,\"#7201a8\"],[0.3333333333333333,\"#9c179e\"],[0.4444444444444444,\"#bd3786\"],[0.5555555555555556,\"#d8576b\"],[0.6666666666666666,\"#ed7953\"],[0.7777777777777778,\"#fb9f3a\"],[0.8888888888888888,\"#fdca26\"],[1.0,\"#f0f921\"]],\"sequentialminus\":[[0.0,\"#0d0887\"],[0.1111111111111111,\"#46039f\"],[0.2222222222222222,\"#7201a8\"],[0.3333333333333333,\"#9c179e\"],[0.4444444444444444,\"#bd3786\"],[0.5555555555555556,\"#d8576b\"],[0.6666666666666666,\"#ed7953\"],[0.7777777777777778,\"#fb9f3a\"],[0.8888888888888888,\"#fdca26\"],[1.0,\"#f0f921\"]],\"diverging\":[[0,\"#8e0152\"],[0.1,\"#c51b7d\"],[0.2,\"#de77ae\"],[0.3,\"#f1b6da\"],[0.4,\"#fde0ef\"],[0.5,\"#f7f7f7\"],[0.6,\"#e6f5d0\"],[0.7,\"#b8e186\"],[0.8,\"#7fbc41\"],[0.9,\"#4d9221\"],[1,\"#276419\"]]},\"xaxis\":{\"gridcolor\":\"white\",\"linecolor\":\"white\",\"ticks\":\"\",\"title\":{\"standoff\":15},\"zerolinecolor\":\"white\",\"automargin\":true,\"zerolinewidth\":2},\"yaxis\":{\"gridcolor\":\"white\",\"linecolor\":\"white\",\"ticks\":\"\",\"title\":{\"standoff\":15},\"zerolinecolor\":\"white\",\"automargin\":true,\"zerolinewidth\":2},\"scene\":{\"xaxis\":{\"backgroundcolor\":\"#E5ECF6\",\"gridcolor\":\"white\",\"linecolor\":\"white\",\"showbackground\":true,\"ticks\":\"\",\"zerolinecolor\":\"white\",\"gridwidth\":2},\"yaxis\":{\"backgroundcolor\":\"#E5ECF6\",\"gridcolor\":\"white\",\"linecolor\":\"white\",\"showbackground\":true,\"ticks\":\"\",\"zerolinecolor\":\"white\",\"gridwidth\":2},\"zaxis\":{\"backgroundcolor\":\"#E5ECF6\",\"gridcolor\":\"white\",\"linecolor\":\"white\",\"showbackground\":true,\"ticks\":\"\",\"zerolinecolor\":\"white\",\"gridwidth\":2}},\"shapedefaults\":{\"line\":{\"color\":\"#2a3f5f\"}},\"annotationdefaults\":{\"arrowcolor\":\"#2a3f5f\",\"arrowhead\":0,\"arrowwidth\":1},\"geo\":{\"bgcolor\":\"white\",\"landcolor\":\"#E5ECF6\",\"subunitcolor\":\"white\",\"showland\":true,\"showlakes\":true,\"lakecolor\":\"white\"},\"title\":{\"x\":0.05},\"mapbox\":{\"style\":\"light\"}}},\"xaxis\":{\"anchor\":\"y\",\"domain\":[0.0,1.0],\"title\":{\"text\":\"Price ($)\"},\"showgrid\":true,\"gridcolor\":\"lightgrey\"},\"yaxis\":{\"anchor\":\"x\",\"domain\":[0.0,1.0],\"title\":{\"text\":\"\"},\"autorange\":\"reversed\"},\"legend\":{\"tracegroupgap\":0},\"title\":{\"text\":\"Top 10 Most Expensive Chocolates\"},\"barmode\":\"relative\",\"margin\":{\"l\":150,\"r\":50,\"t\":70,\"b\":50},\"plot_bgcolor\":\"white\"},                        {\"responsive\": true}                    ).then(function(){\n",
       "                            \n",
       "var gd = document.getElementById('b3ed769a-3c0d-4e2c-b3e3-a946012fde6c');\n",
       "var x = new MutationObserver(function (mutations, observer) {{\n",
       "        var display = window.getComputedStyle(gd).display;\n",
       "        if (!display || display === 'none') {{\n",
       "            console.log([gd, 'removed!']);\n",
       "            Plotly.purge(gd);\n",
       "            observer.disconnect();\n",
       "        }}\n",
       "}});\n",
       "\n",
       "// Listen for the removal of the full notebook cells\n",
       "var notebookContainer = gd.closest('#notebook-container');\n",
       "if (notebookContainer) {{\n",
       "    x.observe(notebookContainer, {childList: true});\n",
       "}}\n",
       "\n",
       "// Listen for the clearing of the current output cell\n",
       "var outputEl = gd.closest('.output');\n",
       "if (outputEl) {{\n",
       "    x.observe(outputEl, {childList: true});\n",
       "}}\n",
       "\n",
       "                        })                };                });            </script>        </div>"
      ]
     },
     "metadata": {},
     "output_type": "display_data"
    }
   ],
   "source": [
    "import plotly.express as px\n",
    "import pandas as pd\n",
    "\n",
    "data = {\n",
    "    'Name': [\n",
    "        '2.5Kg Bulk 41% Milk Hot Chocolate Drops',\n",
    "        '2.5Kg Bulk 61% Dark Hot Chocolate Drops',\n",
    "        'Hot Chocolate Shaker',\n",
    "        'Blonde Chocolate Truffles',\n",
    "        'Dark Chocolate Truffles',\n",
    "        'Marc De Champagne Truffles',\n",
    "        'Milk Chocolate Truffles',\n",
    "        'Salted Caramels Blonde Chocolate',\n",
    "        'Salted Caramels Dark Chocolate',\n",
    "        'Salted Caramels Milk Chocolate'\n",
    "    ],\n",
    "    'Price ($)': [50.00, 50.00, 34.00, 25.84, 25.84, 25.84, 25.84, 25.84, 25.84, 25.84]\n",
    "}\n",
    "\n",
    "df = pd.DataFrame(data)\n",
    "df_sorted = df.sort_values(by='Price ($)', ascending=True)  # For horizontal barplot with lowest on bottom\n",
    "\n",
    "fig = px.bar(df_sorted, \n",
    "             x='Price ($)', \n",
    "             y='Name',\n",
    "             orientation='h',\n",
    "             color_discrete_sequence=['#800080'],\n",
    "             title='Top 10 Most Expensive Chocolates',\n",
    "             labels={'Price ($)': 'Price ($)', 'Name': ''},\n",
    "             hover_data={'Price ($)': ':.2f'})\n",
    "\n",
    "fig.update_layout(\n",
    "    xaxis=dict(showgrid=True, gridcolor='lightgrey'),\n",
    "    yaxis=dict(autorange='reversed'),  # to keep highest price on top\n",
    "    plot_bgcolor='white',\n",
    "    margin=dict(l=150, r=50, t=70, b=50)\n",
    ")\n",
    "\n",
    "fig.show()\n"
   ]
  },
  {
   "cell_type": "markdown",
   "id": "6d42de8e-793f-4815-b1da-d7b3cb8df81c",
   "metadata": {},
   "source": [
    "# THANK YOU !!!\n",
    "#### Presented by:\r\n",
    "- Cynthia  \r\n",
    "- Jane  \r\n",
    "- Judid\r\n",
    "\r\n",
    "#### Date:\r",
    "12025-06-06"
   ]
  }
 ],
 "metadata": {
  "kernelspec": {
   "display_name": "Python 3 (ipykernel)",
   "language": "python",
   "name": "python3"
  },
  "language_info": {
   "codemirror_mode": {
    "name": "ipython",
    "version": 3
   },
   "file_extension": ".py",
   "mimetype": "text/x-python",
   "name": "python",
   "nbconvert_exporter": "python",
   "pygments_lexer": "ipython3",
   "version": "3.12.7"
  }
 },
 "nbformat": 4,
 "nbformat_minor": 5
}
